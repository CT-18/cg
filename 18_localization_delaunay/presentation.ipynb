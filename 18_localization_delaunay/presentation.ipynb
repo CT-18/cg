{
 "cells": [
  {
   "cell_type": "markdown",
   "metadata": {
    "slideshow": {
     "slide_type": "slide"
    }
   },
   "source": [
    "# Триангуляция Делоне. Динамический алгоритм: локализация"
   ]
  },
  {
   "cell_type": "markdown",
   "metadata": {
    "slideshow": {
     "slide_type": "fragment"
    }
   },
   "source": [
    "<img src=\"structure_illustration.png\" alt=\"Drawing\" style=\"display: block; margin: 0 auto;\"/>"
   ]
  },
  {
   "cell_type": "markdown",
   "metadata": {
    "slideshow": {
     "slide_type": "slide"
    }
   },
   "source": [
    "## Пример\n",
    "<img src=\"localization1_big.png\" style=\"width:50%; display: block; margin: 0 auto;\"/>"
   ]
  },
  {
   "cell_type": "markdown",
   "metadata": {
    "slideshow": {
     "slide_type": "fragment"
    }
   },
   "source": [
    "## Локализация точки, находящейся вне триангуляции\n",
    "<img src=\"outer_point_case_big.png\" style=\"width:50%; display: block; margin: 0 auto;\">"
   ]
  },
  {
   "cell_type": "markdown",
   "metadata": {
    "slideshow": {
     "slide_type": "slide"
    }
   },
   "source": [
    "## Корректность алгоритма"
   ]
  },
  {
   "cell_type": "markdown",
   "metadata": {
    "slideshow": {
     "slide_type": "fragment"
    }
   },
   "source": [
    "<img src=\"correctness_proof.png\" style=\"width:35%; display: block; margin: 0 auto;\">"
   ]
  },
  {
   "cell_type": "markdown",
   "metadata": {
    "slideshow": {
     "slide_type": "slide"
    }
   },
   "source": [
    "## Итератор (курсор)"
   ]
  },
  {
   "cell_type": "markdown",
   "metadata": {},
   "source": [
    "<img src=\"implementation_notes.png\" style=\"display: block; margin: 0 auto;\"/>"
   ]
  },
  {
   "cell_type": "markdown",
   "metadata": {
    "slideshow": {
     "slide_type": "slide"
    }
   },
   "source": [
    "## Представление триангуляции в памяти"
   ]
  },
  {
   "cell_type": "markdown",
   "metadata": {},
   "source": [
    "<img src=\"rep_bis.png\" style=\"display: block; margin: 0 auto;\">"
   ]
  },
  {
   "cell_type": "markdown",
   "metadata": {
    "slideshow": {
     "slide_type": "slide"
    }
   },
   "source": [
    "## Время работы, требуемая память"
   ]
  },
  {
   "cell_type": "markdown",
   "metadata": {
    "slideshow": {
     "slide_type": "fragment"
    }
   },
   "source": [
    "Приведенный выше алгоритм локализации рандомизированный, поэтому доказанные ниже оценки в общем случае будут не верны. Мы будем доказывать их для следующей модели: в триангуляцию была произведена вставка $n$ точек подряд в случайном порядке. Для последней точки производятся соответствующие оценки.\n",
    "\n",
    "Само множество точек обозначим за $S$, локализуемую точку - за $q$. Т.к. вставка производится в произвольном порядке, то $q$ может быть любой точкой из множества $S\\cup \\{q\\}$.\n",
    "\n",
    "Множество точек на уровне $k$ обозначим за $S_k$ и определим множество $R_k=S_k\\cup\\{q\\}$."
   ]
  },
  {
   "cell_type": "markdown",
   "metadata": {
    "slideshow": {
     "slide_type": "slide"
    }
   },
   "source": [
    "**Лемма 1** *Матожидание числа уровней в локализационной структуре* — $O(\\log n)$"
   ]
  },
  {
   "cell_type": "markdown",
   "metadata": {
    "slideshow": {
     "slide_type": "fragment"
    }
   },
   "source": [
    "<div style=\"padding-left:40px\">\n",
    "Для оценки матожидания посчитаем вероятность того, что количество уровней $h$ равно $k$ при вероятности пройти на следующий уровень равной $p$.<br>\n",
    "$p(h \\leq k) = \\left(1 - p^{k + 1}\\right)^n$, потому что вероятность того, что точка дойдёт до уровня $k + 1$, равна $p^{k + 1}$.<br>\n",
    "$p(h \\geq k) = \\left(1 - \\left(1 - p^k\\right)^n\\right)$, потому что вероятность того, что точка не дойдёт до уровня $k$, равна $1 - p^k$.\n",
    "$p(h = k) = 1 - p(h > k) - p(h < k) = 1 - \\left(1 - \\left(1 - p^{k + 1}\\right)^n\\right) - \\left(1 - p^{k}\\right)^n = \\left(1 - p^{k + 1}\\right)^n - \\left(1 - p^k\\right)^n \\leq 1 - \\left(1 - p^k\\right)^n \\leq np^k$\n",
    "$E(h) = \\displaystyle\\sum_{k = 1}^{\\infty} k \\cdot p(h = k) = p(1) \\cdot 1 + \\dots + p\\mathopen{}\\left(\\log_{1/p} n\\right)\\mathclose{} \\cdot \\log_{1/p} n + \\displaystyle\\sum_{k = \\log_{1/p} n + 1}^{\\infty} k \\cdot p(k)$<br>\n",
    "Оценим первую сумму:<br>\n",
    "$p(1) \\cdot 1 + \\dots + p\\mathopen{}\\left(\\log_{1/p} n\\right)\\mathclose{} \\cdot \\log_{1/p} n \\leq p(1) \\cdot \\log_{1/p} n + \\dots + p\\mathopen{}\\left(\\log_{1/p} n\\right)\\mathclose{} \\cdot \\log_{1/p} n = O\\mathopen{}\\left(\\log(n)\\right)\\mathclose{}$, поскольку сумма этих вероятностей не превосходит единицу.<br>\n",
    "Оценим вторую сумму:<br>\n",
    "$\\displaystyle\\sum_{k = \\log_{1/p} n + 1}^{\\infty} k \\cdot p(k) \\leq \\displaystyle\\sum_{k = \\log_{1/p} n}^{\\infty} k \\cdot n p^k = n \\cdot \\sum\\limits_{k = \\log_{1/p} n}^{\\infty} k \\cdot p^k$<br>\n",
    "Рассмотрим эту сумму:<br>\n",
    "$\\displaystyle\\sum_{k = \\log_{1/p} n}^{\\infty} k \\cdot p^k = p^{\\log_{1/p} n} \\cdot \\displaystyle\\sum_{k = 0}^{\\infty} \\left(k + \\log_{1/p} n\\right) \\cdot p^k = p^{\\log_{1/p} n} \\cdot $<br>$\\left(\\sum\\limits_{k = 0}^{\\infty} \\left(k p^k\\right) + \\log_{1/p} n \\cdot \\sum\\limits_{k = 0}^{\\infty} \\left(p^k\\right)\\right) =  p^{\\log_{1/p} n} \\cdot \\left(O(1) + \\log_{1/p} n \\cdot O(1)\\right) = 1/n \\cdot O(\\log(n))$<br>\n",
    "Суммируя всё вышесказанное, получаем $O(\\log(n))$.\n",
    "</div>"
   ]
  },
  {
   "cell_type": "markdown",
   "metadata": {
    "slideshow": {
     "slide_type": "slide"
    }
   },
   "source": [
    "**Теорема** *Локализационная структура занимает $O(n)$ памяти.*"
   ]
  },
  {
   "cell_type": "markdown",
   "metadata": {
    "slideshow": {
     "slide_type": "fragment"
    }
   },
   "source": [
    "**Лемма 2** *Каждая точка на плоскости может являться ближайшей для не более чем шести точек.*"
   ]
  },
  {
   "cell_type": "markdown",
   "metadata": {
    "slideshow": {
     "slide_type": "fragment"
    }
   },
   "source": [
    "<img src=\"lemma3_big.png\" style=\"display: block; margin: 0 auto;\">"
   ]
  },
  {
   "cell_type": "markdown",
   "metadata": {
    "slideshow": {
     "slide_type": "slide"
    }
   },
   "source": [
    "**Лемма 3** *Для заданной точки $q$ на $k$-ом уровне средняя степень ближайшей к ней на $k+1$-ом уровне вершины $u$ равна $O(1)$.*"
   ]
  },
  {
   "cell_type": "markdown",
   "metadata": {
    "slideshow": {
     "slide_type": "fragment"
    }
   },
   "source": [
    "<div style=\"padding-left:40px\">\n",
    "Пусть функция $nn$ принимает точку и множество и возвращает ближайшего соседа заданной точки из заданного множества.<br><br>\n",
    "\n",
    "Так как мы хотим дать среднюю оценку на степень вершины $u$, то нужно рассмотреть всевозможные варианты множества $S_{k+1}$, для каждого из них посчитать среднюю степень $u$ и результат усреднить. Обозначим всевозможные подмножества  $R_k$, равномощные $R_{k+1}$, за $R'_{k+1}$. Количество таких множеств $={C^{|R_{k+1}|}_{|R_k|}}$. \n",
    "\n",
    "Средняя степень вершины $u$ на уровне $S_{k+1}=R'_{k+1}$, равна $\\frac {1} {|R_{k+1}|} \\displaystyle\\sum_{a_i \\in R'_{k+1}} \\operatorname{deg_{R_k}}\\mathopen{}\\left(\\operatorname{nn}\\left(a_i,R'_{k+1}\\backslash\\{a_i\\}\\right)\\right)\\mathclose{}$<br>\n",
    "Усредняя по всем уровням $R'_{k+1}$, получаем\n",
    "$E\\mathopen{}\\left(\\operatorname{deg_{S_k}}\\left(\\operatorname{nn} \\left(q, S_{k+1}\\right)\\right)\\right)\\mathclose{} = \\frac {1} {C^{|R_{k+1}|}_{|R_k|}} \\cdot \\displaystyle\\sum_{R'_{k+1}\\subset R_k} \\frac {1} {|R_{k+1}|} \\displaystyle\\sum_{a_i \\in R'_{k+1}} \\operatorname{deg_{R_k}}\\left(\\operatorname{nn}\\left(a_i,R'_{k+1}\\backslash\\{a_i\\}\\right)\\right)$<br>\n",
    "\n",
    "Назовём графом $NN(\\{a_i\\})$ двудольный граф, в левой и правой долях содержащий точки $\\{a_i\\}$, рёбра $uv$ которого означают, что точка $v$ является ближайшей для точки $u$ (точка $u$ лежит в левой доли, точка $v$ лежит в правой доли).<br>\n",
    "Понятно, что $\\displaystyle\\sum_{a_i \\in R'_{k+1}} \\operatorname {deg_{R_k}}\\mathopen{}\\left(\\operatorname{nn}\\left(a_i, R'_{k+1}\\backslash\\{a_i\\}\\right)\\right)\\mathclose{} = \\displaystyle\\sum_{a_i\\in R'_{k+1}} \\operatorname{deg_{R_k}}(a_i) \\cdot \\operatorname{deg_{NN\\left(R'_{k+1}\\right)}}(a_i)$, так как степень каждой вершины $a_i$ учтётся ровно столько раз, сколько рёбер ей инцидентно в правой доли графа $NN$.<br>\n",
    "$E\\mathopen{}\\left(\\operatorname{deg_{S_k}}\\mathopen{}\\left(\\operatorname{nn} \\left(q, S_{k+1}\\right)\\right)\\mathclose{}\\right)\\mathclose{} = \\frac {1} {C^{|R_{k+1}|}_{|R_k|}} \\displaystyle\\sum_{R'_{k+1}\\subset R_k} \\frac {1} {|R_{k+1}|} \\displaystyle\\sum_{a_i\\in R'_{k+1}} \\operatorname{deg_{R_k}}(a_i) \\operatorname{deg_{NN\\left(R'_{k+1}\\right)}}(a_i)$<br>\n",
    "По <b>лемме 2</b> степень вершины из правой доли графа NN не может быть больше шести.<br>\n",
    "$E\\mathopen{}\\left(\\operatorname{deg_{S_k}}\\mathopen{}\\left(\\operatorname{nn} \\left(q, S_{k+1}\\right)\\right)\\mathclose{}\\right)\\mathclose{} \\le \\frac {1} {C^{|R_{k+1}|}_{|R_k|}} \\displaystyle\\sum_{R'_{k+1}\\subset R_k} \\frac {1} {|R_{k+1}|} \\displaystyle\\sum_{a_i\\in R'_{k+1}} \\operatorname{deg_{R_k}}(a_i) \\cdot 6 = \\frac {6} {C^{|R_{k+1}|}_{|R_k|} \\cdot |R_{k+1}|} \\displaystyle\\sum_{R'_{k+1}\\subset R_k} \\displaystyle\\sum_{a_i\\in R'_{k+1}} \\operatorname{deg_{R_k}}(a_i) = 6 \\cdot \\frac {\\sum_{a_i\\in R_k} \\operatorname{deg}(a_i)} {|R_k|} = O(1)$\n",
    "</div>"
   ]
  },
  {
   "cell_type": "markdown",
   "metadata": {
    "slideshow": {
     "slide_type": "slide"
    }
   },
   "source": [
    "**Лемма 4** *Для заданной точки $w \\in R_k$, среднее число точек $q \\in R_k$ таких, что $w$ принадлежит окружности с центром в точке $q$, проходящей через ближашего соседа точки $q$ на уровне $k+1$, равно $O(1)$*"
   ]
  },
  {
   "cell_type": "markdown",
   "metadata": {
    "slideshow": {
     "slide_type": "fragment"
    }
   },
   "source": [
    "<img src=\"lemma5.png\" style=\"display: block; margin: 0 auto;\">"
   ]
  },
  {
   "cell_type": "markdown",
   "metadata": {
    "slideshow": {
     "slide_type": "fragment"
    }
   },
   "source": [
    "$$E\\left(\\left|\\left\\{q\\in R_k \\middle\\vert w \\in disk[q]\\right\\}\\right|\\right)\\le6\\cdot\\displaystyle\\sum_i i\\left(1-p\\right)^i p = O(1)$$"
   ]
  },
  {
   "cell_type": "markdown",
   "metadata": {
    "slideshow": {
     "slide_type": "slide"
    }
   },
   "source": [
    "**Лемма 5** *Суммарная степень вершин, лежащих в окружности с центром в точке $q$ и проходящей через $v_{k+1}$, равна $O(1)$.*"
   ]
  },
  {
   "cell_type": "markdown",
   "metadata": {
    "slideshow": {
     "slide_type": "fragment"
    }
   },
   "source": [
    "<div style=\"padding-left:40px\">\n",
    "Вспомним, что алгоритм рандомизированный и вставка точек производилась в произвольном порядке. То есть, точка $q$ может быть любой из множества $R_k$. Для оценки средней суммарной степени вершин, нужно просуммировать суммарные степени вершин для всех вариантов $q \\in R_k$ и поделить полученную величину на $|R_k|$:\n",
    "<img src=\"lemma5_formula.png\" style=\"width:100% display: block; margin: 0 auto;\">\n",
    "Здесь мы использовали <b>леммы 2 и 4</b>.\n",
    "</div>"
   ]
  },
  {
   "cell_type": "markdown",
   "metadata": {
    "slideshow": {
     "slide_type": "slide"
    }
   },
   "source": [
    "**Лемма 6** Среднее число рёбер, пересечённое отрезком $qv_{i+1}$ во втором этапе алгоритма локализации, равно"
   ]
  },
  {
   "cell_type": "markdown",
   "metadata": {
    "slideshow": {
     "slide_type": "fragment"
    }
   },
   "source": [
    "**Лемма 7** *Среднее число треугольников, посещённых на третьем этапе алгоритма локализации, равно $O(1)$.*"
   ]
  },
  {
   "cell_type": "markdown",
   "metadata": {
    "slideshow": {
     "slide_type": "fragment"
    }
   },
   "source": [
    "**Лемма 8** *Локализация точки на каждом уровне происходит за $O(1)$.*"
   ]
  },
  {
   "cell_type": "markdown",
   "metadata": {
    "slideshow": {
     "slide_type": "fragment"
    }
   },
   "source": [
    "**Теорема** *Локализация точки в триангуляции происходит за $O(\\log n)$.*"
   ]
  }
 ],
 "metadata": {
  "anaconda-cloud": {},
  "celltoolbar": "Slideshow",
  "kernelspec": {
   "display_name": "Python [default]",
   "language": "python",
   "name": "python3"
  },
  "language_info": {
   "codemirror_mode": {
    "name": "ipython",
    "version": 3
   },
   "file_extension": ".py",
   "mimetype": "text/x-python",
   "name": "python",
   "nbconvert_exporter": "python",
   "pygments_lexer": "ipython3",
   "version": "3.5.2"
  }
 },
 "nbformat": 4,
 "nbformat_minor": 1
}
