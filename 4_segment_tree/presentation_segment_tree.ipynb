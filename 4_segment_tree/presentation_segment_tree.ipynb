{
 "cells": [
  {
   "cell_type": "markdown",
   "metadata": {
    "slideshow": {
     "slide_type": "slide"
    }
   },
   "source": [
    "# Пересечение прямоугольника с множеством непересекающихся отрезков"
   ]
  },
  {
   "cell_type": "markdown",
   "metadata": {
    "slideshow": {
     "slide_type": "slide"
    }
   },
   "source": [
    "### Задача \n",
    "Дано множество непересекающихся отрезков в $\\Bbb R^{2}$ (см. рис.1).\n",
    "Нужно уметь отвечать на запросы, какие из них пересекают границу данного axis-aligned прямоугольника. \n",
    "\n",
    "![](img/rectg.svg)"
   ]
  },
  {
   "cell_type": "markdown",
   "metadata": {
    "slideshow": {
     "slide_type": "slide"
    }
   },
   "source": [
    "## Деверо отрезков (англ. [Segment tree](https://en.wikipedia.org/wiki/Segment_tree))"
   ]
  },
  {
   "cell_type": "markdown",
   "metadata": {
    "slideshow": {
     "slide_type": "subslide"
    }
   },
   "source": [
    "![](img/axis.svg)"
   ]
  },
  {
   "cell_type": "markdown",
   "metadata": {
    "slideshow": {
     "slide_type": "subslide"
    }
   },
   "source": [
    "![Общий предок](img/lca.svg)"
   ]
  },
  {
   "cell_type": "markdown",
   "metadata": {
    "slideshow": {
     "slide_type": "subslide"
    }
   },
   "source": [
    "### Свойства:\n",
    "Давайте теперь полностью опишем итоговые свойства нашей структуры.\n",
    "\n",
    "* Каркасом структуры является бинарное сбалансированное дерево $T$.\n",
    "  Листья $T$ соответствуют элементарным интервалам, индуцированным отсортированными границами $I$: самый левый лист - самому левому интервалу и тд.\n",
    "* Внутренней вершине $v$ дерева $T$ соответствует интервал, являющийся объединением интервалов листов в поддереве, корнем которого она является.\n",
    "  Иначе говоря, $Int(v)$ является объединением интервалов двух своих детей.\n",
    "* Каждая вершина $v$ в $T$ хранит (например, в связном списке) в себе $Int(v)$ и множество отрезков $I(v) \\subseteq I$, таких что: $\\forall [x : x'] \\in I(v) : Int(v) \\subseteq [x : x'], Int(parent(v)) \\not\\subseteq [x : x']$. Назовем $I(v)$ каноническим подмножеством для вершины $v$."
   ]
  },
  {
   "cell_type": "markdown",
   "metadata": {
    "slideshow": {
     "slide_type": "subslide"
    }
   },
   "source": [
    "![](img/tree.svg)"
   ]
  },
  {
   "cell_type": "markdown",
   "metadata": {
    "slideshow": {
     "slide_type": "slide"
    }
   },
   "source": [
    "### Лемма (Оценка на память)\n",
    "Дерево отрезков занимает $O(n\\log(n))$ памяти."
   ]
  },
  {
   "cell_type": "markdown",
   "metadata": {
    "slideshow": {
     "slide_type": "subslide"
    }
   },
   "source": [
    "![](img/cross.svg)"
   ]
  },
  {
   "cell_type": "markdown",
   "metadata": {
    "slideshow": {
     "slide_type": "slide"
    }
   },
   "source": [
    "### Построение дерева"
   ]
  },
  {
   "cell_type": "markdown",
   "metadata": {
    "slideshow": {
     "slide_type": "subslide"
    }
   },
   "source": [
    "$\n",
    "\\operatorname{InsertSegmentTree}(v,\\;[x:x'])\\text{:}\\\\\n",
    "\\quad \\mathtt{if} \\operatorname{Int}(v) \\subseteq [x:x']\\\\\n",
    "\\qquad \\operatorname{store}~[x:x']~\\operatorname{at}~v\\\\\n",
    "\\quad\\mathtt{else}\\text{:}\\\\\n",
    "\\qquad\\mathtt{if}\\operatorname{Int}(\\operatorname{LeftChild}(v)) \\cap [x:x'] \\neq \\varnothing\\\\\n",
    "\\qquad\\quad\\operatorname{InsertSegmentTree}(\\operatorname{LeftChild}(v),\\;[x:x'])\\\\\n",
    "\\qquad\\mathtt{if}\\operatorname{Int}(\\operatorname{RightChild}(v)) \\cap [x:x'] \\neq \\varnothing\\\\\n",
    "\\qquad\\quad\\operatorname{InsertSegmentTree}(\\operatorname{RightChild}(v),\\;[x:x'])\n",
    "$"
   ]
  },
  {
   "cell_type": "markdown",
   "metadata": {
    "slideshow": {
     "slide_type": "slide"
    }
   },
   "source": [
    "### Лемма (Оценка времени построения)\n",
    "Дерево отрезков можно построить за время $O(n\\log(n))$."
   ]
  },
  {
   "cell_type": "markdown",
   "metadata": {
    "slideshow": {
     "slide_type": "slide"
    }
   },
   "source": [
    "### Лемма (Запрос в дереве отрезков)\n",
    "С помощью дерева отрезков можно отвечать на запросы о поиске всех отрезков, содержащих точку $q_{x}$, за время $O(\\log(n) + k)$, где k - количество отрезков в ответе."
   ]
  },
  {
   "cell_type": "markdown",
   "metadata": {
    "slideshow": {
     "slide_type": "subslide"
    }
   },
   "source": [
    "$\n",
    "\\operatorname{QuerySegmentTree}(v,\\;q_{x})\\text{:}\\\\\n",
    "\\quad\\operatorname{print~all~intervals~in}\\operatorname{Int}(v)\\\\\n",
    "\\quad\\mathtt{if} \\operatorname{v~is~not~a~leaf}\\text{:}\\\\\n",
    "\\qquad\\mathtt{if}~q_{x}~\\in \\operatorname{Int}(\\operatorname{LeftChild}(v))\\text{:}\\\\\n",
    "\\qquad\\quad \\operatorname{QuerySegmentTree}(\\operatorname{LeftChild}(v),\\;q_{x})\\\\\n",
    "\\qquad\\mathtt{else}\\text{:}\\\\\n",
    "\\qquad\\quad \\operatorname{QuerySegmentTree}(\\operatorname{RightChild}(v),\\;q_{x})\\\\\n",
    "$"
   ]
  },
  {
   "cell_type": "markdown",
   "metadata": {
    "slideshow": {
     "slide_type": "slide"
    }
   },
   "source": [
    "### Теорема (О поиске всех отрезков, содержащих точку)\n",
    "Дерево отрезков для множества $I$ из $n$ отрезков можно построить за время $O(n\\log(n))$, и оно будет занимать $O(n\\log(n))$ памяти. \n",
    " Используя его, можно находить все отрезки, содержащие точку $q_{x}$, за время $O(\\log(n) + k)$, где k - количество отрезков в ответе."
   ]
  },
  {
   "cell_type": "markdown",
   "metadata": {
    "slideshow": {
     "slide_type": "slide"
    }
   },
   "source": [
    "## Применение дерева отрезков\n",
    "\n",
    "Вернемся теперь к заявленной в самом начале задаче.\n",
    "Пусть $S$ - множество случайно направленных непересекающихся отрезков на плоскости.\n",
    "Мы хотим уметь находить все отрезки, которые пересекают вертикальный отрезок $q = q_{x}\\times[q_{y}:q_{y}']$.\n",
    "Для горизонтального отрезка $q = [q_{x}:q_{x}']\\times q_{y}$ задача будет решаться по аналогии."
   ]
  },
  {
   "cell_type": "markdown",
   "metadata": {
    "slideshow": {
     "slide_type": "subslide"
    }
   },
   "source": [
    "![](img/band.svg)"
   ]
  },
  {
   "cell_type": "markdown",
   "metadata": {
    "slideshow": {
     "slide_type": "subslide"
    }
   },
   "source": [
    "![](img/vert_heap.svg)"
   ]
  },
  {
   "cell_type": "markdown",
   "metadata": {
    "slideshow": {
     "slide_type": "slide"
    }
   },
   "source": [
    "### Свойства\n",
    "Резюмируем требуемые от нашей структуры данных свойства:\n",
    "* Множество $S$ хранится в дереве отрезков, основанном на горизонтальных проекциях отрезков из него.\n",
    "* Каноническое подмножество для вершины $v$ (состоящее из отрезков, которые полностью перекрывают вертикальную полосу для $v$, но не для ее родителя) хранится в сбалансированном дереве поиска $\\tau(v)$, основанном на вертикальном порядке в пределах вертикальной полосы. "
   ]
  },
  {
   "cell_type": "markdown",
   "metadata": {
    "slideshow": {
     "slide_type": "slide"
    }
   },
   "source": [
    "#### Оценка на время\n",
    "\n",
    "Поиск в $\\tau(v)$ занимает $O(\\log(n) + k_{v})$ времени, где $k_{v}$ - количество отрезков для $v$.\n",
    "Таким образом, суммарное время на запрос $O(\\log^2(n) + k)$."
   ]
  },
  {
   "cell_type": "markdown",
   "metadata": {
    "slideshow": {
     "slide_type": "slide"
    }
   },
   "source": [
    "### Теорема (О пересечении вертикального (горизонтального) отрезка с множеством непересекающихся отрезков)\n",
    "Пусть $S$ - множество непересекающихся отрезков на плоскости.\n",
    "Отрезки, пересекающие заданный вертикальный отрезок, могут быть найдены за время $O(\\log^2(n) + k)$ структурой данных, использующей $O(n\\log(n))$ памяти, где $k$ - количество отрезков в ответе.\n",
    "Структура данных может быть построена за $O(n\\log(n))$ времени."
   ]
  },
  {
   "cell_type": "markdown",
   "metadata": {
    "slideshow": {
     "slide_type": "slide"
    }
   },
   "source": [
    "### Теорема (О пересечении прямоугольника с множеством непересекающихся по внутренностям отрезков)\n",
    "Пусть $S$ - множество отрезков на плоскости с непересекающимися внутренностями.\n",
    "Отрезки, пересекающие прямоугольник, стороны которого параллельны осям координат, могут быть найдены за время $O(\\log^2(n) + k)$ структурой данных, использующей $O(n\\log(n))$ памяти, где $k$ - количество отрезков в ответе. Структура данных может быть построена за $O(n\\log(n))$ времени."
   ]
  }
 ],
 "metadata": {
  "celltoolbar": "Slideshow",
  "kernelspec": {
   "display_name": "Python 3",
   "language": "python",
   "name": "python3"
  },
  "language_info": {
   "codemirror_mode": {
    "name": "ipython",
    "version": 3
   },
   "file_extension": ".py",
   "mimetype": "text/x-python",
   "name": "python",
   "nbconvert_exporter": "python",
   "pygments_lexer": "ipython3",
   "version": "3.5.2"
  }
 },
 "nbformat": 4,
 "nbformat_minor": 1
}
