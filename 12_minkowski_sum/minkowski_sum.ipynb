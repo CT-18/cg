{
 "cells": [
  {
   "cell_type": "markdown",
   "metadata": {
    "slideshow": {
     "slide_type": "slide"
    }
   },
   "source": [
    "# Сумма Минковского"
   ]
  },
  {
   "cell_type": "markdown",
   "metadata": {
    "slideshow": {
     "slide_type": "skip"
    }
   },
   "source": [
    "# Содержание\n",
    "\n",
    "- Что такое сумма Минковского\n",
    "- Сумма двух выпуклых фигур\n",
    "- Сумма двух невыпуклых фигур\n",
    "\n",
    "Случай суммы выпуклой и невыпуклой фигуры будет рассмотрен в отдельном билете ([Билет №13](https://github.com/CT-18/cg)).\n",
    "\n",
    "Сначала будет много теории, чтобы понять с чем мы вообще работаем, а потом разберемся как это реализовать на практике."
   ]
  },
  {
   "cell_type": "markdown",
   "metadata": {
    "slideshow": {
     "slide_type": "skip"
    }
   },
   "source": [
    "## Что такое сумма Минковского"
   ]
  },
  {
   "cell_type": "markdown",
   "metadata": {
    "slideshow": {
     "slide_type": "slide"
    }
   },
   "source": [
    "### Сумма Минковского"
   ]
  },
  {
   "cell_type": "markdown",
   "metadata": {
    "slideshow": {
     "slide_type": "notes"
    }
   },
   "source": [
    "Множество $C$ является суммой Минковского множеств $A$ и $B$, если сумма любых двух точек из этих множеств принадлежит $C$. "
   ]
  },
  {
   "cell_type": "markdown",
   "metadata": {
    "slideshow": {
     "slide_type": "fragment"
    }
   },
   "source": [
    "$$\n",
    "C = A \\oplus B = \n",
    "\\left\\{\n",
    "        c = a + b : a \\in A, \\,  b \\in B \n",
    "\\right\\}\n",
    "$$\n",
    "$$\n",
    "a = (a_x, a_y), \\, b = (b_x, b_y) \\Rightarrow c = a + b = (a_x + b_x, a_y + b_y)\n",
    "$$\n",
    "<img src=\"images/sum_minkowski_example.png\\\" style=\"float: center; width: 50%; height: 50%\\\">"
   ]
  },
  {
   "cell_type": "markdown",
   "metadata": {
    "slideshow": {
     "slide_type": "slide"
    }
   },
   "source": [
    "### Минус множество\n",
    "$$\n",
    "-S = \n",
    "\\left\\{\n",
    "    - s : s \\in S\n",
    "\\right\\}\n",
    "$$\n",
    "$$\n",
    "s = (s_x, s_y) \\Rightarrow -s = (- s_x, - s_y)\n",
    "$$"
   ]
  },
  {
   "cell_type": "markdown",
   "metadata": {
    "slideshow": {
     "slide_type": "notes"
    }
   },
   "source": [
    "Множество $- S$ состоит из точек множества $S$, отраженных через центр координат."
   ]
  },
  {
   "cell_type": "markdown",
   "metadata": {
    "slideshow": {
     "slide_type": "slide"
    }
   },
   "source": [
    "### Применение (прокладка маршрута)"
   ]
  },
  {
   "cell_type": "markdown",
   "metadata": {
    "slideshow": {
     "slide_type": "notes"
    }
   },
   "source": [
    "Давайте рассмотрим ситуацию: у нас есть физическое тело, для которого нужно проложить маршрут, не сталкиваясь с препятствиями. Тела заданы геометрическими фигурами. Для упрощения ничего вращать не будем.<br>\n",
    "Тело назовем $B$, а препятствия $A_i$. Утверждается, что эта задача сводится к более простой, где нужно составить маршрут для точки около препятствий вида $A_i \\oplus (- B)$.<br>\n",
    "В примере рабочее пространство $-$ это иллюстрация той задачи, которую нам нужно решить, а конфигурационное пространство $-$ иллюстрация аналогичной, но более простой задачи.<br>"
   ]
  },
  {
   "cell_type": "markdown",
   "metadata": {
    "slideshow": {
     "slide_type": "fragment"
    }
   },
   "source": [
    " <img src=\"images/sum_minkowski_prim_example.svg\\\" style=\" width: 70%; height: 70%\\\">"
   ]
  },
  {
   "cell_type": "markdown",
   "metadata": {
    "slideshow": {
     "slide_type": "slide"
    }
   },
   "source": [
    "Зафиксируем любую точку, назовем её $R$ (например, центр масс тела) и проведем до нее радиус-вектор $r$. Построим вектор $b$ от $R$ до любой другой точки принадлежащей телу. Построим $a \\in A$ $-$ радиус-вектор до любой точки внутри препятствия."
   ]
  },
  {
   "cell_type": "markdown",
   "metadata": {
    "slideshow": {
     "slide_type": "fragment"
    }
   },
   "source": [
    "<img src=\"images/sum_minkowski_simple.png\\\" style=\" width: 90%; height: 90%\\\">"
   ]
  },
  {
   "cell_type": "markdown",
   "metadata": {
    "slideshow": {
     "slide_type": "fragment"
    }
   },
   "source": [
    " #### Утверждение:\n",
    "> $r + b \\in A  \\Leftrightarrow r \\in A \\oplus (-B)$"
   ]
  },
  {
   "cell_type": "markdown",
   "metadata": {
    "slideshow": {
     "slide_type": "notes"
    }
   },
   "source": [
    "Замечание: далее противоречие будем обозначать $!!!$<br>\n",
    "$\\triangleright$\n",
    "<div style=\"padding-left:40px\">\n",
    "$\\Rightarrow$ <br>\n",
    "Предположим: $r + b \\in A$, но $r \\notin A \\oplus (- B)$. <br>\n",
    "$r+b=a \\,\\Rightarrow  \\, r=a+(-b)\\in A\\oplus(-B)\\, !!!$ <br>\n",
    "$\\Leftarrow$<br>\n",
    "Предположим: $r \\in A \\oplus (-B)$, но $r + b \\notin A$. <br>\n",
    "$r = a - b \\, \\Rightarrow \\, r+b= a \\in A\\, !!!$ \n",
    "</div>\n",
    "$\\triangleleft$"
   ]
  },
  {
   "cell_type": "markdown",
   "metadata": {
    "slideshow": {
     "slide_type": "skip"
    }
   },
   "source": [
    "Это означает, что если мы в процессе поиска маршрута в нашей задаче заденем препятствие, то в более легкой задаче наша точка окажется внутри препятствия, и наоборот. Данный факт позволяет утверждать, что задачи аналогичны. "
   ]
  },
  {
   "cell_type": "markdown",
   "metadata": {
    "slideshow": {
     "slide_type": "slide"
    }
   },
   "source": [
    "## Сумма Минковского двух выпуклых фигур"
   ]
  },
  {
   "cell_type": "markdown",
   "metadata": {
    "slideshow": {
     "slide_type": "slide"
    }
   },
   "source": [
    "#### Утверждение\n",
    "\n",
    "> Сумма Минковского двух выпуклых множеств является выпуклым множеством."
   ]
  },
  {
   "cell_type": "markdown",
   "metadata": {
    "slideshow": {
     "slide_type": "skip"
    }
   },
   "source": [
    "$\\triangleright$\n",
    "<div style=\"padding-left:40px\">\n",
    "\n",
    "Рассмотрим $C = A \\oplus B$ и линейную комбинацию двух точек из $C$ ($\\alpha \\in [0, 1], \\, \\beta = 1 - \\alpha \\in [0, 1]$) <br> \n",
    "$c = \\alpha c_1 + (1 - \\alpha )c_2 = \\alpha (a_1 + b_1) + \\beta (a_2 + b_2) = \\alpha a_1 + \\beta a_2 +  \\alpha b_1 + \\beta b_2 = $ $(\\alpha a_1 + \\beta a_2) + (\\alpha b_1 + \\beta b_2) = a + b \\in A \\oplus B$ $\\Rightarrow$ любая выпуклая комбинация точек из множества $C$ ему принадлежит $\\Rightarrow$ множество $C$ выпуклое.\n",
    "\n",
    "</div>\n",
    "\n",
    "$\\triangleleft$"
   ]
  },
  {
   "cell_type": "markdown",
   "metadata": {
    "slideshow": {
     "slide_type": "fragment"
    }
   },
   "source": [
    "#### Определение\n",
    "> Точка $a \\in A$ является экстремальной в некотором направлении для этого множества ($A$), если направить ось в этом направлении (предположим ось $OX$), то $ \\forall a'\\in A\\, a'_x \\leq a_x$."
   ]
  },
  {
   "cell_type": "markdown",
   "metadata": {
    "slideshow": {
     "slide_type": "slide"
    }
   },
   "source": [
    "#### Утверждение\n",
    "> $C = A \\oplus B$, $c \\in C$, $a \\in A$, $b \\in B$, $c = a + b$.<br> \n",
    "$c$ - экстремальная вершина в некотором направлении $\\Leftrightarrow a, \\, b$ $ - $ экстремальные вершины в этом же направлении."
   ]
  },
  {
   "cell_type": "markdown",
   "metadata": {
    "slideshow": {
     "slide_type": "notes"
    }
   },
   "source": [
    "$\\triangleright$\n",
    "<div style=\"padding-left:40px\">\n",
    "$\\Rightarrow$ <br>\n",
    "Предположим, $c\\,-$ экстремальная точка в некотором направлении, но $a$, $b$ не являются экстремальными в этом же направлении (и/или не важно, предположим что как минимум $a$, если только $b$, то переобозначим).<br>\n",
    "Повернем систему координат так, чтобы $\\forall c'\\in C$ $c_x\\geq c'_x$ (т. е. ось $OX$ вдоль того направления). Раз $a$ не экстремальная, то $\\exists a'\\in A : a'_x > a_x$. Рассмотрим $c'' = a' + b$, $c''_x = a'_x + b_x > a_x + b_x = c_x$ $!!!$\n",
    "</div> "
   ]
  },
  {
   "cell_type": "markdown",
   "metadata": {
    "slideshow": {
     "slide_type": "fragment"
    }
   },
   "source": [
    "<img src=\"images/sum_minkowski_simple_extr_sum1.png\\\" style=\" width: 70%; height: 70%\\\">"
   ]
  },
  {
   "cell_type": "markdown",
   "metadata": {
    "slideshow": {
     "slide_type": "notes"
    }
   },
   "source": [
    "<div style=\"padding-left:40px\">\n",
    "$\\Leftarrow$ <br>\n",
    "Предположим, $a$, $b\\,- $ экстремальные точки в некотором направлении, но $c$ не является экстремальной в этом же направлении. <br>\n",
    "Повернем систему координат так, чтобы $ \\forall a' \\in A$ $a_x \\geq a'_x$,  $ \\forall b' \\in B$ $b_x \\geq b'_x$. Раз $c$ не экстремальная, то $\\exists c' \\in С : c'_x > c_x$. Рассмотрим $c' = a'' + b''$, $ c'_x = a''_x + b''_x \\leq a_x + b_x = c_x$ $!!!$   \n",
    "</div> \n",
    "\n",
    "$\\triangleleft$  "
   ]
  },
  {
   "cell_type": "markdown",
   "metadata": {
    "slideshow": {
     "slide_type": "fragment"
    }
   },
   "source": [
    "<img src=\"images/sum_minkowski_simple_extr_sum2.png\\\" style=\" width: 70%; height: 70%\\\">"
   ]
  },
  {
   "cell_type": "markdown",
   "metadata": {
    "slideshow": {
     "slide_type": "slide"
    }
   },
   "source": [
    "#### Следствие\n",
    "> Сумма Минковского двух отрезков является отрезком."
   ]
  },
  {
   "cell_type": "markdown",
   "metadata": {
    "slideshow": {
     "slide_type": "notes"
    }
   },
   "source": [
    "#### Доказательство\n",
    "$\\triangleright$\n",
    "\n",
    "<div style=\"padding-left:40px\">\n",
    "Предположим, мы хотим получить сумму Минковского отрезка и точки, экстремальных в одном направлении.<br>\n",
    "Экстремальный отрезок - множество экстремальных точек $\\Rightarrow$ сложив с экстремальной точкой, получим множество экстремальных точек.<br>\n",
    "Чуть повернув рассматриваемое направление, один из концов отрезка остается экстремальной точкой и для нового направления получается сложение точки и конца отрезка $\\Rightarrow$ мы можем ограничить итоговое множество двумя экстремальными (по новым направлениям) точками. <br>\n",
    "Cкладывая точку (которая является выпуклым множеством) и выпуклое множество, получаем выпуклое множество.<br>\n",
    "В итоге сложения, получается ограниченное с двух сторон выпуклое множество экстремальных точек, а это может быть только отрезком.\n",
    "</div>\n",
    "\n",
    "$\\triangleleft$"
   ]
  },
  {
   "cell_type": "markdown",
   "metadata": {
    "slideshow": {
     "slide_type": "fragment"
    }
   },
   "source": [
    "#### Утверждение\n",
    " > Сумма Минковского двух выпуклых многоугольников является выпуклым многоугольником."
   ]
  },
  {
   "cell_type": "markdown",
   "metadata": {
    "slideshow": {
     "slide_type": "notes"
    }
   },
   "source": [
    "$\\triangleright$\n",
    "\n",
    "<div style=\"padding-left:40px\">\n",
    "Давайте рассмотрим две фигуры, все возможные направления и экстремальные элементы по этим направлениям.<br>\n",
    "Если в одном направлении экстремальными будут две вершины, то в сумме Минковского двух фигур они дадут вершину. Если экстремальными будут точка и ребро, то они дадут ребро (предыдущее следствие). Используя те же рассуждения ребро и ребро дадут ребро.<br>\n",
    "В итоге у нас получается выпуклая фигура из вершин соединённых ребрами $\\Rightarrow$ это выпуклый многоугольник.\n",
    "</div>\n",
    "\n",
    "$\\triangleleft$"
   ]
  },
  {
   "cell_type": "markdown",
   "metadata": {
    "slideshow": {
     "slide_type": "fragment"
    }
   },
   "source": [
    "#### Утверждение\n",
    "> $A$ выпуклый $n$-угольник, $B$ выпуклый $m$-угольник $\\Rightarrow$ $C = A \\oplus B$ выпуклый $(n + m)$-угольник"
   ]
  },
  {
   "cell_type": "markdown",
   "metadata": {
    "slideshow": {
     "slide_type": "notes"
    }
   },
   "source": [
    "$\\triangleright$\n",
    "\n",
    "<div style=\"padding-left:40px\">\n",
    "\n",
    "Давайте синхронно обойдем обе фигуры паралельно. Начнем с самых левых точек. Новую точку в итоговую сумму будем добавлять как только поменяются текущие точки. А меняться они будут по такому правилу: проверяется, для какой из следующих вершин вектор-ребро, отложенный от одной точки, находится левее, и она заменяет текущую. Если вектора коллинеарны, то меняются обе вершины.<br>\n",
    "Каждая вершина может поменяться один раз, всего вершин $(n + m)$, значит и вершин в $C$ будет $(n + m)$.\n",
    "\n",
    "</div>\n",
    "\n",
    "$\\triangleleft$"
   ]
  },
  {
   "cell_type": "markdown",
   "metadata": {
    "slideshow": {
     "slide_type": "notes"
    }
   },
   "source": [
    "Более подробное доказательство\n",
    "<br>\n",
    "$\\triangleright$\n",
    "\n",
    "<div style=\"padding-left:40px\">\n",
    "\n",
    "$C \\, -$ выпуклый многоугольник, это следует из предыдущего утверждения, осталось определиться с количеством вершин.<br>\n",
    "Давайте сделаем следующее:<br>\n",
    "В многоугольнике $A$ возьмем левую (среди них самую нижнюю) и назовем ее $A_0$. Аналогично в многоугольнике $B$ найдем точку $B_0$. Точки $A_0$ и $B_0 - $ являются экстремальными в одном направлении (направление влево) $\\Rightarrow$ их сумма даст в многоугольнике $C$ экстремальную точку. Обозначим это направление как начальное.<br>\n",
    "Начнем вращать это направление против часовой стрелки. В какой-то момент для нового направления экстремальным станет целый отрезок (в многоугольнике $A$ и/или в многоугольнике $B$, рассмотрим пока что в $A$). Конец этого отрезка является следующей точкой для $A_0$, переобозначим его за $A_0$. Посчитаем точку $A_0 + B_0$, если она новая для множества $C$, то добавим ее и продолжим вращение. Иначе, мы пришли в самое начало вращения и продолжение нам ничего уже не даст. В случае если и/или отрезок из $B$ стал экстремальным, то по ходу итерации также меняем $B_0$ на следующую.<br>\n",
    "Проходя так в одну сторону один круг, каждая точка может стать экстремальной единожды $\\Rightarrow$ каждая точка встречается (перестает быть экстремальной) один раз, а новые точки в $C$ появляются лишь при смене экстремальной точки в $A$ или $B$, а такое может произойти максимум $(n + m)$ раз.\n",
    "\n",
    "</div>\n",
    "\n",
    "$\\triangleleft$"
   ]
  },
  {
   "cell_type": "code",
   "execution_count": 1,
   "metadata": {
    "collapsed": false,
    "slideshow": {
     "slide_type": "skip"
    }
   },
   "outputs": [],
   "source": [
    "#Использованные библиотеки\n",
    "import numpy as np\n",
    "import matplotlib.pyplot as plt\n",
    "#Реализация тестов и примеров\n",
    "from some_code import *\n",
    "from cg import *"
   ]
  },
  {
   "cell_type": "markdown",
   "metadata": {
    "collapsed": true,
    "slideshow": {
     "slide_type": "slide"
    }
   },
   "source": [
    "### Алгоритм (сумма Минковского двух выпуклых фигур)"
   ]
  },
  {
   "cell_type": "markdown",
   "metadata": {
    "slideshow": {
     "slide_type": "notes"
    }
   },
   "source": [
    "   Замечание: \n",
    " - Вершина $-$ $Point$ из $cg$. \n",
    " - Многоугольник $-$ $PointSet$ из $cg$. Вершины находятся в порядке обхода против часовой стрелки."
   ]
  },
  {
   "cell_type": "markdown",
   "metadata": {
    "slideshow": {
     "slide_type": "slide"
    }
   },
   "source": [
    "#### Полезный предикат"
   ]
  },
  {
   "cell_type": "markdown",
   "metadata": {
    "slideshow": {
     "slide_type": "notes"
    }
   },
   "source": [
    "Давайте научимся определять, какой двух из отрезков в процессе обхода станет экстремальным раньше. \n",
    " Рассмотрим точки $A_0$, $B_0$ $-$ текущие точки и $A_1$, $B_1$ $-$ следующие в фигуре. Если рассмотреть вектора $\\overrightarrow{A_0 A_1}$ и $\\overrightarrow{B_0 B_1}$ и отложить их от одной точки, то вектор, находящийся справа относительно другого, соответствует нужной вершине. А эту задачу уже можно решить с помощью предиката поворота ([Билет №5, Ориетация](../5_affine_space/foundation.ipynb#%D0%9E%D1%80%D0%B8%D0%B5%D0%BD%D1%82%D0%B0%D1%86%D0%B8%D1%8F))."
   ]
  },
  {
   "cell_type": "markdown",
   "metadata": {
    "slideshow": {
     "slide_type": "fragment"
    }
   },
   "source": [
    "Зададим полезный предикат следующим образом:\n",
    " - $p = 1 \\Rightarrow \\overrightarrow{A_0 A_1}$ $-$ правее, следующая ближайшая точка $A_1$\n",
    " - $p = 0 \\Rightarrow $ вектора сонаправлены, $A_1$ и $B_1$ являются ближайшими точками одновременно.\n",
    " - $p = -1 \\Rightarrow \\overrightarrow{B_0 B_1}$ $-$ правее, следующая ближайшая точка $B_1$\n",
    "\n",
    "![Пример](images/sum_minkowski_alg_example.png)"
   ]
  },
  {
   "cell_type": "markdown",
   "metadata": {
    "slideshow": {
     "slide_type": "skip"
    }
   },
   "source": [
    " Попробуйте реализовать предикат самостоятельно. На вход задаются четыре точки $A_0$, $A_1$, $B_0$, $B_1$. Функция должна возвращать значение предиката от этих точек. "
   ]
  },
  {
   "cell_type": "code",
   "execution_count": 2,
   "metadata": {
    "collapsed": false,
    "slideshow": {
     "slide_type": "skip"
    }
   },
   "outputs": [
    {
     "name": "stdout",
     "output_type": "stream",
     "text": [
      "Ошибка!, A0(кр), A1(жел), B0(син), B1(зел) = \n",
      "[3 3] [3 4] [2 2] [2 1]\n",
      "Данный предикат вывел:  -1  а ответ:  0\n"
     ]
    },
    {
     "data": {
      "image/png": "[encoded data removed]",
      "text/plain": [
       "<matplotlib.figure.Figure at 0x7f5f0ed57198>"
      ]
     },
     "metadata": {},
     "output_type": "display_data"
    }
   ],
   "source": [
    "# Для проверки используйте функцию check_pred(your_pred), ниже будет выведен результат проверки и тест на котором \n",
    "# ваш код работает неверно.\n",
    "\n",
    "def my_pred(A0 : Point, A1 : Point, B0 : Point, B1 : Point) :\n",
    "    return -1\n",
    "\n",
    "check_pred(my_pred)"
   ]
  },
  {
   "cell_type": "markdown",
   "metadata": {
    "slideshow": {
     "slide_type": "slide"
    }
   },
   "source": [
    "### Алгоритм\n",
    " Исходя из доказательства утверждения можно вывести алгоритм:\n",
    " - Берем левую нижнюю точку для каждой из фигур ($A_0$, $B_0$) и записываем их сумму в фигуру $C$.\n",
    " - Рассматриваем следующие для них точки ($A_1$, $B_1$), берем ближайшую из них (если они обе ближайшие, то берем обе) и записываем их как новые текущие точки ($A_0 = A_1$ и/или $B_0 = B_1$). Если мы вернулись в начало, то выходим, иначе записываем сумму текущих в фигуру $C$ и начинаем этот пункт сначала.\n",
    " - В фигуре $C$ лежит сумма Минковского фигур $A$ и $B$."
   ]
  },
  {
   "cell_type": "markdown",
   "metadata": {
    "slideshow": {
     "slide_type": "skip"
    }
   },
   "source": [
    " Попробуйте реализовать алгоритм самостоятельно. На вход подаются две выпуклые фигуры, вернуть вы должны сумму Минковского этих фигур. Следующее поле является иллюстрацией к задаче и примером использования функций, которые могут быть полезны."
   ]
  },
  {
   "cell_type": "code",
   "execution_count": 3,
   "metadata": {
    "collapsed": false,
    "scrolled": false,
    "slideshow": {
     "slide_type": "subslide"
    }
   },
   "outputs": [
    {
     "data": {
      "image/png": "[encoded data removed]",
      "text/plain": [
       "<matplotlib.figure.Figure at 0x7f5f0c81ccf8>"
      ]
     },
     "metadata": {},
     "output_type": "display_data"
    }
   ],
   "source": [
    "# Тут реализована иллюстрация происходящего.\n",
    "\n",
    "# Фигуры нарисованные на картинках.\n",
    "# A = PointSet([Point(1, 4), Point(3, 4), Point(2, 6)])\n",
    "# B = PointSet([Point(4, 1), Point(6, 2), Point(4, 3)])\n",
    "\n",
    "# Случайно сгенерированные фигуры.\n",
    "A = rand_figure()\n",
    "B = rand_figure()\n",
    "\n",
    "# Создаем область для картинок .\n",
    "fig = plt.figure(figsize = (15, 5))\n",
    "    \n",
    "# Рисуем многоугольники A, B в первых 2х областях.\n",
    "# paint_polygon(figure, place, polygon:PointSet, line_color, point_color, min_x/y, max_x/y, name)\n",
    "paint_polygon(fig, 131, A, \"r\", \"yo\", 0, 10, \"A\")\n",
    "paint_polygon(fig, 132, B, \"g\", \"yo\", 0, 10, \"B\")\n",
    "\n",
    "# Считаем сумму Минковского A и B.\n",
    "# example_alg(polygon1:PointSet, polygon2:PointSet)\n",
    "C = example_alg(A, B)\n",
    "\n",
    "# Рисуем многоугольник C в третьей области.\n",
    "paint_polygon(fig, 133, C, \"b\", \"yo\", 0, 20, \"C\") \n",
    "\n",
    "plt.show()"
   ]
  },
  {
   "cell_type": "code",
   "execution_count": 4,
   "metadata": {
    "collapsed": false,
    "slideshow": {
     "slide_type": "skip"
    }
   },
   "outputs": [
    {
     "name": "stdout",
     "output_type": "stream",
     "text": [
      "Ошибка!\n",
      "A (красный)\n",
      "[[7 8 1]\n",
      " [2 7 1]\n",
      " [4 4 1]\n",
      " [7 2 1]]\n",
      "B (зеленый)\n",
      "[[8 5 1]\n",
      " [8 8 1]\n",
      " [5 8 1]\n",
      " [2 6 1]\n",
      " [2 2 1]\n",
      " [6 2 1]]\n",
      "C у правильного  алгоритма(синий)\n",
      "[Point(15, 16), Point(12, 16), Point(7, 15), Point(4, 13), Point(4, 9), Point(6, 6), Point(9, 4), Point(13, 4), Point(15, 7)]\n",
      "C у вашего алгоритма(желтый)\n",
      "[[7 8 1]\n",
      " [2 7 1]\n",
      " [4 4 1]\n",
      " [7 2 1]]\n"
     ]
    },
    {
     "data": {
      "image/png": "[encoded data removed]",
      "text/plain": [
       "<matplotlib.figure.Figure at 0x7f5f0f4d4c88>"
      ]
     },
     "metadata": {},
     "output_type": "display_data"
    }
   ],
   "source": [
    "# Свою версию алгоритма писать тут.\n",
    "# Для проверки используйте функцию check_alg(your_alg), ниже будет выведен результат проверки и тест на котором \n",
    "# ваш код работает неверно.\n",
    "# В качестве ответа подходит любая циклическая перестановка правильного ответа.\n",
    "def my_alg(A:PointSet, B:PointSet):\n",
    "    C = A\n",
    "    return C\n",
    "\n",
    "\n",
    "check_alg(my_alg)"
   ]
  },
  {
   "cell_type": "markdown",
   "metadata": {
    "collapsed": true,
    "slideshow": {
     "slide_type": "slide"
    }
   },
   "source": [
    "## Сумма двух невыпуклых фигур"
   ]
  },
  {
   "cell_type": "markdown",
   "metadata": {
    "slideshow": {
     "slide_type": "slide"
    }
   },
   "source": [
    "Чтобы найти сумму Минковского для двух невыпуклых фигур, можно разбить каждую фигуру на выпуклые фигуры (например, треугольники), просуммировать их, а потом объединить получившиеся суммы."
   ]
  },
  {
   "cell_type": "markdown",
   "metadata": {
    "slideshow": {
     "slide_type": "fragment"
    }
   },
   "source": [
    "#### Утверждение\n",
    "> $(A \\cup B) \\oplus C \\equiv (A \\oplus C) \\cup (B \\oplus C)$"
   ]
  },
  {
   "cell_type": "markdown",
   "metadata": {
    "slideshow": {
     "slide_type": "skip"
    }
   },
   "source": [
    "$\\triangleright$\n",
    "\n",
    "<div style=\"padding-left:40px\">\n",
    "$q \\in (A \\cup B) \\oplus C \\,\\,\\Leftrightarrow\\,\\,$ \n",
    "$\\left[\n",
    "\\begin{array}{cc}\n",
    "q = a + c \\\\\n",
    "q = b + c\n",
    "\\end{array}\n",
    "\\right.$\n",
    "$\\left|\n",
    "\\begin{array}{cc}\n",
    "a \\in A \\\\\n",
    "b \\in B \\\\\n",
    "c \\in C\n",
    "\\end{array}\n",
    "\\right.$\n",
    "$\\Leftrightarrow$\n",
    "$\\left[\n",
    "\\begin{array}{cc}\n",
    "q \\in (A \\oplus C) \\\\\n",
    "q \\in (B \\oplus C)\n",
    "\\end{array}\n",
    "\\right.$\n",
    "$\\left|\n",
    "\\begin{array}{cc}\n",
    "a \\in A \\\\\n",
    "b \\in B \\\\\n",
    "c \\in C\n",
    "\\end{array}\n",
    "\\right.$\n",
    "$\\Leftrightarrow$\n",
    "$q \\in (A \\oplus C) \\cup (B \\oplus C)$  <br>\n",
    "\n",
    "</div>\n",
    "\n",
    "$\\triangleleft$"
   ]
  },
  {
   "cell_type": "markdown",
   "metadata": {
    "slideshow": {
     "slide_type": "fragment"
    }
   },
   "source": [
    "#### Утверждение\n",
    "> Объединение $O(n)$ выпуклых фигур с $O(1)$ вершинами в худшем случаем может дать фигуру с $O(n^2)$ вершинами."
   ]
  },
  {
   "cell_type": "markdown",
   "metadata": {
    "slideshow": {
     "slide_type": "skip"
    }
   },
   "source": [
    "$\\triangleright$\n",
    "\n",
    "<div style=\"padding-left:40px\">\n",
    "\n",
    " В процессе объединения нескольких фигур, вершины у новой фигуры могут появиться в двух случаях: они были вершинами изначальных фигур или у двух фигур пересекались ребра, и после объединения в этом месте появилась вершина. Первым способом максимум может получится $O(n)$ вершин. Для второго способа, в худшем случае, все ребра фигур между собой пересекаются, то есть $O(n)$ ребер пересекают друг друга, получается $O(n^2)$ пересечений максимум. Итог - максимум $O(n^2)$ вершин.\n",
    "\n",
    "</div>\n",
    "\n",
    "$\\triangleleft$"
   ]
  },
  {
   "cell_type": "markdown",
   "metadata": {
    "slideshow": {
     "slide_type": "skip"
    }
   },
   "source": [
    " В случае суммы Минковского $n$-угольника и $m$-угольника, после разбиения у нас получится множество из $(n - 2)$ треугольника и из $(m - 2)$ треугольника. Сложив попарно все треугольники между собой, получим множество из $O(nm)$ фигур, с $O(1)$ вершин в каждой. После объединения в худшем случае получается фигура с $O((nm)^2)$ вершин. Эта оценка достижима (пример)."
   ]
  },
  {
   "cell_type": "markdown",
   "metadata": {
    "slideshow": {
     "slide_type": "slide"
    }
   },
   "source": [
    "<img src=\"images/Minkowski_hard_example.svg\" style=\" width: 70%; height: 70%\\\">"
   ]
  },
  {
   "cell_type": "markdown",
   "metadata": {
    "slideshow": {
     "slide_type": "notes"
    }
   },
   "source": [
    " Замечание: при симметричном увеличении количества зубцов любой из фигур в 2 раза и их продлении, количество точек в сумме Минковского увеличится в 4 раза."
   ]
  }
 ],
 "metadata": {
  "kernelspec": {
   "display_name": "Python 3",
   "language": "python",
   "name": "python3"
  },
  "language_info": {
   "codemirror_mode": {
    "name": "ipython",
    "version": 3
   },
   "file_extension": ".py",
   "mimetype": "text/x-python",
   "name": "python",
   "nbconvert_exporter": "python",
   "pygments_lexer": "ipython3",
   "version": "3.4.3"
  }
 },
 "nbformat": 4,
 "nbformat_minor": 2
}
