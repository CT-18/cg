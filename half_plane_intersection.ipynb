{
 "cells": [
  {
   "cell_type": "markdown",
   "metadata": {},
   "source": [
    "# Пересечение полуплоскостей, связь с выпуклыми оболочками\n"
   ]
  },
  {
   "cell_type": "markdown",
   "metadata": {},
   "source": [
    "## Практическое применение"
   ]
  },
  {
   "cell_type": "markdown",
   "metadata": {},
   "source": [
    "### Формы для литья"
   ]
  },
  {
   "cell_type": "markdown",
   "metadata": {},
   "source": [
    "<img src=\"images/picture1.png\" alt=\"Picutre1\" width =\"40%\" heigth=\"40%\" style=\"float:right;\" />\n",
    "Рассмотрим литейную форму какого-нибудь предмета. Чтобы получить сам предмет, мы должны залить туда какой-нибудь жидкий материал и подождать. Отделив застывшую часть от формы, мы получим предмет. Но можем ли мы отделить форму от предмета?\n",
    "\n",
    "На рис.1 мы видим две формы, в которой залит предмет. Из первой формы мы вытащить предмет не можем, а из второй формы предмет выходит из формы по направлению стрелочки."
   ]
  },
  {
   "cell_type": "markdown",
   "metadata": {},
   "source": [
    "Мы должны задать несколько ограничений:\n",
    "1. Предмет должен быть многоугольником.\n",
    "2. Мы рассматриваем только предметы, которые можем получить с использованием только одной формы (например используя две формы, мы можем получить сферу, но способа сделать сферу из одной формы нет)\n",
    "3. Мы рассматриваем только предметы, которые можно вытащить из формы переносом (то есть нельзя поворачивать предмет). "
   ]
  },
  {
   "cell_type": "markdown",
   "metadata": {},
   "source": [
    "### Геометрическая интерпретация"
   ]
  },
  {
   "cell_type": "markdown",
   "metadata": {},
   "source": [
    "Для того, чтобы вытащить какой-то предмет из формы, он должен иметь верхнюю грань. Мы можем дать ей такое определение\n",
    ">**Верхняя грань** — единственная грань предмета, которая не соприкасается с формой\n",
    "\n",
    ">**Обычная грань** — любая грань предмета, кроме верхней.\n",
    "\n",
    "Любая обычная грань $f$ имеет соотвествующую грань $\\hat{f}$ в форме, которая к ней прилегает. Теперь мы хотим выбрать такое направление $\\vec{d}$, чтобы при движении нашего предмета в этом направлении он не уперся в какакую-нибудь грань формы. Что нужно обычной грани, чтобы не упереться в прилегающую? Определим сначала угол между двумя векторами в пространстве. Возьмем два вектора $\\vec{a}$ и $\\vec{b}$ и построим плоскость, содержащую оба вектора. Наименьший на плоскости угол из двух и будет углом между этими векторами в пространстве. Поймем, что $\\hat{f}$ блокирует любое направление движения, которое имеет угол $<90^{\\circ}$ c вектором $\\vec{d}$. Тогда необходимое условие для $\\vec{d}$ это то, что угол между вектором $\\vec{d}$ и любой нормалью к обычной грани должен быть больше или равен $90^{\\circ}$. Докажем, что это достаточное условие."
   ]
  },
  {
   "cell_type": "markdown",
   "metadata": {},
   "source": [
    "**Теорема 1** Многоугольник $P$ может быть извлечен из его формы одним перемещением в направлении $\\vec{d}$ тогда и только тогда, когда $\\vec{d}$ состовляет угол хотя бы $90^{\\circ}$ с каждой направленной к форме нормалью обычной грани многоугольника $P$.\n",
    "    <br>$\\triangleright$<br><div style=\"padding-left:40px\">\n",
    "    Необходимость следует из того, что если угол между $\\vec{d}$ и нормали $f$ меньше $90^{\\circ}$, то двигая $f$ в направлении $\\vec{d}$ мы упремся в $\\hat{f}$.\n",
    "    Теперь докажем достаточность. Пусть в какой-то момент точка $p$ уперлась в грань $\\hat{f}$. Это означает, что если бы мы продолжили двигать $p$, то она бы прошла в грань $\\hat{f}$ и угол между нормалью $\\hat{f}$ (которая равна нормали $f$) меньше $90^{\\circ}$. Но по условию у нас все углы больше $90^{\\circ}$. Мы получили противоречие. \n",
    "</div>\n",
    "$\\triangleleft$\n",
    "    "
   ]
  },
  {
   "cell_type": "markdown",
   "metadata": {},
   "source": [
    "Теперь, когда у нас есть необходимое и достаточное условие для направления $\\vec{d}$, как мы можем перейти к плоскости?\n",
    "Сначала проведем плоскость $z=1$, и отложим систему координат так, чтобы верхняя грань нашего многограника лежала в плоскости $z=0$. Тогда мы можем представить каждое направление $\\vec{d}$, как точку $(x, y, 1)$, через которую проходит наше направление. Пусть $\\vec{η}=(\\vec{η}_x, \\vec{η}_y, \\vec{η}_z)$. Тогда направление $\\vec{d} = (\\vec{d}_x,\\vec{d}_y, 1)$ составляет как минимум $90^{\\circ}$ тогда и только тогда, когда скалярное произведение $\\vec{d}$ и $\\vec{η}$ не положительное. Следовательно, обычная грань дает нам такое ограничение:\n",
    "<div align=\"center\">\n",
    "$\\vec{η}_x * \\vec{d}_x +  \\vec{η}_y * \\vec{d}_y + \\vec{η}_z  \\leq 0$\n",
    "</div>\n",
    "Можем заметить, что это неравенство описывает полуплоскость на плоскости $z=1$.\n",
    "В итоге каждая обычная грань соответствует какой-то полуплоскости на плоскоксти $z=1$ и каждая точка пересечения всех полуплоскостей соотвестсвует направлению, по которому можно вытащить предмет из формы. "
   ]
  },
  {
   "cell_type": "markdown",
   "metadata": {},
   "source": [
    "## Пересечение полуплоскостей"
   ]
  },
  {
   "cell_type": "markdown",
   "metadata": {},
   "source": [
    "Наша задача состоит в том, чтобы найти пересечение полуплоскостей. Форму пересечения легко определить: полуплоскость выпукла, и пересечение выпуклых фигур тоже выпукла, так что пересечение множества полуплоскостей на плоскости - выпукло. Каждая точка на границе пересечения должна лежать на какой-то из прямой ограничивающих полуплоскость. Следовательно, область состоит из ребер, которые содержатся в этих прямых. Каждая прямая дает вклад максимум в одну сторону выпуклой оболочки, так как она выпукла. Следовательно, пересечение $n$ полуплоскостей, это выпуклая полигональная область, окруженная не более чем $n$ ребрами. На рисунке показаны разные варианты пересечения:\n",
    "<img src=\"images/picture2.png\" alt=\"Picutre2\" width =\"80%\" heigth=\"80%\" />\n",
    "Черным нарисованы линии ограничивающие полуплоскость, темносерым - часть полуплоскости, которая принадлежит границам, и светлосерым - пересечение полуплоскостей."
   ]
  },
  {
   "cell_type": "markdown",
   "metadata": {},
   "source": [
    "Теперь давайте определимся, как мы хотим хранить нашу выпуклую полигональную область $C$. Будем хранить левую и правую границу $C$ отдельно, как отсортированные массивы полуплоскостей. Массивы будут отсортированы в порядке их возникновения на границе, если бы мы спускались сверху вниз. Обозначим массив левых границ оболочки $C$ как $L\\_left$, а массив правых границ $L\\_right$. Вершины оболочки мы будем считать как пересечение соседних прямых в массивах. "
   ]
  },
  {
   "cell_type": "markdown",
   "metadata": {},
   "source": [
    "Чтобы упростить описание алгоритма, предположим, что у нас нет горизонтальных рёбер (алгоритм может быть легко адаптирован, если предположить, что горизонтальные ребра, которые ограничивают сверху принадлежат левой границе, а снизу - правой). Сам алгоритм устроен по принципу раздеяй и влавствуй. Мы делим весь массив полуплоскостей на два одинаковых массива, и вызываемся рекурсивно от них. Мы получаем два выпуклых полигональных региона $C1$ и $C2$ и считаем их пересечение. Пример работы ниже:\n",
    "<img src=\"images/picture4.png\" alt=\"Picutre4\" width =\"50%\" heigth=\"50%\" />"
   ]
  },
  {
   "cell_type": "markdown",
   "metadata": {},
   "source": [
    "Давайте разберемся, как считать пересечение."
   ]
  },
  {
   "cell_type": "markdown",
   "metadata": {},
   "source": [
    "### Алгоритм пересечения "
   ]
  },
  {
   "cell_type": "markdown",
   "metadata": {},
   "source": [
    "<img src=\"images/picture3.png\" alt=\"Picutre3\" width =\"40%\" heigth=\"40%\" style=\"float:right;\" />\n",
    "Алгоритм пересечения работает по принципу сканирующей прямой. Мы двигаем вниз нашу прямую, и смотрим, с какими прямыми из $C1$ и $C2$ она пересекается (так как $C1$ и $C2$ выпуклые, то прямая может пересечь не более 4 ребер). Мы не будем хранить их в сложной структуре данных, а просто заведем указатели на них $left\\_edge\\_C1$, $right\\_edge\\_C1$, $left\\_edge\\_C2$, и $right\\_edge\\_C2$. Если сканирующая прямая не пересекает какую-нибудь границу, то соответствующий указатель будет равен $null$.\n",
    "\n",
    "Как инициализировать эти указатели. Пусть $y1$ будет $y$-координатой самой высокой вершины $C1$. Если $C1$ не ограничена, то зададим $y1=infinity$. Также инициализируем $y2$ и пусть $y\\_start = min(y1,y2)$. Чтобы посчитать пересечение с $C1$ и $C2$ мы можем переместить наше внимание на часть плоскости с $y$-координатой меньшей или равной $y\\_start$. Тогда найдем пересечение граней с нашей сканирующей прямой $y\\_start$ и определим начальные $left\\_edge\\_C1$, $right\\_edge\\_C1$, $left\\_edge\\_C2$, и $right\\_edge\\_C2$."
   ]
  },
  {
   "cell_type": "markdown",
   "metadata": {},
   "source": [
    "Обычно в такого рода алгоритмах мы должны иметь очередь, чтобы хранить события. В нашем случае события - это точки, в которых ребра $C1$ или $C2$ начинают или заканчивают пересекать сканирующую прямую. Это означает, что следующее событие, которое определяет следующую грань, которая должна быть обработана, является самым высоким из нижних концов ребер, пересекающих сканирующую прямую. Значит, нам не нужна очередь, мы можем найти следующее событие за константное время используя указатели  $left\\_edge\\_C1$, $right\\_edge\\_C1$, $left\\_edge\\_C2$, и $right\\_edge\\_C2$."
   ]
  },
  {
   "cell_type": "markdown",
   "metadata": {},
   "source": [
    "В каждом событии мы будем получать новое ребро $e$ на границе. Мы должны определить, где находится новое ребро, на $C1$ или $C2$, и на правой границе или на левой и вызвать соответсвующую функцию. Мы разберем только функцию для $C1$ и ребро находится на левой границе. Остальные функции можно составить по аналогии."
   ]
  },
  {
   "cell_type": "markdown",
   "metadata": {},
   "source": [
    "Пусть $p$ - верхняя точка e. Функция, которая обрабатывает $e$ может найти одно из трех ребер, которое содержится в $C$: ребро с верхней точкой $p$, ребро с верхней точкой $e \\cap left\\_edge\\_C2 $ или ребро с верхней точкой $e \\cap right\\_edge\\_C2 $. Будем выполнять следующие действия:\n",
    "- Сначала проверим, лежит ли p между $left\\_edge\\_C2$ и $right\\_edge\\_C2$. Если да, то $e$ добавляет грань в $C$ начиная с $p$. Мы же в таком случае добавляем полуплоскость, из которой мы взяли $e$ в список $L\\_left$ для $C$.\n",
    "- Потом проверяем, пересекает ли $e$ $right\\_edge\\_C2$. Если да, тогда точка пересечения это вершина $C$. Или обе грани создадут по грани в $C$, которые начинаются в точке пересечения - такое бывает, когда точка $p$ лежит слева от $right\\_edge\\_C2$. В таком случае мы добавляем полуплоскость из которой мы получили $e$ в $L\\_left$ и $right\\_edge\\_C2$ в $L\\_right$. Или обе грани создадут по грани в $C$, которые заканчиваются в точке пересечения. Тогда мы их никуда не добавляем, они уже были обработаны ранее.\n",
    "- Последняя проверка производится на пересечение $e$ и $left\\_edge\\_C2$. Если есть пересечение, то оно является вершиной в $C$. Нужно решить, к какой полуплоскости пренадлежит новое ребро оболочки $C$. Мы можем сделать эту проверку в константное время: Если $p$ лежит слева от $left\\_edge\\_C2$ тогда это часть $e$, иначе это часть $left\\_edge\\_C2$. Как только мы решили, какой полуплоскости пренадлежит новое ребро нужно добавить ее в $L\\_left$. "
   ]
  },
  {
   "cell_type": "markdown",
   "metadata": {},
   "source": [
    "Заметим, что мы можем добавить сразу две полуплоскости в $C$. Когда нам нужно их добавить, нужно начинать с полуплоскости содержащей $e$. "
   ]
  },
  {
   "cell_type": "markdown",
   "metadata": {},
   "source": [
    "### Упражнение"
   ]
  },
  {
   "cell_type": "markdown",
   "metadata": {},
   "source": [
    "Нужно написать пересечение полуплоскостей."
   ]
  },
  {
   "cell_type": "code",
   "execution_count": null,
   "metadata": {
    "collapsed": true
   },
   "outputs": [],
   "source": [
    "# input: A set of n closed halfplanes, H = {h_1, h_2, ..., h_n}\n",
    "# output: Intersection\n",
    "\n",
    "# lines in a plane can be represented as: y = ax - b => (a, b)\n",
    "# lower halfplane: y <= ax - b\n",
    "# upper halfplane: y >= ax - b\n",
    "\n",
    "H = [\n",
    "(1, 2),\n",
    "(-1, 2),\n",
    "(0, -1),\n",
    "(0, 3),\n",
    "(0, 4)\n",
    "]\n",
    "\n",
    "\n",
    "def halfplane_intersection( H_in ):\n",
    "\n",
    "\n",
    "    H_len = len( H_in )\n",
    "    print \"H_len: \", H_len\n",
    "\n",
    "    #Если плоскость всего одна, то ничего пересекать не нужно.\n",
    "    if H_len == 1:\n",
    "        return H_in[0]\n",
    "\n",
    "    # Разделим нашу плоскость на два подмножества H_left and H_right\n",
    "    H_len_l = int( H_len / 2 )\n",
    "    H_left = H_in[:H_len_l]\n",
    "    H_right = H_in[H_len_l:]\n",
    " \n",
    "    K_left = halfplane_intersection( H_left )\n",
    "    K_right = halfplane_intersection( H_right )\n",
    "    K = intersect( K_left, K_right )\n",
    "    return K\n",
    "\n",
    "# Это нужно реализовать!\n",
    "def intersect(K_left_in, K_right_in ):\n",
    "    return []\n",
    "\n",
    "def main():\n",
    "    halfplane_intersection( H )"
   ]
  },
  {
   "cell_type": "markdown",
   "metadata": {},
   "source": [
    "### Корректность и оценка"
   ]
  },
  {
   "cell_type": "markdown",
   "metadata": {},
   "source": [
    "Мы выяснили, что обработка ребра занимает константное время, так что пересечение двух выпуклых полигональных регионов занимает $O(N)$. Чтобы доказать корректность алгоритма мы должны доказать, что мы добавляем полуплоскости, определяющие ребра $C$ в правильном порядке. Возьмем грань $C$, и пусть $p$ будет его верхней точкой. Тогда $p$ также верхняя точка какой-либо грани в $C1$ или $C2$ или пересечение двух граней в $C1$ и $C2$. В первом случае мы добавляем грань в $C$ как только достигли p, а во втором, как только достигли самой низкой из верхних точек граней, которые пересеклись. Значит мы добавили все грани, которые принадлежат $C$. Теперь докажем, что мы это сделали в правильном порядке. Пусть какие-то две грани $e'$ и $e$ стоят относительно друг друга в неправильном порядке и $e'$ встречается раньше при спуске сверху вниз. Так как мы итерируемся по массиву и порядок граней не меняется, то ошибка произошла когда мы находили пересечение $C1$ и $C2$. Рассмотрим шаг, на котором $e'$ была добавлена. На этом шаге верхняя точка $e$ еще не встретилась, так как если бы она встречалась, то $e$ была бы добавлена, ведь она есть в конечном пересечении. Но тогда есть какая-то часть, принадлежащая пересечению, которая лежит выше покрытия $e$. И значит $e'$ стоит на своем месте. Получили противоречие. Значит наш алгоритм работает корректно."
   ]
  },
  {
   "cell_type": "markdown",
   "metadata": {},
   "source": [
    "Теперь оценим время работы. По своей сути, наш алгоритм совпадает с сортировкой слиянием, вот только слияние в нашем случае это пересечение полуплоскостей. Пересекаем полуплоскости мы за $O(N)$, так как каждую полуплоскость мы обрабатываем за $O(1)$, и их не больше чем $N$ за один шаг. Всего шагов у нас $O(logN)$ и итоговая асимптотика $O(N*logN)$."
   ]
  },
  {
   "cell_type": "markdown",
   "metadata": {},
   "source": [
    "## Связь с выпуклыми оболочками"
   ]
  },
  {
   "cell_type": "markdown",
   "metadata": {},
   "source": [
    "### Дуальное пространство"
   ]
  },
  {
   "cell_type": "markdown",
   "metadata": {},
   "source": [
    "Точка на прямой имеет два параметра, это ее координаты $x$ и $y$. Не вертикальная прямая на плоскости тоже имеет два параметра: наклон и пересечение с осью $Y$. Тогда каждой точке на плоскости мы можем поставить в соответствие прямую, и наоборот. Например три точки на одной прямой становятся тремя линиями проходящими через одну точку. Способ сопоставления прямой и точки мы будем называть дуальной трансформацией. Пусть точка  $p$ = $(p_x,p_y)$. Дуальную ей прямую будем обозначать как $p^\\star$, мы определим так: $p^\\star$ = $(y = p_x * x - p_y)$"
   ]
  },
  {
   "cell_type": "markdown",
   "metadata": {},
   "source": [
    "Дуальное преобразование прямой $l$: $y=m*x + b$ это точка $p$, такая, что $p^\\star=l$. Отсюда мы получаем, что $l^\\star=(m, -b)$. Дуальное преобразование не определено для вертикальных прямых. В большинстве случаев мы можем хранить вертикальные прямые отдельно, так что это не проблема. Или мы можем повернуть плоскость так, чтобы вертикальных линий не было. "
   ]
  },
  {
   "cell_type": "markdown",
   "metadata": {},
   "source": [
    "Пусть $l$ - прямая, а $p$ - точка, тогда:\n",
    "1. $p \\in l \\Leftrightarrow l^\\star \\in p^\\star$\n",
    "2. $p$ лежит над $l$, тогда и только тогда когда $l^\\star$ лежит над $p^\\star$\n"
   ]
  },
  {
   "cell_type": "markdown",
   "metadata": {
    "collapsed": false
   },
   "source": [
    "<img src=\"images/picture5.png\" alt=\"Picutre5\" width =\"60%\" heigth=\"60%\" style=\"float:center;\" />"
   ]
  },
  {
   "cell_type": "markdown",
   "metadata": {
    "collapsed": true
   },
   "source": [
    "Обратив внимание на картинку, можно увидеть, что точки $p_1$, $p_2$, $p_3$ лежат на прямой $l$, а их дуальные отображения — прямые $p_1^\\star$, $p_2^\\star$, и $p_3^\\star$ пересекаются в точке $l^\\star$. Точка $p_4^\\star$ лежит над прямой $l$ в исходной плоскости и прямая $p_4^\\star$ лежит под точкой $l^\\star$"
   ]
  },
  {
   "cell_type": "markdown",
   "metadata": {
    "collapsed": true
   },
   "source": [
    "### Пересечение полуплоскостей "
   ]
  },
  {
   "cell_type": "markdown",
   "metadata": {},
   "source": [
    "Рассмотрим планарный случай и предположим, что вертикальные и параллельные прямые отсутствуют.\n",
    "\n",
    "Пусть у нас есть множество ориентированных прямых, каждая из которых задает полуплоскость(направление вектора нормали задаёт нужную полуплоскость).\n",
    "Тогда каждую плоскость мы можем превратить в точку в двойственном пространстве:"
   ]
  },
  {
   "cell_type": "code",
   "execution_count": 41,
   "metadata": {
    "collapsed": false
   },
   "outputs": [],
   "source": [
    "import matplotlib as mpl\n",
    "import matplotlib.pyplot as plt\n",
    "import geomlib.py as geom\n",
    "\n",
    "fig = plt.figure()\n",
    "#ax = fig.add_axes([-3, 3, -3, 3])\n",
    "\n",
    "\n",
    "        \n",
    "def fromLineToDualPoint(line):\n",
    "    point = Point(line.m, - line.b)\n",
    "    return point  "
   ]
  },
  {
   "cell_type": "code",
   "execution_count": 42,
   "metadata": {
    "collapsed": false
   },
   "outputs": [
    {
     "data": {
      "image/png": "iVBORw0KGgoAAAANSUhEUgAAAgwAAAFkCAYAAABMyWOlAAAABHNCSVQICAgIfAhkiAAAAAlwSFlz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\nVBhERETELxUGERER8ev/B1/Yt89cqj1rAAAAAElFTkSuQmCC\n",
      "text/plain": [
       "<matplotlib.figure.Figure at 0x1eb15ee10f0>"
      ]
     },
     "metadata": {},
     "output_type": "display_data"
    }
   ],
   "source": [
    "# Преобразование из обычной плоскости в дуальную\n",
    "line = Line(2, 3)\n",
    "line2 = Line(3, 3);\n",
    "line.draw(); \n",
    "fromLineToDualPoint(line).draw()\n",
    "line2.draw(); \n",
    "fromLineToDualPoint(line2).draw()\n",
    "plt.show()"
   ]
  },
  {
   "cell_type": "markdown",
   "metadata": {},
   "source": [
    "Рассмотрим множество точек $P^\\star$ в двойственном пространстве и рассмотрим верхнюю часть выпуклой оболочки, построенной на этих точках. Обозначим её за $\\mathcal{UH}$(от сокращения Upper Hull). Будем рассматривать только те прямые в исходном пространстве, у которых вектор нормали направлен вниз, т.е они образовывают верхнюю цепочку.\n",
    "По свойству выпуклой оболочки, любое ребро из цепи $\\mathcal{UH}$ содержит ниже себя все точки множества $P^\\star$, а так же эта цепь соединяет самую правую точку с самой левой."
   ]
  },
  {
   "cell_type": "markdown",
   "metadata": {},
   "source": [
    "Рассмотрим какую-то точку $p^\\star \\in P^\\star$ и заметим, что она будет принадлежать цепи $\\mathcal{UH}$ $\\Leftrightarrow$ $\\exists$ прямая $l^\\star $ : $p^\\star \\in l^\\star$ и все точки из $P^\\star$ лежат ниже $l^\\star$. В обычном пространстве данный факт эквивалентен следующему:\n",
    " \n",
    "* Дуальное отображение точки $p^\\star$ в базовое пространство  прямая $p$, которая по первому свойству содержит точку $l$(в базовом пространстве прямая $p^\\star$ перешла в точку $p$).\n",
    "* Так как прямая $l^\\star$ лежит выше всех точек, то по второму свойству каждая прямая из $P$ лежит выше точки $l$ .\n",
    "\n",
    "Значит, у нас есть точка $l$ на прямой $p$, лежащая ниже всех остальных прямых из $P$.\n",
    "\n",
    "Посмотрим на планарный граф множества прямых. Из факта выше, мы можем понять, что $p$ внесла ребро в самый нижний фейс. Это именно тот фейс, который задаёт часть пересечения полуплоскостей. Обозначим цепочку данного фейса, как $\\mathcal{LE}$. Математически данную цепочку мы можем описать, как минимум из всех линейных функций, которые задаются прямыми, в $P$. Так же $X$ компонента узлов этой цепочки монотонно возрастает.\n",
    "\n",
    "Вернемся к $\\mathcal{UH}$ и заметим, что при обходе цепи, координата $X$ точек  растет. Если же мы будет обходить цепочку из $P$, образующую пересечение полуплоскостей, мы заметим, что наклон прямых уменьшается. Учитывая этот факт, и то что наклон линии из $\\mathcal{LE}$ совпадет с $X$  координатой точки (вспоминаем отображение и применяем производную), можно сделать вывод, что обход слева направо точек из цепи $\\mathcal{UH}$, совпадает с обходом точек из $\\mathcal{LE}$ справа налево. \n",
    "\n",
    "(Обе линии монотоны, одна возрастает, другая убывает. Количество точек в массиве одинаковое, при это каждая точка из $\\mathcal{UH}$ внесла вклад в $\\mathcal{LE}$)\n",
    "\n",
    "Напоследок, cоседние точки $p^\\star$ и $q^\\star$ из $P^\\star$ образуют какое-то ребро или принадлежат ему $\\mathcal{UH}$ $\\Leftrightarrow$ все точки из $P^\\star$ лежат ниже линии, построенной на точках $p^\\star$ и $q^\\star$. В исходном пространстве это означает, что все прямые из пространства $P$ за исключением прямых $p$ и $q$ лежат над пересечением $p$ и $q$. Это достаточное условие, для того, чтобы пересечение $p$ и $q$ принадлежало $\\mathcal{LE}$.\n",
    "\n",
    "Таким образом мы построили верхнее пересечение полуплоскостей. Аналогичным образом строится нижнее, затем мы пересекаем полученные две цепочки."
   ]
  },
  {
   "cell_type": "markdown",
   "metadata": {},
   "source": [
    "Вертикальные линии рассмотрим отдельно и пересечем с нашими цепочками, как и в первом алгоритме. "
   ]
  },
  
 ],
 "metadata": {
  "anaconda-cloud": {},
  "kernelspec": {
   "display_name": "Python [conda root]",
   "language": "python",
   "name": "conda-root-py"
  },
  "language_info": {
   "codemirror_mode": {
    "name": "ipython",
    "version": 3
   },
   "file_extension": ".py",
   "mimetype": "text/x-python",
   "name": "python",
   "nbconvert_exporter": "python",
   "pygments_lexer": "ipython3",
   "version": "3.5.2"
  }
 },
 "nbformat": 4,
 "nbformat_minor": 1
}
