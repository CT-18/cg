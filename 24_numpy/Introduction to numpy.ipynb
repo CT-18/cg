{
 "cells": [
  {
   "cell_type": "markdown",
   "metadata": {
    "deletable": true,
    "editable": true
   },
   "source": [
    "<center> <h2> Введение в NumPy </h2> </center>"
   ]
  },
  {
   "cell_type": "code",
   "execution_count": null,
   "metadata": {
    "collapsed": false,
    "deletable": true,
    "editable": true
   },
   "outputs": [],
   "source": [
    "import numpy as np # Как правило импортируют именно так\n",
    "import numpy.ma as ma\n",
    "import numpy.linalg as LA\n",
    "import matplotlib.pyplot as plt\n",
    "import os\n",
    "from numpy import pi\n",
    "\n",
    "from utils import printoptions\n",
    "from answers import*"
   ]
  },
  {
   "cell_type": "markdown",
   "metadata": {
    "deletable": true,
    "editable": true
   },
   "source": [
    "__NumPy__ - open-source модуль, который предоставляет эффективную работу с массивами и однородными данными (~MATLAB), очень прост и удобен в использовании. \n",
    "\n",
    "__NumPy array__ - многомерный массив объектов одинакового типа. В памяти представлен как блок памяти + метка говорящая о типе данных + кол-во размерностей + размерности векторов ``[n * m *...]``. \n",
    "\n",
    "Обычные массивы в питоне в принципе хороши т.к. имеют в себе удобный [list comprehension](https://docs.python.org/2/tutorial/datastructures.html#list-comprehensions) и могут хранить данные разных типов. Но они не поддерживают векторизацию, должны хранить информацию о типе для каждого элемента и для выполнения каких-либо операций нужен будет `dispatching`. Да __NumPy array__ этого не поддерживает, зато он эффективен и многое уже написано для удобного использования.\n",
    "\n",
    "Класс представляющий массивы в NumPy - __ndarray__. \n",
    "\n",
    "Создать массив, например, можно с помощью __np.array(...)__"
   ]
  },
  {
   "cell_type": "code",
   "execution_count": null,
   "metadata": {
    "collapsed": false,
    "deletable": true,
    "editable": true,
    "scrolled": true
   },
   "outputs": [],
   "source": [
    "# Двумерный массив [2 * 5], где каждый элемент занимает 4 байта\n",
    "x = np.array([[0, 1, 2, 3, 4],\n",
    "              [5, 6, 7, 8, 9]], dtype=np.int32)\n",
    "print(x) # np.ndarray умеет выводиться в человеческом виде\n",
    "print(\"Количество размерностей (numpy называет rank):\", x.ndim)\n",
    "print(\"Сами размерности(axes):\", x.shape)\n",
    "print(\"Тип данных:\", x.dtype)"
   ]
  },
  {
   "cell_type": "markdown",
   "metadata": {
    "deletable": true,
    "editable": true
   },
   "source": [
    "__Представление (view)__ - конкретный взгляд на ndarray, например мы можем иметь просто матрицу, а после сделать из нее `view` в виде транспонированной за $ O(1) $, или из массива 15 элементов, сделать `view` - матрицу 3 * 5 (еще примеры будут ниже)."
   ]
  },
  {
   "cell_type": "code",
   "execution_count": null,
   "metadata": {
    "collapsed": false,
    "deletable": true,
    "editable": true
   },
   "outputs": [],
   "source": [
    "a = np.arange(15)     # создают ndarray([0..15]) тип определяет сам (int64, float64)\n",
    "b = a.reshape((3, 5)) # создает новое представление (view) и возвращает его, \n",
    "                      # (если возможно, то данные не копируются)\n",
    "c = b.T               # создает новое представление транспонированной матрицы\n",
    "\n",
    "print(a)\n",
    "print(b)\n",
    "print(c)\n",
    "\n",
    "c.reshape(15) # здесь он будет вынужден копировать данные, \n",
    "              # т.к. `c` - это представление транспонированной матрицы, \n",
    "              # мы не сможем просто так ее превратить в одномерный массив"
   ]
  },
  {
   "cell_type": "markdown",
   "metadata": {
    "deletable": true,
    "editable": true
   },
   "source": [
    "Функции для создания массивов, тип по умолчанию - `float64`:"
   ]
  },
  {
   "cell_type": "code",
   "execution_count": null,
   "metadata": {
    "collapsed": false,
    "deletable": true,
    "editable": true
   },
   "outputs": [],
   "source": [
    "z = np.zeros((3, 4)) # Создает матрицу 3 * 4, заполненную нулями с типом float64\n",
    "o = np.ones((2, 3, 4), dtype=np.int16) # 2 * 3 * 4, int16\n",
    "e = np.empty((2, 3)) # создает матрицу 2 * 3, неинициализированную, \n",
    "                     # значения зависят от состояния памяти текущего\n",
    "print(\"zeros:\", os.linesep, z)\n",
    "print(\"ones:\" , os.linesep, o)\n",
    "print(\"empty:\", os.linesep, e)"
   ]
  },
  {
   "cell_type": "markdown",
   "metadata": {
    "deletable": true,
    "editable": true
   },
   "source": [
    "__np.diag(v, k=0)__ - извлекает диагональ, либо создает диагональную матрицу <br/>\n",
    "k > 0 - достает k-ую диагональ относительно главной вверх <br/>\n",
    "k < 0 - достает k-ую диагональ от главной вниз \n",
    "\n",
    "__np.eye(N, M=None, k=0)__ - создает матрицу __N * M__ из нулей и с единицами на диагонали __k__ (имеет тот же смысл, что и в __np.diag__)"
   ]
  },
  {
   "cell_type": "code",
   "execution_count": null,
   "metadata": {
    "collapsed": false,
    "deletable": true,
    "editable": true
   },
   "outputs": [],
   "source": [
    "x = np.arange(9).reshape((3,3))\n",
    "print(x)\n",
    "\n",
    "print(os.linesep, np.diag(x))\n",
    "\n",
    "print(os.linesep, np.diag(x, k=1))\n",
    "\n",
    "print(os.linesep, np.diag(x, k=-1))\n",
    "\n",
    "print(os.linesep, np.diag((10, 7, 9, 8)))\n",
    "\n",
    "print(os.linesep, np.eye(3))\n",
    "\n",
    "print(os.linesep, np.eye(4, 3, 1))"
   ]
  },
  {
   "cell_type": "markdown",
   "metadata": {
    "deletable": true,
    "editable": true
   },
   "source": [
    "__np.arange([start, ]stop, [step, ]dtype=None)__ - генерирует ndarray, аналог `range`"
   ]
  },
  {
   "cell_type": "code",
   "execution_count": null,
   "metadata": {
    "collapsed": false,
    "deletable": true,
    "editable": true
   },
   "outputs": [],
   "source": [
    "i = np.arange(10, 30, 5)\n",
    "f = np.arange(0, 2, 0.3) # создает массив 0..2, с шагом 0.3\n",
    "\n",
    "print(\"i = \", i)\n",
    "print(\"f = \", f)"
   ]
  },
  {
   "cell_type": "markdown",
   "metadata": {
    "deletable": true,
    "editable": true
   },
   "source": [
    "Если использовать шаг как вещественное число, \n",
    "то в общем случае нельзя определить точное кол-во элементов (из-за лимитированной точности даблов).\n",
    "Для этого есть __np.linspace(from, to, count)__:"
   ]
  },
  {
   "cell_type": "code",
   "execution_count": null,
   "metadata": {
    "collapsed": false,
    "deletable": true,
    "editable": true
   },
   "outputs": [],
   "source": [
    "print(np.linspace(0, 2, 9))\n",
    "x = np.linspace(0, 2 * pi, 5)\n",
    "print(\"x =\", x)\n",
    "\n",
    "\"\"\"\n",
    "    В numpy можно менять формат вывод на экран, printoptions - функция из utils.py\n",
    "    после выхода из блока with, все настройки формата вывода сбросятся\n",
    "    precision - задает точность вывода\n",
    "    supress - выводит в человеко читаемом виде, убирает exp, округляет маленькие значения\n",
    "\"\"\"\n",
    "with printoptions(precision=3, suppress=True): \n",
    "    print(\"sin =\", np.sin(x)) # Возьмет sin от каждого элемента массива"
   ]
  },
  {
   "cell_type": "markdown",
   "metadata": {
    "deletable": true,
    "editable": true
   },
   "source": [
    "Еще есть __np.logspace(from, to, count, endpoint, base)__ - возвращает числа в диапазоне `[base ** from, base ** to)` равномерно распределенные в логарифмической шкале.<br/>\n",
    "```python\n",
    "np.logspace(from, to, count, True, 10) == 10 ** np.linspace(from, to, count)\n",
    "np.log10(np.logspace(from, to, count, True, 10)) == np.linspace(from, to, count)\n",
    "```"
   ]
  },
  {
   "cell_type": "code",
   "execution_count": null,
   "metadata": {
    "collapsed": false,
    "deletable": true,
    "editable": true
   },
   "outputs": [],
   "source": [
    "xs = np.linspace(0.02, 2, 10)\n",
    "lnsp = xs\n",
    "lgsp = np.logspace(0.02, 2, 10)\n",
    "\n",
    "\n",
    "f, (ax1, ax2) = plt.subplots(1, 2)\n",
    "f.set_figheight(5)\n",
    "f.set_figwidth(10)\n",
    "\n",
    "# В линейной шкале\n",
    "ax1.set_title('lin scale')\n",
    "ax1.grid(True)\n",
    "ax1.set_yscale('linear')\n",
    "ax1.set_ylim(0, 30)\n",
    "\n",
    "ax1.plot(xs, lnsp, 'r')\n",
    "ax1.plot(xs, lgsp, 'b')\n",
    "\n",
    "# В логарифмической шкале\n",
    "ax2.set_title('log scale')\n",
    "ax2.grid(True)\n",
    "ax2.set_yscale('log')\n",
    "   \n",
    "ax2.plot(xs, lnsp, 'r')\n",
    "ax2.plot(xs, lgsp, 'b')\n",
    "\n",
    "plt.subplots_adjust(hspace=0.4)\n",
    "\n",
    "_ = plt.show()\n"
   ]
  },
  {
   "cell_type": "markdown",
   "metadata": {
    "deletable": true,
    "editable": true
   },
   "source": [
    "По умолчанию __NumPy__ умеет понимать, что элементов очень много(>1000) и выводит только начало и конец"
   ]
  },
  {
   "cell_type": "code",
   "execution_count": null,
   "metadata": {
    "collapsed": false,
    "deletable": true,
    "editable": true
   },
   "outputs": [],
   "source": [
    "print(np.arange(1001))\n",
    "\n",
    "# чтобы вывести все используйте опцию форматирование threshold = np.inf\n",
    "with printoptions(threshold=np.inf):\n",
    "    print(np.arange(1001))"
   ]
  },
  {
   "cell_type": "markdown",
   "metadata": {
    "deletable": true,
    "editable": true
   },
   "source": [
    "__np.apply_along_axis(func1d, axis, arr, *args, **kwargs)__ - похож на __fold__, применяет __func1d__, к срезке массива __arr__ по оси с номером __axis__ и может передать доп. аргументы __args, kwargs__ в функцию, если требуется. <br/>\n",
    "\n",
    "Если есть массив __A__, например, с размерностью __[N, M, K, L]__, мы хотим применить __np.sum__ по второй оси (__M__), тогда мы получим массив __B__ с размерностью __[N, K, L]__, у которого __B[i, j, k] = np.sum(A[i, :, j, k]__ <br/>"
   ]
  },
  {
   "cell_type": "code",
   "execution_count": null,
   "metadata": {
    "collapsed": false,
    "deletable": true,
    "editable": true
   },
   "outputs": [],
   "source": [
    "a = np.arange(10).reshape(2, 5)\n",
    "print(a, os.linesep)\n",
    "\n",
    "print(np.apply_along_axis(np.prod, 0, a)) # np.prod - перемножает элементы в массиве\n",
    "print()\n",
    "print(np.apply_along_axis(np.prod, 1, a))\n",
    "print()\n",
    "print(np.apply_over_axes(np.sum, a, [0, 1]))"
   ]
  },
  {
   "cell_type": "markdown",
   "metadata": {
    "deletable": true,
    "editable": true
   },
   "source": [
    "__np.apply_over_axes(func, a, axes)__ - применяет по очереди функцию __func__ к осям __a__ с номерами перечисленным в массиве __axes__, похож на пред. функцию, отличие только, что она сохраняет __shape__ массива и может применить сразу к нескольким."
   ]
  },
  {
   "cell_type": "code",
   "execution_count": null,
   "metadata": {
    "collapsed": false,
    "deletable": true,
    "editable": true
   },
   "outputs": [],
   "source": [
    "# Чуть сложнее пример\n",
    "a = np.arange(24).reshape(2,3,4)\n",
    "print(a, os.linesep)\n",
    "\n",
    "print(np.apply_over_axes(np.sum, a, [0]))\n",
    "print()\n",
    "print(np.apply_over_axes(np.sum, a, [0, 2]))"
   ]
  },
  {
   "cell_type": "markdown",
   "metadata": {
    "deletable": true,
    "editable": true
   },
   "source": [
    "<center> <h2> numpy.random module </h2> </center>"
   ]
  },
  {
   "cell_type": "markdown",
   "metadata": {
    "deletable": true,
    "editable": true
   },
   "source": [
    "Здесь будут приведены примеры использования данного модуля. Все пояснения в комментариях."
   ]
  },
  {
   "cell_type": "markdown",
   "metadata": {
    "deletable": true,
    "editable": true
   },
   "source": [
    "__np.random.rand(d1, d2, ...)__ - возвращает ndarray с shape = (d1, d2, ...), <br/>\n",
    "и заполняется случайными числами (float64) от [0, 1) по равномерному распределению"
   ]
  },
  {
   "cell_type": "code",
   "execution_count": null,
   "metadata": {
    "collapsed": false,
    "deletable": true,
    "editable": true
   },
   "outputs": [],
   "source": [
    "np.random.rand(3, 2)"
   ]
  },
  {
   "cell_type": "markdown",
   "metadata": {
    "deletable": true,
    "editable": true
   },
   "source": [
    "__np.random.randint(low, high=None, size=None)__ - возвращает целые случайные числа  по равномерному распределению <br/>\n",
    "в диапазоне [low, high) и с shape = size\n",
    "\n",
    "для вещественных чисел аналог __np.random.uniform(low, high=None, size=None)__"
   ]
  },
  {
   "cell_type": "code",
   "execution_count": null,
   "metadata": {
    "collapsed": false,
    "deletable": true,
    "editable": true
   },
   "outputs": [],
   "source": [
    "r_val = np.random.randint(10, 20) \n",
    "r_val2 = np.random.randint(20)                   # если high=None, то вернет случайное число из [0, low = 20)\n",
    "r_val_sh = np.random.randint(7, 20, size=(3, 4)) # ndarray с shape = size, и заполнит его соответственно\n",
    "\n",
    "print(r_val)\n",
    "print(r_val2)\n",
    "print(r_val_sh)"
   ]
  },
  {
   "cell_type": "markdown",
   "metadata": {
    "deletable": true,
    "editable": true
   },
   "source": [
    "__np.random.permutation(x)__ - возвращает новый массив с перемешанными элементами <br/>\n",
    "в многомерном случае, перемешивание происходит только по первой координате\n",
    "                           \n",
    "__np.random.shuffle(x)__ - тоже самое, только перемешивание происходит in-place (т.е. меняется сам массив)"
   ]
  },
  {
   "cell_type": "code",
   "execution_count": null,
   "metadata": {
    "collapsed": false,
    "deletable": true,
    "editable": true
   },
   "outputs": [],
   "source": [
    "x = np.arange(12)\n",
    "\n",
    "print(x)\n",
    "print(np.random.permutation(x), os.linesep) \n",
    "\n",
    "y = x.reshape((4, -1)).copy()\n",
    "print(y) \n",
    "np.random.shuffle(y)\n",
    "print(y) "
   ]
  },
  {
   "cell_type": "code",
   "execution_count": null,
   "metadata": {
    "collapsed": false,
    "deletable": true,
    "editable": true
   },
   "outputs": [],
   "source": [
    "# np.random.normal(loc=0.0, scale=1.0, size=None)\n",
    "\n",
    "mu, sigma = 0, 0.1                    # Мат. ожидание и дисперсия соответственно\n",
    "s = np.random.normal(mu, sigma, 1001) # заполнит s 1001 случайным числом с нормальным распределением, \n",
    "                                      # с параметрми mu, sigma\n",
    "\n",
    "print(abs(s.mean() - mu) < sigma ** 2)\n",
    "with printoptions(precision=3):\n",
    "    print(s)\n",
    "\n",
    "_, bins, _ = plt.hist(s, 30, normed=True)\n",
    "f_norm_dist = 1/(sigma * np.sqrt(2 * np.pi)) * np.exp( - (bins - mu)**2 / (2 * sigma**2) )\n",
    "plt.plot(bins, f_norm_dist, linewidth=2, color='r')\n",
    "plt.show()\n"
   ]
  },
  {
   "cell_type": "markdown",
   "metadata": {
    "deletable": true,
    "editable": true
   },
   "source": [
    "<center> <h2> Базовые операции </h2> </center>"
   ]
  },
  {
   "cell_type": "markdown",
   "metadata": {
    "deletable": true,
    "editable": true
   },
   "source": [
    "Арифметические операции выполняются поэлементно. \n",
    "Создается новый массив и заполняется соответствующими значениями"
   ]
  },
  {
   "cell_type": "code",
   "execution_count": null,
   "metadata": {
    "collapsed": false,
    "deletable": true,
    "editable": true
   },
   "outputs": [],
   "source": [
    "a = np.array([20, 30, 40, 50])\n",
    "b = np.arange(4)\n",
    "\n",
    "print(\"a: \", a)\n",
    "print(\"b: \", b, os.linesep)\n",
    "\n",
    "print(\"a - b     : \", a - b)\n",
    "print(\"a * b     : \", a * b)\n",
    "print(\"2 * b ** 2: \", 2 * b ** 2)\n",
    "print(\"a < 35    : \", a < 35)"
   ]
  },
  {
   "cell_type": "code",
   "execution_count": null,
   "metadata": {
    "collapsed": false,
    "deletable": true,
    "editable": true
   },
   "outputs": [],
   "source": [
    "A = np.array( [[1,1],\n",
    "               [0,1]] )\n",
    "\n",
    "B = np.array( [[2,0],\n",
    "               [3,4]] )\n",
    "\n",
    "print(A * B, os.linesep)    # поэлементное перемножение\n",
    "\n",
    "print(A.dot(B)) # привычное перемножение матриц, или = np.dot(A, B)\n"
   ]
  },
  {
   "cell_type": "markdown",
   "metadata": {
    "deletable": true,
    "editable": true
   },
   "source": [
    "При выполнении операция над массивами разных типов, происходит __upcast__ - т.е. тип либо сохраняется, либо берется наиболее общий"
   ]
  },
  {
   "cell_type": "markdown",
   "metadata": {
    "deletable": true,
    "editable": true
   },
   "source": [
    "Выполнение унарных операций над массивом, реализуются как методы класса __ndarray__ (max, min etc)"
   ]
  },
  {
   "cell_type": "code",
   "execution_count": null,
   "metadata": {
    "collapsed": false,
    "deletable": true,
    "editable": true,
    "scrolled": true
   },
   "outputs": [],
   "source": [
    "a = np.random.random((2, 3)) # возвращает ndarray заполненный случайными числами [0..1], c shape = (2, 3)\n",
    "print(a)\n",
    "print(a.sum())\n",
    "print(a.min())\n",
    "print(a.max())\n",
    "print(a.argmax()) # возвращает индекс максимального элемента"
   ]
  },
  {
   "cell_type": "markdown",
   "metadata": {
    "deletable": true,
    "editable": true
   },
   "source": [
    "__Задание 1:__ Найти угол в градусах, __кратный 10__, такой что, __ln(|sin(a) * cos(a)|)__ максимален (при помощи numpy естественно)"
   ]
  },
  {
   "cell_type": "code",
   "execution_count": null,
   "metadata": {
    "collapsed": false,
    "deletable": true,
    "editable": true
   },
   "outputs": [],
   "source": [
    "def task1():\n",
    "    \"\"\"\n",
    "    This function should return angle\n",
    "    \"\"\"\n",
    "    return 10\n",
    "\n",
    "check_task1(task1)"
   ]
  },
  {
   "cell_type": "markdown",
   "metadata": {
    "deletable": true,
    "editable": true
   },
   "source": [
    "<center> <h2>  Индексация </h2> </center>"
   ]
  },
  {
   "cell_type": "markdown",
   "metadata": {
    "deletable": true,
    "editable": true
   },
   "source": [
    "Одномерные массивы NumPy позволяют итерирование, взятие срезки и обращение по индексу, также как и обычные массивы (даже чуть больше)"
   ]
  },
  {
   "cell_type": "code",
   "execution_count": null,
   "metadata": {
    "collapsed": false,
    "deletable": true,
    "editable": true
   },
   "outputs": [],
   "source": [
    "a = np.arange(10) ** 3\n",
    "print(\"a =\", a)\n",
    "\n",
    "print(a[2])\n",
    "print(a[2:5])\n",
    "\n",
    "a[:6:2] = 7      # a[0:6:2]; всем элементам на позициях [0, 6) с шагом 2 присвоить 7\n",
    "print(a)\n",
    "\n",
    "print(a[ : :-1]) # перевернутый a\n",
    "\n",
    "for i in a:\n",
    "    print(i ** (1 / 3.))"
   ]
  },
  {
   "cell_type": "markdown",
   "metadata": {
    "deletable": true,
    "editable": true
   },
   "source": [
    "Обращаться к элементам многомерного массива можно перечисляя нужные индексы через запятую, примеры: "
   ]
  },
  {
   "cell_type": "code",
   "execution_count": null,
   "metadata": {
    "collapsed": false,
    "deletable": true,
    "editable": true
   },
   "outputs": [],
   "source": [
    "def f(x,y):\n",
    "    return 10*x+y\n",
    "\n",
    "b = np.fromfunction(f, (5, 4), dtype=int) # Создать ndarray размерностью 5 * 4 и генератор для элементов - f\n",
    "print(b)\n",
    "\n",
    "print(b[2, 3])    # = b[2][3]\n",
    "\n",
    "print(b[0:5, 1], os.linesep)  # = b[ :, 1], взять всю вторую колонку матрицы b\n",
    "\n",
    "print(b[1:3, : ], os.linesep) # взять строчки с [1, 3) = 1, 2\n",
    "\n",
    "print(b[-1])      # взять последнюю строку, когда индексов меньше, то они заменяются значения по умолчанию - `:`"
   ]
  },
  {
   "cell_type": "markdown",
   "metadata": {
    "deletable": true,
    "editable": true
   },
   "source": [
    "Можно писать __троеточие (...)__ - вставляет нужное кол-во (:), когда их не хватает <br/>\n",
    "Примеры: пусть `x` имеет ранг(размерности) 5, тогда: <br/>\n",
    "\n",
    "```text\n",
    "x[1,2,...]   = x[1,2,:,:,:],\n",
    "x[...,3]     = x[:,:,:,:,3], \n",
    "x[4,...,5,:] = x[4,:,:,5,:].\n",
    "```"
   ]
  },
  {
   "cell_type": "code",
   "execution_count": null,
   "metadata": {
    "collapsed": false,
    "deletable": true,
    "editable": true
   },
   "outputs": [],
   "source": [
    "a = np.floor(10 * np.random.random((3, 4)))\n",
    "b = a.ravel()        # вернет одномерный массив из 12 (3 * 4) элементов\n",
    "c = a.reshape(3, -1) # -1 в reshape - значит этот параметр будет вычислен автоматически\n",
    "\n",
    "print(a)\n",
    "print(b)\n",
    "print(c)"
   ]
  },
  {
   "cell_type": "markdown",
   "metadata": {
    "deletable": true,
    "editable": true
   },
   "source": [
    "Два __ndarray__ могут быть сконкатенированны, горизонтально или вертикально. "
   ]
  },
  {
   "cell_type": "code",
   "execution_count": null,
   "metadata": {
    "collapsed": false,
    "deletable": true,
    "editable": true
   },
   "outputs": [],
   "source": [
    "a = np.floor(10 * np.random.random((2, 2)))\n",
    "print(a, os.linesep) \n",
    " \n",
    "b = np.floor(10 * np.random.random((2, 2)))\n",
    "print(b)\n",
    "\n",
    "abv = np.vstack((a,b)) # сконкатенировать по вертикали\n",
    "abh = np.hstack((a,b)) # по горизонтали\n",
    "print()\n",
    "print(\"ver:\", os.linesep, abv)\n",
    "\n",
    "print()\n",
    "print(\"hor:\", os.linesep, abh)"
   ]
  },
  {
   "cell_type": "markdown",
   "metadata": {
    "deletable": true,
    "editable": true
   },
   "source": [
    "Либо разбиты по горизонтали или вертикали."
   ]
  },
  {
   "cell_type": "code",
   "execution_count": null,
   "metadata": {
    "collapsed": false,
    "deletable": true,
    "editable": true
   },
   "outputs": [],
   "source": [
    "vab = np.vsplit(abv, 2)\n",
    "print()\n",
    "print(\"split ver:\", os.linesep, vab[0], os.linesep, vab[1])\n",
    "\n",
    "hab = np.hsplit(abh, 2)\n",
    "print()\n",
    "print(\"split hor:\", os.linesep, hab[0], os.linesep, hab[1])"
   ]
  },
  {
   "cell_type": "markdown",
   "metadata": {
    "deletable": true,
    "editable": true
   },
   "source": [
    "Делая срез массива, транспонирование и другие функции создающие `view` не делают копии данных. <br/>\n",
    "Чтобы сделать копию используй метод __ndarray.copy()__ "
   ]
  },
  {
   "cell_type": "markdown",
   "metadata": {
    "deletable": true,
    "editable": true
   },
   "source": [
    "__Несколько примеров продвинутой индексации:__"
   ]
  },
  {
   "cell_type": "code",
   "execution_count": null,
   "metadata": {
    "collapsed": false,
    "deletable": true,
    "editable": true
   },
   "outputs": [],
   "source": [
    "a = np.arange(12) ** 2\n",
    "print(a, os.linesep)\n",
    "\n",
    "i = np.array([1,1,3,8,5]) # массив индексов\n",
    "print(a[i], os.linesep)               # создаст новый ndarray, взяв элементы из `a` с индексами перечисленными в `i`\n",
    "\n",
    "j = np.array([ [3, 4], [9, 7] ]) # двумерный индексы\n",
    "print(a[j])                      # создаст ndarray, у которого `shape` == j.shape, \n",
    "                                 # и заполнит его элементами на соответствующих позициях"
   ]
  },
  {
   "cell_type": "code",
   "execution_count": null,
   "metadata": {
    "collapsed": false,
    "deletable": true,
    "editable": true
   },
   "outputs": [],
   "source": [
    "# Пример двумерных индексов\n",
    "\n",
    "a = np.arange(12).reshape(3,4)\n",
    "\n",
    "i = np.array([[0, 1],  # Индексы по первой координате\n",
    "              [1, 2]])\n",
    " \n",
    "j = np.array([[2, 1],  # Индексы по второй координате\n",
    "              [3, 3]])\n",
    "\n",
    "print(a)\n",
    "\n",
    "print(os.linesep, \"a[i, j]\")\n",
    "print(a[i, j])         # i и j должны иметь одинаковый `shape`, создает матрицу беря элементы с индексами [i, j]\n",
    "\n",
    "print(os.linesep, \"a[i, 2]\") # возьмет второй столбец `a`, и создаст из нее массив shape = i.shape, \n",
    "                             # и элементы соответствуют индексам в данном столбце\n",
    "print(a[i, 2])\n",
    "\n",
    "print(os.linesep, \"a[:, j]\") # выполнит для каждой строки создание матрицы, \n",
    "print(a[:, j])               # заполнит элементами с индексами `j` в соответствующей строке\n"
   ]
  },
  {
   "cell_type": "code",
   "execution_count": null,
   "metadata": {
    "collapsed": false,
    "deletable": true,
    "editable": true
   },
   "outputs": [],
   "source": [
    "a = np.arange(5)\n",
    "\n",
    "# Можно присваивать новые значения соответствующему индексу =) \n",
    "a[[1,3,4]] = 536\n",
    "a"
   ]
  },
  {
   "cell_type": "code",
   "execution_count": null,
   "metadata": {
    "collapsed": false,
    "deletable": true,
    "editable": true
   },
   "outputs": [],
   "source": [
    "a = np.arange(5)\n",
    "\n",
    "# Если индекс повторяется, то присваивается последнее значение\n",
    "a[[0,0,2]] = [1,2,3]\n",
    "a"
   ]
  },
  {
   "cell_type": "code",
   "execution_count": null,
   "metadata": {
    "collapsed": false,
    "deletable": true,
    "editable": true
   },
   "outputs": [],
   "source": [
    "a = np.arange(5)\n",
    "\n",
    "# Пример может сделать не то что ты ожидаешь, из-за ограничений питона, что a += 1 <=> a = a + 1\n",
    "a[[0,0,2]] += 1\n",
    "a"
   ]
  },
  {
   "cell_type": "markdown",
   "metadata": {
    "deletable": true,
    "editable": true
   },
   "source": [
    "Еще очень полезная фича - __Булевская индексация__. Применима для фильтрации значений, подходящих под определенное условие"
   ]
  },
  {
   "cell_type": "code",
   "execution_count": null,
   "metadata": {
    "collapsed": false,
    "deletable": true,
    "editable": true
   },
   "outputs": [],
   "source": [
    "a = np.arange(10)\n",
    "cond = a % 3 == 0 # создает массив shape = a.shape, dtype = bool, в правильных позициях будет стоять True\n",
    "\n",
    "good_a = a[cond]\n",
    "bad_a  = a[~cond]\n",
    "\n",
    "print(a, os.linesep)\n",
    "print(good_a)  # = a[a % 3 == 0]\n",
    "print(bad_a)"
   ]
  },
  {
   "cell_type": "markdown",
   "metadata": {
    "deletable": true,
    "editable": true
   },
   "source": [
    "__np.where(condition [, x, y])__ - в зависимости от __condition__ возвращает либо `x`, либо `y`. Все три параметра: `condition`, `x`, `y` - должны иметь одинаковые размерности (__shape__). Но в некоторых ситуациях одинаковый __shape__ не обязателен, если не хватает размерности в одном из массивов, то значения, по возможности, будут продублированы (так называемый __Broadcasting__) (см. примеры)."
   ]
  },
  {
   "cell_type": "code",
   "execution_count": null,
   "metadata": {
    "collapsed": false,
    "deletable": true,
    "editable": true
   },
   "outputs": [],
   "source": [
    "a =  [[1, 2], \n",
    "      [3, 4]]\n",
    "\n",
    "b = [[9, 8], \n",
    "     [7, 6]]\n",
    "\n",
    "print(np.where([[True, False], \n",
    "                [True, True]], a, b))\n",
    "\n",
    "print()\n",
    "\n",
    "print(np.where([[True, False], \n",
    "                [True, True]], a, [[1, 7]]))\n",
    "\n",
    "print()\n",
    "\n",
    "print(np.where([[True, False], \n",
    "                [True, True]], a, [[2]]))"
   ]
  },
  {
   "cell_type": "markdown",
   "metadata": {},
   "source": [
    "Если передать только __condition__, то вернется __np.nonzero(condition)__ - индексы элементов не равных 0 (False)"
   ]
  },
  {
   "cell_type": "code",
   "execution_count": null,
   "metadata": {
    "collapsed": false,
    "deletable": true,
    "editable": true
   },
   "outputs": [],
   "source": [
    "condition = [True, True, False, False, True]\n",
    "\n",
    "print(np.where(condition), os.linesep)\n",
    "\n",
    "print(np.nonzero(condition))"
   ]
  },
  {
   "cell_type": "code",
   "execution_count": null,
   "metadata": {
    "collapsed": false,
    "deletable": true,
    "editable": true
   },
   "outputs": [],
   "source": [
    "x = np.arange(9.).reshape(3, 3)\n",
    "\n",
    "print(np.where( x > 4 ), os.linesep)      # первый массив - индексы по первой координате\n",
    "                                          # второй - индексы по второй координате, соответствующие первой\n",
    "\n",
    "print(x[np.where( x > 3.0 )], os.linesep) # Результат - одномерный вектор\n",
    "\n",
    "print(np.where(x < 5, x, -1))             # -1 превращается в массив с правильным shape"
   ]
  },
  {
   "cell_type": "markdown",
   "metadata": {
    "deletable": true,
    "editable": true
   },
   "source": [
    "__Задание 2:__ Thresholding изображения, вам передают изображение (двумерный массив оттенков серого [0, 256)), и __threshold (t)__, вы должны вернуть изображение, в котором, все значения меньшие данного __t__ обнулить, а значения большие __t__ заменить на 255"
   ]
  },
  {
   "cell_type": "code",
   "execution_count": null,
   "metadata": {
    "collapsed": false,
    "deletable": true,
    "editable": true
   },
   "outputs": [],
   "source": [
    "def task2(img, t):\n",
    "    \"\"\"\n",
    "        Returns new thresholding image \n",
    "    \"\"\"\n",
    "    return img\n",
    "\n",
    "check_task2(task2)"
   ]
  },
  {
   "cell_type": "markdown",
   "metadata": {
    "deletable": true,
    "editable": true
   },
   "source": [
    "<center> <h2> numpy.ma module </h2> </center>"
   ]
  },
  {
   "cell_type": "markdown",
   "metadata": {
    "deletable": true,
    "editable": true
   },
   "source": [
    "__ma__ - masked array. В некоторых ситуациях имеющийся датасет может быть испорчен по совершенно разным причинам. У нас есть написанный код, который производит различные вычисления, на испорченных данных могут произойти проблемы. Собственно для этого этот модуль и нужен. Мы можем пометить некоторые данные как невалидные и передать их в функцию, не боясь, что их кто-то сможет увидеть или произвести вычисление."
   ]
  },
  {
   "cell_type": "markdown",
   "metadata": {
    "deletable": true,
    "editable": true
   },
   "source": [
    "__True__ - значит данные испорчены. __False__ - данные хорошие. __ma.nomask__ - массив из всех `False`, т.е. все данные хорошие. "
   ]
  },
  {
   "cell_type": "code",
   "execution_count": null,
   "metadata": {
    "collapsed": false,
    "deletable": true,
    "editable": true
   },
   "outputs": [],
   "source": [
    "x = np.array([1, 2, 3, -1, 5])\n",
    "# Валидные все, кроме (-1)\n",
    "mx = ma.masked_array(x, mask=[0, 0, 0, 1, 0])\n",
    "mx.mean() # посчитает среднее значение, без учета (-1)"
   ]
  },
  {
   "cell_type": "markdown",
   "metadata": {
    "deletable": true,
    "editable": true
   },
   "source": [
    "`ma.masked_array` синоним для __MaskedArray__ - подкласс `ndarray`. __Примеры создания:__"
   ]
  },
  {
   "cell_type": "code",
   "execution_count": null,
   "metadata": {
    "collapsed": false,
    "deletable": true,
    "editable": true
   },
   "outputs": [],
   "source": [
    "y = ma.array([1, 2, 3], mask = [0, 1, 0])\n",
    "z = ma.masked_equal([1, 2, 3], 2)\n",
    "w = ma.masked_less(np.arange(1, 20), 10)\n",
    "\n",
    "print(\"1 and 3 valid  :\", y)\n",
    "print(\"2 is invalid   :\", z)\n",
    "print(\"<10 are invalid:\", w)"
   ]
  },
  {
   "cell_type": "markdown",
   "metadata": {
    "deletable": true,
    "editable": true
   },
   "source": [
    "__MaskedArray.fill_value__ - значение которым заполняется невалидные данные, при вызове метода __MaskedArray.filled()__, по умолчанию __fill_value__ = 999999"
   ]
  },
  {
   "cell_type": "code",
   "execution_count": null,
   "metadata": {
    "collapsed": false,
    "deletable": true,
    "editable": true
   },
   "outputs": [],
   "source": [
    "a = np.arange(1, 10)\n",
    "y = ma.masked_where(a ** 2 < 30, a) # Помечает невалидными те, которые подходят под условие\n",
    "print(y)\n",
    "\n",
    "y.fill_value = -1\n",
    "print(y.filled())                   # возвращает ndarray"
   ]
  },
  {
   "cell_type": "code",
   "execution_count": null,
   "metadata": {
    "collapsed": false,
    "deletable": true,
    "editable": true
   },
   "outputs": [],
   "source": [
    "x = np.array([[1, 2],\n",
    "              [3, 4]])\n",
    "mask = [[0, 0],\n",
    "        [1, 0]]\n",
    "\n",
    "mx = ma.array(x, mask=mask)\n",
    "print(mx[~mx.mask])            # Так можно забрать все валидные данные\n",
    "\n",
    "print(mx.compressed())         # compressed - возвращает все валидные данные, всегда в одномерном массиве\n"
   ]
  },
  {
   "cell_type": "markdown",
   "metadata": {
    "deletable": true,
    "editable": true
   },
   "source": [
    "Чтобы обновлять маску советуют присваивать по индексу значение __ma.masked__. <br/>\n",
    "Чтобы сделать все элементы помеченными (невалидными) используй __MaskedArray.mask = True__. <br/>\n",
    "Чтобы сделать все элементы непомеченными (валидными) используй __MaskedArray.mask = ma.nomask__. <br/>\n"
   ]
  },
  {
   "cell_type": "code",
   "execution_count": null,
   "metadata": {
    "collapsed": false,
    "deletable": true,
    "editable": true
   },
   "outputs": [],
   "source": [
    "y = ma.array([[1, 2, 3], [4, 5, 6], [7, 8, 9]])\n",
    "\"\"\"\n",
    "y[(0, 1, 2), (1, 0, 2)] == y[[0, 1, 2], [1, 0, 2]]: \n",
    "    [0, 1, 2] - индексы по первой координате\n",
    "    [1, 0, 2] - индексы по второй координате\n",
    "    т.е. [y[0][1], y[1][0], y[2][2]]\n",
    "\"\"\"\n",
    "y[(0, 1, 2), (1, 0, 2)] = ma.masked\n",
    "print(y)\n",
    "\n",
    "y[0] = ma.masked\n",
    "print(os.linesep, y)\n",
    "\n",
    "y.mask = True\n",
    "print(os.linesep, y)\n"
   ]
  },
  {
   "cell_type": "markdown",
   "metadata": {
    "deletable": true,
    "editable": true
   },
   "source": [
    "Чтобы убрать маску с конкретного значения, нужно просто присвоить ему новое значение. <br/>\n",
    "Если стоит __hard mask__ то она не снимется, нужно сначала будет вызвать __soften_mask__, после поменять значения и вызвать __harden_mask__"
   ]
  },
  {
   "cell_type": "code",
   "execution_count": null,
   "metadata": {
    "collapsed": false,
    "deletable": true,
    "editable": true
   },
   "outputs": [],
   "source": [
    "x = ma.array([1, 2, 3], mask=[0, 0, 1])\n",
    "print(x)\n",
    "\n",
    "x[-1] = 5\n",
    "print(x)"
   ]
  },
  {
   "cell_type": "code",
   "execution_count": null,
   "metadata": {
    "collapsed": false,
    "deletable": true,
    "editable": true
   },
   "outputs": [],
   "source": [
    "x = ma.array([1, 2, 3], mask=[0, 0, 1], hard_mask=True)\n",
    "print(x)\n",
    "\n",
    "x[-1] = 5\n",
    "print(x)\n",
    "\n",
    "x.soften_mask()\n",
    "x[-1] = 5\n",
    "print(x)\n",
    "\n",
    "x.harden_mask()"
   ]
  },
  {
   "cell_type": "code",
   "execution_count": null,
   "metadata": {
    "collapsed": false,
    "deletable": true,
    "editable": true
   },
   "outputs": [],
   "source": [
    "x = ma.array([1, 2, 3], mask=[0, 0, 1])\n",
    "\n",
    "print(x[0])\n",
    "print(x[-1])\n",
    "print(x[-1] is ma.masked)"
   ]
  },
  {
   "cell_type": "markdown",
   "metadata": {
    "deletable": true,
    "editable": true
   },
   "source": [
    "В текущих версиях __numpy.ma__ когда делаешь slicing массива, данные не копируются создается __view__, а маска копируется, чтобы при изменении, не менять ее в родителе. (Однако это поведение __поменяется в будущем__ [MaskedArrayFutureWarning](https://docs.scipy.org/doc/numpy/release.html))"
   ]
  },
  {
   "cell_type": "code",
   "execution_count": null,
   "metadata": {
    "collapsed": false,
    "deletable": true,
    "editable": true
   },
   "outputs": [],
   "source": [
    "x = ma.array([1, 2, 3, 4, 5], mask=[0, 1, 0, 0, 1])\n",
    "mx = x[:3]\n",
    "print(\"x: \", x)\n",
    "print(\"mx:\", mx, os.linesep)\n",
    "\n",
    "mx[1] = -1\n",
    "\n",
    "print(\"mx:  \", mx)\n",
    "print(\"mask:\", mx.mask, os.linesep)\n",
    "\n",
    "print(\"x:     \", x)\n",
    "print(\"x.mask:\", x.mask)\n",
    "print(\"x.data:\", x.data)\n"
   ]
  },
  {
   "cell_type": "markdown",
   "metadata": {
    "deletable": true,
    "editable": true
   },
   "source": [
    "__Не стоит полагаться__ при выполнении различных операций на то, что маскированные элементы не изменятся, они могут измениться - все таки это невалидные данные. <br/>\n",
    "`numpy.ma` предоставляет некоторые удобные обертки над унарными, бинарными операциями, такими как - __divide__, __log__  <br/>\n",
    "Также __np.log__ etc тоже будет маскировать невалидные данные, если ему передать экземпляр __MaskedArray__\n"
   ]
  },
  {
   "cell_type": "code",
   "execution_count": null,
   "metadata": {
    "collapsed": false,
    "deletable": true,
    "editable": true
   },
   "outputs": [],
   "source": [
    "x = ma.log([-1, 0, 1, 2])\n",
    "print(x)\n",
    "print(x.mask)\n",
    "\n",
    "x = ma.array([-1, 1, 0, 2, 3], mask=[0, 0, 0, 0, 1])\n",
    "xl = np.log(x)\n",
    "print(xl)\n",
    "print(xl.mask)"
   ]
  },
  {
   "cell_type": "markdown",
   "metadata": {
    "deletable": true,
    "editable": true
   },
   "source": [
    "__Задание 3:__ Коррекция изображения. Вам передают изображение (двумерный массив оттенков серого [0, 256)). К сожалению при передачи по сети некоторые значения могли испортиться. Верните изображение, в котором все значение лежащие вне допустимого диапазона заменены на среднее значение по всем __валидным значениям__ (округленное вниз). "
   ]
  },
  {
   "cell_type": "code",
   "execution_count": null,
   "metadata": {
    "collapsed": false,
    "deletable": true,
    "editable": true
   },
   "outputs": [],
   "source": [
    "# полезная функция ma.masked_outside\n",
    "def task3(img):\n",
    "    \"\"\"\n",
    "        Должна вернуть измененное изображение\n",
    "    \"\"\"\n",
    "    return img\n",
    "\n",
    "check_task3(task3)"
   ]
  },
  {
   "cell_type": "markdown",
   "metadata": {
    "deletable": true,
    "editable": true
   },
   "source": [
    "<center> <h2> numpy.linalg - модуль линейной алгебры </h2> </center>"
   ]
  },
  {
   "cell_type": "markdown",
   "metadata": {
    "deletable": true,
    "editable": true
   },
   "source": [
    "Очень многое из линейной алгебры реализовано в этом модуле."
   ]
  },
  {
   "cell_type": "markdown",
   "metadata": {
    "deletable": true,
    "editable": true
   },
   "source": [
    "Многие функции (но не все) работающие с матрицами, если им передать большие размерности, то будут работать как  со стеком матриц. Например: __LA.inv__ - считает обратную матрицу, <br/>\n",
    "если ей передать массив с размерностью __[K, M, M]__, то она вернет массив обратных матриц __[K, M, M]__"
   ]
  },
  {
   "cell_type": "markdown",
   "metadata": {
    "deletable": true,
    "editable": true
   },
   "source": [
    "__np.dot(a, b, out=None)__ - вернет __a * b__. Если размерности неправильные, то кинет __ValueError__. <br/>\n",
    "__out__ - массив, передается в целях оптимизации, должен иметь правильный размер и тип, иначе __ValueError__. Он будет заполнен результатом, и возвращен из функции\n",
    "\n",
    "Если __a и b__ - вектора, то будет посчитано скалярное произведение"
   ]
  },
  {
   "cell_type": "code",
   "execution_count": null,
   "metadata": {
    "collapsed": false,
    "deletable": true,
    "editable": true
   },
   "outputs": [],
   "source": [
    "a = [[1, 0], [0, 1]]\n",
    "b = [[4, 1], [2, 2]]\n",
    "\n",
    "np.dot(a, b)"
   ]
  },
  {
   "cell_type": "code",
   "execution_count": null,
   "metadata": {
    "collapsed": false,
    "deletable": true,
    "editable": true
   },
   "outputs": [],
   "source": [
    "a = [2, 3]\n",
    "b = [1, 4]\n",
    "\n",
    "np.dot(a, b)"
   ]
  },
  {
   "cell_type": "markdown",
   "metadata": {
    "deletable": true,
    "editable": true
   },
   "source": [
    "__np.outer(a, b, out=None)__ - Вычисляет внешнее произведение \n",
    "\n",
    "```text\n",
    "Для двух векторов, a = [a0, a1, ..., aM] \n",
    "                   b = [b0, b1, ..., bN], \n",
    "                   \n",
    "Внешнее произведение это:\n",
    "\n",
    "[[a0*b0  a0*b1 ... a0*bN ]\n",
    " [a1*b0    .\n",
    " [ ...          .\n",
    " [aM*b0            aM*bN ]]\n",
    " \n",
    "```"
   ]
  },
  {
   "cell_type": "code",
   "execution_count": null,
   "metadata": {
    "collapsed": false,
    "deletable": true,
    "editable": true
   },
   "outputs": [],
   "source": [
    "np.outer(np.ones((5,)), np.linspace(-2, 2, 5))"
   ]
  },
  {
   "cell_type": "code",
   "execution_count": null,
   "metadata": {
    "collapsed": false,
    "deletable": true,
    "editable": true
   },
   "outputs": [],
   "source": [
    "x = np.array(['a', 'b', 'c'], dtype=object)\n",
    "np.outer(x, [1, 2, 3])"
   ]
  },
  {
   "cell_type": "markdown",
   "metadata": {
    "deletable": true,
    "editable": true
   },
   "source": [
    "__LA.eig(a)__ - вычисляет собственные вектора и собственные значения. <br>\n",
    "```text\n",
    "возвращает (w, v): \n",
    "    w - массив собственных значений\n",
    "    v - массив где столбцы - собственные вектора т.е. v[:, i] <=> w[i]; |v[:, i]| = 1\n",
    "```"
   ]
  },
  {
   "cell_type": "code",
   "execution_count": null,
   "metadata": {
    "collapsed": false,
    "deletable": true,
    "editable": true
   },
   "outputs": [],
   "source": [
    "w, v = LA.eig(np.diag((1, 2, 3)))\n",
    "print(w) \n",
    "print(v, os.linesep)\n",
    "\n",
    "w, v = LA.eig([[1, 0, 0],\n",
    "               [1, 0, 0],\n",
    "               [0, 0, 0]])\n",
    "\n",
    "print(w)\n",
    "print(np.sqrt(2) * v, os.linesep)"
   ]
  },
  {
   "cell_type": "markdown",
   "metadata": {
    "deletable": true,
    "editable": true
   },
   "source": [
    "__LA.inv(a)__ - возвращает a ^ (-1). т.е. __dot(a, ainv) = dot(ainv, a) = eye(a.shape[0])__"
   ]
  },
  {
   "cell_type": "code",
   "execution_count": null,
   "metadata": {
    "collapsed": false,
    "deletable": true,
    "editable": true
   },
   "outputs": [],
   "source": [
    "a = np.array([[[1., 2.], \n",
    "               [3., 4.]], \n",
    "              [[1, 3], \n",
    "               [3, 5]]\n",
    "             ])\n",
    "\n",
    "ainv = LA.inv(a)\n",
    "\n",
    "print(a, os.linesep)\n",
    "\n",
    "print(ainv, os.linesep)\n",
    "\n",
    "print(\"Проверка произведением A * A^(-1)\")\n",
    "with printoptions(precision=3, suppress=True):\n",
    "    print(np.matmul(a, ainv)) # np.matmul - умеет работать со стеком матриц, в отлчии от np.dot"
   ]
  },
  {
   "cell_type": "markdown",
   "metadata": {
    "deletable": true,
    "editable": true
   },
   "source": [
    "__LA.solve(a, b)__ - решает системы алгебраических уравнений, __a__ - коэффициенты, __b__ - правые части уравнений, умеет работать со стеком уравнений <br/>"
   ]
  },
  {
   "cell_type": "code",
   "execution_count": null,
   "metadata": {
    "collapsed": false,
    "deletable": true,
    "editable": true
   },
   "outputs": [],
   "source": [
    "# 3 * x0 + 1 * x1 = 9 \n",
    "# 1 * x0 + 2 * x1 = 8:\n",
    "a = np.array([[3, 1], \n",
    "              [1, 2]])\n",
    "b = np.array([9, 8])\n",
    "x = np.linalg.solve(a, b)\n",
    "x"
   ]
  },
  {
   "cell_type": "markdown",
   "metadata": {
    "deletable": true,
    "editable": true
   },
   "source": [
    "__LA.det(a)__ - считает определитель матрицы, умеет работать со стеком матриц"
   ]
  },
  {
   "cell_type": "code",
   "execution_count": null,
   "metadata": {
    "collapsed": false,
    "deletable": true,
    "editable": true
   },
   "outputs": [],
   "source": [
    "a = np.array([[[1, 2], \n",
    "               [3, 4]], \n",
    "              \n",
    "              [[1, 2], \n",
    "               [2, 1]], \n",
    "              \n",
    "              [[1, 3], \n",
    "               [3, 1]]])\n",
    "\n",
    "LA.det(a)"
   ]
  },
  {
   "cell_type": "markdown",
   "metadata": {
    "deletable": true,
    "editable": true
   },
   "source": [
    "__LA.norm(x, ord=None, axis=None, keepdims=False)__ - считает норму вектора или матрицы. По умолчанию считает Евклидову норму, можно ее менять параметром __ord__. "
   ]
  },
  {
   "cell_type": "code",
   "execution_count": null,
   "metadata": {
    "collapsed": false,
    "deletable": true,
    "editable": true
   },
   "outputs": [],
   "source": [
    "a = np.array([3, 4])\n",
    "LA.norm(a)"
   ]
  }
 ],
 "metadata": {
  "kernelspec": {
   "display_name": "Python 3",
   "language": "python",
   "name": "python3"
  },
  "language_info": {
   "codemirror_mode": {
    "name": "ipython",
    "version": 3
   },
   "file_extension": ".py",
   "mimetype": "text/x-python",
   "name": "python",
   "nbconvert_exporter": "python",
   "pygments_lexer": "ipython3",
   "version": "3.5.2"
  }
 },
 "nbformat": 4,
 "nbformat_minor": 2
}
