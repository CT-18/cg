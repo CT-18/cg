{
 "cells": [
  {
   "cell_type": "markdown",
   "metadata": {
    "slideshow": {
     "slide_type": "slide"
    }
   },
   "source": [
    "## Пересечение прямоугольника с множеством прямоугольников"
   ]
  },
  {
   "cell_type": "markdown",
   "metadata": {
    "slideshow": {
     "slide_type": "fragment"
    }
   },
   "source": [
    "#### Постановка задачи\n",
    "\n",
    "Пусть дано множество прямоугольников $P$, стороны которых параллельны осям координат. Нужно эффективно отвечать на запросы следующего вида: для прямоугольника $q$ (его стороны также параллельны осям координат) определить, с какими прямоугольниками из $P$ он пересекается. "
   ]
  },
  {
   "cell_type": "markdown",
   "metadata": {
    "slideshow": {
     "slide_type": "fragment"
    }
   },
   "source": [
    "#### Идея решения\n",
    "\n",
    "Разобьём все возможные случаи пересечения $q$ с некоторым прямоугольником $p \\in P$ на три (необязательно непересекающихся) множества."
   ]
  },
  {
   "cell_type": "markdown",
   "metadata": {
    "slideshow": {
     "slide_type": "slide"
    }
   },
   "source": [
    "* Хотя бы одна вершина $p$ лежит внутри прямоугольника запроса $q$.\n",
    "\n",
    "<img src=\"images\\p_in_q.png\" style=\"width: 500px; float: midle\" />"
   ]
  },
  {
   "cell_type": "markdown",
   "metadata": {
    "slideshow": {
     "slide_type": "fragment"
    }
   },
   "source": [
    "Сводится к решению задачи о **нахождении всех точек, которые попадают в заданный прямоугольник**."
   ]
  },
  {
   "cell_type": "markdown",
   "metadata": {
    "slideshow": {
     "slide_type": "slide"
    }
   },
   "source": [
    "* Хотя бы одна вершина прямоугольника запроса $q$ лежит внутри прямоугольника $p$.\n",
    "\n",
    "<img src=\"images\\q_in_p.png\" style=\"width: 500px; float: midle\" />"
   ]
  },
  {
   "cell_type": "markdown",
   "metadata": {
    "slideshow": {
     "slide_type": "fragment"
    }
   },
   "source": [
    "Сводится к решению задачи о **нахождении всех прямоугольников, в которые попадает заданная точка**."
   ]
  },
  {
   "cell_type": "markdown",
   "metadata": {
    "slideshow": {
     "slide_type": "slide"
    }
   },
   "source": [
    "* Хотя бы одна сторона $p$ пересекает прямоугольник запроса $q$, но не лежит в нём концами.\n",
    "\n",
    "<img src=\"images\\p_intersects_q.png\" style=\"width: 500px; float: midle\" />"
   ]
  },
  {
   "cell_type": "markdown",
   "metadata": {
    "slideshow": {
     "slide_type": "fragment"
    }
   },
   "source": [
    "Сводится к решению задачи **о нахождении всех отрезков, которые пересекают заданный прямоугольник**."
   ]
  },
  {
   "cell_type": "markdown",
   "metadata": {
    "slideshow": {
     "slide_type": "slide"
    }
   },
   "source": [
    "## Нахождение множества точек, попадающих в прямоугольник запроса"
   ]
  },
  {
   "cell_type": "markdown",
   "metadata": {
    "slideshow": {
     "slide_type": "fragment"
    }
   },
   "source": [
    "#### Одномерный случай\n",
    "\n",
    "Быстро выдавать множество точек, попадающих в отрезок, можно с помощью сбалансированного дерева поиска. Такое дерево можно построить за $O(n\\log n)$, она будет занимать $O(n)$ памяти, запрос будет обработан за $O(\\log n + k)$, где $k$ $-$ величина ответа."
   ]
  },
  {
   "cell_type": "markdown",
   "metadata": {
    "slideshow": {
     "slide_type": "fragment"
    }
   },
   "source": [
    "*Как добиться сопоставимых результатов в многомерном случае?*"
   ]
  },
  {
   "cell_type": "markdown",
   "metadata": {
    "slideshow": {
     "slide_type": "slide"
    }
   },
   "source": [
    "## K-d tree\n",
    "\n",
    "K-d дерево (short for **k-dimensional tree**) — статическая структура данных для хранения точек в k-мерном пространстве. Позволяет отвечать на запрос, какие точки лежат в данном прямоугольнике.\n",
    "\n",
    "<img src=\"images\\kd_tree.png\" style=\"width: 800px; float: midle\" />"
   ]
  },
  {
   "cell_type": "markdown",
   "metadata": {
    "slideshow": {
     "slide_type": "slide"
    }
   },
   "source": [
    "**Занимаемая память:**\n",
    "\n",
    "*K-d дерево требует $O(n)$ памяти.*"
   ]
  },
  {
   "cell_type": "markdown",
   "metadata": {
    "slideshow": {
     "slide_type": "slide"
    }
   },
   "source": [
    "**Время построения:**\n",
    "\n",
    "*Построение выполняется за $O(n \\log n)$*"
   ]
  },
  {
   "cell_type": "markdown",
   "metadata": {
    "slideshow": {
     "slide_type": "fragment"
    }
   },
   "source": [
    "Время построения обозначим $T(n)$.\n",
    "\n",
    "$T(n) = O(1)$ if $n = 1$.\n",
    "\n",
    "$T(n) = O(n) + 2 \\cdot T(n / 2)$, otherwise.\n",
    "\n",
    "Решением этого рекурентного соотношения является $T(n) = O(n \\log n)$."
   ]
  },
  {
   "cell_type": "markdown",
   "metadata": {
    "slideshow": {
     "slide_type": "slide"
    }
   },
   "source": [
    "**Время выполнения запроса:**\n",
    "\n",
    "*Перечисление точек в прямоугольнике выполняется за $O(\\sqrt n + k)$, где $k$ — размер ответа.*"
   ]
  },
  {
   "cell_type": "markdown",
   "metadata": {
    "slideshow": {
     "slide_type": "fragment"
    }
   },
   "source": [
    "Вывод всех точек из нод дерева суммарно выполняются за $O(\\text{k})$.\n",
    "\n",
    "Обозначим максимально возможное количество регионов, пересекаемых какой-либо вертикальной прямой, в дереве для $n$ точек, у которого первое разбиение делается вертикальной прямой, как $Q(n)$.\n",
    "\n",
    "$Q(n) = O(1)$ if $n = 1$.\n",
    "\n",
    "$Q(n) = 2 + 2 \\cdot Q(n / 4)$, otherwise.\n",
    "\n",
    "Глубина дерева рекурсии равна: $\\log_4 n = \\frac{1}{2}\\log_2 n$\n",
    "Таким образом, $Q(n) = O(2^{\\frac{1}{2}\\log_2 n}) = O(\\sqrt n)$ является решением."
   ]
  },
  {
   "cell_type": "markdown",
   "metadata": {
    "slideshow": {
     "slide_type": "slide"
    }
   },
   "source": [
    "## Range tree\n",
    "\n",
    "Дадим следующее рекурсивное определение **range tree**:\n",
    "* Одномерное **range tree** — обычное сбалансированное двоичное дерево поиска.\n",
    "* $d$-мерное **range tree** — сбалансированное двоичное дерево поиска (по первой координате $X_1$), в каждой вершине которого дополнительно хранится $d-1$-мерное **range tree** (по остальным координатам $X_2 \\times \\cdots \\times X_d$) для множества элементов, являющихся листами поддерева этой вершины.\n",
    "<img src=\"images\\range_tree.png\" style=\"width: 450px; float: middle\" />\n"
   ]
  },
  {
   "cell_type": "markdown",
   "metadata": {
    "slideshow": {
     "slide_type": "slide"
    }
   },
   "source": [
    "### Binary search tree\n",
    "\n",
    "<img src=\"images\\binary_search_tree.png\" style=\"width: 600px; float: midle\" />"
   ]
  },
  {
   "cell_type": "markdown",
   "metadata": {
    "slideshow": {
     "slide_type": "slide"
    }
   },
   "source": [
    "**Занимаемая память:**\n",
    "\n",
    "*Range tree требует $O(n \\log^{d-1} n)$ памяти.*"
   ]
  },
  {
   "cell_type": "markdown",
   "metadata": {
    "slideshow": {
     "slide_type": "fragment"
    }
   },
   "source": [
    "Докажем по индукции оценку в $O(n \\log^{d-1} n)$.\n",
    "* $d = 1$: $O(n \\log^0 n) = O(n)$\n",
    "* $d > 1$: range tree меньшей размерности, хранимые в каждой вершине, которые по индукционному предположению занимают $O(n \\log^{d-2} n)$. $\\sum_{k=1}^{\\log n} 2^k O(\\frac{n}{2^k} \\log^{d-2} \\frac{n}{2^k}) = \\sum_{k=1}^{\\log n} O(n \\log^{d-2} n) = O(n \\log^{d-1} n)$. "
   ]
  },
  {
   "cell_type": "markdown",
   "metadata": {
    "slideshow": {
     "slide_type": "slide"
    }
   },
   "source": [
    "**Время построения:**\n",
    "\n",
    "*Построение выполняется за $O(n \\log^{d-1} n)$*."
   ]
  },
  {
   "cell_type": "markdown",
   "metadata": {
    "slideshow": {
     "slide_type": "slide"
    }
   },
   "source": [
    "**Время выполнения запроса:**\n",
    "\n",
    "*Перечисление точек в прямоугольнике выполняется за $O(\\log^d n + k)$, где k $-$ количество точек ответа.*"
   ]
  },
  {
   "cell_type": "markdown",
   "metadata": {
    "slideshow": {
     "slide_type": "slide"
    }
   },
   "source": [
    "## Cascading\n",
    "\n",
    "**Cascading** $-$ оптимизация, позволяющая снизить асимптотику запроса в range tree до $O(\\log^{d - 1} n + k)$.\n",
    "\n",
    "<img src=\"images\\cascading.png\" style=\"width: 400px; float: middle\" />"
   ]
  },
  {
   "cell_type": "markdown",
   "metadata": {
    "slideshow": {
     "slide_type": "slide"
    }
   },
   "source": [
    "### Layered range tree\n",
    "\n",
    "Точки, для которых построено дерево:<br>\n",
    "$(2, 19)$, $(7, 10)$, $(12, 3)$, $(17, 62)$, $(21, 49)$, $(41, 95)$, $(58, 59)$, $(93, 70)$, $(5, 80)$, $(8, 37)$, $(15, 99)$, $(33, 30)$, $(52, 23)$, $(67, 89)$\n",
    "\n",
    "<img src=\"images\\layered_range_tree.png\" style=\"width: 1000px; float: midle\" />"
   ]
  }
 ],
 "metadata": {
  "celltoolbar": "Slideshow",
  "kernelspec": {
   "display_name": "Python 3",
   "language": "python",
   "name": "python3"
  },
  "language_info": {
   "codemirror_mode": {
    "name": "ipython",
    "version": 3
   },
   "file_extension": ".py",
   "mimetype": "text/x-python",
   "name": "python",
   "nbconvert_exporter": "python",
   "pygments_lexer": "ipython3",
   "version": "3.6.3"
  }
 },
 "nbformat": 4,
 "nbformat_minor": 1
}
