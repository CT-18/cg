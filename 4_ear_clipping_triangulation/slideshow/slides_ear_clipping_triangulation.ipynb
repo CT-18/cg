{
 "cells": [
  {
   "cell_type": "markdown",
   "metadata": {
    "slideshow": {
     "slide_type": "slide"
    }
   },
   "source": [
    "# Ушной метод триангуляции многоугольников"
   ]
  },
  {
   "cell_type": "markdown",
   "metadata": {
    "slideshow": {
     "slide_type": "slide"
    }
   },
   "source": [
    "### Определение\n",
    "Три последовательные вершины $v_{i-1}$, $v_{i}$, $v_{i+1}$ многоугольника $P$ называются **ухом**, если треугольник, образованный этими вершинами, не содержит внутри себя и на границе остальных вершин многоугольника $P$, а так же угол при вершине $v_{i}$, называемой **вершиной уха**, строго меньше $\\pi$. \n",
    "\n",
    "<center><img src=\"img/def_ear.svg\"/></center>"
   ]
  },
  {
   "cell_type": "markdown",
   "metadata": {
    "slideshow": {
     "slide_type": "slide"
    }
   },
   "source": [
    "#### Теорема (О существовании двух ушей у многоугольника)\n",
    "У любого простого $n$-вершинного многоугольника $P$ всегда существуют два непересекающихся между собой уха.\n",
    "\n",
    "<center><img src=\"img/2_ears_exist.svg\"/></center>"
   ]
  },
  {
   "cell_type": "markdown",
   "metadata": {
    "slideshow": {
     "slide_type": "slide"
    }
   },
   "source": [
    "### Задача\n",
    "\n",
    "Пусть нам дается список вершин простого $n$-вершинного многоугольника, задающий их в порядке обхода против часовой стрелки. \n",
    "Надо триангулировать этот многоугольник."
   ]
  },
  {
   "cell_type": "markdown",
   "metadata": {
    "slideshow": {
     "slide_type": "slide"
    }
   },
   "source": [
    "### Алгоритм\n",
    "\n",
    "1. Фиксируем стартовую вершину.\n",
    "2. Находим следующее ухо.\n",
    "3. Пока можем, отрезаем уши, используя вершины из стека.\n",
    "4. Если не набрали нужное для триангуляции число диагоналей, возвращаемся к шагу 2."
   ]
  },
  {
   "cell_type": "markdown",
   "metadata": {
    "slideshow": {
     "slide_type": "slide"
    }
   },
   "source": [
    "### Ушная проверка\n",
    "\n",
    "* Вершина уха выпуклая \n",
    "* Никакие вершины многоугольника не лежат внутри или на границе треугольника"
   ]
  },
  {
   "cell_type": "markdown",
   "metadata": {
    "slideshow": {
     "slide_type": "slide"
    }
   },
   "source": [
    "#### Лемма (О связи вершин в стеке с потенциальными ушами)\n",
    "\n",
    "Во время ушной проверки на принадлежность уху достаточно тестировать только еще нерассмотренные вершины.\n",
    "\n",
    "<center><img src=\"img/lemma.svg\"/></center>"
   ]
  },
  {
   "cell_type": "markdown",
   "metadata": {
    "slideshow": {
     "slide_type": "slide"
    }
   },
   "source": [
    "#### Результат \n",
    "\n",
    "Простой многоугольник с $n$ вершинами может быть триангулирован за $O(n^2)$ времени, используя $O(n)$ памяти. "
   ]
  },
  {
   "cell_type": "markdown",
   "metadata": {
    "slideshow": {
     "slide_type": "subslide"
    }
   },
   "source": [
    "#### Доказательство корректности\n",
    "\n",
    "Последовательно отрезаем все уши и получаем треугольник."
   ]
  },
  {
   "cell_type": "markdown",
   "metadata": {
    "slideshow": {
     "slide_type": "subslide"
    }
   },
   "source": [
    "#### Оценка времени работы\n",
    "\n",
    "* Каждая вершина бывает в стеке только один раз.\n",
    "* Полный обход полигона занимает $O(n)$ времени.\n",
    "* Ушная проверка для одной вершины занимает $O(n)$ времени.\n",
    "\n",
    "Общая оценка на время $O(n^2)$."
   ]
  },
  {
   "cell_type": "markdown",
   "metadata": {
    "slideshow": {
     "slide_type": "subslide"
    }
   },
   "source": [
    "#### Оценка на память\n",
    "\n",
    "* DCEL для полигона\n",
    "* Стек с вершинами для обхода полигона\n",
    "* Список диагоналей триангуляции\n",
    "\n",
    "Потребляемое количество памяти линейно."
   ]
  },
  {
   "cell_type": "markdown",
   "metadata": {
    "slideshow": {
     "slide_type": "slide"
    }
   },
   "source": [
    "#### Примеры триангуляций некоторых фигур\n",
    "\n",
    "<center><img src=\"img/tr_arrow.gif\"/></center>"
   ]
  },
  {
   "cell_type": "markdown",
   "metadata": {
    "slideshow": {
     "slide_type": "subslide"
    }
   },
   "source": [
    "#### Звездный многоугольник\n",
    "\n",
    "<center><img src=\"img/tr_star.gif\"/></center>"
   ]
  },
  {
   "cell_type": "markdown",
   "metadata": {
    "slideshow": {
     "slide_type": "subslide"
    }
   },
   "source": [
    "#### Некоторый полигон\n",
    "\n",
    "<center><img src=\"img/tr_some.gif\"/></center>"
   ]
  },
  {
   "cell_type": "markdown",
   "metadata": {
    "slideshow": {
     "slide_type": "subslide"
    }
   },
   "source": [
    "#### Некоторый полигон\n",
    "\n",
    "<center><img src=\"img/tr_hook.gif\"/></center>"
   ]
  },
  {
   "cell_type": "markdown",
   "metadata": {
    "slideshow": {
     "slide_type": "slide"
    }
   },
   "source": [
    "### Триангуляция многоугольника с дырками"
   ]
  },
  {
   "cell_type": "markdown",
   "metadata": {
    "slideshow": {
     "slide_type": "slide"
    }
   },
   "source": [
    "#### Определение \n",
    "\n",
    "Две вершины называются **взаимно видимыми**, если соединяющая их диагональ не пересекает ребра многоугольника и не содержит вершин из него.\n",
    "\n",
    "<center><img src=\"img/def_visible.svg\"/></center>"
   ]
  },
  {
   "cell_type": "markdown",
   "metadata": {
    "slideshow": {
     "slide_type": "slide"
    }
   },
   "source": [
    "#### Идея\n",
    "\n",
    "* По очереди сольем хитрым способом дырки с внешним полигоном.\n",
    "* Триангулируем полученный простой многоугольник."
   ]
  },
  {
   "cell_type": "markdown",
   "metadata": {
    "slideshow": {
     "slide_type": "slide"
    }
   },
   "source": [
    "### Алгоритм поиска взаимно видимых вершин\n",
    "\n",
    "* Найдем самую левую точку внутреннего полигона, а из таких самую нижнюю, назовем ее $p$.\n",
    "* Проведем из нее луч в минус бесконечность по оси $Ox$."
   ]
  },
  {
   "cell_type": "markdown",
   "metadata": {
    "slideshow": {
     "slide_type": "subslide"
    }
   },
   "source": [
    "* Попали в вершину\n",
    "<center><img src=\"img/algo_hole_vert.svg\"/></center>"
   ]
  },
  {
   "cell_type": "markdown",
   "metadata": {
    "slideshow": {
     "slide_type": "subslide"
    }
   },
   "source": [
    "* Попали во внутреннюю область ребра $e'e$\n",
    "  * Тогда соединим его нижний конец $e$ и $p$.\n",
    "  * Рассмотрим невыпуклые вершины внешнего полигона, которые попали в треугольник $\\Delta epc$.\n",
    "  * Отсортируем их по углу, образованному с отрезком $pc$.\n",
    "  * Возьмем минимальную, а среди таких самую правую.\n",
    "\n",
    "<center><img src=\"img/algo_hole_edge.svg\"/></center>"
   ]
  },
  {
   "cell_type": "markdown",
   "metadata": {
    "slideshow": {
     "slide_type": "slide"
    }
   },
   "source": [
    "#### Визуализация слияния\n",
    "\n",
    "* У исходного многоугольника и дырок чёрные рёбра.\n",
    "* Желтой точкой отмечена самая левая и нижняя вершина дырки.\n",
    "* Красными отмечены ребра, которые пересек луч, а так же потом и самое правое из них.\n",
    "* Красными точками отмечен потенциальные взаимно видимые вершины внешнего полигона, а так же итоговая выбранная.\n",
    "* Фиолетовым пунктиром показаны границы треугольника, в котором ищем невыпуклые вершины, а синим пунктиром - углы к ним.\n",
    "\n",
    "<center><img src=\"img/merge_holes.gif\"/></center>"
   ]
  },
  {
   "cell_type": "markdown",
   "metadata": {
    "slideshow": {
     "slide_type": "slide"
    }
   },
   "source": [
    "#### Обход объединенного полигона\n",
    "\n",
    "<center><img src=\"img/bypass_forward.gif\"/></center>"
   ]
  },
  {
   "cell_type": "markdown",
   "metadata": {
    "slideshow": {
     "slide_type": "slide"
    }
   },
   "source": [
    "#### Триангуляция объединенного полигона\n",
    "\n",
    "<center><img src=\"img/tr_merged.gif\"/></center>"
   ]
  }
 ],
 "metadata": {
  "celltoolbar": "Slideshow",
  "kernelspec": {
   "display_name": "Python 3",
   "language": "python",
   "name": "python3"
  },
  "language_info": {
   "codemirror_mode": {
    "name": "ipython",
    "version": 3
   },
   "file_extension": ".py",
   "mimetype": "text/x-python",
   "name": "python",
   "nbconvert_exporter": "python",
   "pygments_lexer": "ipython3",
   "version": "3.5.2"
  }
 },
 "nbformat": 4,
 "nbformat_minor": 1
}
