{
 "cells": [
  {
   "cell_type": "markdown",
   "metadata": {},
   "source": [
    "# Принадлежность точки не выпоклому многоугольнику\n",
    "\n",
    "##  Задача\n",
    "\n",
    "Задан многоугольник и точка, требуется определить, находится ли заданная точка внутри этого многоугольника.\n",
    "\n",
    "\n",
    "##  Разминка\n",
    "\n",
    "Предлагается взглянуть на картинку, на которой изображен многоугольник типа [кривой Пеано](https://ru.wikipedia.org/wiki/Кривая_Пеано), и попытаться ответить на вопрос — красная точка находится внутри или снаружи многоугольника?\n",
    "<img src=\"images/peano.png\">\n",
    "\n",
    "## Описание алгоритма\n",
    "\n",
    "Главная идея состои в том, что можно провести луч из точки и посчитать количество его пересечений с ребрами многоугольника. \n",
    "\n",
    "Главная проблема состоит в том, что луч может пройти через вершину многоугольника. Такой случай надо описать отдельно. Для этого, давайте считать, что ребро - интервал между вершинами, а правая вершина та, у которой координата $x$ больше. \n",
    "\n",
    "<img src=\"images/out_line.png\">\n",
    "\n",
    "Опишем идею алгоритма формально.\n",
    "\n",
    "## Алгоритм\n",
    "\n",
    "* Мысленно проведем вертикальный луч из данной точки.\n",
    "* Посчитаем количество пересечений с ребрами многоугольника: \n",
    "    Переберем все ребра ($P_1$,$P_2$) по таким правилам $P_1x$ $<$ $P_2x$: \n",
    "    * Если точка $А$ лежит на ребре, то точка лежит в многоугольнике\n",
    "    * Если у ребра $P_1x$ $=$ $P_2x$, то это будет вертикально ребро, оно не влияет на четность, пропускаем его\n",
    "    * Если у ребра $A_x$ $=$ $P_2x$ и $P_2y$ $>$ $A_y$, то увеличим счетчик на $1$\n",
    "    * Если у ребра $A_x$ $=$ $P_1x$, то пропускаем данное ребро\n",
    "    * Если $P_1x$ $<$ $A_x$ $<$ $P_2x$ или $P_2x$ $<$ $A_x$ $<$ $P_1x$ и поворот точек $(P_1,P_2,A)$ левый, то увеличиваем счетчик пересечений на $1$,\n",
    "* Если количество пересечений четно, то точка лежит вне многоугольника, иначе точка лежит внутри.\n",
    "\n",
    "## Время работы\n",
    "На каждое ребро тратится $O(1)$ времени, при этом мы проходимся по всем ребрам, чтобы проверить, пересекает ли наш луч данное ребро, значит алгоритм работает за $O(n)$, где $n$ - количество вершин (а значит и ребер) многоугольника.\n",
    "\n",
    "## Память\n",
    "\n",
    "Храним список вершин многоугольника, искомую вершину и $O(1)$ памяти для хранения луча, следоватльно требуемая память $O(n)$\n",
    "\n",
    "\n",
    "## Упражнения"
   ]
  },
  {
   "cell_type": "code",
   "execution_count": 2,
   "metadata": {
    "collapsed": true
   },
   "outputs": [],
   "source": [
    "import solutions"
   ]
  },
  {
   "cell_type": "markdown",
   "metadata": {
    "collapsed": true
   },
   "source": [
    "## Упражнение 0"
   ]
  },
  {
   "cell_type": "markdown",
   "metadata": {},
   "source": [
    "* Задача:\n",
    "    * написать функцию, которая определяет поворот точки относительно прямой, образованной двумя точками\n",
    "* Формат входных данных:\n",
    "    * points - массив с вершинами треугольника.\n",
    "    * вершина задается следующим образом: [x,y], где x и y - координаты вершины\n",
    "    * p = [x, y], где x и y - координаты точки, поворот которой надо проверить\n",
    "* Формат выходных данных:\n",
    "    * 1 - слева\n",
    "    * -1 - справа\n",
    "    * 0 - лежит на прямой"
   ]
  },
  {
   "cell_type": "code",
   "execution_count": 6,
   "metadata": {
    "collapsed": true
   },
   "outputs": [],
   "source": [
    "def turn(points, p):\n",
    "    # insert your code here...                   \n",
    "    return 1\n",
    "\n",
    "turn = solutions.turn"
   ]
  },
  {
   "cell_type": "markdown",
   "metadata": {
    "collapsed": true
   },
   "source": [
    "Проверим корректность решения:\n",
    "\n",
    "solutions.test_orientation() тестирует функцию orientation"
   ]
  },
  {
   "cell_type": "code",
   "execution_count": 8,
   "metadata": {},
   "outputs": [
    {
     "name": "stdout",
     "output_type": "stream",
     "text": [
      "passed 50 tests\n",
      "passed 100 tests\n",
      "passed 150 tests\n",
      "All tests passed\n"
     ]
    }
   ],
   "source": [
    "solutions.test_turn(turn)"
   ]
  },
  {
   "cell_type": "markdown",
   "metadata": {
    "collapsed": true
   },
   "source": [
    "## Упражнение 1"
   ]
  },
  {
   "cell_type": "markdown",
   "metadata": {},
   "source": [
    "* Задача:\n",
    "    * написать функцию, которая определяет пересекается ли луч с отрезком\n",
    "    * можно пользоваться поворотом, который уже написан (solutions.orientation)\n",
    "* Формат входных данных:\n",
    "    * ray = [начальная точка, любая точка на луче]\n",
    "    * segment = [начальная точка, конечная точка]\n",
    "* Формат выходных данных:\n",
    "    * True, если луч пересекается с отрезком\n",
    "    * False иначе"
   ]
  },
  {
   "cell_type": "code",
   "execution_count": 3,
   "metadata": {
    "collapsed": true
   },
   "outputs": [],
   "source": [
    "def intersect(ray, segment):\n",
    "    # insert your code here...                   \n",
    "    return False\n",
    "\n",
    "intersect = solutions.intersect"
   ]
  },
  {
   "cell_type": "markdown",
   "metadata": {
    "collapsed": true
   },
   "source": [
    "Проверим корректность решения:\n",
    "\n",
    "P.S. solutions.showExample() показывает, что выдает написанный алгоритм на статических тестах, поданных на вход\n",
    "P.P.S. solutions.testIntersect() тестирует функцию intersect"
   ]
  },
  {
   "cell_type": "code",
   "execution_count": 4,
   "metadata": {
    "scrolled": false
   },
   "outputs": [
    {
     "name": "stdout",
     "output_type": "stream",
     "text": [
      "passed 50 tests\n",
      "passed 100 tests\n",
      "passed 150 tests\n",
      "All tests passed\n"
     ]
    },
    {
     "data": {
      "image/png": "[encoded data removed]",
      "text/plain": [
       "<matplotlib.figure.Figure at 0x109233da0>"
      ]
     },
     "metadata": {},
     "output_type": "display_data"
    }
   ],
   "source": [
    "tests = [[[0, 0], [4, 4], [2, 0], [0, 2]],\n",
    "         [[0, 0], [4, 4], [2, 0], [1, 1]],\n",
    "         [[1, 1], [4, 4], [1, 0], [0, 1]],\n",
    "         [[0, 0], [2, 4], [2, 0], [1, 1]],\n",
    "         [[0, 0], [4, 4], [1, 1], [2, 2]],\n",
    "         [[0, 0], [4, 4], [0, 0], [1, 1]]]\n",
    "\n",
    "solutions.test_intersect(intersect)\n",
    "solutions.show_examples(tests, intersect)"
   ]
  },
  {
   "cell_type": "markdown",
   "metadata": {
    "collapsed": true
   },
   "source": [
    "# Упражнение 2"
   ]
  },
  {
   "cell_type": "markdown",
   "metadata": {},
   "source": [
    "* Задача:\n",
    "    * дописать функцию проверки принадлежности точки не выпоклому многоугольнику\n",
    "    * можно пользоваться поворотом, который уже написан (solutions.orientation)\n",
    "* Формат входных данных:\n",
    "    * points - массив с вершинами треугольника.\n",
    "    * вершина задается следующим образом: [x,y], где x и y - координаты вершины\n",
    "    * point = [x, y], где x и y - координаты точки, принадлежность которой надо проверить\n",
    "* Формат выходных данных:\n",
    "    * True, если точка внутри многоугольника\n",
    "    * False иначе, если снаружи или на границе многоугольника"
   ]
  },
  {
   "cell_type": "code",
   "execution_count": 15,
   "metadata": {
    "collapsed": true
   },
   "outputs": [],
   "source": [
    "def check(points, point): \n",
    "# insert your code here...\n",
    "   flage = 0\n",
    "   for i in range(-1, len(points) - 1): #для каждого ребра делаем:\n",
    "       if (solutions.isOnSegment(point, [points[i], points[i + 1]])): #если точка на ребре\n",
    "           return False\n",
    "       if (intersect([point,[point[0],point[1] + 1]],[points[i],points[i+1]])): #если ребро пересекает луч\n",
    "           flage += 1\n",
    "           continue\n",
    "   return  flage % 2 == 1 #проверка четности счетчика\n",
    "\n",
    "check = solutions.check"
   ]
  },
  {
   "cell_type": "markdown",
   "metadata": {
    "collapsed": true
   },
   "source": [
    "Давайте проверим алгоритм: \n",
    "\n",
    "P.S. неправильный тест будет изображон на картинке"
   ]
  },
  {
   "cell_type": "code",
   "execution_count": 16,
   "metadata": {},
   "outputs": [
    {
     "name": "stdout",
     "output_type": "stream",
     "text": [
      "passed 50 tests\n",
      "passed 100 tests\n",
      "passed 150 tests\n",
      "All tests passed\n"
     ]
    },
    {
     "data": {
      "image/png": "[encoded data removed]",
      "text/plain": [
       "<matplotlib.figure.Figure at 0x10f4fb6d8>"
      ]
     },
     "metadata": {},
     "output_type": "display_data"
    }
   ],
   "source": [
    "test=[[(5, 13), (10, 13), (12, 13), (8, 9), (7, 4), (12, 8), (12, 1), (15, 9), (17, 4), (20, 2), (19, 9), (22, 8), (22, 10), (23, 11), (21, 14), (29, 16), (28, 18), (29, 21), (22, 20), (17, 18), (20, 26), (17, 24), (15, 25), (14, 23), (11, 25), (12, 18), (8, 22), (5, 21), (5, 17), (3, 15)],\n",
    "     [17, 19]]\n",
    "\n",
    "solutions.test(check)\n",
    "solutions.show_test(test,check)"
   ]
  },
  {
   "cell_type": "code",
   "execution_count": null,
   "metadata": {
    "collapsed": true
   },
   "outputs": [],
   "source": []
  }
 ],
 "metadata": {
  "kernelspec": {
   "display_name": "Python 3",
   "language": "python",
   "name": "python3"
  },
  "language_info": {
   "codemirror_mode": {
    "name": "ipython",
    "version": 3
   },
   "file_extension": ".py",
   "mimetype": "text/x-python",
   "name": "python",
   "nbconvert_exporter": "python",
   "pygments_lexer": "ipython3",
   "version": "3.6.2"
  }
 },
 "nbformat": 4,
 "nbformat_minor": 2
}
