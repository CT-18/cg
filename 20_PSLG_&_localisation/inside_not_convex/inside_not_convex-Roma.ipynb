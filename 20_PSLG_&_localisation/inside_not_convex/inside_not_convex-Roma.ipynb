{
 "cells": [
  {
   "cell_type": "code",
   "execution_count": 1,
   "metadata": {
    "collapsed": true
   },
   "outputs": [],
   "source": [
    "# Библиоткеи для упражнений\n",
    "# Необходимо установить недостающие\n",
    "import numpy as np\n",
    "from shapely.geometry.polygon import Polygon\n",
    "from shapely.geometry import Point\n",
    "import math, random\n",
    "from sympy import Ray as sRay, Segment as sSegment\n",
    "from sympy import Point as sPoint\n",
    "from sympy import intersection\n",
    "import matplotlib.pyplot as plt\n",
    "from IPython.display import display\n",
    "import solutions # устанавливать не нужно"
   ]
  },
  {
   "cell_type": "markdown",
   "metadata": {},
   "source": [
    "# Принадлежность точки не выпоклому многоугольнику\n",
    "\n",
    "##  Задача\n",
    "\n",
    "Задан многоугольник и точка, требуется определить, находится ли заданная точка внутри этого многоугольника.\n",
    "\n",
    "\n",
    "##  Разминка\n",
    "\n",
    "Предлагается взглянуть на картинку, на которой изображен многоугольник типа [кривой Пеано](https://ru.wikipedia.org/wiki/Кривая_Пеано), и попытаться ответить на вопрос $-$ красная точка находится внутри или снаружи многоугольника?\n",
    "<p align=\"center\">\n",
    "<img src=\"images/peano.png\" width=\"350\"/>\n",
    "</p>\n",
    "\n",
    "## Описание алгоритма\n",
    "\n",
    "#### Идея:\n",
    "   Провести луч из точки и посчитать количество его пересечений с ребрами многоугольника. \n",
    "\n",
    "#### Проблема:\n",
    "   Луч может пройти через вершину многоугольника. Такой случай надо описать отдельно. Для этого, давайте считать, что ребро $-$ интервал между вершинами, а правая вершина та, у которой координата $x$ больше. \n",
    "\n",
    "<p align=\"center\">\n",
    "<img src=\"images/out_line.png\" width=\"300\"/>\n",
    "</p>\n",
    "\n",
    "## Алгоритм\n",
    "\n",
    "* Мысленно проведем вертикальный луч из данной точки.\n",
    "* Посчитаем количество пересечений с ребрами многоугольника: \n",
    "    Переберем все ребра ($P_1$,$P_2$) по таким правилам $P_{1x}$ $<$ $P_{2x}$: \n",
    "    * Если точка $А$ лежит на ребре, то точка лежит в многоугольнике\n",
    "    * Если у ребра $P_{1x}$ $=$ $P_{2x}$, то это будет вертикально ребро, оно не влияет на           четность, пропускаем его\n",
    "    * Если у ребра $A_x$ $=$ $P_{2x}$ и $P2_y$ $>$ $A_y$, то увеличим счетчик на $1$\n",
    "    * Если у ребра $A_x$ $=$ $P_{1x}$, то пропускаем данное ребро\n",
    "    * Если $P_{1x}$ $<$ $A_x$ $<$ $P_{2x}$ или $P_{2x}$ $<$ $A_x$ $<$ $P_{1x}$ и поворот точек $(P_1,P_2,A)$ левый, то увеличиваем счетчик пересечений на $1$,\n",
    "* Если количество пересечений четно, то точка лежит вне многоугольника, иначе внутри.\n",
    "\n",
    "## Время работы\n",
    "На каждое ребро тратится $O(1)$ времени, при этом мы проходимся по всем ребрам, чтобы проверить, пересекает ли наш луч данное ребро. Значит алгоритм работает за $O(n)$, где $n$ $-$ количество вершин (а значит и ребер) многоугольника.\n",
    "\n",
    "## Память\n",
    "\n",
    "Храним список вершин многоугольника, искомую вершину и $O(1)$ памяти для хранения луча, следоватльно требуемая память $O(n)$\n",
    "\n",
    "\n",
    "## Упражнения"
   ]
  },
  {
   "cell_type": "code",
   "execution_count": 1,
   "metadata": {
    "collapsed": true
   },
   "outputs": [],
   "source": [
    "import solutions"
   ]
  },
  {
   "cell_type": "markdown",
   "metadata": {
    "collapsed": true
   },
   "source": [
    "## Упражнение 0"
   ]
  },
  {
   "cell_type": "markdown",
   "metadata": {},
   "source": [
    "* Задача:\n",
    "    * написать функцию, которая определяет поворот точки относительно прямой, образованной двумя точками\n",
    "* Формат входных данных:\n",
    "    * $points$ $-$ массив с вершинами треугольника.\n",
    "    * вершина задается следующим образом: $[x,y]$, где $x$ и $y$ $-$ координаты вершины\n",
    "    * $p$ $-$ точка, поворот которой надо проверить\n",
    "* Формат выходных данных:\n",
    "    * 1 $-$ слева\n",
    "    * -1 $-$ справа\n",
    "    * 0 $-$ лежит на прямой"
   ]
  },
  {
   "cell_type": "code",
   "execution_count": 2,
   "metadata": {
    "collapsed": true
   },
   "outputs": [],
   "source": [
    "def turn(points, p):\n",
    "    # insert your code here...                   \n",
    "    return 1\n",
    "\n",
    "turn = solutions.turn"
   ]
  },
  {
   "cell_type": "markdown",
   "metadata": {
    "collapsed": true
   },
   "source": [
    "Проверим корректность решения:\n",
    "\n",
    "* $solutions.test$_$orientation$ тестирует функцию $orientation$\n",
    "* $solutions.show$_$example$ показывает, что выдает написанный алгоритм на статических тестах, поданных на вход"
   ]
  },
  {
   "cell_type": "code",
   "execution_count": 3,
   "metadata": {},
   "outputs": [
    {
     "name": "stdout",
     "output_type": "stream",
     "text": [
      "passed 50 tests\n",
      "passed 100 tests\n",
      "passed 150 tests\n",
      "All tests passed\n"
     ]
    }
   ],
   "source": [
    "solutions.test_turn(turn)"
   ]
  },
  {
   "cell_type": "markdown",
   "metadata": {
    "collapsed": true
   },
   "source": [
    "## Упражнение 1"
   ]
  },
  {
   "cell_type": "markdown",
   "metadata": {},
   "source": [
    "* Задача:\n",
    "    * написать функцию, которая определяет пересекается ли луч с отрезком\n",
    "    * можно пользоваться поворотом, который уже написан ($solutions.orientation$)\n",
    "* Формат входных данных:\n",
    "    * $ray$ $-$ начальная точка, любая точка на луче\n",
    "    * $segment$ $-$ начальная точка, конечная точка\n",
    "* Формат выходных данных:\n",
    "    * $True$ $-$ луч пересекается с отрезком\n",
    "    * $False$ $-$ иначе"
   ]
  },
  {
   "cell_type": "code",
   "execution_count": 4,
   "metadata": {
    "collapsed": true
   },
   "outputs": [],
   "source": [
    "def intersect(ray, segment):\n",
    "    # insert your code here...                   \n",
    "    return False\n",
    "\n",
    "intersect = solutions.intersect"
   ]
  },
  {
   "cell_type": "markdown",
   "metadata": {
    "collapsed": true
   },
   "source": [
    "Проверим корректность решения:\n",
    "\n",
    "* $solutions.test$_$intersect$ тестирует функцию $intersect$\n",
    "* $solutions.show$_$examples$ показывает, что выдает написанный алгоритм на статических тестах, поданных на вход"
   ]
  },
  {
   "cell_type": "code",
   "execution_count": 5,
   "metadata": {
    "scrolled": false
   },
   "outputs": [
    {
     "name": "stdout",
     "output_type": "stream",
     "text": [
      "passed 50 tests\n",
      "passed 100 tests\n",
      "passed 150 tests\n",
      "All tests passed\n"
     ]
    }
   ],
   "source": [
    "solutions.test_intersect(intersect)"
   ]
  },
  {
   "cell_type": "code",
   "execution_count": 6,
   "metadata": {},
   "outputs": [
    {
     "data": {
      "image/png": "[encoded data removed]",
      "text/plain": [
       "<matplotlib.figure.Figure at 0x115c19f60>"
      ]
     },
     "metadata": {},
     "output_type": "display_data"
    }
   ],
   "source": [
    "tests = [[[0, 0], [4, 4], [2, 0], [0, 2]],\n",
    "         [[0, 0], [4, 4], [2, 0], [1, 1]],\n",
    "         [[1, 1], [4, 4], [1, 0], [0, 1]],\n",
    "         [[0, 0], [2, 4], [2, 0], [1, 1]],\n",
    "         [[0, 0], [4, 4], [1, 1], [2, 2]],\n",
    "         [[2, 2], [4, 4], [0, 0], [1, 1]]]\n",
    "\n",
    "solutions.show_examples(tests, intersect)"
   ]
  },
  {
   "cell_type": "markdown",
   "metadata": {
    "collapsed": true
   },
   "source": [
    "# Упражнение 2"
   ]
  },
  {
   "cell_type": "markdown",
   "metadata": {},
   "source": [
    "* Задача:\n",
    "    * дописать функцию проверки принадлежности точки не выпоклому многоугольнику\n",
    "    * можно пользоваться поворотом, который уже написан ($solutions.orientation$)\n",
    "* Формат входных данных:\n",
    "    * $points$ $-$ массив с вершинами треугольника.\n",
    "    * вершина задается следующим образом: $[x,y]$, где $x$ и $y$ $-$ координаты вершины\n",
    "    * $point$ точка, принадлежность которой надо проверить\n",
    "* Формат выходных данных:\n",
    "    * $True$ $-$ точка внутри многоугольника\n",
    "    * $False$ $-$ точка снаружи или на границе многоугольника"
   ]
  },
  {
   "cell_type": "code",
   "execution_count": 7,
   "metadata": {
    "collapsed": true
   },
   "outputs": [],
   "source": [
    "def check(points, point): \n",
    "   flage = 0\n",
    "   for i in range(-1, len(points) - 1): #для каждого ребра делаем:\n",
    "       \n",
    "       if (solutions.isOnSegment(point, [points[i], points[i + 1]])): #если точка на ребре\n",
    "           return False\n",
    "        \n",
    "        # insert your code here...\n",
    "        \n",
    "       if (intersect([point,[point[0],point[1] + 1]],[points[i],points[i+1]])): #eсли ребро пересекает луч\n",
    "           flage = flage + 1\n",
    "           continue\n",
    "   return  flage % 2 == 1 #проверка четности счетчика\n",
    "\n",
    "check = solutions.check"
   ]
  },
  {
   "cell_type": "markdown",
   "metadata": {
    "collapsed": true
   },
   "source": [
    "Проверим корректность решения:\n",
    "\n",
    "* $solutions.test$ тестирует функцию $check$\n",
    "* тест с неправильным результатом будет изображон на картинке\n",
    "* $solutions.show$_$test$ показывает, что выдает написанный алгоритм на статических тестах, поданных на вход"
   ]
  },
  {
   "cell_type": "code",
   "execution_count": 8,
   "metadata": {},
   "outputs": [
    {
     "name": "stdout",
     "output_type": "stream",
     "text": [
      "passed 50 tests\n",
      "passed 100 tests\n",
      "passed 150 tests\n",
      "All tests passed\n"
     ]
    }
   ],
   "source": [
    "solutions.test(check)"
   ]
  },
  {
   "cell_type": "code",
   "execution_count": 9,
   "metadata": {},
   "outputs": [
    {
     "data": {
      "image/png": "[encoded data removed]",
      "text/plain": [
       "<matplotlib.figure.Figure at 0x1161bb2b0>"
      ]
     },
     "metadata": {},
     "output_type": "display_data"
    }
   ],
   "source": [
    "test=[[(5, 13), (10, 13), (12, 13), (8, 9), (7, 4), (12, 8), (12, 1), (15, 9), (17, 4), (20, 2), (19, 9), (22, 8), (22, 10), (23, 11), (21, 14), (29, 16), (28, 18), (29, 21), (22, 20), (17, 18), (20, 26), (17, 24), (15, 25), (14, 23), (11, 25), (12, 18), (8, 22), (5, 21), (5, 17), (3, 15)],\n",
    "     [17, 19]]\n",
    "\n",
    "solutions.show_test(test,check)"
   ]
  },
  {
   "cell_type": "code",
   "execution_count": null,
   "metadata": {
    "collapsed": true
   },
   "outputs": [],
   "source": []
  }
 ],
 "metadata": {
  "kernelspec": {
   "display_name": "Python 3",
   "language": "python",
   "name": "python3"
  },
  "language_info": {
   "codemirror_mode": {
    "name": "ipython",
    "version": 3
   },
   "file_extension": ".py",
   "mimetype": "text/x-python",
   "name": "python",
   "nbconvert_exporter": "python",
   "pygments_lexer": "ipython3",
   "version": "3.6.2"
  }
 },
 "nbformat": 4,
 "nbformat_minor": 2
}
