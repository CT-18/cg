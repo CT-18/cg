{
 "cells": [
  {
   "cell_type": "markdown",
   "metadata": {},
   "source": [
    "# PSLG overlaying\n",
    "\n",
    "## Терминология\n",
    "\n",
    "* ППЛГ $-$ плоский прямолинейный граф. \n",
    "* РСДС $-$ ребренный список с двойными связями.\n",
    "* ППЛГ удобно хранить с помощью РСДС.\n",
    "\n",
    "* ППЛГ $O(S_1,S_2)$ $-$ пересечение двух ППЛГ $S_1$ и $S_2$, такой, что грань $f$ принадлежит $O(S_1,S_2)$ тогда и только тогда, когда существуют грани $f_1$ из $S_1$ и $f_2$ из $S_2$, что $f$ $-$ максимальное связанное подмножество пересечения $f_1$ и $f_2$.\n",
    "\n",
    "<img src=\"images/пересечение пплг.png\" />\n",
    "\n",
    "\n",
    "## Задача\n",
    "Заданы многоугольники, необходимо найти их пересечение.\n",
    "\n",
    "## Задача на самом деле\n",
    "Данная задача сводится к задачи о пересечении двух РСДС, которую и будем решать.\n",
    "\n",
    "## Задача, ну вот теперь уж точно\n",
    "Необходимо построить РСДС для $O(S_1,S_2)$ по РСДС $S_1$ и $S_2$. \n",
    "\n",
    "\n",
    "## Алгоритм\n",
    "\n",
    "Алгоритм работает в три этапа:\n",
    "   *  Нахождение информации о ребрах $O(S_1,S_2)$\n",
    "   *  Построение граней $O(S_1,S_2)$\n",
    "   *  Связать грани из $O(S_1,S_2)$ с гранями из $S_1$ и $S_2$"
   ]
  },
  {
   "cell_type": "markdown",
   "metadata": {},
   "source": [
    "### Нахождение информации о ребрах $O(S_1,S_2)$\n",
    "\n",
    "#### Заметающая прямая\n",
    "\n",
    "Алгоритм \"заметающей прямой\" решает задачу о пересечении множества отрезков и работает за $O((n+I)*log(n))$, где $I$ $-$ количество пересечений и использует $O(n)$ памяти. Главная идея этого алгоритма в том, что есть вертикальная прямая, она движется вправо и следит за событиями: \n",
    "    * прямая пересекла правый конец отрезка (конец отрезка)\n",
    "    * прямая пересекла левый конец отрезка (начало отрезка)\n",
    "    * прямая пересекла точку пересечения пары отрезков\n",
    "\n",
    "<img src=\"images/заметающая прямая.png\" />\n",
    "\n",
    "Нахождение пересечений ребер $S_1$ и $S_2$ базируется на алгоритме \"заметающей прямой\" с небольшими изменениями:\n",
    "\n",
    "#### Необходимые структуры данных\n",
    "\n",
    "* очередь событий Q\n",
    "* статус T, который может быть сбалансированным бинарным деревом поиска, хранящим сегменты пересечиний заметающей прямой, упорядоченных снизу вверх\n",
    "\n",
    "#### Обработка ребер\n",
    "\n",
    "Будем придерживаться инварианта, что в любой момент времени, события на заметающей прямой, которые мы уже обработали, пересчитаны корректно для $O(S_1,S_2)$\n",
    "\n",
    "* Скопируем РСДС $S_1$ и $S_2$ в новый РСДС. Мы получили новый РСДС, без правильных вершинно-ребренных связей. Наша задача получить из текущего РСДС корректный РСДС.\n",
    "* На новом РСДС запускаем алгоритм заметающей прямой на множестве ребер, являющимся объединением ребер из $S_1$ и $S_2$. \n",
    "* Если на заметающей прямой мы обрабатываем событие, представляющее собой вершину, в которую входят ребра только одного РСДС, то эту вершину можно переиспользовать, и мы можем перейти к следующему событию ничего не меняя.\n",
    "* Иначе надо изменить РСДС. Пусть у нас есть два ребра $e_1$, $e_2$ и вершина $v$ $-$ событие на заметающей прямой. \n",
    "     * Возможны следующие случаи:\n",
    "          1. Вершина ребра $e_2$ проходит через ребро $e_1$, разбивая его на два новых ребра\n",
    "          \n",
    "          2. Ребро $e_1$ пересекает ребро $e_2$ и образуется 4 новых ребра\n",
    "          \n",
    "          3. Ребра $e_1$ и $e_2$ пересекаются в вершине\n",
    "          \n",
    "          4. Вершина ребра $e_1$ проходит через ребро $e_2$, разбивая его на 2 новых ребра\n",
    "          \n",
    "          5. Ребра $e_1$ и $e_2$ имеют общий отрезок и образуют новое ребро\n",
    "          \n",
    "          \n",
    "     * При этом необходимо учесть, что в одной точке может пересекаться более двух ребер,\n",
    "      такой случай рассмотривается аналогично, просто для всех ребер, содержащих данную       вершину необходимо обновить структуру:\n",
    "\n",
    "<img src=\"images/варианты пересечения ребер.png\" />\n",
    "\n",
    "Рассмотрим алгоритм разбора для случая $4$, остальные случаи обрабатываются аналогично.\n",
    "* Получим новые полуребра\n",
    "\n",
    "    * Пусть ребро $e$ из $S_1$ проходит через вершину $v$ из $S_2$, разбивая его на два новых ребра. Ребро $e$ заменяется двумя ребрами $e'$ и $e''$ . Два полуребра, соотвествующие ребру $e$, заменяются на 4 полуребра $h_1, h_2, h_3, h_4$. \n",
    "    \n",
    "* Разберемся с $Twin()$\n",
    "    * Обрабатываем обратные ребра $-$ $Twin()$ $-$ (близнецы). Устанавливаем ссылки на ребра $h_1, h_2, h_3, h_4$ и обновляем ссылки на \"твины\" для $h_1$ и $h_4$ $-$ полуребра будут $h_5$ и $h_6$, так же не забываем обновить ссылки на \"твины\" для $h_5$ и $h_6$ ($h_1$ и $h_4$ соответственно).\n",
    "    <img src=\"images/создание новых полуребер.png\" />\n",
    "    \n",
    "* Разберемся с $Prev()$ и $Next()$\n",
    "    * Для ребер, заканчивающихся или начинающихся на концах ребра $e$, легко определить $Next()$ и $Prev()$ соответственно, скопировав их для ребра $e$. \n",
    "    <img src=\"images/ссылки новых полуребер1.png\" />\n",
    "    * Теперь нужно установить значения $Prev()$ и $Next()$ для ребер, заканчивающихся в вершине $v$. Определим, между какими ребрами должны находться ребра $e'$ и $e''$ в порядке циклического обхода вокруг вершины $v$. Поймем, что полуребро $e'$, которое заканчивается в точке $v$, должно быть связано с первым полуребром, видимым из $v$ при обходе по часовой стрелке, установим для него $Next()$. Обратное ему полуребро свяжем с первым ребром, закакнчивающимся в $v$ при обходе против часовой стрелки, установив тем самым $Next()$.\n",
    "    * Рассмотрим полуребро $h_3$ и свяжем его с первым полуребром, видимым из $e'$ при обходе по часовой стрелке и исходящем из $v$. Полуребро $h_4$ свяжем с первым полуребром, идущим в $v$, при обходе против часовой стрелки. Аналогично надо сделать для ребра $e''$.\n",
    "    <img src=\"images/ссылки новых полуребер2.png\" />\n",
    "* Примением вышеописанный алгоритм для всех ребер, инцедентных данной вершине.\n",
    "    \n",
    "\n",
    "\n",
    "#### В итоге, чтобы получить информацию о ребрах, необходимо:\n",
    "\n",
    "* Скопировать ребра $S_1$ в список ребер $S_2$\n",
    "* Запустить алгоритм заметающей прямой, во время которого надо создать новые ребренные связи\n",
    "\n",
    "### Время работы\n",
    "\n",
    "Разбор каждого случая происходит за $O(p)$ где $p$ - степень вершины, так как создание и обновление ссылок на полуребра работает $O(1)$ для каждого ребра, количество которых равно степени вершины - $p$. Значит, обновление РСДС не увеличивает время работы алгоритма заметающей прямой. Из чего можно сделать вывод, что нахождение информации о вершинах и итогового РСДС работает за $O(n\\cdot \\log(n)+k\\cdot \\log(k))$, где $k$ - количество точек пересечений, $n$ - суммарная сложность $S_1$ и $S_2$.\n",
    "\n",
    "### Память\n",
    "\n",
    "В каждый момент времени на заметающей прямой мы храним $O(n)$ событий, где $n$ - суммарная сложность $S_1$ и $S_2$, так как на вертикальной прямой не может быть больше чем $n$ точек пересечений, начал и концов отрезков. На каждое событие нам нужно $O(???)$, Итого суммарная память - $O(???)$"
   ]
  },
  {
   "cell_type": "markdown",
   "metadata": {},
   "source": [
    "### Упражнениe 1"
   ]
  },
  {
   "cell_type": "markdown",
   "metadata": {},
   "source": [
    "* Задача:\n",
    "    * написать функцию, которая обрабатывает событие пересечения двух полуребер, корректно перестаивая струтуру $half-edge$ $-$ тут должна быть ссылка на Виталин конспект\n",
    "* Формат входных данных:\n",
    "    * $he1$, $he2$ $-$ первое  второе полуребро, которые необходимо пересеч, соответственно\n",
    "    * $point$ $-$ точка пересечения\n",
    "    * вершина задается следующим образом: $[x,y]$, где $x$ и $y$ $-$ координаты вершины\n",
    "* Формат выходных данных:\n",
    "    * массив получившихся полуребер\n",
    "    "
   ]
  },
  {
   "cell_type": "code",
   "execution_count": 7,
   "metadata": {
    "collapsed": true
   },
   "outputs": [],
   "source": [
    "def event(he1, he2, point):\n",
    "    # Insert your code here...\n",
    "    return []\n",
    "event = solutions.event    "
   ]
  },
  {
   "cell_type": "markdown",
   "metadata": {},
   "source": [
    "Проверим корректность решения:\n",
    "\n",
    "* $solutions.test$_$event$ тестирует функцию $event$\n",
    "* $solutions.show$_$test$ показывает, что должен выдавать написанный алгоритм на статических тестах, поданных на вход"
   ]
  },
  {
   "cell_type": "code",
   "execution_count": 1,
   "metadata": {
    "scrolled": true
   },
   "outputs": [],
   "source": [
    "# p1=[[2, 2], [4, 18], [6, 1]]\n",
    "# p2=[[1, 1], [16, 3], [7, 1]]\n",
    "\n",
    "# solutions.show_test(p1,p2,solutions.overlaying)\n",
    "# solutions.test_overlaying(overlaying)"
   ]
  },
  {
   "cell_type": "markdown",
   "metadata": {
    "collapsed": true
   },
   "source": [
    "## Построение граней $O(S_1,S_2)$\n",
    "\n",
    "В первой части мы научились создавать связи между ребрами и вершинами $O(S_1,S_2)$, но это еще не корректный РСДС. \n",
    "Нам необходимо создать грани и связать их с ребрами:\n",
    "\n",
    "1) для каждой грани $f$ просчитать $InnerComponents(f)$ и $OuterComponent(f)$.\n",
    "  *  $InnerComponents(f)$ $-$ список указателей на полуребра внутренних границ.\n",
    "  *  $OuterComponent(f)$ $-$ указатель на полуребро внешней границы $f$\n",
    "    \n",
    "2) установить $IncidentFace()$ для каждого полуребра\n",
    "\n",
    "Первый вопрос, который возникает $-$ сколько будет граней у $O(S_1,S_2)$? Их будет количество циклов плюс один, так как каждый цикл будет создавать одну грань и еще одна $-$ бесконечная грань для удобства, будем считать, что все грани которые не имеют внешней компоненты теперь станут внутренними для этой фиктивной бесконечной грани.\n",
    "\n",
    "Из первой части алгоритма можно легко найти все циклы. Теперь возникает вопрос $-$ как понять, что цикл являются границей грани или дырки. Рассмотрим самую левую вершину ($v$) цикла. Определим угол внутри грани между полуребрами, инцидентными вершине $v$. Если угол меньше 180 градусов, тогда цикл $-$ граница грани, иначе $-$ граница дырки. Это свойство выполняется только для самой левой вершины цикла, так как грань будет лежать по правую сторону относительно вертикально прямой, проходящей через вышеупомянутую вершину $v$, для остальных может не выполняться. \n",
    "<img src=\"images/углы.png\" />\n",
    "\n",
    "Теперь остается последний вопрос $-$ какие границы принадлежат одной грани? Для этого можно построить граф $G$. Для каждого цикла, который задает границу грани и границу дырки будет вершина в графе $G$. Также есть еще одна вершина в графе $G$ $-$ граница бесконечной грани. Рассмотрю любые две вершины $e_i$ и $e_j$ из графа $G$. \n",
    "\n",
    "Возможны следующие случаи:\n",
    "\n",
    "* $e_i$ $-$ цикл, который задает границу дырки, а $e_j$ $-$ ближайший слева цикл по отношению к самой левой вершине цикла $e_i$, задающий границу грани. Тогда $e_i$ является внутренней гранью для $e_j$\n",
    "    \n",
    "*  $e_i$ $-$ цикл, который задает границу дырки, а $e_j$ $-$ ближайший слева цикл по отношению к самой левой вершине цикла $e_i$, задающий границу дырки. Тогда $e_i$ является внутренней гранью внешней грани $e_j$\n",
    "    \n",
    "* для цикла $e_i$ нетближайшег слева цикла. Тогда он является внутренней гранью для фиктивной бесконечной грани.\n",
    "\n",
    "Между $e_i$ и $e_j$ вершинами мы создадим ребро, если $e_i$ $-$ цикл, который задает границу дырки, а $e_j$ $-$ ближайший слева цикл по отношению к самой левой вершине цикла $e_i$, задающий границу грани. Если для какого то цикла $e_q$ нет ни какого цикла слева, то тогда его соединяем в графе $G$ с бесконечной гранью. Для примера, разберем картинку:\n",
    "<img src=\"images/граф.png\" />\n",
    "Граф, изображенный на картинке соответствует изображенной фигуре. На графе двойным кружком изображены циклы, задающие границы граней, а одинарным $-$ задающие границы дырок. Очевидно, что циклы $e_3$ и $e_6$ в той же грани, что и $e_2$. Так же очевидно, что $e_1$ в бесконечной грани. \n",
    "\n",
    "По картинке заметим утверждение:\n",
    "\n",
    "**Теорема** *Каждая компонента связности графа $G$ соответсвует множеству циклов инцидентных одной гране.*\n",
    "<br>$\\triangleright$<br>\n",
    "<div style=\"padding-left:40px\">\n",
    "Рассмотрим цикл $C$, который является границей дырки грани $f$. Так как грань $f$ лежит левее самой левой вершины цикла $C$, то $C$ должно быть связан с другим циклом грани $f$. \n",
    "\n",
    "Для завершнения доказательства нам надо показать, что каждый цикл, ограничивающий дырку в грани $f$, в одной компоненте связности с границей грани $f$. Пусть существует цикл, который ограничивает дырку в грани $f$, но не лежащий в одной компоненте связности с границей грани $f$. Рассмотрим самый левый цикл $C$, который удовлетворяет предположению. Тогда его самая левая вершина в цикле $C$ тоже является самой левой. По построению сущетсвует отрезок между циклом $C$ и другим циклом $C'$, который лежит левее самой левой вершины цикла $C$. Значит $C$ и $C'$ лежат в одной компоненте связности. Значит $C'$ не граница грани $f$ и тоже не лежит в одной компоненте связности с границей $f$. Получается $C$ не самый левый цикл, который удовлетворяет преположению. Получили противоречие.\n",
    "</div>\n",
    "$\\triangleleft$\n",
    "\n",
    "Данная теорема показывает, что мы можем создать для каждой компоненты связности по грани. Потом мы можем задать $IncidentFace$ для каждого полуребра из границы грани $f$. Так же мы можем создать список $InnerComponents(f)$ и $OuterComponent(f)$.\n",
    "\n",
    "Нам осталось разобраться, как же построить граф $G$. Вспомним, что в алгоритме заметающей прямой мы искали ближайший слева отрезок от вершины. Давайте запустим заново этот алгоритм и получим информацию только для самых левых точек всех циклов. Для оптимизации давайте хранить в каждом полуребре ссылку на вершину графа $G$, содержащую данное полуребро. В алгоритме заметающей прямой, если $e$ $-$ полуребро, ближашее слева к вершине $v$, тогда мы добавим ребро в графе $G$ между двумя вершинами, соответсвующие циклу, в котором есть полуребро $e$ и в котором $v$ $-$ самая левая вершина.\n",
    "<img src=\"images/построение графа.png\" />\n",
    "\n",
    "\n",
    "В итоге, чтобы получить информацию о гранях нужно:\n",
    "* Найти все циклы в структуре, полученной из первой части алгоритма.\n",
    "* Для каждого цикла определить чем он является: границей дырки или границей грани.\n",
    "* Для каждого цикла создать вершину графа $G$.\n",
    "* Для каждого полуребра создать ссылку на вершину графа $G$, содержащую данное полуребро.\n",
    "* Запустить алгоритм заметающей прямой и построить ребра граней $G$.\n",
    "* Найти все компоненты связности графа $G$ и по ним построить грани и ссылки связанные с гранями.\n",
    "\n",
    "### Время работы\n",
    "\n",
    "Создание вершин графа $G$, нахождение циклов и определение их типа занимает линейное время. Построение граней по компонентам связности $G$ тоже занимает линейное время. Так же заметим, что в алгоритме заметающей прямой не появляются новые отрезки, а значит он будет работать за линейное время. В итоге построение граней $O(S_1,S_2)$ работает за $O(n+k)$, где $n$ - , $k$ - ."
   ]
  },
  {
   "cell_type": "code",
   "execution_count": 1,
   "metadata": {
    "collapsed": true
   },
   "outputs": [],
   "source": [
    "import solutions "
   ]
  },
  {
   "cell_type": "markdown",
   "metadata": {
    "collapsed": true,
    "scrolled": false
   },
   "source": [
    "### Упражнение 2"
   ]
  },
  {
   "cell_type": "markdown",
   "metadata": {},
   "source": [
    "* Задача:\n",
    "    * написать функцию, которая проверает, что одна грань находится внутри другой \n",
    "* Формат входных данных:\n",
    "    * $g1$, $g2$ $-$ первая и вторая грани соответственно\n",
    "    * грань задается как список точек в порядке обхода против часовой стрелки\n",
    "* Формат выходных данных:\n",
    "    * $True$ $-$ $g1$ внутри $g2$\n",
    "    * $False$ $-$ иначе"
   ]
  },
  {
   "cell_type": "code",
   "execution_count": 2,
   "metadata": {
    "collapsed": true
   },
   "outputs": [],
   "source": [
    "def inside(g1, g2):\n",
    "    # Insert your code here...\n",
    "    return []\n",
    "inside = solutions.inside    "
   ]
  },
  {
   "cell_type": "markdown",
   "metadata": {},
   "source": [
    "Проверим корректность решения:\n",
    "\n",
    "* $solutions.test$_$inside$ тестирует функцию $inside$\n",
    "* $solutions.show$_$test$ визуализирует статический тест, поданный на вход"
   ]
  },
  {
   "cell_type": "code",
   "execution_count": 3,
   "metadata": {},
   "outputs": [
    {
     "name": "stdout",
     "output_type": "stream",
     "text": [
      "passed 2 tests\n",
      "passed 4 tests\n",
      "passed 6 tests\n",
      "passed 8 tests\n",
      "All tests passed\n"
     ]
    }
   ],
   "source": [
    "solutions.test_inside(inside)"
   ]
  },
  {
   "cell_type": "code",
   "execution_count": 5,
   "metadata": {},
   "outputs": [
    {
     "name": "stdout",
     "output_type": "stream",
     "text": [
      "result=POLYGON ((3 2, 6 3, 7 2, 3 2))\n"
     ]
    },
    {
     "data": {
      "image/png": "[encoded data removed]",
      "text/plain": [
       "<matplotlib.figure.Figure at 0x10ec10b38>"
      ]
     },
     "metadata": {},
     "output_type": "display_data"
    },
    {
     "data": {
      "image/png": "[encoded data removed]",
      "text/plain": [
       "<matplotlib.figure.Figure at 0x10ec10e10>"
      ]
     },
     "metadata": {},
     "output_type": "display_data"
    }
   ],
   "source": [
    "p1=[[1, 1], [6, 6], [10, 1]]\n",
    "p2=[[3, 2], [6, 3], [7, 2]]\n",
    "p3=[[11, 2], [12, 3], [13, 2]]\n",
    "\n",
    "solutions.show_test(p1,p2)\n",
    "solutions.show_test(p1,p3)"
   ]
  },
  {
   "cell_type": "markdown",
   "metadata": {
    "collapsed": true
   },
   "source": [
    "## Связка граней из $O(S_1,S_2)$ с гранями из $S_1$ и $S_2$\n",
    "\n",
    "Для того, чтобы найти исходные грани для грани $f$ из $O(S_1,S_2)$, рассмотрю вершину $v$ грани $f$. \n",
    "\n",
    "Если $v$ — пересечение ребера $e_1$ из $S_1$ с ребром $e_2$ из $S_2$, тогда мы можем найти грани из $S_1$ и $S_2$, которые содержат грань $f$ очень просто. Для этого нам надо вызвать функцию $IncidentFace()$ в полуребрах, соответсвующие ребрам $e_1$ и $e_2$. \n",
    "\n",
    "Если $v$ — не пересечение, а вершина из $S_1$ (для $S_2$ аналогично), то мы легко можем найти грань из $S_1$, в которой содержится грань $f$. Для того, чтобы найти грань из $S_2$, содержащую $f$, нам надо проделать немного работы. Другими словами, нам надо знать для каждой вершины из $S_1$ в какой грани из $S_2$ она находится. Тогда мы сможем корректно пометить каждую грань из $O(S_1,S_2)$ гранями из $S_1$ и $S_2$. Чтобы решить эту задачу можно воспользоваться алгоритмом локализации в PSLG или алгоритмом заметающей прямой. \n",
    "\n",
    "В итоге, чтобы пометить каждую грань из $O(S_1,S_2)$ гранями из $S_1$ и $S_2$ надо:\n",
    "* Связать каждую вершину из $S_1$ c гранями из $S_2$\n",
    "* Связать каждую вершину из $S_2$ с гранями из $S_2$\n",
    "* Рассмотреть любую вершину из каждой грани из $O(S_1,S_2)$. \n",
    "\n",
    "### Время работы\n",
    "Для связки каждой вершины из $S_1$ c гранями из $S_2$ требуется $O(n*\\log n +k*\\log n)$ времени, аналогично надо связать каждую вершину из $S_2$  с гранями из $S_1$, что потребует $O(n*\\log n+k*\\log n)$ времени. Значит, чтобы пометить каждую грань из $O(S_1,S_2)$ гранями из $S_1$ и $S_2$ нам потребуется $O(n*\\log n+k*\\log n)$ времени. \n"
   ]
  },
  {
   "cell_type": "markdown",
   "metadata": {
    "collapsed": true
   },
   "source": [
    "## Итог..."
   ]
  },
  {
   "cell_type": "markdown",
   "metadata": {
    "collapsed": true
   },
   "source": [
    "# Краткое описание алгоритма\n",
    "На вход получаем два РСДС $S_1$ и $S_2$.\n",
    "Возвращаем $O(S_1,S_2)$ в виде РСДС.\n",
    "* Скопировать ребра $S_1$ в список ребер $S_2$ и получаем новый реберный список.\n",
    "* Запустить алгоритм заметающей прямой, во время которого надо создать новые ребренные связи.\n",
    "* В результате предыдущего шага, получаем $D$ - реберно список $O(S_1,S_2)$\n",
    "* Найти все циклы в реберном списке $D$\n",
    "* Для каждого цикла определить чем он является: границей дырки или границей грани.\n",
    "* Для каждого цикла создать вершину графа $G$.\n",
    "* Для каждого полуребра создать ссылку на вершину графа $G$, содержащую данное полуребро.\n",
    "* Запустить алгоритм заметающей прямой и построить ребра граней $G$.\n",
    "* Найти все компоненты связности графа $G$ и по ним построить грани и ссылки связанные с гранями.\n",
    "* Пометить каждую грань из $O(S_1,S_2)$ гранями из $S_1$ и $S_2$.\n",
    "\n",
    "# Время работы\n",
    "Пусть $n_1$ - сложность $S_1$, а $n_2$ - сложность $S_2$. Пусть $n=n_1+n_2$. Тогда по доказанному ранее первая часть алгоритма работает за $O(n \\cdot \\log(n)+k \\cdot \\log(n))$. По доказанному ранее вторая часть алгоритма работает за $O(n+k)$. Значит весь алгоритм работает за $O(n\\cdot \\log(n)+k \\cdot \\log(n))$."
   ]
  },
  {
   "cell_type": "code",
   "execution_count": 2,
   "metadata": {
    "collapsed": true
   },
   "outputs": [],
   "source": [
    "import solutions"
   ]
  },
  {
   "cell_type": "markdown",
   "metadata": {},
   "source": [
    "## Упражнение"
   ]
  },
  {
   "cell_type": "markdown",
   "metadata": {},
   "source": [
    "* Задача:\n",
    "    * написать функцию, которая пересекает многоугольники\n",
    "* Формат входных данных:\n",
    "    * $points1$ $-$ массив с вершинами первого многоугольника.\n",
    "    * $points2$ $-$ массив с вершинами второго многоугольника.\n",
    "    * вершина задается следующим образом: $[x,y]$, где $x$ и $y$ $-$ координаты вершины\n",
    "* Формат выходных данных:\n",
    "    * массив точек многоугольника, образованного пересеченем заданных многоугольников\n",
    "    * если пересечене пусто $-$ пустой массив\n",
    "    "
   ]
  },
  {
   "cell_type": "code",
   "execution_count": 4,
   "metadata": {
    "collapsed": true
   },
   "outputs": [],
   "source": [
    "def overlaying(points1, points2):\n",
    "    # Insert your code here...\n",
    "    return []\n",
    "overlaying = solutions.overlaying    "
   ]
  },
  {
   "cell_type": "markdown",
   "metadata": {},
   "source": [
    "Проверим корректность решения:\n",
    "\n",
    "* $solutions.test$_$overlaying$ тестирует функцию $overlaying$\n",
    "* $solutions.show$_$test$ показывает, что должен выдавать написанный алгоритм на статических тестах, поданных на вход"
   ]
  },
  {
   "cell_type": "code",
   "execution_count": null,
   "metadata": {
    "collapsed": true
   },
   "outputs": [],
   "source": [
    "solutions.test_overlaying(overlaying)"
   ]
  },
  {
   "cell_type": "code",
   "execution_count": 5,
   "metadata": {
    "scrolled": true
   },
   "outputs": [
    {
     "name": "stdout",
     "output_type": "stream",
     "text": [
      "result=POLYGON ((5.922779922779923 1.656370656370656, 6 1, 4.260869565217392 1.434782608695652, 5.922779922779923 1.656370656370656))\n"
     ]
    },
    {
     "data": {
      "image/png": "[encoded data removed]",
      "text/plain": [
       "<matplotlib.figure.Figure at 0x119df1fd0>"
      ]
     },
     "metadata": {},
     "output_type": "display_data"
    },
    {
     "name": "stdout",
     "output_type": "stream",
     "text": [
      "passed 2 tests\n",
      "passed 4 tests\n",
      "passed 6 tests\n",
      "passed 8 tests\n",
      "All tests passed\n"
     ]
    }
   ],
   "source": [
    "p1=[[2, 2], [4, 18], [6, 1]]\n",
    "p2=[[1, 1], [16, 3], [7, 1]]\n",
    "\n",
    "solutions.show_test(p1,p2)"
   ]
  }
 ],
 "metadata": {
  "kernelspec": {
   "display_name": "Python 3",
   "language": "python",
   "name": "python3"
  },
  "language_info": {
   "codemirror_mode": {
    "name": "ipython",
    "version": 3
   },
   "file_extension": ".py",
   "mimetype": "text/x-python",
   "name": "python",
   "nbconvert_exporter": "python",
   "pygments_lexer": "ipython3",
   "version": "3.6.2"
  }
 },
 "nbformat": 4,
 "nbformat_minor": 2
}
