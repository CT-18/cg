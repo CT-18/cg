{
 "cells": [
  {
   "cell_type": "markdown",
   "metadata": {
    "slideshow": {
     "slide_type": "slide"
    }
   },
   "source": [
    "# PSLG overlaying"
   ]
  },
  {
   "cell_type": "markdown",
   "metadata": {
    "slideshow": {
     "slide_type": "subslide"
    }
   },
   "source": [
    "\n",
    "\n",
    "## Терминология\n",
    "\n",
    "\n",
    "* ППЛГ $-$ плоский прямолинейный граф ($PSLG $). \n",
    "\n",
    "* РСДС $-$ реберный список с двойными связями ($doubly$$-$$connected$ $edge$ $lists$).\n",
    "\n",
    "* ППЛГ удобно хранить с помощью РСДС.\n"
   ]
  },
  {
   "cell_type": "markdown",
   "metadata": {
    "slideshow": {
     "slide_type": "slide"
    }
   },
   "source": [
    "## Задача\n",
    "На вход подаются многоугольники, необходимо найти их наложение. Сведем к задаче о наложении двух РСДС: по двум РСДС $S_1$ и $S_2$ необходимо построить РСДС для $O(S_1,S_2)$.\n",
    "\n"
   ]
  },
  {
   "cell_type": "markdown",
   "metadata": {
    "slideshow": {
     "slide_type": "slide"
    }
   },
   "source": [
    "<img src=\"images/построение_пплг.png\" />\n",
    "<div style=\"padding-left:230px\">\n",
    "<sub>\n",
    "$Computational$ $Geometry:$ $Algorithms$ $and$ $Applications$\n",
    "</sub>\n",
    "</div>"
   ]
  },
  {
   "cell_type": "markdown",
   "metadata": {
    "slideshow": {
     "slide_type": "subslide"
    }
   },
   "source": [
    "## Алгоритм\n",
    "\n",
    "Алгоритм работает в три этапа:\n",
    "   *  Нахождение информации о ребрах $O(S_1,S_2)$.\n",
    "   *  Построение граней $O(S_1,S_2)$.\n",
    "   *  Связать грани из $O(S_1,S_2)$ с гранями из $S_1$ и $S_2$."
   ]
  },
  {
   "cell_type": "markdown",
   "metadata": {
    "slideshow": {
     "slide_type": "slide"
    }
   },
   "source": [
    "### Нахождение информации о ребрах $O(S_1,S_2)$"
   ]
  },
  {
   "cell_type": "markdown",
   "metadata": {
    "slideshow": {
     "slide_type": "slide"
    }
   },
   "source": [
    "## Заметающая прямая "
   ]
  },
  {
   "cell_type": "markdown",
   "metadata": {
    "slideshow": {
     "slide_type": "subslide"
    }
   },
   "source": [
    "\n",
    "<img src=\"images/заметающая_прямая.png\" width=\"310\"/>\n",
    "<div style=\"padding-left:230px\">\n",
    "<sub>\n",
    "$Computational$ $Geometry:$ $Algorithms$ $and$ $Applications$\n",
    "<br>\n",
    "</sub>\n",
    "<br>\n",
    "</div>\n",
    "\n",
    "\n",
    "\n",
    "#### Время $-$ $O((n+k)\\cdot log(n))$, где $k$ $-$ количество пересечений \n",
    "#### Память $-$ $O(n)$ \n",
    "\n"
   ]
  },
  {
   "cell_type": "markdown",
   "metadata": {
    "slideshow": {
     "slide_type": "subslide"
    }
   },
   "source": [
    "Нахождение пересечений ребер из $S_1$ и $S_2$ базируется на алгоритме \"заметающей прямой\" с небольшими изменениями.\n",
    "\n",
    "\n",
    "#### Необходимые структуры данных\n",
    "\n",
    "* очередь событий $Q$;\n",
    "* статус $T$, в котором будем хранить полуребра, ориентированные слева направо.\n"
   ]
  },
  {
   "cell_type": "markdown",
   "metadata": {
    "slideshow": {
     "slide_type": "slide"
    }
   },
   "source": [
    "## Обработка ребер\n"
   ]
  },
  {
   "cell_type": "markdown",
   "metadata": {
    "slideshow": {
     "slide_type": "subslide"
    }
   },
   "source": [
    "* Скопируем РСДС $S_1$ и $S_2$ в новый РСДС."
   ]
  },
  {
   "cell_type": "markdown",
   "metadata": {
    "slideshow": {
     "slide_type": "fragment"
    }
   },
   "source": [
    "* На новом РСДС запускаем алгоритм заметающей прямой на множестве ребер, являющимся объединением ребер из $S_1$ и $S_2$. "
   ]
  },
  {
   "cell_type": "markdown",
   "metadata": {
    "slideshow": {
     "slide_type": "fragment"
    }
   },
   "source": [
    "* Переиспользуем вершины, в которые входят ребра только одного РСДС."
   ]
  },
  {
   "cell_type": "markdown",
   "metadata": {
    "slideshow": {
     "slide_type": "fragment"
    }
   },
   "source": [
    "* Меняем РСДС для остальных вершин. \n",
    "     * Пусть у нас есть два ребра $e_1$, $e_2$ и вершина $v$ $-$ событие на заметающей прямой. "
   ]
  },
  {
   "cell_type": "markdown",
   "metadata": {
    "slideshow": {
     "slide_type": "subslide"
    }
   },
   "source": [
    " ## Возможны следующие случаи:\n",
    " \n",
    "\n",
    "          "
   ]
  },
  {
   "cell_type": "markdown",
   "metadata": {
    "slideshow": {
     "slide_type": "fragment"
    }
   },
   "source": [
    " * вершина ребра $e_2$ проходит через ребро $e_1$, разбивая его на два новых ребра;"
   ]
  },
  {
   "cell_type": "markdown",
   "metadata": {
    "slideshow": {
     "slide_type": "fragment"
    }
   },
   "source": [
    " * ребро $e_1$ пересекает ребро $e_2$ и образуется четыре новых ребра;"
   ]
  },
  {
   "cell_type": "markdown",
   "metadata": {
    "slideshow": {
     "slide_type": "fragment"
    }
   },
   "source": [
    " * ребра $e_1$ и $e_2$ пересекаются в вершине;"
   ]
  },
  {
   "cell_type": "markdown",
   "metadata": {
    "slideshow": {
     "slide_type": "fragment"
    }
   },
   "source": [
    " * вершина ребра $e_1$ проходит через ребро $e_2$, разбивая его на два новых ребра;"
   ]
  },
  {
   "cell_type": "markdown",
   "metadata": {
    "slideshow": {
     "slide_type": "fragment"
    }
   },
   "source": [
    " *  ребра $e_1$ и $e_2$ имеют общий отрезок и образуют новое ребро."
   ]
  },
  {
   "cell_type": "markdown",
   "metadata": {
    "slideshow": {
     "slide_type": "subslide"
    }
   },
   "source": [
    "<img src=\"images/варианты пересечения ребер.png\" />\n",
    "<br>\n",
    "<div style=\"padding-left:230px\">\n",
    "<br>\n",
    "<sub>\n",
    "<br>\n",
    "Викиконспекты, Пересечение многоугольников\n",
    "</sub>\n",
    "</div>"
   ]
  },
  {
   "cell_type": "markdown",
   "metadata": {
    "slideshow": {
     "slide_type": "slide"
    }
   },
   "source": [
    "## Рассмотрим $4$ случай\n",
    "\n"
   ]
  },
  {
   "cell_type": "markdown",
   "metadata": {
    "slideshow": {
     "slide_type": "fragment"
    }
   },
   "source": [
    "* Получим новые полуребра."
   ]
  },
  {
   "cell_type": "markdown",
   "metadata": {
    "slideshow": {
     "slide_type": "fragment"
    }
   },
   "source": [
    "* Разберемся с $Twin()$."
   ]
  },
  {
   "cell_type": "markdown",
   "metadata": {
    "slideshow": {
     "slide_type": "fragment"
    }
   },
   "source": [
    "* Разберемся с $Prev()$ и $Next()$."
   ]
  },
  {
   "cell_type": "markdown",
   "metadata": {
    "slideshow": {
     "slide_type": "slide"
    }
   },
   "source": [
    "## Получим новые полуребра\n",
    "\n",
    "<img src=\"images/twinsh1h2.png\" />\n",
    "<div style=\"padding-left:230px\">\n",
    "</div>"
   ]
  },
  {
   "cell_type": "markdown",
   "metadata": {
    "slideshow": {
     "slide_type": "subslide"
    }
   },
   "source": [
    "## Разберемся с $Twin()$\n",
    "* устанавливаем ссылки на ребра $h_1, h_2, h_3, h_4$;\n",
    "\n",
    "* обновляем ссылки на \"твины\" для $h_1$ и $h_3$ $-$ ($h_2$ и $h_4$);\n",
    "\n",
    "* обновляем ссылки на \"твины\" для $h_2$ и $h_4$. \n",
    "\n",
    "<img src=\"images/twin.png\" width = \"400\">\n",
    "<div style=\"padding-left:230px\">\n",
    "</div>\n"
   ]
  },
  {
   "cell_type": "markdown",
   "metadata": {
    "slideshow": {
     "slide_type": "subslide"
    }
   },
   "source": [
    "## Разберемся с $Prev()$ и $Next()$\n",
    "\n",
    "* Для ребер, заканчивающихся и начинающихся на концах ребра $e$, легко определить $Next()$ и $Prev()$ соответственно, скопировав их для ребра $e$. \n",
    "\n",
    "\n",
    "<img src=\"images/prev1.png\" width=\"350\" />\n",
    "<div style=\"padding-left:230px\">\n",
    "<sub>"
   ]
  },
  {
   "cell_type": "markdown",
   "metadata": {
    "slideshow": {
     "slide_type": "subslide"
    }
   },
   "source": [
    "## Разберемся с $Prev()$ и $Next()$\n",
    "\n",
    "\n",
    "* $Prev()$ и $Next()$ для ребер, заканчивающихся в вершине $v$.\n",
    "\n",
    "<img src=\"images/prev2.png\" width=\"290\" />\n",
    "<div style=\"padding-left:230px\">\n",
    "</div>\n",
    "\n"
   ]
  },
  {
   "cell_type": "markdown",
   "metadata": {
    "slideshow": {
     "slide_type": "slide"
    }
   },
   "source": [
    "### Чтобы получить информацию о ребрах, необходимо:\n",
    "\n",
    "* Скопировать РСДС $S_1$ и $S_2$ в новый РСДС.\n",
    "\n",
    "* Запустить алгоритм заметающей прямой, во время которого надо создать новые ребренные связи.\n",
    "\n",
    "\n",
    "\n",
    "#### Время работы\n",
    " $O((n + k) \\cdot \\log(n))$, где $k$ $-$ количество точек пересечений, $n$ $-$ суммарная сложность $S_1$ и $S_2$."
   ]
  },
  {
   "cell_type": "markdown",
   "metadata": {
    "slideshow": {
     "slide_type": "slide"
    }
   },
   "source": [
    "## Построение граней $O(S_1,S_2)$"
   ]
  },
  {
   "cell_type": "markdown",
   "metadata": {
    "slideshow": {
     "slide_type": "subslide"
    }
   },
   "source": [
    "\n",
    "\n",
    "1) для каждой грани $f$ просчитать $InnerComponents(f)$ и $OuterComponent(f)$;\n",
    "\n",
    "  *  $InnerComponents(f)$ $-$ список указателей на полуребра внутренних границ.\n",
    "  \n",
    "  *  $OuterComponent(f)$ $-$ указатель на полуребро внешней границы $f$.\n",
    "    \n",
    "    \n",
    "2) установить $IncidentFace()$ для каждого полуребра.\n",
    "\n"
   ]
  },
  {
   "cell_type": "markdown",
   "metadata": {
    "slideshow": {
     "slide_type": "subslide"
    }
   },
   "source": [
    "\n",
    "## Контур\n",
    "\n",
    "$контур$ $-$ это цикл, получившийся в результате последовательного прохода по ребрам с возвращеним в исходную точку.\n",
    "\n",
    "\n",
    "\n",
    "* Найдем все контуры.\n",
    "\n",
    "* Контур $-$ граница грани или дырки?\n",
    "\n",
    "* Какие границы принадлежат одной грани?\n"
   ]
  },
  {
   "cell_type": "markdown",
   "metadata": {
    "slideshow": {
     "slide_type": "subslide"
    }
   },
   "source": [
    "## Контур $-$ граница грани или дырки?\n",
    "\n",
    "Рассмотрим самую нижнюю вершину ($v$) контура.\n",
    "\n",
    "* Поворот для полуребер контура, инцидентных вершине $v$ $-$ левый, тогда контур $-$ граница грани, иначе $-$ граница дырки.\n",
    "\n",
    "<img src=\"images/углы.png\" width=\"250\"/>\n",
    "<div style=\"padding-left:230px\">\n",
    "<sub>\n",
    "$Computational$ $Geometry:$ $Algorithms$ $and$ $Applications$\n",
    " <br>\n",
    " <br>\n",
    "</sub>\n",
    "</div>"
   ]
  },
  {
   "cell_type": "markdown",
   "metadata": {
    "slideshow": {
     "slide_type": "subslide"
    }
   },
   "source": [
    "## Какие границы принадлежат одной грани?\n",
    "\n",
    "* Добавим внешнюю бесконечную фиктивную грань.\n",
    "* Граф $G$ - для каждого контура будет вершина.\n",
    "* Вершина в графе $G$ $-$ граница бесконечной грани. "
   ]
  },
  {
   "cell_type": "markdown",
   "metadata": {
    "slideshow": {
     "slide_type": "subslide"
    }
   },
   "source": [
    "\n",
    "Рассмотрим любые две вершины $e_i$ и $e_j$ из графа $G$. \n",
    "\n"
   ]
  },
  {
   "cell_type": "markdown",
   "metadata": {
    "slideshow": {
     "slide_type": "fragment"
    }
   },
   "source": [
    "\n",
    "* $e_i$ $-$ граница дырки, а $e_j$ $-$ ближайшая снизу по отношению к самой нижней вершине границы $e_i$, граница грани. \n",
    "    *  Тогда $e_i$ $-$ внутренняя грань для $e_j$;\n",
    "    "
   ]
  },
  {
   "cell_type": "markdown",
   "metadata": {
    "slideshow": {
     "slide_type": "fragment"
    }
   },
   "source": [
    "   \n",
    "*  $e_i$ $-$ граница дырки, а $e_j$ $-$ближайшая снизу по отношению к самой нижней вершине границы $e_i$, граница дырки. \n",
    "    * Тогда $e_i$ $-$ внутренняя грань внешней грани $e_j$;\n",
    "    "
   ]
  },
  {
   "cell_type": "markdown",
   "metadata": {
    "slideshow": {
     "slide_type": "fragment"
    }
   },
   "source": [
    "\n",
    "* для контура $e_i$ нет ближайшего снизу контура. Тогда $e_i$ $-$ внутренняя грань для фиктивной бесконечной грани.\n"
   ]
  },
  {
   "cell_type": "markdown",
   "metadata": {
    "slideshow": {
     "slide_type": "subslide"
    }
   },
   "source": [
    "#### Проведем ребра между двумя вершинами\n",
    "   * если одна является дыркой другой;\n",
    "   * если одна является дыркой той же грани, что и другая.\n",
    "\n",
    "<img src=\"images/граф.png\" width=300 />\n",
    "<div style=\"padding-left:230px\">\n",
    "<sub>\n",
    "$Computational$ $Geometry:$ $Algorithms$ $and$ $Applications$\n",
    " <br>\n",
    " <br>\n",
    "</sub>\n",
    "</div>"
   ]
  },
  {
   "cell_type": "markdown",
   "metadata": {
    "slideshow": {
     "slide_type": "subslide"
    }
   },
   "source": [
    "**Теорема** \n",
    "*Каждая компонента связности графа $G$ соответсвует множеству контуров, инцидентных одной грани.*\n",
    "\n",
    "\n",
    "\n",
    "\n",
    "* Создадим для каждй компоненты связности по грани. \n",
    "<br>\n",
    "* Зададим $IncidentFace$ для каждого полуребра из границы грани $f$. \n",
    "<br>\n",
    "* Создадим список $InnerComponents(f)$ и $OuterComponent(f)$.\n",
    "\n"
   ]
  },
  {
   "cell_type": "markdown",
   "metadata": {
    "slideshow": {
     "slide_type": "slide"
    }
   },
   "source": [
    "## Построение графа $G$"
   ]
  },
  {
   "cell_type": "markdown",
   "metadata": {
    "slideshow": {
     "slide_type": "subslide"
    }
   },
   "source": [
    "\n",
    "\n",
    "#### Заметающая прямая\n",
    "\n",
    "<img src=\"images/построение.png\" width=\"250\" />\n",
    "<div style=\"padding-left:230px\">\n",
    "<sub>\n",
    "$Computational$ $Geometry:$ $Algorithms$ $and$ $Applications$\n",
    " <br>\n",
    " <br>\n",
    "</sub>\n",
    "</div>\n"
   ]
  },
  {
   "cell_type": "markdown",
   "metadata": {
    "slideshow": {
     "slide_type": "slide"
    }
   },
   "source": [
    "## Чтобы получить информацию о гранях, нужно:\n"
   ]
  },
  {
   "cell_type": "markdown",
   "metadata": {
    "slideshow": {
     "slide_type": "fragment"
    }
   },
   "source": [
    "\n",
    "* Найти все контуры в структуре, полученной из первой части алгоритма.\n"
   ]
  },
  {
   "cell_type": "markdown",
   "metadata": {
    "slideshow": {
     "slide_type": "fragment"
    }
   },
   "source": [
    "\n",
    "* Для каждого контура определить, чем он является: границей дырки или границей грани.\n"
   ]
  },
  {
   "cell_type": "markdown",
   "metadata": {
    "slideshow": {
     "slide_type": "fragment"
    }
   },
   "source": [
    "\n",
    "* Для каждого контура создать вершину графа $G$.\n"
   ]
  },
  {
   "cell_type": "markdown",
   "metadata": {
    "slideshow": {
     "slide_type": "fragment"
    }
   },
   "source": [
    "\n",
    "* Для каждого полуребра создать ссылку на вершину графа $G$, содержащую данное полуребро.\n"
   ]
  },
  {
   "cell_type": "markdown",
   "metadata": {
    "slideshow": {
     "slide_type": "skip"
    }
   },
   "source": [
    "\n",
    "* Запустить алгоритм заметающей прямой и построить ребра граней $G$.\n"
   ]
  },
  {
   "cell_type": "markdown",
   "metadata": {
    "slideshow": {
     "slide_type": "fragment"
    }
   },
   "source": [
    "\n",
    "* Найти все компоненты связности графа $G$ и по ним построить грани и ссылки, связанные с гранями.\n"
   ]
  },
  {
   "cell_type": "markdown",
   "metadata": {
    "slideshow": {
     "slide_type": "fragment"
    }
   },
   "source": [
    "\n",
    "#### Время работы $-$ $O(n+k)$\n"
   ]
  },
  {
   "cell_type": "code",
   "execution_count": 1,
   "metadata": {
    "slideshow": {
     "slide_type": "slide"
    }
   },
   "outputs": [
    {
     "name": "stdout",
     "output_type": "stream",
     "text": [
      "result=POLYGON ((3 2, 6 3, 7 2, 3 2))\n"
     ]
    },
    {
     "data": {
      "image/png": "[encoded data removed]",
      "text/plain": [
       "<matplotlib.figure.Figure at 0x10c26eac8>"
      ]
     },
     "metadata": {},
     "output_type": "display_data"
    },
    {
     "data": {
      "image/png": "[encoded data removed]",
      "text/plain": [
       "<matplotlib.figure.Figure at 0x10e8a35f8>"
      ]
     },
     "metadata": {},
     "output_type": "display_data"
    }
   ],
   "source": [
    "import solutions \n",
    "\n",
    "p1=[[1, 1], [6, 6], [10, 1]]\n",
    "p2=[[3, 2], [6, 3], [7, 2]]\n",
    "p3=[[11, 2], [12, 3], [13, 2]]\n",
    "\n",
    "solutions.show_test(p1,p2)\n",
    "solutions.show_test(p1,p3)"
   ]
  },
  {
   "cell_type": "markdown",
   "metadata": {
    "slideshow": {
     "slide_type": "slide"
    }
   },
   "source": [
    "## Связка граней из $O(S_1,S_2)$ с гранями из $S_1$ и $S_2$\n",
    "\n"
   ]
  },
  {
   "cell_type": "markdown",
   "metadata": {
    "slideshow": {
     "slide_type": "subslide"
    }
   },
   "source": [
    "## Найдем исходные грани для грани $f$ из $O(S_1,S_2)$"
   ]
  },
  {
   "cell_type": "markdown",
   "metadata": {
    "slideshow": {
     "slide_type": "subslide"
    }
   },
   "source": [
    "## Рассмотрим вершину $v$ грани $f$:"
   ]
  },
  {
   "cell_type": "markdown",
   "metadata": {
    "slideshow": {
     "slide_type": "fragment"
    }
   },
   "source": [
    "* $v$ — пересечение ребера $e_1$ из $S_1$ с ребром $e_2$ из $S_2$\n",
    "     * $IncidentFace()$ в полуребрах, соответствующих ребрам $e_1$ и $e_2$"
   ]
  },
  {
   "cell_type": "markdown",
   "metadata": {
    "slideshow": {
     "slide_type": "fragment"
    }
   },
   "source": [
    "* $v$ — не пересечение, а вершина из $S_1$\n",
    "     * грань из $S_1$ $-$ тривиально;\n",
    "     * грань из $S_2$ $-$ алгоритм заметающей прямой."
   ]
  },
  {
   "cell_type": "markdown",
   "metadata": {
    "slideshow": {
     "slide_type": "subslide"
    }
   },
   "source": [
    "### Чтобы пометить каждую грань из $O(S_1,S_2)$ гранями из $S_1$ и $S_2$, надо:\n"
   ]
  },
  {
   "cell_type": "markdown",
   "metadata": {
    "slideshow": {
     "slide_type": "fragment"
    }
   },
   "source": [
    "\n",
    "* Связать каждую вершину из $S_1$ c гранями из $S_2$.\n"
   ]
  },
  {
   "cell_type": "markdown",
   "metadata": {
    "slideshow": {
     "slide_type": "fragment"
    }
   },
   "source": [
    "\n",
    "* Связать каждую вершину из $S_2$ с гранями из $S_1$.\n"
   ]
  },
  {
   "cell_type": "markdown",
   "metadata": {
    "slideshow": {
     "slide_type": "fragment"
    }
   },
   "source": [
    "\n",
    "* Рассмотреть любую вершину из каждой грани из $O(S_1,S_2)$. \n"
   ]
  },
  {
   "cell_type": "markdown",
   "metadata": {
    "slideshow": {
     "slide_type": "fragment"
    }
   },
   "source": [
    "\n",
    "#### Время работы $-$ $O((n + k)\\cdot\\log n)$\n"
   ]
  },
  {
   "cell_type": "markdown",
   "metadata": {
    "slideshow": {
     "slide_type": "slide"
    }
   },
   "source": [
    "## Краткое описание алгоритма\n",
    "\n",
    "На вход получаем два РСДС $S_1$ и $S_2$.\n",
    "Возвращаем $O(S_1,S_2)$ в виде РСДС."
   ]
  },
  {
   "cell_type": "markdown",
   "metadata": {
    "slideshow": {
     "slide_type": "fragment"
    }
   },
   "source": [
    "* Скопировать ребра $S_1$ в список ребер $S_2$ и получить новый реберный список."
   ]
  },
  {
   "cell_type": "markdown",
   "metadata": {
    "slideshow": {
     "slide_type": "fragment"
    }
   },
   "source": [
    "* Запустить алгоритм заметающей прямой, во время которого надо создать новые ребренные связи."
   ]
  },
  {
   "cell_type": "markdown",
   "metadata": {
    "slideshow": {
     "slide_type": "fragment"
    }
   },
   "source": [
    "* В результате предыдущего шага получить $D$ - реберный список $O(S_1,S_2)$."
   ]
  },
  {
   "cell_type": "markdown",
   "metadata": {
    "slideshow": {
     "slide_type": "fragment"
    }
   },
   "source": [
    "* Найти все циклы в реберном списке $D$."
   ]
  },
  {
   "cell_type": "markdown",
   "metadata": {
    "slideshow": {
     "slide_type": "fragment"
    }
   },
   "source": [
    "* Для каждого цикла определить, чем он является: границей дырки или границей грани."
   ]
  },
  {
   "cell_type": "markdown",
   "metadata": {
    "slideshow": {
     "slide_type": "subslide"
    }
   },
   "source": [
    "## Краткое описание алгоритма\n"
   ]
  },
  {
   "cell_type": "markdown",
   "metadata": {
    "slideshow": {
     "slide_type": "fragment"
    }
   },
   "source": [
    "* Для каждого цикла создать вершину графа $G$."
   ]
  },
  {
   "cell_type": "markdown",
   "metadata": {
    "slideshow": {
     "slide_type": "fragment"
    }
   },
   "source": [
    "* Для каждого полуребра создать ссылку на вершину графа $G$, содержащую данное полуребро."
   ]
  },
  {
   "cell_type": "markdown",
   "metadata": {
    "slideshow": {
     "slide_type": "fragment"
    }
   },
   "source": [
    "* Запустить алгоритм заметающей прямой и построить ребра граней $G$."
   ]
  },
  {
   "cell_type": "markdown",
   "metadata": {
    "slideshow": {
     "slide_type": "fragment"
    }
   },
   "source": [
    "* Найти все компоненты связности графа $G$ и по ним построить грани и ссылки, связанные с гранями."
   ]
  },
  {
   "cell_type": "markdown",
   "metadata": {
    "slideshow": {
     "slide_type": "fragment"
    }
   },
   "source": [
    "* Пометить каждую грань из $O(S_1,S_2)$ гранями из $S_1$ и $S_2$."
   ]
  },
  {
   "cell_type": "markdown",
   "metadata": {
    "slideshow": {
     "slide_type": "fragment"
    }
   },
   "source": [
    "### Время работы $-$ $O((n + k) \\cdot \\log(n))$"
   ]
  },
  {
   "cell_type": "code",
   "execution_count": 13,
   "metadata": {
    "scrolled": true,
    "slideshow": {
     "slide_type": "slide"
    }
   },
   "outputs": [
    {
     "name": "stdout",
     "output_type": "stream",
     "text": [
      "result=POLYGON ((5.775280898876405 2.910112359550562, 6 1, 2.923076923076923 1.769230769230769, 5.775280898876405 2.910112359550562))\n"
     ]
    },
    {
     "data": {
      "image/png": "[encoded data removed]",
      "text/plain": [
       "<matplotlib.figure.Figure at 0x11b346390>"
      ]
     },
     "metadata": {},
     "output_type": "display_data"
    }
   ],
   "source": [
    "import solutions\n",
    "\n",
    "p1=[[2, 2], [4, 18], [6, 1]]\n",
    "p2=[[1, 1], [16, 7], [7, 1]]\n",
    "\n",
    "solutions.show_test(p1,p2)"
   ]
  }
 ],
 "metadata": {
  "celltoolbar": "Slideshow",
  "kernelspec": {
   "display_name": "Python 3",
   "language": "python",
   "name": "python3"
  },
  "language_info": {
   "codemirror_mode": {
    "name": "ipython",
    "version": 3
   },
   "file_extension": ".py",
   "mimetype": "text/x-python",
   "name": "python",
   "nbconvert_exporter": "python",
   "pygments_lexer": "ipython3",
   "version": "3.6.2"
  }
 },
 "nbformat": 4,
 "nbformat_minor": 2
}
