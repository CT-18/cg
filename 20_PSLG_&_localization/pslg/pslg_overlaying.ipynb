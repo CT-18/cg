{
 "cells": [
  {
   "cell_type": "markdown",
   "metadata": {
    "slideshow": {
     "slide_type": "slide"
    }
   },
   "source": [
    "# PSLG overlaying\n",
    "\n",
    "\n",
    "## Терминология\n",
    "\n",
    "\n",
    "* **ППЛГ** &ndash; плоский прямолинейный граф (**PSLG**).\n",
    "\n",
    "* **РСДС** &ndash; реберный список с двойными связями (**DCEL**, doubly-connected edge list).\n",
    "\n",
    "* **ППЛГ** удобно хранить с помощью **РСДС**.\n",
    "\n",
    "* **ППЛГ** $O(S_1,S_2)$ &ndash; наложение двух **ППЛГ** $S_1$ и $S_2$. Грань $f$ принадлежит $O(S_1,S_2)$ тогда и только тогда, когда существуют грани $f_1$ из $S_1$ и $f_2$ из $S_2$, что $f$ &ndash; максимальное связанное подмножество наложения $f_1$ и $f_2$.\n",
    "\n",
    "<img src=\"images/построение_пплг.png\" />\n",
    "<div style=\"padding-left:230px\">\n",
    "<sub>\n",
    "$Computational$ $Geometry:$ $Algorithms$ $and$ $Applications$\n",
    "</sub>\n",
    "</div>\n",
    "\n",
    "## Задача\n",
    "\n",
    "На вход подаются многоугольники, необходимо найти их наложение. Сведем к задаче о наложении двух РСДС: по двум РСДС $S_1$ и $S_2$ необходимо построить РСДС для $O(S_1,S_2)$.\n",
    "\n",
    "## Алгоритм\n",
    "\n",
    "Алгоритм работает в три этапа:\n",
    "   *  Нахождение информации о ребрах $O(S_1,S_2)$.\n",
    "   *  Построение граней $O(S_1,S_2)$.\n",
    "   *  Связать грани из $O(S_1,S_2)$ с гранями из $S_1$ и $S_2$."
   ]
  },
  {
   "cell_type": "markdown",
   "metadata": {
    "slideshow": {
     "slide_type": "slide"
    }
   },
   "source": [
    "## Нахождение информации о ребрах $O(S_1,S_2)$\n",
    "\n",
    "### Заметающая прямая\n",
    "тут ссылка на конспект Мехрубона\n",
    "\n",
    "Алгоритм \"заметающей прямой\" решает задачу о пересечении множества отрезков и работает за $O\\left(\\left(n + k\\right)\\cdot\\log n\\right)$, где $k$ &ndash; количество пересечений и использует $O(n)$ памяти. Главная идея этого алгоритма в том, что есть вертикальная прямая, она движется вправо и следит за событиями: \n",
    "    \n",
    "   * прямая пересекла правый конец отрезка (конец отрезка);\n",
    "   * прямая пересекла левый конец отрезка (начало отрезка);\n",
    "   * прямая пересекла точку пересечения пары отрезков.\n",
    "\n",
    "<img src=\"images/заметающая_прямая.png\" width=\"250\"/>\n",
    "<div style=\"padding-left:230px\">\n",
    "<sub>\n",
    "$Computational$ $Geometry:$ $Algorithms$ $and$ $Applications$\n",
    "</sub>\n",
    "</div>\n",
    "\n",
    "Нахождение пересечений ребер $S_1$ и $S_2$ базируется на алгоритме \"заметающей прямой\" с небольшими изменениями.\n",
    "\n",
    "**Необходимые структуры данных**\n",
    "\n",
    "* очередь событий $Q$;\n",
    "* статус $T$, в котором будем хранить полуребра, ориентированные слева направо.\n",
    "\n",
    "### Обработка ребер\n",
    "\n",
    "Будем придерживаться инварианта, что в любой момент времени события на заметающей прямой, которые мы уже обработали, пересчитаны корректно для $O(S_1,S_2)$\n",
    "\n",
    "* Скопируем РСДС $S_1$ и $S_2$ в новый РСДС. Мы получили РСДС без правильных вершинно-ребренных связей. Наша задача получить из текущего РСДС корректный РСДС.\n",
    "* На новом РСДС запускаем алгоритм заметающей прямой на множестве ребер, являющимся объединением ребер из $S_1$ и $S_2$. \n",
    "* Если на заметающей прямой мы обрабатываем событие, представляющее собой вершину, в которую входят ребра только одного РСДС, то эту вершину можно переиспользовать, и мы можем перейти к следующему событию ничего не меняя.\n",
    "* Иначе надо изменить РСДС. Пусть у нас есть два ребра $e_1$, $e_2$ и вершина $v$ $-$ событие на заметающей прямой. \n",
    "     * Возможны следующие случаи:\n",
    "          1. вершина ребра $e_2$ проходит через ребро $e_1$, разбивая его на два новых ребра;\n",
    "          \n",
    "          2. ребро $e_1$ пересекает ребро $e_2$ и образуется четыре новых ребра;\n",
    "          \n",
    "          3. ребра $e_1$ и $e_2$ пересекаются в вершине;\n",
    "          \n",
    "          4. вершина ребра $e_1$ проходит через ребро $e_2$, разбивая его на два новых ребра;\n",
    "          \n",
    "          5. ребра $e_1$ и $e_2$ имеют общий отрезок и образуют новое ребро.\n",
    "          \n",
    "\n",
    "\n",
    "\n",
    "<img src=\"images/варианты пересечения ребер.png\" />\n",
    "\n",
    "<div style=\"padding-left:230px\">\n",
    "<sub>\n",
    "[$Викиконспекты, Пересечение\\_многоугольников$](https://neerc.ifmo.ru/wiki/index.php?title=Пересечение_многоугольников_(PSLG_overlaying%29)\n",
    "</sub>\n",
    "</div>\n",
    "\n",
    "\n",
    "Рассмотрим алгоритм разбора для случая $4$, остальные случаи обрабатываются аналогично.\n",
    "* Получим новые полуребра\n",
    "\n",
    "    * Пусть ребро $e$ из $S_1$ проходит через вершину $v$ из $S_2$, разбивая его на два новых ребра. Ребро $e$ заменяется двумя ребрами $e'$ и $e''$ . Два полуребра, соотвествующие ребру $e$, заменяются на 4 полуребра $h_1, h_2, h_3, h_4$. \n",
    "    <img src=\"images/twinsh1h2.png\" />\n",
    "    <div style=\"padding-left:230px\">\n",
    "    </div>\n",
    "    \n",
    "    \n",
    "* Разберемся с $Twin()$\n",
    "\n",
    "    * Обрабатываем обратные ребра $-$ $Twin()$ $-$ (близнецы). Устанавливаем ссылки на ребра $h_1, h_2, h_3, h_4$ и обновляем ссылки на \"твины\" для $h_1$ и $h_3$ $-$ полуребра будут $h_2$ и $h_4$, также не забываем обновить ссылки на \"твины\" для $h_2$ и $h_4$ ($h_1$ и $h_3$ соответственно).\n",
    "    <img src=\"images/twin.png\" width=\"250\"/>\n",
    "    <div style=\"padding-left:230px\">\n",
    "    </div>\n",
    "    \n",
    "    \n",
    "* Разберемся с $Prev()$ и $Next()$\n",
    "\n",
    "    * Для ребер, заканчивающихся и начинающихся на концах ребра $e$, легко определить $Next()$ и $Prev()$ соответственно, скопировав их для ребра $e$.\n",
    "    * Для ребра $h_6$ установим ребро $h_3$ как $Prev()$, аналогично сделаем для ребра $h_5$.\n",
    "    <img src=\"images/prev1.png\" width=\"350\" />\n",
    "    <div style=\"padding-left:230px\">\n",
    "    </div>\n",
    "   \n",
    "    * Теперь нужно установить значения $Prev()$ и $Next()$ для ребер, заканчивающихся в вершине $v$. Определим, между какими ребрами должны находиться ребра $e'$ и $e''$ в порядке циклического обхода вокруг вершины $v$. Поймем, что полуребро $h_4$, которое заканчивается в точке $v$, должно быть связано с первым полуребром, видимым из $v$ при обходе по часовой стрелке &ndash; $h_7$, установим для $h_4$ $Next()$ &ndash; $h_7$. Обратное ему полуребро свяжем с первым ребром, заканчивающимся в $v$ при обходе против часовой стрелки, установив тем самым $Next()$. \n",
    "    <br>\n",
    "\n",
    "\n",
    "<img src=\"images/prev2.png\" width=\"290\" />\n",
    "<div style=\"padding-left:230px\">\n",
    "</div>\n",
    "    \n",
    "\n",
    "\n",
    "**В итоге, чтобы получить информацию о ребрах, необходимо:**\n",
    "\n",
    "* Скопировать РСДС $S_1$ и $S_2$ в новый РСДС.\n",
    "* Запустить алгоритм заметающей прямой, во время которого надо создать новые ребренные связи.\n",
    "\n",
    "**Время работы**\n",
    "\n",
    "Разбор каждого случая происходит за $O(p)$, где $p$ &ndash; степень вершины, так как создание и обновление ссылок на полуребра работает $O(1)$ для каждого ребра, количество которых равно степени вершины &ndash; $p$. Значит, обновление РСДС не увеличивает время работы алгоритма заметающей прямой. Из чего можно сделать вывод, что нахождение информации о вершинах и итогового РСДС работает за $O\\left(\\left(n + k\\right)\\cdot\\log n\\right)$, где $k$ $-$ количество точек пересечений, $n$ &ndash; суммарная сложность $S_1$ и $S_2$.\n",
    "\n"
   ]
  },
  {
   "cell_type": "code",
   "execution_count": 29,
   "metadata": {
    "slideshow": {
     "slide_type": "skip"
    }
   },
   "outputs": [],
   "source": [
    "import solutions "
   ]
  },
  {
   "cell_type": "markdown",
   "metadata": {
    "slideshow": {
     "slide_type": "skip"
    }
   },
   "source": [
    "### Упражнениe 1"
   ]
  },
  {
   "cell_type": "markdown",
   "metadata": {
    "slideshow": {
     "slide_type": "skip"
    }
   },
   "source": [
    "* Задача:\n",
    "    * написать функцию, которая обрабатывает событие пересечения двух полуребер, корректно перестаивая струтуру $half-edge$ (см. ниже) для случая $2$\n",
    "    * упростим задачу: будем считать, что через точку пересечения заданных ребер проходят только эти ребра, и не возникает новых пересечений на концах заданных ребер.\n",
    "* Формат входных данных:\n",
    "    * $he1$, $he2$ &ndash; полуребра, которые необходимо пересечь, соответственно\n",
    "    * $point$ &ndash; точка пересечения\n",
    "    * вершина задается следующим образом: $[x,y]$, где $x$ и $y$ $-$ координаты вершины\n",
    "* Формат выходных данных:\n",
    "    * массив получившихся полуребер в порядке обхода, начиная с вершины начала ребра $he1$\n",
    "    "
   ]
  },
  {
   "cell_type": "code",
   "execution_count": 18,
   "metadata": {
    "slideshow": {
     "slide_type": "skip"
    }
   },
   "outputs": [],
   "source": [
    "class HalfEdge:\n",
    "    __slots__ = (\"origin\", \"twin\", \"next\", \"prev\", \"face\")\n",
    "\n",
    "    def __init__(self, origin, twin=None, next=None, prev=None, face=None):\n",
    "        self.origin = origin\n",
    "        self.twin = twin\n",
    "        self.next = next\n",
    "        self.prev = prev\n",
    "        self.face = face\n",
    "\n",
    "    # origin и twin задаются с помощью ребра Edge\n",
    "class Edge:\n",
    "    def __init(self, a, b):\n",
    "        self.a = a # точка начала ребра\n",
    "        self.b = b # точка конца ребра\n",
    " \n",
    "    # пример создание полуребра\n",
    "# he1 = HalfEdge(Edge(Point(1, 2), Point(3, 2)))"
   ]
  },
  {
   "cell_type": "code",
   "execution_count": 19,
   "metadata": {
    "slideshow": {
     "slide_type": "skip"
    }
   },
   "outputs": [],
   "source": [
    "def event(he1, he2, point):\n",
    "    # Insert your code here...\n",
    "    return []\n",
    "event = solutions.event    "
   ]
  },
  {
   "cell_type": "markdown",
   "metadata": {
    "slideshow": {
     "slide_type": "skip"
    }
   },
   "source": [
    "Проверим корректность решения:\n",
    "\n",
    "* $solutions.test$_$event$ тестирует функцию $event$"
   ]
  },
  {
   "cell_type": "code",
   "execution_count": 20,
   "metadata": {
    "scrolled": true,
    "slideshow": {
     "slide_type": "skip"
    }
   },
   "outputs": [
    {
     "name": "stdout",
     "output_type": "stream",
     "text": [
      "All tests passed\n"
     ]
    }
   ],
   "source": [
    "solutions.test_event(event)"
   ]
  },
  {
   "cell_type": "markdown",
   "metadata": {
    "collapsed": true,
    "slideshow": {
     "slide_type": "slide"
    }
   },
   "source": [
    "\n",
    "\n",
    "## Построение граней $O(S_1,S_2)$\n",
    "\n",
    "В первой части мы научились создавать связи между ребрами и вершинами $O(S_1,S_2)$, но это еще не корректный РСДС. \n",
    "Нам необходимо создать грани и связать их с ребрами:\n",
    "\n",
    "1) для каждой грани $f$ просчитать $InnerComponents(f)$ и $OuterComponent(f)$;\n",
    "  *  $InnerComponents(f)$ &ndash; список указателей на полуребра внутренних границ.\n",
    "  *  $OuterComponent(f)$ &ndash; указатель на полуребро внешней границы $f$.\n",
    "    \n",
    "2) установить $IncidentFace()$ для каждого полуребра;\n",
    "\n",
    "Введем понятие $контур$ &ndash; это цикл, получившийся в результате последовательного прохода по ребрам с возвращеним в исходную точку. Обойти ребра можно при помощи $Next()$, $Prev()$.\n",
    "\n",
    "\n",
    "Из первой части алгоритма можно легко найти все контуры. Теперь возникает вопрос &ndash; как понять, что контур являются границей грани или дырки. Рассмотрим самую нижнюю вершину ($v$) контура. Определим поворот для полуребер контура, инцидентных вершине $v$. Если поворот левый, тогда контур &ndash; граница грани, иначе &ndash; граница дырки. Это свойство выполняется для самой нижней вершины контура, так как грань будет лежать по одну сторону относительно горизонтальной прямой, проходящей через вышеупомянутую вершину $v$, а для остальных может не выполняться. \n",
    "\n",
    "**Рассмотрим пример:**\n",
    "\n",
    "\n",
    "<img src=\"images/углы.png\" width=\"250\"/>\n",
    "<div style=\"padding-left:230px\">\n",
    "<sub>\n",
    "$Computational$ $Geometry:$ $Algorithms$ $and$ $Applications$\n",
    " <br>\n",
    " <br>\n",
    "</sub>\n",
    "</div>\n",
    "\n",
    "* Для полуребер $in_1$ и $out_1$ контура $e_1$ поворот правый &ndash; граница грани.\n",
    "* Для полуребер $in_2$ и $out_2$ контура $e_2$ поворот левый &ndash; граница дырки.\n",
    "\n",
    "\n",
    "Теперь остается последний вопрос &ndash; какие границы принадлежат одной грани? Для этого можно построить граф $G$. Добавим внешнюю бесконечную фиктивную грань. Для каждого контура, который задает границу грани и границу дырки, будет вершина в графе $G$. Также есть еще одна вершина в графе $G$ &ndash; граница бесконечной грани. Рассмотрим любые две вершины $e_i$ и $e_j$ из графа $G$. \n",
    "\n",
    "Возможны следующие случаи:\n",
    "\n",
    "* $e_i$ &ndash; контур, который задает границу дырки, а $e_j$ &ndash; ближайший снизу контур по отношению к самой нижней вершине контура $e_i$, задающий границу грани. Тогда $e_i$ является внутренней гранью для $e_j$;\n",
    "    \n",
    "*  $e_i$ &ndash; контур, который задает границу дырки, а $e_j$ &ndash; ближайший снизу контур по отношению к самой нижней вершине контура $e_i$, задающий границу дырки. Тогда $e_i$ является внутренней гранью внешней грани $e_j$;\n",
    "    \n",
    "* для контура $e_i$ нет ближайшего снизу контура. Тогда он является внутренней гранью для фиктивной бесконечной грани.\n",
    "\n",
    "Между $e_i$ и $e_j$ вершинами мы создадим ребро, если $e_i$ &ndash; контур, который задает границу дырки, а $e_j$ &ndash; ближайший снизу контур по отношению к самой нижней вершине контура $e_i$, задающий границу грани. Если для какого то контура $e_q$ нет никакого цикла снизу, то тогда его соединяем в графе $G$ с бесконечной гранью. Для примера разберем картинку:\n",
    "\n",
    "<img src=\"images/граф.png\" />\n",
    "<div style=\"padding-left:230px\">\n",
    "<sub>\n",
    "$Computational$ $Geometry:$ $Algorithms$ $and$ $Applications$\n",
    " <br>\n",
    " <br>\n",
    "</sub>\n",
    "</div>\n",
    "\n",
    "Граф, изображенный на картинке, соответствует изображенной фигуре. На графе двойным кружком изображены контуры, задающие границы граней, а одинарным &ndash; задающие границы дырок. Очевидно, что контуры $e_3$ и $e_6$ в той же грани, что и $e_2$. Так же очевидно, что $e_1$ в бесконечной грани. \n",
    "\n",
    "По картинке заметим утверждение:\n",
    "\n",
    "**Теорема** \n",
    "> Каждая компонента связности графа $G$ соответсвует множеству контуров, инцидентных одной грани.\n",
    "\n",
    "<br>$\\triangleright$<br>\n",
    "<div style=\"padding-left:40px\">\n",
    "Рассмотрим контур $C$, который является границей дырки грани $f$. Так как грань $f$ лежит ниже самой нижней вершины контура $C$, то $C$ должно быть связан с другим контуром грани $f$. \n",
    "\n",
    "Для завершнения доказательства нам надо показать, что каждый контур, ограничивающий дырку в грани $f$, в одной компоненте связности с границей грани $f$. Пусть существует контур, который ограничивает дырку в грани $f$, но не лежит в одной компоненте связности с границей грани $f$. Рассмотрим самый нижний контур $C$, который удовлетворяет предположению. Тогда его самая нижняя вершина в контуре $C$ тоже является самой нижней. По построению существует отрезок между циклом $C$ и другим циклом $C'$, который лежит ниже самой нижней вершины цикла $C$. Значит $C$ и $C'$ лежат в одной компоненте связности. Значит $C'$ не границы грани $f$ и тоже не лежит в одной компоненте связности с границей $f$. Получается $C$ не самый нижний контур, который удовлетворяет преположению. Получили противоречие.\n",
    "</div>\n",
    "$\\triangleleft$\n",
    "<br>\n",
    "\n",
    "Данная теорема показывает, что мы можем создать для каждой компоненты связности по грани. Потом мы можем задать $IncidentFace$ для каждого полуребра из границы грани $f$. Так же мы можем создать список $InnerComponents(f)$ и $OuterComponent(f)$.\n",
    "\n",
    "Нам осталось разобраться, как же построить граф $G$. Давайте запустим заново алгоритм заметающей прямой и получим информацию для самых нижних точек всех контуров. Для оптимизации давайте хранить в каждом полуребре ссылку на вершину графа $G$, содержащую данное полуребро. В алгоритме заметающей прямой, если $e$ &ndash; полуребро, ближашее снизу к вершине $v$, тогда мы добавим ребро в графе $G$ между двумя вершинами, соответствующих контуру, в котором есть полуребро $e$ и в котором $v$ &ndash; самая нижняя вершина.\n",
    "\n",
    "<img src=\"images/построение.png\" width=\"250\" />\n",
    "<div style=\"padding-left:230px\">\n",
    "<sub>\n",
    "$Computational$ $Geometry:$ $Algorithms$ $and$ $Applications$\n",
    " <br>\n",
    " <br>\n",
    "</sub>\n",
    "</div>\n",
    "\n",
    "\n",
    "**В итоге, чтобы получить информацию о гранях, нужно:**\n",
    "\n",
    "* Найти все контуры в структуре, полученной из первой части алгоритма.\n",
    "* Для каждого контура определить, чем он является: границей дырки или границей грани.\n",
    "* Для каждого контура создать вершину графа $G$.\n",
    "* Для каждого полуребра создать ссылку на вершину графа $G$, содержащую данное полуребро.\n",
    "* Запустить алгоритм заметающей прямой и построить ребра граней $G$.\n",
    "* Найти все компоненты связности графа $G$ и по ним построить грани и ссылки, связанные с гранями.\n",
    "\n",
    "**Время работы**\n",
    "\n",
    "Создание вершин графа $G$, нахождение контуров и определение их типа занимает линейное время. Построение граней по компонентам связности $G$ тоже занимает линейное время. Так же заметим, что в алгоритме заметающей прямой не появляются новые отрезки, а значит он будет работать за линейное время. В итоге построение граней $O(S_1,S_2)$ работает за $O\\left(n + k\\right)$."
   ]
  },
  {
   "cell_type": "code",
   "execution_count": 21,
   "metadata": {
    "slideshow": {
     "slide_type": "skip"
    }
   },
   "outputs": [],
   "source": [
    "import solutions "
   ]
  },
  {
   "cell_type": "markdown",
   "metadata": {
    "collapsed": true,
    "scrolled": false,
    "slideshow": {
     "slide_type": "skip"
    }
   },
   "source": [
    "### Упражнение 2"
   ]
  },
  {
   "cell_type": "markdown",
   "metadata": {},
   "source": [
    "* Задача:\n",
    "    * написать функцию, которая проверяет, что одна грань находится внутри другой \n",
    "* Формат входных данных:\n",
    "    * $g1$, $g2$ &ndash; первая и вторая грани соответственно\n",
    "    * грань задается как список точек в порядке обхода против часовой стрелки\n",
    "* Формат выходных данных:\n",
    "    * $True$ &ndash; $g1$ внутри $g2$\n",
    "    * $False$ &ndash; иначе"
   ]
  },
  {
   "cell_type": "code",
   "execution_count": 22,
   "metadata": {
    "slideshow": {
     "slide_type": "skip"
    }
   },
   "outputs": [],
   "source": [
    "def inside(g1, g2):\n",
    "    # Insert your code here...\n",
    "    return []\n",
    "inside = solutions.inside    "
   ]
  },
  {
   "cell_type": "markdown",
   "metadata": {
    "slideshow": {
     "slide_type": "skip"
    }
   },
   "source": [
    "Проверим корректность решения:\n",
    "\n",
    "* $solutions.test$_$inside$ тестирует функцию $inside$\n",
    "* $solutions.show$_$test$ визуализирует статический тест, поданный на вход"
   ]
  },
  {
   "cell_type": "code",
   "execution_count": 23,
   "metadata": {
    "slideshow": {
     "slide_type": "skip"
    }
   },
   "outputs": [
    {
     "name": "stdout",
     "output_type": "stream",
     "text": [
      "passed 2 tests\n",
      "passed 4 tests\n",
      "passed 6 tests\n",
      "passed 8 tests\n",
      "All tests passed\n"
     ]
    }
   ],
   "source": [
    "solutions.test_inside(inside)"
   ]
  },
  {
   "cell_type": "code",
   "execution_count": 24,
   "metadata": {
    "slideshow": {
     "slide_type": "slide"
    }
   },
   "outputs": [
    {
     "name": "stdout",
     "output_type": "stream",
     "text": [
      "result=POLYGON ((3 2, 6 3, 7 2, 3 2))\n"
     ]
    },
    {
     "data": {
      "image/png": "[encoded data removed]",
      "text/plain": [
       "<matplotlib.figure.Figure at 0x10fe340f0>"
      ]
     },
     "metadata": {},
     "output_type": "display_data"
    },
    {
     "data": {
      "image/png": "[encoded data removed]",
      "text/plain": [
       "<matplotlib.figure.Figure at 0x10feb3be0>"
      ]
     },
     "metadata": {},
     "output_type": "display_data"
    }
   ],
   "source": [
    "p1=[[1, 1], [6, 6], [10, 1]]\n",
    "p2=[[3, 2], [6, 3], [7, 2]]\n",
    "p3=[[11, 2], [12, 3], [13, 2]]\n",
    "\n",
    "solutions.show_test(p1,p2)\n",
    "solutions.show_test(p1,p3)"
   ]
  },
  {
   "cell_type": "markdown",
   "metadata": {
    "collapsed": true,
    "slideshow": {
     "slide_type": "slide"
    }
   },
   "source": [
    "## Связка граней из $O(S_1,S_2)$ с гранями из $S_1$ и $S_2$\n",
    "\n",
    "Для того, чтобы найти исходные грани для грани $f$ из $O(S_1,S_2)$, рассмотрим вершину $v$ грани $f$. \n",
    "\n",
    "Если $v$ &ndash; пересечение ребера $e_1$ из $S_1$ с ребром $e_2$ из $S_2$, тогда мы можем найти грани из $S_1$ и $S_2$, которые содержат грань $f$, очень просто. Для этого надо вызвать функцию $IncidentFace()$ в полуребрах, соответствующих ребрам $e_1$ и $e_2$. \n",
    "\n",
    "Если $v$ — не пересечение, а вершина из $S_1$ (для $S_2$ аналогично), то мы легко можем найти грань из $S_1$, в которой содержится грань $f$. Для того, чтобы найти грань из $S_2$, содержащую $f$, нам надо проделать немного работы. Другими словами, нам надо знать для каждой вершины из $S_1$, в какой грани из $S_2$ она находится. Тогда мы сможем корректно пометить каждую грань из $O(S_1,S_2)$ гранями из $S_1$ и $S_2$. Чтобы решить эту задачу, можно воспользоваться алгоритмом локализации в PSLG или алгоритмом заметающей прямой. \n",
    "\n",
    "**В итоге, чтобы пометить каждую грань из $O(S_1,S_2)$ гранями из $S_1$ и $S_2$, нужно:**\n",
    "\n",
    "* Связать каждую вершину из $S_1$ c гранями из $S_2$.\n",
    "* Связать каждую вершину из $S_2$ с гранями из $S_1$.\n",
    "* Рассмотреть любую вершину из каждой грани из $O(S_1,S_2)$. \n",
    "\n",
    "**Время работы**\n",
    "\n",
    "Для связки каждой вершины из $S_1$ c гранями из $S_2$ требуется $O\\left(\\left(n + k\\right)\\cdot\\log n\\right)$ времени, аналогично надо связать каждую вершину из $S_2$  с гранями из $S_1$, что потребует $O\\left(\\left(n + k\\right)\\cdot\\log n\\right)$ времени. Значит, чтобы пометить каждую грань из $O(S_1,S_2)$ гранями из $S_1$ и $S_2$, нам потребуется $O\\left(\\left(n + k\\right)\\cdot\\log n\\right)$ времени. \n"
   ]
  },
  {
   "cell_type": "markdown",
   "metadata": {
    "collapsed": true,
    "slideshow": {
     "slide_type": "slide"
    }
   },
   "source": [
    "## Итог..."
   ]
  },
  {
   "cell_type": "markdown",
   "metadata": {
    "collapsed": true,
    "slideshow": {
     "slide_type": "subslide"
    }
   },
   "source": [
    "# Краткое описание алгоритма\n",
    "На вход получаем два РСДС $S_1$ и $S_2$.\n",
    "Возвращаем $O(S_1,S_2)$ в виде РСДС.\n",
    "* Скопировать ребра $S_1$ в список ребер $S_2$ и получить новый реберный список.\n",
    "* Запустить алгоритм заметающей прямой, во время которого надо создать новые ребренные связи.\n",
    "* В результате предыдущего шага получить $D$ &ndash; реберный список $O(S_1,S_2)$.\n",
    "* Найти все циклы в реберном списке $D$.\n",
    "* Для каждого цикла определить, чем он является: границей дырки или границей грани.\n",
    "* Для каждого цикла создать вершину графа $G$.\n",
    "* Для каждого полуребра создать ссылку на вершину графа $G$, содержащую данное полуребро.\n",
    "* Запустить алгоритм заметающей прямой и построить ребра граней $G$.\n",
    "* Найти все компоненты связности графа $G$ и по ним построить грани и ссылки, связанные с гранями.\n",
    "* Пометить каждую грань из $O(S_1,S_2)$ гранями из $S_1$ и $S_2$.\n",
    "\n",
    "**Время работы**\n",
    "\n",
    "Пусть $n_1$ &ndash; сложность $S_1$, а $n_2$ &ndash; сложность $S_2$. Пусть $n=n_1+n_2$. Тогда по доказанному ранее первая часть алгоритма работает за $O\\left(\\left(n + k\\right)\\cdot\\log n\\right)$. Вторая часть алгоритма работает за $O(n+k)$. Значит весь алгоритм работает за $O\\left(\\left(n + k\\right)\\cdot\\log n\\right)$.\n"
   ]
  },
  {
   "cell_type": "code",
   "execution_count": 25,
   "metadata": {
    "slideshow": {
     "slide_type": "skip"
    }
   },
   "outputs": [],
   "source": [
    "import solutions"
   ]
  },
  {
   "cell_type": "markdown",
   "metadata": {
    "slideshow": {
     "slide_type": "skip"
    }
   },
   "source": [
    "## Упражнение 3"
   ]
  },
  {
   "cell_type": "markdown",
   "metadata": {
    "slideshow": {
     "slide_type": "skip"
    }
   },
   "source": [
    "* Задача:\n",
    "    * написать функцию, которая пересекает многоугольники\n",
    "* Формат входных данных:\n",
    "    * $points1$ &ndash; массив с вершинами первого многоугольника.\n",
    "    * $points2$ &ndash; массив с вершинами второго многоугольника.\n",
    "    * вершина задается следующим образом: $[x,y]$, где $x$ и $y$ &ndash; координаты вершины\n",
    "* Формат выходных данных:\n",
    "    * массив точек многоугольника, образованного пересечением заданных многоугольников\n",
    "    * если пересечение пусто &ndash; пустой массив\n",
    "    "
   ]
  },
  {
   "cell_type": "code",
   "execution_count": 26,
   "metadata": {
    "slideshow": {
     "slide_type": "skip"
    }
   },
   "outputs": [],
   "source": [
    "def overlaying(points1, points2):\n",
    "    # Insert your code here...\n",
    "    return []\n",
    "overlaying = solutions.overlaying    "
   ]
  },
  {
   "cell_type": "markdown",
   "metadata": {
    "slideshow": {
     "slide_type": "skip"
    }
   },
   "source": [
    "Проверим корректность решения:\n",
    "\n",
    "* $solutions.test$_$overlaying$ тестирует функцию $overlaying$\n",
    "* $solutions.show$_$test$ показывает, что должен выдавать написанный алгоритм на статических тестах, поданных на вход"
   ]
  },
  {
   "cell_type": "code",
   "execution_count": 27,
   "metadata": {
    "slideshow": {
     "slide_type": "skip"
    }
   },
   "outputs": [
    {
     "name": "stdout",
     "output_type": "stream",
     "text": [
      "passed 2 tests\n",
      "passed 4 tests\n",
      "passed 6 tests\n",
      "passed 8 tests\n",
      "All tests passed\n"
     ]
    }
   ],
   "source": [
    "solutions.test_overlaying(overlaying)"
   ]
  },
  {
   "cell_type": "code",
   "execution_count": 28,
   "metadata": {
    "scrolled": true,
    "slideshow": {
     "slide_type": "slide"
    }
   },
   "outputs": [
    {
     "name": "stdout",
     "output_type": "stream",
     "text": [
      "result=POLYGON ((5.775280898876405 2.910112359550562, 6 1, 2.923076923076923 1.769230769230769, 5.775280898876405 2.910112359550562))\n"
     ]
    },
    {
     "data": {
      "image/png": "[encoded data removed]",
      "text/plain": [
       "<matplotlib.figure.Figure at 0x10ffe1e80>"
      ]
     },
     "metadata": {},
     "output_type": "display_data"
    }
   ],
   "source": [
    "p1=[[2, 2], [4, 18], [6, 1]]\n",
    "p2=[[1, 1], [16, 7], [7, 1]]\n",
    "\n",
    "solutions.show_test(p1,p2)"
   ]
  },
  {
   "cell_type": "code",
   "execution_count": null,
   "metadata": {},
   "outputs": [],
   "source": []
  },
  {
   "cell_type": "code",
   "execution_count": null,
   "metadata": {},
   "outputs": [],
   "source": []
  }
 ],
 "metadata": {
  "celltoolbar": "Slideshow",
  "kernelspec": {
   "display_name": "Python 3",
   "language": "python",
   "name": "python3"
  },
  "language_info": {
   "codemirror_mode": {
    "name": "ipython",
    "version": 3
   },
   "file_extension": ".py",
   "mimetype": "text/x-python",
   "name": "python",
   "nbconvert_exporter": "python",
   "pygments_lexer": "ipython3",
   "version": "3.6.2"
  }
 },
 "nbformat": 4,
 "nbformat_minor": 2
}
