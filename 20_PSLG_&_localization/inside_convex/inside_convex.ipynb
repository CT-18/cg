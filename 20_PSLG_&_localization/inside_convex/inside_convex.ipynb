{
 "cells": [
  {
   "cell_type": "markdown",
   "metadata": {
    "collapsed": true
   },
   "source": [
    "# Принадлежность точки выпуклому многоугольнику\n",
    "\n",
    "\n",
    "## Определение\n",
    "\n",
    "* **Выпуклый многоугольник** &ndash; многоугольник, все точки которого лежат по одну сторону от любой прямой, проходящей через две его соседние вершины.\n",
    "\n",
    "##  Задача\n",
    "\n",
    "Задан выпуклый многоугольник и точка. Требуется определить, находится ли заданная точка внутри этого многоугольника.\n",
    "\n",
    "\n",
    "## Описание алгоритма\n",
    "\n",
    "На вход подаются $P_i$ &ndash; вершины выпуклого многоугольника, занумерованные в порядке обхода (против часовой стрелки), а также искомая точка $A$. $n$ &ndash; число вершин многоугольника. \n",
    "\n",
    "Воспользуемся бинарным поиском. Будем уменьшать область поиска в многоугольнике в два раза на каждой итерации, сокращая тем самым количество отрезков для проверки.\n",
    "\n",
    "\n",
    "* Возьмем первую точку $P_0$ и определим, в каком угле $P_iP_0P_{i+1}$ находится искомая точка $A$.  \n",
    "* На первом шаге определим, попадает ли точка $A$ в угол $P_{n-1}P_0P_1$. Если точка справа от ребра [$P_0P_1$] или справа от ребра [$P_{n-1}P_0$] (поворот меньше нуля), то искомая точка не попадает в заданный угол, значит, она гарантированно находится вне прямоугольника.\n",
    "* Иначе используем бинарный поиск. Полагаем $l = 1$, $r = {n-1}$, где $l$ и $r$ $-$ левая и правая границы текущего сегмента соответственно. Вычисляем среднюю вершину ${q = (l + r) / 2}$. Вектор [${P_0P_q}$] разбивает наш угол на два новых угла. Смотрим положение точки $A$ относительно вектора [${P_0P_q}$]  и определяем, в каком сегменте находится наша точка. Переходим к следующей итерации изменив границы.\n",
    "* Таким образом, будем искать бин-поиском, между какими диагоналями лежит точка, т. е. найдем такое $i$, что поворот ($P_{i}$, $P_{0}$, $A$) и ($P_{i+1}$, $P_{0}$, $A$) различный.\n",
    "* На заключительном шаге достаточно посмотреть, с какой стороны точка лежит относительно отрезка [$P_iP_{i+1}$]. Если слева, то точка принадлежит многоугольнику, иначе нет.\n",
    "\n",
    "## Время работы\n",
    "\n",
    "Время работы бин-поиска $O\\left(\\log\\left(n\\right)\\right)$, так как на каждой итерации бин-поиска делается $O(1)$ поворотов. Тогда время работы алгоритма $O\\left(\\log\\left(n\\right)\\right)$.\n",
    "\n",
    "## Память\n",
    "\n",
    "Не используем дополнительную память кроме памяти на входные и выходные данные, следовательно требуемая память $O\\left(n\\right)$\n",
    "\n",
    "## Пример использования\n",
    "\n",
    "Решим задачу для точек $A$, $B$, $C$\n",
    "\n",
    "<p align=\"center\">\n",
    "<img src=\"images/intersect_1.png\" width=\"300\"/>\n",
    "</p>\n",
    "\n",
    "1) точка будет точно находиться вне многоугольника, если она будет вне угла $P_1P_0P_4$;\n",
    "\n",
    "2) точка будет находиться внутри угла $P_i$$P_0$$P_j$ тогда и только тогда, когда предикаты поворотов будет одинаковым для точек ($P_i,P_0,P_j$) и ($P_i,P_0,p$) и для точек ($P_j,P_0,P_i$), ($P_j,P_0,p$);\n",
    "\n",
    "3) для выпуклого многоугольника достаточно, чтобы $i<j$ и повороты ($P_i,P_0,p$), ($P_0,P_j,p$) были правыми, так как в выпуклом многоульнике все вершины задаются против часовой стрелк;\n",
    "\n",
    "\n",
    "* $A$:\n",
    "     * Точка $A$ находится вне угла $P_1P_0P_4$, значит она точно не принадлежит многоугольнику\n",
    "\n",
    "<p align=\"center\">\n",
    "<img src=\"images/intersect_2.png\" width=\"300\"/>\n",
    "</p>\n",
    "\n",
    "* $B$:\n",
    "     * В нашем случае точка внутри угла $P_1P_0P_4$, найдем внутри какого угла $P_iP_0P_{i+1}$ находится точка.\n",
    "     * Используем бин-поиск. Если точка находится внутри угла $P_1P_0P_2$, то она не может находиться в угле $P_2P_0P_4$ и, значит, не может находиться ни в одном меньшем угле, который находится внутри угла $P_2P_0P_4$. \n",
    "     * Аналогичными действиями можно отсекать на каждом шаге по половине углов, в которых может быть точка. \n",
    " \n",
    "<p align=\"center\">\n",
    "<img src=\"images/intersect_3.png\" width=\"300\"/>\n",
    "</p>\n",
    "\n",
    "* $B$:\n",
    "     * Определили, что наша точка находится в сегменте $P_1P_0P_2$\n",
    "     * Теперь поймем, что точка $B$ находится слева от отрезка [$P_1P_2$], значит, принадлежит многоугольнику.\n",
    " \n",
    "<p align=\"center\">\n",
    "<img src=\"images/intersect_7.png\" width=\"300\"/>\n",
    "</p>\n",
    "\n",
    "* $C$:\n",
    "     * Для точки $C$ все рассуждения аналогичны, за исключением последнего пункта: точка $C$ находится справа от отрезка [$P_1P_2$], значит, не принадлежит многоугольнику.\n",
    " \n",
    "<p align=\"center\">\n",
    "<img src=\"images/intersect_6.png\" width=\"300\"/>\n",
    "</p>\n",
    "    \n",
    "\n"
   ]
  },
  {
   "cell_type": "markdown",
   "metadata": {
    "collapsed": true
   },
   "source": [
    "# Упражнения"
   ]
  },
  {
   "cell_type": "code",
   "execution_count": 1,
   "metadata": {
    "collapsed": true
   },
   "outputs": [],
   "source": [
    "import solutions "
   ]
  },
  {
   "cell_type": "markdown",
   "metadata": {
    "collapsed": true
   },
   "source": [
    "## Упражнение  1"
   ]
  },
  {
   "cell_type": "markdown",
   "metadata": {
    "collapsed": true
   },
   "source": [
    "* Задача:\n",
    "    * написать функцию, которая проверяет принадлежность точки треугольнику\n",
    "* Формат входных данных:\n",
    "    * $points$ &ndash; массив с вершинами треугольника.\n",
    "    * вершина задается следующим образом: $[x,y]$, где $x$ и $y$ $-$ координаты вершины\n",
    "    * $point$ &ndash; точка, принадлежность которой надо проверить\n",
    "* Формат выходных данных:\n",
    "    * $True$ &ndash; точка $p$ лежит внутри треугольника\n",
    "    * $False$ &ndash; иначе\n"
   ]
  },
  {
   "cell_type": "code",
   "execution_count": 2,
   "metadata": {
    "collapsed": true
   },
   "outputs": [],
   "source": [
    "def check_triangle(points, point):\n",
    "# insert your code here...\n",
    "   return False\n",
    "\n",
    "check_triangle = solutions.check_triangle"
   ]
  },
  {
   "cell_type": "markdown",
   "metadata": {
    "collapsed": true
   },
   "source": [
    "Проверим корректность решения:\n",
    "\n",
    "* $solutions.test$_$triangle$ тестирует функцию $check\\_triangle$\n",
    "* $solutions.show$_$test$ показывает, что выдает написанный алгоритм на статических тестах, поданных на вход"
   ]
  },
  {
   "cell_type": "code",
   "execution_count": 3,
   "metadata": {},
   "outputs": [
    {
     "name": "stdout",
     "output_type": "stream",
     "text": [
      "passed 50 tests\n",
      "passed 100 tests\n",
      "passed 150 tests\n",
      "All tests passed\n"
     ]
    },
    {
     "data": {
      "image/png": "[encoded data removed]",
      "text/plain": [
       "<matplotlib.figure.Figure at 0x10caadef0>"
      ]
     },
     "metadata": {},
     "output_type": "display_data"
    }
   ],
   "source": [
    "test=[[[2, 2], [24, 21], [16, 6]],\n",
    "     [5, 3]]\n",
    "    \n",
    "solutions.test_triangle(check_triangle)\n",
    "solutions.show_test(test,check_triangle) "
   ]
  },
  {
   "cell_type": "markdown",
   "metadata": {
    "collapsed": true
   },
   "source": [
    "## Упражнение  2"
   ]
  },
  {
   "cell_type": "markdown",
   "metadata": {
    "collapsed": true
   },
   "source": [
    "* Задача:\n",
    "    * написать функцию, которая проверяет принадлежность точки многоугольнику\n",
    "* Формат входных данных:\n",
    "    * $points$ &ndash; массив с вершинами многоугольника\n",
    "    * вершина задается следующим образом: $[x,y]$, где $x$ и $y$ $-$ координаты вершины\n",
    "    * $point$ &ndash; точка, принадлежность которой надо проверить\n",
    "* Формат выходных данных:\n",
    "    * $True$ &ndash; точка $p$ лежит внутри многоугольника\n",
    "    * $False$ &ndash; иначе"
   ]
  },
  {
   "cell_type": "code",
   "execution_count": 4,
   "metadata": {
    "collapsed": true
   },
   "outputs": [],
   "source": [
    "def check(points,point):\n",
    "# insert your code here...\n",
    "   return True\n",
    "    \n",
    "check = solutions.check"
   ]
  },
  {
   "cell_type": "markdown",
   "metadata": {
    "collapsed": true
   },
   "source": [
    "Проверим корректность решения:\n",
    "\n",
    "* $solutions.test$ тестирует функцию $check$\n",
    "* если какой-то тест не будет пройден, то будет картинка, которая покажет этот тест и покажет синим цветом какая вершина нулевая \n",
    "* $solutions.show$_$test$ показывает, что выдает написанный алгоритм на статических тестах, поданных на вход"
   ]
  },
  {
   "cell_type": "code",
   "execution_count": 5,
   "metadata": {
    "scrolled": false
   },
   "outputs": [
    {
     "name": "stdout",
     "output_type": "stream",
     "text": [
      "passed 50 tests\n",
      "passed 100 tests\n",
      "passed 150 tests\n",
      "All tests passed\n"
     ]
    },
    {
     "data": {
      "image/png": "[encoded data removed]",
      "text/plain": [
       "<matplotlib.figure.Figure at 0x118320c18>"
      ]
     },
     "metadata": {},
     "output_type": "display_data"
    }
   ],
   "source": [
    "test=[[[11, 24], [1, 23], [1, 17], [2, 6], [4, 1], [10, 1], [19, 5], [21, 19], [20, 23]],\n",
    "     [0, 7]]\n",
    "\n",
    "solutions.test(check)\n",
    "solutions.show_test(test,check)"
   ]
  }
 ],
 "metadata": {
  "kernelspec": {
   "display_name": "Python 3",
   "language": "python",
   "name": "python3"
  },
  "language_info": {
   "codemirror_mode": {
    "name": "ipython",
    "version": 3
   },
   "file_extension": ".py",
   "mimetype": "text/x-python",
   "name": "python",
   "nbconvert_exporter": "python",
   "pygments_lexer": "ipython3",
   "version": "3.6.2"
  }
 },
 "nbformat": 4,
 "nbformat_minor": 2
}
