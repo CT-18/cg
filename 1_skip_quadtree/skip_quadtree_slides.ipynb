{
 "cells": [
  {
   "cell_type": "markdown",
   "metadata": {
    "deletable": true,
    "editable": true,
    "slideshow": {
     "slide_type": "slide"
    }
   },
   "source": [
    "## Quadtree\n",
    "\n",
    "**Quadtree** *(или квадродерево)* — дерево, каждая внутренняя вершина которого содержит 4 ребёнка. \n",
    "\n",
    "Каждой вершине $v$ квадродерева соответствует некоторый квадрат $a$,\n",
    "детям вершины $v$ соответствуют четверти квадрата $a$.\n",
    "\n",
    "<img src=\"src/SimpleQuadtree.svg\">"
   ]
  },
  {
   "cell_type": "markdown",
   "metadata": {
    "deletable": true,
    "editable": true,
    "slideshow": {
     "slide_type": "slide"
    }
   },
   "source": [
    "### Проблемы?"
   ]
  },
  {
   "cell_type": "markdown",
   "metadata": {
    "deletable": true,
    "editable": true,
    "slideshow": {
     "slide_type": "fragment"
    }
   },
   "source": [
    "Высота дерева может быть очень большой вне зависимости от количества точек в квадродереве.\n",
    "\n",
    "<img src=\"src/QuadtreeWorstCase.svg\" />"
   ]
  },
  {
   "cell_type": "markdown",
   "metadata": {
    "deletable": true,
    "editable": true,
    "slideshow": {
     "slide_type": "slide"
    }
   },
   "source": [
    "## Composed Quadtree\n",
    "\n",
    "Назовём квадрат **интересным**, если соответствующая ему вершина дерева имеет хотя бы два непустых ребёнка или является корнем.\n",
    "\n",
    "Сжатое квадродерево получается сжатием обычного таким образом, чтобы остались только **интересные** квадраты. \n",
    "\n",
    "<img src=\"src/SimpleToComposed.svg\"/>"
   ]
  },
  {
   "cell_type": "markdown",
   "metadata": {
    "deletable": true,
    "editable": true,
    "slideshow": {
     "slide_type": "slide"
    }
   },
   "source": [
    "**Лемма (о высоте сжатого квадродерева) :**\n",
    "\n",
    "Сжатое квадродерево для $n$ точек имеет $O(n)$ вершин и глубину $O(n)$."
   ]
  },
  {
   "cell_type": "markdown",
   "metadata": {
    "deletable": true,
    "editable": true,
    "slideshow": {
     "slide_type": "slide"
    }
   },
   "source": [
    "### Локализация\n",
    "\n",
    "**Локализация** - поиск наименьшего интересного квадрата, где геометрически находится интересующая точка. \n",
    "\n",
    "<img src=\"src/QuadtreeLocalisation.svg\" />"
   ]
  },
  {
   "cell_type": "markdown",
   "metadata": {
    "deletable": true,
    "editable": true,
    "slideshow": {
     "slide_type": "slide"
    }
   },
   "source": [
    "### Вставка\n",
    "\n",
    "1. Локализация\n",
    "2. Вставка точки в найденный интересный квадрат"
   ]
  },
  {
   "cell_type": "markdown",
   "metadata": {
    "deletable": true,
    "editable": true,
    "slideshow": {
     "slide_type": "subslide"
    }
   },
   "source": [
    "    \n",
    "* Если четверть пустая <br>\n",
    "    <img src=\"src/QuadtreeInsert_1.svg\" />"
   ]
  },
  {
   "cell_type": "markdown",
   "metadata": {
    "deletable": true,
    "editable": true,
    "slideshow": {
     "slide_type": "subslide"
    }
   },
   "source": [
    "* Если четверть не пустая <br>\n",
    "    <img src=\"src/QuadtreeInsert_2.svg\" />"
   ]
  },
  {
   "cell_type": "markdown",
   "metadata": {
    "deletable": true,
    "editable": true,
    "slideshow": {
     "slide_type": "slide"
    }
   },
   "source": [
    "### Удаление\n",
    "\n",
    "1. Локализация\n",
    "2. Удаление точки из найденного интересного квадрата"
   ]
  },
  {
   "cell_type": "markdown",
   "metadata": {
    "deletable": true,
    "editable": true,
    "slideshow": {
     "slide_type": "subslide"
    }
   },
   "source": [
    "<img src=\"src/QuadtreeRemove_1.svg\" />"
   ]
  },
  {
   "cell_type": "markdown",
   "metadata": {
    "deletable": true,
    "editable": true,
    "slideshow": {
     "slide_type": "subslide"
    }
   },
   "source": [
    "Если после удаления найденный квадрат перестал  быть интересным:\n",
    "\n",
    "<img src=\"src/QuadtreeRemove_2.svg\" />"
   ]
  },
  {
   "cell_type": "markdown",
   "metadata": {
    "deletable": true,
    "editable": true,
    "slideshow": {
     "slide_type": "slide"
    }
   },
   "source": [
    "### Проблемы?"
   ]
  },
  {
   "cell_type": "markdown",
   "metadata": {
    "deletable": true,
    "editable": true,
    "slideshow": {
     "slide_type": "fragment"
    }
   },
   "source": [
    "В наихудшем случае высота дерева зависит линейно от количества точек.\n",
    "\n",
    "<img src=\"src/ComposedQuadtreeWorstCase.svg\" />"
   ]
  },
  {
   "cell_type": "markdown",
   "metadata": {
    "deletable": true,
    "editable": true,
    "slideshow": {
     "slide_type": "slide"
    }
   },
   "source": [
    "## Skip Quadtree\n",
    "\n",
    "<img src=\"src/SQTree.svg\">"
   ]
  },
  {
   "cell_type": "markdown",
   "metadata": {
    "deletable": true,
    "editable": true,
    "slideshow": {
     "slide_type": "slide"
    }
   },
   "source": [
    "### Локализация\n",
    "\n",
    "<img src=\"src/SQTreeLocalisation.svg\" />"
   ]
  },
  {
   "cell_type": "markdown",
   "metadata": {
    "deletable": true,
    "editable": true,
    "slideshow": {
     "slide_type": "slide"
    }
   },
   "source": [
    "### Вставка\n",
    "\n",
    "<img src=\"src/SQTreeInsert.svg\" />"
   ]
  },
  {
   "cell_type": "markdown",
   "metadata": {
    "deletable": true,
    "editable": true,
    "slideshow": {
     "slide_type": "slide"
    }
   },
   "source": [
    "### Удаление\n",
    "\n",
    "<img src=\"src/SQTreeRemove.svg\" />"
   ]
  },
  {
   "cell_type": "markdown",
   "metadata": {
    "deletable": true,
    "editable": true,
    "slideshow": {
     "slide_type": "slide"
    }
   },
   "source": [
    "**Лемма (о существовании узла на предыдущем уровне):**\n",
    "\n",
    "Для любого узла на уровне $Q_i$ существует соответствующий ему узел на уровне $Q_{i-1}$.\n"
   ]
  },
  {
   "cell_type": "markdown",
   "metadata": {
    "deletable": true,
    "editable": true,
    "slideshow": {
     "slide_type": "slide"
    }
   },
   "source": [
    "**Лемма (о количестве шагов локализации на одном уровне):**\n",
    "\n",
    "На каждом уровне совершается $O(1)$ шагов локализации для любой точки `x`."
   ]
  },
  {
   "cell_type": "markdown",
   "metadata": {
    "deletable": true,
    "editable": true,
    "slideshow": {
     "slide_type": "subslide"
    }
   },
   "source": [
    "Пусть на уровне $Q_i$ поиск точки `x`, начинающийся с корня, проходит по квадратам $p_0, p_1 \\dots p_m$. \n",
    "\n",
    "Пусть случайная величина $j$ — количество шагов локализации внутри $Q_i$.\n",
    "\n",
    "$p_{m - j}$ — последний квадрат из $p_0, p_1 \\dots p_m$, являющийся интересным в $Q_{i + 1}$."
   ]
  },
  {
   "cell_type": "markdown",
   "metadata": {
    "deletable": true,
    "editable": true,
    "slideshow": {
     "slide_type": "subslide"
    }
   },
   "source": [
    "Оценим мат.ожидание случайной величины $j$. \n",
    "\n",
    "Пусть $T$ — множество непустых четвертинок,  встреченных на пути $p_{m - j + 1} \\dots p_m$.\n",
    "\n",
    "Среди $T$ только одна ($\\mathrm{Pr}_1$) или ноль ($\\mathrm{Pr}_0$) — непустые на слое $Q_{i + 1}$."
   ]
  },
  {
   "cell_type": "markdown",
   "metadata": {
    "deletable": true,
    "editable": true,
    "slideshow": {
     "slide_type": "subslide"
    }
   },
   "source": [
    "$$\\displaystyle\n",
    "\\begin{align}\n",
    "|T| & = t \\\\\n",
    "q   & = 1 - p \\\\ \\\\\n",
    "\\mathrm{Pr}_0(j) & = q^t \\\\\n",
    "\\mathrm{Pr}_1(j) & = t \\cdot pq^{t-1} \\\\ \\\\\n",
    "\\mathop{\\mathbb{E}}j\n",
    "& = \\sum\\limits_{j = 1}^{m} j \\cdot \\left(\\mathrm{Pr}_0 (j) + \\mathrm{Pr}_1 (j) \\right) \\\\\n",
    "& = \\sum\\limits_{j = 1}^{m} j \\left(q^t + t \\cdot pq^{t-1}\\right) \\\\\n",
    "& = \\sum\\limits_{j = 1}^{m} j ((1-t) \\cdot q^t + t \\cdot q^{t-1}) \\\\\n",
    "\\end{align}\n",
    "$$"
   ]
  },
  {
   "cell_type": "markdown",
   "metadata": {
    "deletable": true,
    "editable": true,
    "slideshow": {
     "slide_type": "subslide"
    }
   },
   "source": [
    "$$j \\leq t$$\n",
    "т.к. количество четвертей в $T$ — хотя бы $j$.\n",
    "\n",
    "$$\\displaystyle\n",
    "\\begin{align}\n",
    "\\mathop{\\mathbb{E}}j\n",
    "&\\leq \\sum_{j = 1}^{m} j \\left(\\left(1-j\\right) \\cdot q^j + t \\cdot q^{j-1}\\right) \\\\\n",
    "&< \\sum_{j = 1}^{\\infty} j \\left(\\left(1-j\\right) \\cdot q^j + j \\cdot q^{j-1}\\right) \\\\\n",
    "&< \\sum_{j = 1}^{\\infty} \\left(2 j \\left(j-1\\right) \\cdot q^{j-1} - j \\left(j-1\\right) \\cdot q^j\\right) \\\\\n",
    "&< \\sum_{j = 1}^{\\infty} 2 j (j-1) \\cdot q^{j-1} \n",
    " = 2 \\sum_{j = 1}^{\\infty} \\left(q^{j+1}\\right)'' \\\\\n",
    "&= 2 \\left(\\sum_{j = 1}^{\\infty} q^{j+1}\\right)'' \n",
    " = \\left(\\frac{2 q^2}{\\left(1 - q\\right)}\\right)'' \\\\\n",
    "&= 4p^{-3}\n",
    "\\end{align}\n",
    "$$"
   ]
  },
  {
   "cell_type": "markdown",
   "metadata": {
    "deletable": true,
    "editable": true,
    "slideshow": {
     "slide_type": "slide"
    }
   },
   "source": [
    "**Лемма (о количестве уровней):** \n",
    "\n",
    "Количество уровней — $O(\\log n)$."
   ]
  },
  {
   "cell_type": "markdown",
   "metadata": {
    "deletable": true,
    "editable": true,
    "slideshow": {
     "slide_type": "subslide"
    }
   },
   "source": [
    "Пусть $h$ — cлучайная величина, обозначающая количество уровней.\n",
    "\n",
    "$$p(h = k) = p(h < k + 1) - p (h < k)$$\n",
    "\n",
    "$$p(h < k) = \\left(1 - p^k\\right)^n$$"
   ]
  },
  {
   "cell_type": "markdown",
   "metadata": {
    "deletable": true,
    "editable": true,
    "slideshow": {
     "slide_type": "subslide"
    }
   },
   "source": [
    "$$\\displaystyle\n",
    "\\begin{align}\n",
    "p(h = k)\n",
    "& = \\left(1 - p^{k + 1}\\right)^n - \\left(1 - p^k\\right)^n \\\\\n",
    "& < 1 - \\left(1 - p^k\\right)^n \\\\\n",
    "& < np^k\n",
    "\\end{align}\n",
    "$$"
   ]
  },
  {
   "cell_type": "markdown",
   "metadata": {
    "deletable": true,
    "editable": true,
    "slideshow": {
     "slide_type": "subslide"
    }
   },
   "source": [
    "Оценим мат.ожидание $h$:\n",
    "\n",
    "$$ \\mathop{\\mathbb{E}}h\n",
    "= \\sum_{k = 1}^{\\infty}k \\cdot p(h = k)\n",
    "= \\left[\\sum_{k = 1}^{\\log_{1/p}(n)}k \\cdot p(h = k)\\right]\n",
    "+ \\left[\\sum_{k = \\log_{1/p}(n) + 1}^{\\infty}k \\cdot p(h = k)\\right]\n",
    "$$"
   ]
  },
  {
   "cell_type": "markdown",
   "metadata": {
    "deletable": true,
    "editable": true,
    "slideshow": {
     "slide_type": "subslide"
    }
   },
   "source": [
    "Первая сумма:\n",
    "$$\\displaystyle\n",
    "\\begin{align}\n",
    "\\sum_{k = 1}^{\\log_{1/p}(n)}k \\cdot p(h = k) \n",
    "& < \\sum_{k = 1}^{\\log_{1/p}(n)}\\log_{1/p}(n) \\cdot p(h = k) \\\\\n",
    "& = \\log_{1/p}(n) \\cdot \\sum\\limits_{k = 1}^{\\log_{1/p}(n)} p(h = k) \\\\\n",
    "& = O(\\log n)\n",
    "\\end{align}\n",
    "$$"
   ]
  },
  {
   "cell_type": "markdown",
   "metadata": {
    "deletable": true,
    "editable": true,
    "slideshow": {
     "slide_type": "subslide"
    }
   },
   "source": [
    "Вторая сумма:\n",
    "$$\\displaystyle\n",
    "\\begin{align}\n",
    "\\sum_{\\log_{1/p}(n) + 1}^{\\infty}k \\cdot p(h = k)\n",
    "& < \\sum_{\\log_{1/p}(n) + 1}^{\\infty}k \\cdot np^k  \n",
    "  < \\sum_{\\log_{1/p}(n)}^{\\infty}k \\cdot np^k \n",
    "  = n \\cdot \\sum_{\\log_{1/p}(n)}^{\\infty}k p^k \\\\\n",
    "& = n p^{\\log_{1/p} n} \\cdot \\sum_{k=0}^{\\infty} \\left(k + \\log_{1/p} n\\right) \\cdot p^k \\\\\n",
    "& = n p^{\\log_{1/p} n} \\cdot \\left(\\sum_{k=0}^{\\infty} k p^k + \\log_{1/p} n \\sum_{k=0}^{\\infty} p^k\\right) \\\\\n",
    "& = n p^{\\log_{1/p} n} \\cdot \\left(O(1) + \\log_{1/p} n \\cdot O(1)\\right) \\\\\n",
    "& = n \\cdot n^{-1} \\cdot \\log_{1/p} n \\cdot O(1) \\\\\n",
    "& = O(\\log n)\n",
    "\\end{align}\n",
    "$$"
   ]
  },
  {
   "cell_type": "markdown",
   "metadata": {
    "deletable": true,
    "editable": true,
    "slideshow": {
     "slide_type": "slide"
    }
   },
   "source": [
    "### Оценка памяти\n",
    "\n",
    "Сжатое квадродерево на уровне $Q_k$ занимает $O(p^k n)$ памяти.\n",
    "\n",
    "$$\\sum\\limits_{k=0}^{O(\\log n)} O\\left(p^k n\\right) < \\sum\\limits_{k=0}^{\\infty} O\\left(p^k n\\right) = O(n) $$"
   ]
  }
 ],
 "metadata": {
  "celltoolbar": "Slideshow",
  "kernelspec": {
   "display_name": "Python 3",
   "language": "python",
   "name": "python3"
  },
  "language_info": {
   "codemirror_mode": {
    "name": "ipython",
    "version": 3
   },
   "file_extension": ".py",
   "mimetype": "text/x-python",
   "name": "python",
   "nbconvert_exporter": "python",
   "pygments_lexer": "ipython3",
   "version": "3.5.2"
  }
 },
 "nbformat": 4,
 "nbformat_minor": 0
}
