{
 "cells": [
  {
   "cell_type": "code",
   "execution_count": 1,
   "metadata": {
    "collapsed": true
   },
   "outputs": [],
   "source": [
    "import numpy as np\n",
    "import matplotlib.pyplot as plt"
   ]
  },
  {
   "cell_type": "markdown",
   "metadata": {},
   "source": [
    "# Краткое руководство по триангуляции Делоне в scipy\n",
    "\n",
    "Сгенеририуем триангуляцию по заданным точкам и рассмотрим, как можно с ней работать и что извлекать:"
   ]
  },
  {
   "cell_type": "code",
   "execution_count": 2,
   "metadata": {
    "collapsed": true
   },
   "outputs": [],
   "source": [
    "points = np.array([[0, 0], [5, 0], [10, 3], [0, 5], [5, 5], [5, 10], [3, 6], [1, -1], [7, -2], [2, 5]])\n",
    "from scipy.spatial import Delaunay\n",
    "tri = Delaunay(points)"
   ]
  },
  {
   "cell_type": "code",
   "execution_count": 3,
   "metadata": {},
   "outputs": [
    {
     "data": {
      "image/png": "[encoded data removed]",
      "text/plain": [
       "<matplotlib.figure.Figure at 0x7fdf264b8390>"
      ]
     },
     "metadata": {},
     "output_type": "display_data"
    }
   ],
   "source": [
    "plt.triplot(points[:,0], points[:,1], tri.simplices.copy())\n",
    "plt.plot(points[:,0], points[:, 1], 'o')\n",
    "plt.show()"
   ]
  },
  {
   "cell_type": "code",
   "execution_count": 4,
   "metadata": {},
   "outputs": [
    {
     "data": {
      "text/plain": [
       "array([[  0.,   0.],\n",
       "       [  5.,   0.],\n",
       "       [ 10.,   3.],\n",
       "       [  0.,   5.],\n",
       "       [  5.,   5.],\n",
       "       [  5.,  10.],\n",
       "       [  3.,   6.],\n",
       "       [  1.,  -1.],\n",
       "       [  7.,  -2.],\n",
       "       [  2.,   5.]])"
      ]
     },
     "execution_count": 4,
     "metadata": {},
     "output_type": "execute_result"
    }
   ],
   "source": [
    "#Все узлы, которые есть в триангуляции\n",
    "tri.points "
   ]
  },
  {
   "cell_type": "code",
   "execution_count": 5,
   "metadata": {},
   "outputs": [
    {
     "data": {
      "text/plain": [
       "array([[5, 4, 2],\n",
       "       [1, 8, 2],\n",
       "       [4, 1, 2],\n",
       "       [1, 7, 8],\n",
       "       [7, 1, 0],\n",
       "       [6, 4, 5],\n",
       "       [3, 6, 5],\n",
       "       [9, 1, 4],\n",
       "       [9, 3, 0],\n",
       "       [1, 9, 0],\n",
       "       [6, 9, 4],\n",
       "       [9, 6, 3]], dtype=int32)"
      ]
     },
     "execution_count": 5,
     "metadata": {},
     "output_type": "execute_result"
    }
   ],
   "source": [
    "#Id узлов, относительно tri.points, для каждого треугольника (узлы идут против часовой стрелке)\n",
    "tri.simplices  "
   ]
  },
  {
   "cell_type": "code",
   "execution_count": 6,
   "metadata": {},
   "outputs": [
    {
     "data": {
      "text/plain": [
       "array([[ 5,  0],\n",
       "       [ 7, -2],\n",
       "       [10,  3]])"
      ]
     },
     "execution_count": 6,
     "metadata": {},
     "output_type": "execute_result"
    }
   ],
   "source": [
    "#Узлы, для конкретного треугольника\n",
    "points[tri.simplices[1]] "
   ]
  },
  {
   "cell_type": "code",
   "execution_count": 7,
   "metadata": {},
   "outputs": [
    {
     "data": {
      "text/plain": [
       "array([ 2, -1,  5], dtype=int32)"
      ]
     },
     "execution_count": 7,
     "metadata": {},
     "output_type": "execute_result"
    }
   ],
   "source": [
    "#Id треугольников, который являются соседями для заданного треугольника\n",
    "#i - номер вершины у переданного треугольника, а i элемент - id треугольника напротив этой вершины (иначе -1)\n",
    "tri.neighbors[0]"
   ]
  },
  {
   "cell_type": "code",
   "execution_count": 8,
   "metadata": {},
   "outputs": [
    {
     "data": {
      "text/plain": [
       "array([9, 9], dtype=int32)"
      ]
     },
     "execution_count": 8,
     "metadata": {},
     "output_type": "execute_result"
    }
   ],
   "source": [
    "#Id треугольников, в которых попадают переданные точки (либо -1, если точка не в триангуляции)\n",
    "tri.find_simplex([(0.1, 0.2), (1.5, 0.5)])"
   ]
  },
  {
   "cell_type": "code",
   "execution_count": 9,
   "metadata": {},
   "outputs": [
    {
     "data": {
      "text/plain": [
       "(array([ 0,  4, 10, 14, 18, 23, 27, 31, 34, 37, 42], dtype=int32),\n",
       " array([7, 1, 9, 3, 8, 2, 4, 7, 0, 9, 5, 4, 1, 8, 6, 5, 9, 0, 5, 2, 1, 6, 9,\n",
       "        4, 2, 6, 3, 4, 5, 3, 9, 1, 8, 0, 1, 2, 7, 1, 4, 3, 0, 6], dtype=int32))"
      ]
     },
     "execution_count": 9,
     "metadata": {},
     "output_type": "execute_result"
    }
   ],
   "source": [
    "#Индексы соседних вершин для вершины k - это indptr[indices[k]:indices[k+1]] относительно tri.points\n",
    "tri.vertex_neighbor_vertices"
   ]
  },
  {
   "cell_type": "code",
   "execution_count": 10,
   "metadata": {},
   "outputs": [
    {
     "data": {
      "text/plain": [
       "array([7, 1, 9, 3], dtype=int32)"
      ]
     },
     "execution_count": 10,
     "metadata": {},
     "output_type": "execute_result"
    }
   ],
   "source": [
    "#Например, получим индексы соседних вершин для вершины 1\n",
    "b = tri.vertex_neighbor_vertices[0][0]\n",
    "e = tri.vertex_neighbor_vertices[0][0+1]\n",
    "tri.vertex_neighbor_vertices[1][b : e]"
   ]
  },
  {
   "cell_type": "code",
   "execution_count": 11,
   "metadata": {},
   "outputs": [
    {
     "data": {
      "text/plain": [
       "array([4, 1, 0, 6, 0, 0, 5, 3, 1, 7], dtype=int32)"
      ]
     },
     "execution_count": 11,
     "metadata": {},
     "output_type": "execute_result"
    }
   ],
   "source": [
    "#Каждой вершине (по индексу) сопоставим один из инцидентных треугольников\n",
    "tri.vertex_to_simplex"
   ]
  }
 ],
 "metadata": {
  "kernelspec": {
   "display_name": "Python 3",
   "language": "python",
   "name": "python3"
  },
  "language_info": {
   "codemirror_mode": {
    "name": "ipython",
    "version": 3
   },
   "file_extension": ".py",
   "mimetype": "text/x-python",
   "name": "python",
   "nbconvert_exporter": "python",
   "pygments_lexer": "ipython3",
   "version": "3.6.3"
  }
 },
 "nbformat": 4,
 "nbformat_minor": 2
}
