{
 "cells": [
  {
   "cell_type": "code",
   "execution_count": 20,
   "metadata": {
    "collapsed": true
   },
   "outputs": [],
   "source": [
    "import numpy as np\n",
    "import matplotlib.pyplot as plt\n",
    "from sympy import Point, Line, Segment, Ray, intersection\n",
    "from typing import List\n",
    "import itertools\n",
    "from my_utils import * \n",
    "from line_walk import *\n",
    "\n",
    "import warnings\n",
    "warnings.filterwarnings('ignore')"
   ]
  },
  {
   "cell_type": "markdown",
   "metadata": {},
   "source": [
    "# Структуры для представления триангуляции\n",
    "\n",
    "## Мотивация\n",
    "\n",
    "Выбор структуры для представления *триангуляции* оказывает существенное влияние на теоретическую трудоёмкость алгоритмов, а также на скорость конкретной реализации. Кроме того, выбор структуры может зависеть от цели дальнейшего использования триангуляции.\n",
    "\n",
    "## Краткий ликбез\n",
    "\n",
    "*Определение 1.* **Триангуляцией** называется планарный граф, все грани которого являются треугольниками.\n",
    "\n",
    "*Определение 2.* Задачей **построения триангуляции** по заданному набору двумерных точек называется задача соединения заданных точек непересекающимися отрезками так, чтобы образовалась *триангуляция*. Заданный набор точек будем называть *точками триангуляции*.\n",
    "\n",
    "*Определение 3.* *Триангуляция* называется **оптимальной**, если сумма длин всех рёбер минимальна среди всех возможных триангуляций, построенных на тех же *точках триангуляции*.\n",
    "\n",
    "Для понимания того, как производятся оценки памяти структур, следует ознакомиться с [формулой Эйлера для планарных графов](https://neerc.ifmo.ru/wiki/index.php?title=%D0%A4%D0%BE%D1%80%D0%BC%D1%83%D0%BB%D0%B0_%D0%AD%D0%B9%D0%BB%D0%B5%D1%80%D0%B0).\n",
    "\n",
    "## Основные виды объектов триангуляции, операции с ними\n",
    "\n",
    "В триангуляции выделяют 3 основных вида объектов: **узлы** (точки, вершины), **рёбра** (отрезки) и **треугольники**.\n",
    "\n",
    "В большинстве алгоритмов построения триангуляции и алгоритмов её анализа требуются следующие операции с объектами триангуляции:\n",
    "\n",
    "1. Треугольник → узлы: получение для данного треугольника координат образующих его узлов.\n",
    "2. Треугольник → рёбра: получение для данного треугольника списка образующих его рёбер.\n",
    "3. Треугольник → треугольники: получение для данного треугольника списка соседних с ним треугольников.\n",
    "4. Ребро → узлы: получение для данного ребра координат образующих его узлов.\n",
    "5. Ребро → треугольники: получение для данного ребра списка соседних с ним треугольников.\n",
    "6. Узел → рёбра: получение для данного узла списка смежных рёбер.\n",
    "7. Узел → треугольники: получение для данного узла списка смежных треугольников.\n",
    "\n",
    "В зависимости от алгоритма некоторые операции могут быть не нужны. Например, в каких-то алгоритмах операции с рёбрами могут возникать не часто, поэтому рёбра могут представляться неявно, как одна из сторон некоторого треугольника. "
   ]
  },
  {
   "cell_type": "markdown",
   "metadata": {},
   "source": [
    "## Наиболее часто используемые структуры\n",
    "\n",
    "### \"Узлы с соседями\"\n",
    "\n",
    "В структуре «Узлы с соседями» для каждого узла триангуляции хранятся его координаты на плоскости и список указателей на соседние узлы (список номеров узлов), с которыми есть общие рёбра. По сути, список соседей определяет в неявном виде рёбра триангуляции. Треугольники же при этом не представляются вообще. \n",
    "\n",
    "Вся триангуляция будет представлена в виде одного словаря: *id узла -> узел*."
   ]
  },
  {
   "cell_type": "code",
   "execution_count": 44,
   "metadata": {
    "collapsed": true
   },
   "outputs": [],
   "source": [
    "class NodeWithNeighbours(object):\n",
    "    \"\"\"\n",
    "    Структура \"Узел с соседями\"\n",
    "    \n",
    "    :param idr:         уникальный идентификатор узла\n",
    "    :param p:           объект класса Point (представляем координаты узла) \n",
    "    :param neigh_nodes: список смежных узлов (хранится id) \n",
    "    \n",
    "    \"\"\"\n",
    "    def __init__(self, idr: int, p: Point, neigh_nodes: List[int]):\n",
    "        self.idr = idr\n",
    "        self.p = p\n",
    "        self.neigh_nodes = neigh_nodes"
   ]
  },
  {
   "cell_type": "markdown",
   "metadata": {},
   "source": [
    "**Оценка памяти**: заметим, что каждое ребро в нашей структуре (в данном случае, ребро представляет собой две соседних вершины) присутствует дважды (например, ребро, состоящее из вершин X и Y, сначала хранится у X, как сосед, а затем у Y, как сосед). Также в каждом узле хранится один int для id и два int'a для x и y (Point).\n",
    "\n",
    "Получаем точную оценку: **2E + 3V**, где E - количество рёбер, V - количество вершин."
   ]
  },
  {
   "cell_type": "markdown",
   "metadata": {},
   "source": [
    "### \"Узлы и треугольники\"\n",
    "\n",
    "В структуре «Узлы и треугольники» для каждого треугольника хранятся три указателя на образующие его узлы и три указателя на смежные треугольники, а каждый узел хранит указатели на инцидентные ему треугольники.\n",
    "\n",
    "Нумерация узлов производится в порядке обхода против часовой стрелки. Напротив узла, который находится на i месте в списке образующих узлов, находится треугольник, лежащий на i месте в списке соседних треугольников (см. рисунок 1).\n",
    "\n",
    "Вся триангуляция будет представлена в виде двух словарей: *id узла -> узел* и *id треугольника -> треугольник*.  "
   ]
  },
  {
   "cell_type": "code",
   "execution_count": 45,
   "metadata": {
    "collapsed": true
   },
   "outputs": [],
   "source": [
    "class NodesAndTriangles(object):\n",
    "    \"\"\"\n",
    "    Структура \"Узлы и треугольники\"\n",
    "    Представляет собой классы Node и Triangle\n",
    "    \n",
    "    \"\"\"\n",
    "    \n",
    "    class Node(object):\n",
    "        \"\"\"\n",
    "        Класс Узел\n",
    "        \n",
    "        :param idr:         уникальный идентификатор узла\n",
    "        :param p:           объект класса Point (представляем координаты узла) \n",
    "        :param triangles:   инцидентные узлу треугольники (хранятся id)\n",
    "        \n",
    "        \"\"\"\n",
    "        def __init__(self, idr: int, p: Point, triangles: List[int]):\n",
    "            self.idr = idr\n",
    "            self.p = p\n",
    "            self.triangles = triangles\n",
    "        \n",
    "    class Triangle(object):\n",
    "        \"\"\"\n",
    "        Класс Треугольник\n",
    "         \n",
    "        :param idr:       уникальный идентификатор треугольника \n",
    "        :param nodes:     образующие треугольник узлы (хранятся id) \n",
    "        :param triangles: соседние треугольники (хранятся id) \n",
    "        \n",
    "        \"\"\"\n",
    "        def __init__(self, idr: int, nodes: List[int], triangles: List[int]):\n",
    "            self.idr = idr\n",
    "            self.nodes = nodes\n",
    "            self.triangles = triangles"
   ]
  },
  {
   "cell_type": "markdown",
   "metadata": {},
   "source": [
    "![alt text](https://pp.userapi.com/c834300/v834300401/3a9cf/_pslElJKfbo.jpg \"Узлы и треугольники\")\n",
    "Рисунок 1. Связи узлов и треугольников в структуре «Узлы и треугольники» "
   ]
  },
  {
   "cell_type": "markdown",
   "metadata": {},
   "source": [
    "**Оценка памяти**: произведем подсчет для узлов и треугольников отдельно:\n",
    "\n",
    "Узлы займут **9V**, ибо один узел требует 9 int'ов: один int (id) + два int'a (Point) + 6 int'ов (среднее количество инцидентных узлу треугольников равно 6 (см. конспект про формулу Эйлера)).\n",
    "\n",
    "Треугольники займут **7F**, ибо один треугольник требует 7 int'ов: один int (id) + 3 int'a (составляющие треугольник вершины) + 3 int'а (соседние треугольники).\n",
    "\n",
    "Получаем верхнюю оценку: **9V + 7F**, где V - количество вершин, F - количество треугольников."
   ]
  },
  {
   "cell_type": "markdown",
   "metadata": {},
   "source": [
    "### \"Узлы, рёбра и треугольники\"\n",
    "\n",
    "В структуре «Узлы, рёбра и треугольники» в явном виде задаются все объекты триангуляции: узлы, рёбра и треугольники. Для каждого ребра хранятся указатели на два концевых узла и два соседних треугольника. Для треугольников хранятся указатели на три образующих треугольник ребра. В каждом узле координаты и инцидентные треугольники. \n",
    "\n",
    "Вся триангуляция будет представлена в виде трёх словарей: *id узла -> узел*, *id ребра -> ребра* и *id треугольника -> треугольник*.  "
   ]
  },
  {
   "cell_type": "code",
   "execution_count": 47,
   "metadata": {
    "collapsed": true
   },
   "outputs": [],
   "source": [
    "class NodesAndEdgesAndTriangles(object):\n",
    "    \"\"\"\n",
    "    Структура \"Узлы, ребра и треугольники\"\n",
    "    \n",
    "    Представляет собой классы Node, Edge и Triangle\n",
    "    \"\"\"\n",
    "    \n",
    "    class Node(object):\n",
    "        \"\"\"\n",
    "        Класс Узел\n",
    "         \n",
    "        :param idr:        уникальный идентификатор узла\n",
    "        :param p:          объект класса Point (представляем координаты узла)\n",
    "        :param triangles:  инцидентные узлу треугольники (хранятся id)\n",
    "        \n",
    "        \"\"\"\n",
    "        def __init__(self, idr: int, p: Point, triangles: List[int]):\n",
    "            self.idr = idr\n",
    "            self.p = p\n",
    "            self.triangles = triangles\n",
    "            \n",
    "    class Edge(object):\n",
    "        \"\"\"\n",
    "        Класс Ребро\n",
    "         \n",
    "        :param idr:       уникальный идентификатор ребра \n",
    "        :param nodes:     список концевых узлов (хранятся id)\n",
    "        :param triangles: соседние треугольники (хранятся id)\n",
    "        \n",
    "        \"\"\"\n",
    "        def __init__(self, idr: int, nodes: List[int], triangles: List[int]):\n",
    "            self.idr = idr\n",
    "            self.nodes = nodes\n",
    "            self.triangles = triangles\n",
    "            \n",
    "    class Triangle(object):\n",
    "        \"\"\"\n",
    "        Класс Треугольник\n",
    "        \n",
    "        :param idr:   уникальный идентификатор треугольника\n",
    "        :param edges: образующие треугольник ребра (хранятся id)\n",
    "        \n",
    "        \"\"\"\n",
    "        def __init__(self, idr: int, edges: List[int]):\n",
    "            self.idr = idr\n",
    "            self.edges = edges"
   ]
  },
  {
   "cell_type": "markdown",
   "metadata": {},
   "source": [
    "**Оценка памяти**: произведем подсчет для узлов, рёбер и треугольников отдельно:\n",
    "\n",
    "Узлы займут **9V**, ибо один узел требует 9 int'ов: один int (id) + два int'a (Point) + 6 int'ов (среднее количество инцидентных узлу треугольников равно 6 (см. формулы Эйлера)).\n",
    "\n",
    "Рёбра займут **5E**, ибо одно ребро требует 5 int'ов: один int (id) + два int'a (концы ребра) + два int'а (у одного ребра два инцидентных треугольника).\n",
    "\n",
    "Треугольники займут **4F**, ибо один треугольник требует 4 int'а: один int (id) + 3 int'a (составляющие треугольник вершины).\n",
    "\n",
    "Получаем верхнюю оценку: **9V + 5E + 4F**, где V - количество вершин, E - количество рёбер и F - количество треугольников."
   ]
  },
  {
   "cell_type": "markdown",
   "metadata": {},
   "source": [
    "### \"Двойные рёбра\"\n",
    "\n",
    "В структуре «Двойные рёбра» основой триангуляции являются вершины, полурёбра и треугольники. Рассмотрим каждый элемент по отдельности:\n",
    "\n",
    "* *Вершина* хранит в себе координаты узла и ссылку на любое инцидентное полуребро, выходящее из этого узла.\n",
    "\n",
    "* *Полуребро* можно рассматривать, как ориентированное ребро. Хранит в себе ссылку на выходящий узел, ссылки на обратное, следующее и предыдущее ребра в порядке обхода треугольника, а также ссылку на инцидентный треугольник. \n",
    "\n",
    "* *Треугольник* хранит в себе любое полуребро, составляющее его границу."
   ]
  },
  {
   "cell_type": "code",
   "execution_count": 49,
   "metadata": {
    "collapsed": true
   },
   "outputs": [],
   "source": [
    "class DoubleEdges(object):\n",
    "    \"\"\"\n",
    "    Структура \"Двойные ребра\"\n",
    "    \n",
    "    Представляет собой классы Node, HalfEdge и Triangle\n",
    "    \"\"\"\n",
    "    \n",
    "    class Node(object):\n",
    "        \"\"\"\n",
    "        Класс Узел\n",
    "        \n",
    "        :param idr:  уникальный идентификатор узла\n",
    "        :param p:    объект класса Point (представляем координаты узла)\n",
    "        :param he:   инцидентное полуребро, выходящее из p (хранится id)\n",
    "        \n",
    "        \"\"\"\n",
    "        def __init__(self, idr: int, p: Point, he: int):\n",
    "            self.idr = idr\n",
    "            self.p = p\n",
    "            self.he = he\n",
    "    \n",
    "    class HalfEdge(object):\n",
    "        \"\"\"\n",
    "        Класс Полуребро\n",
    "        \n",
    "        :param idr:      уникальный идентификатор полуребра \n",
    "        :param node:     выходящий узел (хранится id)\n",
    "        :param prev:     предыдущее полуребро (хранится id)\n",
    "        :param nxt:      следующее полуребро (хранится id)\n",
    "        :param twin:     обратное полуребро (хранится id)\n",
    "        :param triangle: инцидентный треугольник (хранится id)\n",
    "        \n",
    "        \"\"\"\n",
    "        def __init__(self, idr: int, node: int, prev: int, nxt: int, twin: int, triangle: int):\n",
    "            self.idr = idr\n",
    "            self.node = node\n",
    "            self.prev = prev\n",
    "            self.nxt = nxt\n",
    "            self.twin = twin\n",
    "            self.triangle = triangle\n",
    "        \n",
    "    class Triangle(object):\n",
    "        \"\"\"\n",
    "        Класс Треугольник\n",
    "\n",
    "        :param idr: уникальный идентификатор треугольника\n",
    "        :param he:  полуребро, составляющее границу (хранится id) \n",
    "\n",
    "        \"\"\"\n",
    "        def __init__(self, idr: int, he: int):\n",
    "            self.idr = idr\n",
    "            self.he = he"
   ]
  },
  {
   "cell_type": "markdown",
   "metadata": {},
   "source": [
    "![alt text](https://pp.userapi.com/c834302/v834302573/3dc06/H_C-Ul16tFU.jpg \"Двойные рёбра\")\n",
    "Рисунок 2. Связи рёбер в структуре «Двойные рёбра» (стрелками обозначены полурёбра)"
   ]
  },
  {
   "cell_type": "markdown",
   "metadata": {},
   "source": [
    "**Оценка памяти**: произведем подсчет для узлов, полурёбер и треугольников отдельно:\n",
    "\n",
    "Узлы займут **4V**, ибо один узел требует 4 int'а: один int (id) + два int'a (Point) + 1 int (инцидентное полурёбро).\n",
    "\n",
    "Полурёбра займут **12E**, ибо одно полуребро требует 6 int'ов: один int (id) + один int (выходящая вершина) + один int (треугольник) + 3 int'a (prev, next, twin полурёбра), а на каждое ребро есть два полуребра, отсюда х2.\n",
    "\n",
    "Треугольники займут **2F**, ибо один треугольник требует 2 int'а: один int (id) + один int (любое инцидентное полуребро).\n",
    "\n",
    "Получаем верхнюю оценку: **4V + 12E + 2F**, где V - количество вершин, E - количество рёбер и F - количество треугольников."
   ]
  },
  {
   "cell_type": "markdown",
   "metadata": {},
   "source": [
    "### \"Лёгкие узлы и треугольники\"\n",
    "\n",
    "В структуре «Лёгкие узлы и треугольники» для каждого треугольника хранятся три указателя на образующие его узлы и три указателя на смежные треугольники, а каждый узел хранит только один указатель на инцидентный ему треугольник, что и является ключевым отличием от структуры \"Узлы и треугольники\".\n",
    "\n",
    "Нумерация узлов производится в порядке обхода против часовой стрелки. Напротив узла, который находится на i месте в списке образующих узлов, находится треугольник, лежащий на i месте в списке соседних треугольников.\n",
    "\n",
    "Вся триангуляция будет представлена в виде двух словарей: *id узла -> узел* и *id треугольника -> треугольник*. \n",
    "\n",
    "Такая структура используется в [CGAL](https://doc.cgal.org/latest/Triangulation_2/index.html)."
   ]
  },
  {
   "cell_type": "code",
   "execution_count": 48,
   "metadata": {
    "collapsed": true
   },
   "outputs": [],
   "source": [
    "class LightNodesAndTriangles(object):\n",
    "    \"\"\"\n",
    "    Структура \"Лёгкие узлы и треугольники\"\n",
    "    Представляет собой классы Node и Triangle\n",
    "    \n",
    "    \"\"\"\n",
    "    \n",
    "    class Node(object):\n",
    "        \"\"\"\n",
    "        Класс Узел\n",
    "        \n",
    "        :param idr:         уникальный идентификатор узла\n",
    "        :param p:           объект класса Point (представляем координаты узла) \n",
    "        :param triangles:   любой инцидентный узлу треугольник (хранится  id)\n",
    "        \n",
    "        \"\"\"\n",
    "        def __init__(self, idr: int, p: Point, triangle: int):\n",
    "            self.idr = idr\n",
    "            self.p = p\n",
    "            self.triangle = triangle\n",
    "        \n",
    "    class Triangle(object):\n",
    "        \"\"\"\n",
    "        Класс Треугольник\n",
    "         \n",
    "        :param idr:       уникальный идентификатор треугольника \n",
    "        :param nodes:     образующие треугольник узлы (хранятся id) \n",
    "        :param triangles: соседние треугольники (хранятся id) \n",
    "        \n",
    "        \"\"\"\n",
    "        def __init__(self, idr: int, nodes: List[int], triangles: List[int]):\n",
    "            self.idr = idr\n",
    "            self.nodes = nodes\n",
    "            self.triangles = triangles"
   ]
  },
  {
   "cell_type": "markdown",
   "metadata": {},
   "source": [
    "**Оценка памяти**: произведем подсчет для узлов и треугольников отдельно:\n",
    "\n",
    "Узлы займут **4V**, ибо один узел требует 4 int'а: один int (id) + два int'a (Point) + один int (инцидентный треугольник).\n",
    "\n",
    "Треугольники займут **7F**, ибо один треугольник требует 7 int'ов: один int (id) + 3 int'a (составляющие треугольник вершины) + 3 int'а (соседние треугольники).\n",
    "\n",
    "Получаем верхнюю оценку: **4V + 7F**, где V - количество вершин, F - количество треугольников."
   ]
  },
  {
   "cell_type": "markdown",
   "metadata": {},
   "source": [
    "## Резюме и практические рекомендации\n",
    "\n",
    "| Название структуры данных    | Узлы      | Рёбра     | Треугольники     | Оценка памяти     | Оценка памяти в V |\n",
    "|:----------------------------:|:---------:|:---------:|:----------------:|:-----------------:|:-----------------:|\n",
    "| \"Узлы с соседями\"            | **+**     |  **-**    |     **-**        | **3V + 2E**       | **9V**            |\n",
    "| \"Узлы и треугольники\"        | **+**     |  **-**    |     **+**        | **9V + 7F**       | **23V**           | \n",
    "| \"Узлы, рёбра и треугольники\" | **+**     |  **+**    |     **+**        | **9V + 5E + 4F**  | **32V**           |\n",
    "| \"Двойные рёбра\"              | **+**     |  **+**    |     **+**        | **4V + 12E + 2F** | **44V**           |\n",
    "| \"Лёгкие узлы и треугольники\" | **+**     |  **-**    |     **+**        | **4V + 7F**       | **18V**           |\n",
    "\n",
    "Таблица 1. Основные характеристики структур: «–» – элемент отсутствует, «+» – присутствует.\n",
    "\n",
    "Выводы относительно рассмотренных структур:\n",
    "* \"Узлы с соседями\" наименее удобная и используемая структура, так как не представляет в явном виде рёбра и треугольники.\n",
    "\n",
    "* Удобной с точки зрения программирования является структура \"Лёгкие узлы и треугольники\".\n",
    "\n",
    "* Для практического применения рекомендуются структуры \"Двойные ребра\" и \"Лёгкие узлы и треугольники\"."
   ]
  },
  {
   "cell_type": "markdown",
   "metadata": {},
   "source": [
    "## Работа со структурами на примере задачи \"Walking in triangulation\" \n",
    "\n",
    "Рассмотрим как можно работать с описанными структурами. Решим следующую задачу:\n",
    "\n",
    "Пусть дана трианугляция T, точка A, ребро E, которой точка A принадлежит, а также точка B.\n",
    "Требуется найти все ребра заданной триангуляции T, пересекающиеся лучом AB.\n",
    "\n",
    "Триангуляцию будем генерировать с помощью библиотеки *scipy* классом *Delaunay*. \n",
    "\n",
    "**Примечание**: подробное описание, как с этим работать, можно найти в соседнем конспекте \"Краткое руководство по триангуляции Делоне в scipy\" "
   ]
  },
  {
   "cell_type": "code",
   "execution_count": 6,
   "metadata": {
    "collapsed": true
   },
   "outputs": [],
   "source": [
    "points = np.array([[0, 0], [5, 0], [10, 3], [0, 5], [5, 5], [5, 10], [3, 6], [1, -1], [7, -2], [2, 5]])\n",
    "from scipy.spatial import Delaunay\n",
    "tri = Delaunay(points)"
   ]
  },
  {
   "cell_type": "code",
   "execution_count": 7,
   "metadata": {},
   "outputs": [
    {
     "data": {
      "image/png": "[encoded data removed]",
      "text/plain": [
       "<matplotlib.figure.Figure at 0x7f24a26ade10>"
      ]
     },
     "metadata": {},
     "output_type": "display_data"
    }
   ],
   "source": [
    "plt.triplot(points[:,0], points[:,1], tri.simplices.copy())\n",
    "plt.plot(points[:,0], points[:, 1], 'o')\n",
    "plt.show()"
   ]
  },
  {
   "cell_type": "markdown",
   "metadata": {},
   "source": [
    "Реализуем конверторы, преобразующие данную триангуляцию в описанные ранее структуры:"
   ]
  },
  {
   "cell_type": "code",
   "execution_count": 8,
   "metadata": {
    "collapsed": true
   },
   "outputs": [],
   "source": [
    "#Конвертер в NodeWithNeighbours\n",
    "def scipy_tri_to_node_with_neighbours(tri):\n",
    "    node_with_neighbours = dict()\n",
    "    for index, p in enumerate(tri.points):\n",
    "        b = tri.vertex_neighbor_vertices[0][index]\n",
    "        e = tri.vertex_neighbor_vertices[0][index + 1]\n",
    "        p_nodes = tri.vertex_neighbor_vertices[1][b : e]\n",
    "        node_with_neighbours[index] = NodeWithNeighbours(index, Point(p[0], p[1]), p_nodes)\n",
    "    return node_with_neighbours"
   ]
  },
  {
   "cell_type": "code",
   "execution_count": 9,
   "metadata": {
    "collapsed": true
   },
   "outputs": [],
   "source": [
    "#Конвертер в NodesAndTriangles\n",
    "def scipy_tri_to_nodes_and_triangles(tri):\n",
    "    nodes = dict()\n",
    "    triangles = dict()\n",
    "    for index_node, p in enumerate(tri.points):\n",
    "        b = tri.vertex_neighbor_vertices[0][index_node]\n",
    "        e = tri.vertex_neighbor_vertices[0][index_node + 1]\n",
    "        p_nodes = tri.vertex_neighbor_vertices[1][b : e]\n",
    "        p_triangles = []\n",
    "        for i, j in itertools.combinations(p_nodes, r=2):\n",
    "            s = set([i, j, index_node])\n",
    "            for ind, k in enumerate(tri.simplices):\n",
    "                if (s == set(k)):\n",
    "                    p_triangles.append(ind)\n",
    "                    break\n",
    "        nodes[index_node] = NodesAndTriangles.Node(index_node, Point(p[0], p[1]), p_triangles)\n",
    "    for index_triangles, t in enumerate(tri.simplices):\n",
    "        triangles[index_triangles] = NodesAndTriangles.Triangle(index_triangles, t, tri.neighbors[index_triangles])\n",
    "    return (nodes, triangles)"
   ]
  },
  {
   "cell_type": "code",
   "execution_count": 10,
   "metadata": {
    "collapsed": true
   },
   "outputs": [],
   "source": [
    "#Конвертер в NodesAndEdgesAndTriangles\n",
    "def scipy_tri_to_nodes_and_edges_and_triangles(tri):\n",
    "    nodes = dict()\n",
    "    edges_to_idr = dict()\n",
    "    idr_to_edges = dict()\n",
    "    triangles = dict()\n",
    "    for index_node, p in enumerate(tri.points):\n",
    "        b = tri.vertex_neighbor_vertices[0][index_node]\n",
    "        e = tri.vertex_neighbor_vertices[0][index_node + 1]\n",
    "        p_nodes = tri.vertex_neighbor_vertices[1][b : e]\n",
    "        p_triangles = []\n",
    "        for i, j in itertools.combinations(p_nodes, r=2):\n",
    "            s = set([i, j, index_node])\n",
    "            for ind, k in enumerate(tri.simplices):\n",
    "                if (s == set(k)):\n",
    "                    p_triangles.append(ind)\n",
    "                    break\n",
    "        nodes[index_node] = NodesAndEdgesAndTriangles.Node(index_node, Point(p[0], p[1]), p_triangles)\n",
    "    for index_triangles, t in enumerate(tri.simplices):\n",
    "        for i, j in itertools.combinations(t, r=2):\n",
    "            t_ij = (i, j)\n",
    "            if (i > j):\n",
    "                t_ij = (j, i)\n",
    "            if (t_ij in edges_to_idr):\n",
    "                continue\n",
    "            s = len(edges_to_idr)\n",
    "            bi = tri.vertex_neighbor_vertices[0][i]\n",
    "            ei = tri.vertex_neighbor_vertices[0][i + 1]\n",
    "            bj = tri.vertex_neighbor_vertices[0][j]\n",
    "            ej = tri.vertex_neighbor_vertices[0][j + 1]\n",
    "            inter_vs = set(tri.vertex_neighbor_vertices[1][bi : ei]) & set(tri.vertex_neighbor_vertices[1][bj : ej]) \n",
    "            n_triangles = []\n",
    "            for v in inter_vs:\n",
    "                for it, tt in enumerate(tri.simplices):\n",
    "                    if (set(tt) == set([i, j, v])):\n",
    "                        n_triangles.append(it)\n",
    "                        break\n",
    "            e = NodesAndEdgesAndTriangles.Edge(s, list(t_ij), n_triangles)\n",
    "            edges_to_idr[t_ij] = s \n",
    "            idr_to_edges[s] = e\n",
    "    for index_triangles, t in enumerate(tri.simplices):\n",
    "        edges = []\n",
    "        for i, j in itertools.combinations(t, r=2):\n",
    "            t_ij = (i, j)\n",
    "            if (i > j):\n",
    "                t_ij = (j, i)\n",
    "            edges.append(edges_to_idr[t_ij])\n",
    "        triangles[index_triangles] = NodesAndEdgesAndTriangles.Triangle(index_triangles, edges)\n",
    "    return [nodes, edges_to_idr, idr_to_edges, triangles]"
   ]
  },
  {
   "cell_type": "code",
   "execution_count": 29,
   "metadata": {
    "collapsed": true
   },
   "outputs": [],
   "source": [
    "#Конвертер в DoubleEdges\n",
    "def scipy_tri_to_double_edges(tri):\n",
    "    nodes = dict()\n",
    "    half_edges = dict()\n",
    "    triangles = dict()\n",
    "    edges_to_idr_and_f = dict()\n",
    "    count = 1\n",
    "    for index_t, t in enumerate(tri.simplices):\n",
    "        for i, j in itertools.combinations(t, r=2):\n",
    "            t_ij = (i, j)\n",
    "            if (i > j):\n",
    "                t_ij = (j, i)\n",
    "            if (t_ij in edges_to_idr_and_f):\n",
    "                continue\n",
    "            edges_to_idr_and_f[t_ij] = [count, 0]\n",
    "            edges_to_idr_and_f[(t_ij[1], t_ij[0])] = [-count, 0]\n",
    "            count = count + 1\n",
    "    for index_t, t in enumerate(tri.simplices):\n",
    "        le = [(t[0], t[1]), (t[1], t[2]), (t[2], t[0])]\n",
    "        first = True\n",
    "        for i, e in enumerate(le):\n",
    "            idr = get_id(edges_to_idr_and_f, *e)\n",
    "            edges_to_idr_and_f[e[0], e[1]][1] = 2\n",
    "            if (edges_to_idr_and_f[e[1], e[0]][1] == 0):\n",
    "                edges_to_idr_and_f[e[1], e[0]][1] = 1\n",
    "            twin = -idr\n",
    "            prev = get_id(edges_to_idr_and_f, *le[(i-1) % 3])\n",
    "            nxt = get_id(edges_to_idr_and_f, *le[(i-1) % 3])\n",
    "            he = DoubleEdges.HalfEdge(idr, e[0], prev, nxt, twin, index_t)\n",
    "            half_edges[idr] = he\n",
    "            if (first):\n",
    "                first = False\n",
    "                triangles[index_t] = DoubleEdges.Triangle(index_t, idr)\n",
    "            if (e[0] in nodes):\n",
    "                continue\n",
    "            else:\n",
    "                nodes[e[0]] = DoubleEdges.Node(e[0], tri.points[e[0]], idr)        \n",
    "    for key, value in edges_to_idr_and_f.items():\n",
    "        if (value[1] == 1):\n",
    "            half_edges[-value[0]].twin = 0\n",
    "    return [nodes, half_edges, triangles]\n",
    "        \n",
    "def get_id(edges_to_idr_and_f, v1, v2):\n",
    "    return edges_to_idr_and_f[(v1, v2)][0]"
   ]
  },
  {
   "cell_type": "code",
   "execution_count": 35,
   "metadata": {
    "collapsed": true
   },
   "outputs": [],
   "source": [
    "#Конвертер в LightNodesAndTriangles\n",
    "def scipy_tri_to_light_nodes_and_triangles(tri):\n",
    "    nodes = dict()\n",
    "    triangles = dict()\n",
    "    for index_node, p in enumerate(tri.points):\n",
    "        b = tri.vertex_neighbor_vertices[0][index_node]\n",
    "        e = tri.vertex_neighbor_vertices[0][index_node + 1]\n",
    "        p_nodes = tri.vertex_neighbor_vertices[1][b : e]\n",
    "        triangle = None\n",
    "        for i, j in itertools.combinations(p_nodes, r=2):\n",
    "            flag = False\n",
    "            s = set([i, j, index_node])\n",
    "            for ind, k in enumerate(tri.simplices):\n",
    "                if (s == set(k)):\n",
    "                    triangle = ind\n",
    "                    flag = True\n",
    "                    break\n",
    "            if (flag):\n",
    "                break\n",
    "        nodes[index_node] = LightNodesAndTriangles.Node(index_node, Point(p[0], p[1]), triangle)\n",
    "    for index_triangles, t in enumerate(tri.simplices):\n",
    "        triangles[index_triangles] = LightNodesAndTriangles.Triangle(index_triangles, t, tri.neighbors[index_triangles])\n",
    "    return (nodes, triangles)"
   ]
  },
  {
   "cell_type": "markdown",
   "metadata": {},
   "source": [
    "Теперь сконвертируем:"
   ]
  },
  {
   "cell_type": "code",
   "execution_count": 38,
   "metadata": {
    "collapsed": true
   },
   "outputs": [],
   "source": [
    "tri_node_with_neighbours = scipy_tri_to_node_with_neighbours(tri)\n",
    "tri_nodes_and_triangles = scipy_tri_to_nodes_and_triangles(tri)\n",
    "tri_nodes_and_edges_and_triangles = scipy_tri_to_nodes_and_edges_and_triangles(tri)\n",
    "tri_double_edges = scipy_tri_to_double_edges(tri)\n",
    "tri_light_nodes_and_triangles = scipy_tri_to_light_nodes_and_triangles(tri)"
   ]
  },
  {
   "cell_type": "markdown",
   "metadata": {},
   "source": [
    "Реализованные алгоритмы \"Walking in triangulation\" для каждой из структур можно найти в *line_walk.py*, однако читателю предлагается написать алгоритм для структуры \"Лёгкие узлы и треугольники\" самостоятельно:"
   ]
  },
  {
   "cell_type": "code",
   "execution_count": 50,
   "metadata": {
    "collapsed": true
   },
   "outputs": [],
   "source": [
    "\"\"\" \n",
    "Стартовая функция, из которой должно произойти решение о том, дана нам точка на ребре или же это узел триангуляции.\n",
    "Если первое, то вызвать line_walk_light_nodes_and_triangles_e и добавить данное ребро в edges, если второе, то\n",
    "вызвать line_walk_light_nodes_and_triangles_v.\n",
    "\"\"\"\n",
    "def line_walk_light_nodes_and_triangles(tri_light_nodes_and_triangles, a, v1, v2, b, edges):\n",
    "    pass\n",
    "\n",
    "\"\"\" \n",
    "Рассмотреть три случая:\n",
    "1) пересечение луча по одному из ребер:\n",
    "добавить это ребро и вызвать line_walk_light_nodes_and_triangles_v\n",
    "2) пересечение луча с одним из смежных ребер:\n",
    "добавить это ребро и вызвать line_walk_light_nodes_and_triangles_e\n",
    "3) пересечение луча с двумя смежными ребрами (произошло пересечение по вершине):\n",
    "вызвать line_walk_light_nodes_and_triangles_v\n",
    "\"\"\"\n",
    "def line_walk_light_nodes_and_triangles_e(tri_light_nodes_and_triangles, v1, v2, ray, b, edges):\n",
    "    pass\n",
    "\n",
    "\"\"\" \n",
    "Рассмотреть два случая:\n",
    "1) пересечение луча по одному из инцидентных ребер триангуляции:\n",
    "добавить это ребро и вызвать line_walk_light_nodes_and_triangles_v\n",
    "2) пересечение луча с одним из противоположных ребер в инцидентных треугольниках:\n",
    "добавить это ребро и вызвать line_walk_light_nodes_and_triangles_e\n",
    "\"\"\"\n",
    "def line_walk_light_nodes_and_triangles_v(tri_light_nodes_and_triangles, v, ray, b, edges):\n",
    "    pass"
   ]
  },
  {
   "cell_type": "markdown",
   "metadata": {},
   "source": [
    "Попробуем их на практике. Для этого сначала напишем функцию test_line_walk(), которая будет генерировать нам точки A, B и ребро E с концами v1 и v2, на котором лежит A."
   ]
  },
  {
   "cell_type": "code",
   "execution_count": 14,
   "metadata": {
    "collapsed": true
   },
   "outputs": [],
   "source": [
    "def test_line_walk(tri):\n",
    "    v1_idr = np.random.randint(0, len(tri.points)) \n",
    "    s = tri.vertex_neighbor_vertices[0][v1_idr]\n",
    "    e = tri.vertex_neighbor_vertices[0][v1_idr + 1]\n",
    "    rv = np.random.randint(s, e)\n",
    "    v2_idr = tri.vertex_neighbor_vertices[1][rv]\n",
    "    is_v = np.random.randint(-1, 1)\n",
    "    v1 = Point(tri.points[v1_idr][0], tri.points[v1_idr][1])\n",
    "    v2 = Point(tri.points[v2_idr][0], tri.points[v2_idr][1])\n",
    "    a = None\n",
    "    if (is_v > 0):\n",
    "        if (is_v > 0.5):\n",
    "            a = Point(tri.points[v1_idr][0], tri.points[v1_idr][1])\n",
    "        else:\n",
    "            a = Point(tri.points[v2_idr][0], tri.points[v2_idr][1])\n",
    "    else:\n",
    "        a = Point((tri.points[v1_idr][0] + tri.points[v2_idr][0])/2, (tri.points[v1_idr][1] + tri.points[v2_idr][1])/2)\n",
    "    b = None\n",
    "    \n",
    "    while True:\n",
    "        b_x = np.random.randint(-10, 10)\n",
    "        b_y = np.random.randint(-10, 10)\n",
    "        b = Point(b_x, b_y)\n",
    "        if (not a.equals(b)):\n",
    "            break\n",
    "    \n",
    "    return [a, v1, v2, b]"
   ]
  },
  {
   "cell_type": "markdown",
   "metadata": {},
   "source": [
    "А тепер запустим и убедимся, что вне зависимости от выбранной структуры, мы пришли к одному ответу.\n",
    "\n",
    "**Внимание!** Для тех, кто написал алгоритм для структуры \"Лёгкие узлы и треугольники\" предлагается раскомментировать строки с answers4, чтобы проверить на корректность написанную реализацию."
   ]
  },
  {
   "cell_type": "code",
   "execution_count": 41,
   "metadata": {
    "collapsed": true
   },
   "outputs": [],
   "source": [
    "#test = [Point(7, -2), Point(7, -2), Point(10, 3), Point(5, 0)]\n",
    "#test = [Point(17/2, 1/2), Point(7, -2), Point(10, 3), Point(-7, 9)]\n",
    "#test = [Point(6, -1), Point(5, 0), Point(7, -2), Point(1, 4)]\n",
    "#test = [Point(0, 5/2), Point(0, 5), Point(0, 0), Point(0, 1)]\n",
    "#test = [Point(1, 5), Point(0, 5), Point(2, 5), Point(-4, 5)]\n",
    "#test = [Point(5/2, 11/2), Point(3, 6), Point(2, 5), Point(-10, -7)]\n",
    "\n",
    "for i in range(150):\n",
    "    test = test_line_walk(tri)\n",
    "    answers1 = line_walk_node_with_neighbours(tri_node_with_neighbours, *test, [])   \n",
    "    answers2 = line_walk_nodes_and_triangles(tri_nodes_and_triangles, *test, [])\n",
    "    answers3 = line_walk_nodes_and_edges_and_triangles(tri_nodes_and_edges_and_triangles, *test, [])\n",
    "    #answers4 = line_walk_light_nodes_and_triangles(tri_light_nodes_and_triangles, *test, [])\n",
    "    if (answers1 == answers2 == answers3): #== answers4):\n",
    "        continue\n",
    "    else:\n",
    "        print(\"Mistake!\")\n",
    "        print(\"Test:\")\n",
    "        print(test)\n",
    "        print(\"Right answer:\")\n",
    "        print(answers1)\n",
    "        #print(\"Your answer:\")\n",
    "        #print(answers4)\n",
    "        break"
   ]
  },
  {
   "cell_type": "markdown",
   "metadata": {},
   "source": [
    "Теперь выведем нашу триангуляцию вместе с лучом и найденными ребрами на каком-нибудь тесте.  \n",
    "\n",
    "В данной визуализации, луч выделен черным цветом, ребра, которые пересеклись с лучом, отмечены красным, а все остальные ребра синим:"
   ]
  },
  {
   "cell_type": "code",
   "execution_count": 40,
   "metadata": {},
   "outputs": [
    {
     "data": {
      "image/png": "[encoded data removed]",
      "text/plain": [
       "<matplotlib.figure.Figure at 0x7f249cc5cc18>"
      ]
     },
     "metadata": {},
     "output_type": "display_data"
    }
   ],
   "source": [
    "test = test_line_walk(tri)\n",
    "answers1 = line_walk_node_with_neighbours(tri_node_with_neighbours, *test, [])\n",
    "\n",
    "_, ray = inf_ray(test[0], test[3], 9) #генерируем луч для визуализации\n",
    "plt.triplot(points[:,0], points[:,1], tri.simplices.copy())\n",
    "plt.plot(points[:,0], points[:, 1], 'o')\n",
    "for seg in answers1:\n",
    "    pt1, pt2 = seg.points\n",
    "    plt.plot((pt1.x, pt2.x), (pt1.y, pt2.y), \"red\")\n",
    "pt1, pt2 = ray.points\n",
    "plt.plot((pt1.x, pt2.x), (pt1.y, pt2.y), \"black\")\n",
    "plt.show()"
   ]
  }
 ],
 "metadata": {
  "kernelspec": {
   "display_name": "Python 3",
   "language": "python",
   "name": "python3"
  },
  "language_info": {
   "codemirror_mode": {
    "name": "ipython",
    "version": 3
   },
   "file_extension": ".py",
   "mimetype": "text/x-python",
   "name": "python",
   "nbconvert_exporter": "python",
   "pygments_lexer": "ipython3",
   "version": "3.6.2"
  }
 },
 "nbformat": 4,
 "nbformat_minor": 2
}
