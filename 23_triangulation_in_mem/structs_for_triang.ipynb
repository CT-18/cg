{
 "cells": [
  {
   "cell_type": "code",
   "execution_count": 1,
   "metadata": {
    "collapsed": true
   },
   "outputs": [],
   "source": [
    "import itertools\n",
    "import warnings\n",
    "from typing import List\n",
    "\n",
    "import numpy as np\n",
    "import matplotlib.pyplot as plt\n",
    "from sympy import Point, Line, Segment, Ray, intersection\n",
    "\n",
    "from my_utils import * \n",
    "from line_walk import *\n",
    "\n",
    "warnings.filterwarnings('ignore')"
   ]
  },
  {
   "cell_type": "markdown",
   "metadata": {},
   "source": [
    "# Структуры для представления триангуляции\n",
    "\n",
    "## Мотивация\n",
    "\n",
    "Выбор структуры для представления *триангуляции* оказывает существенное влияние на теоретическую трудоёмкость алгоритмов, а также на скорость конкретной реализации. Кроме того, выбор структуры может зависеть от цели дальнейшего использования триангуляции.\n",
    "\n",
    "## Краткий ликбез\n",
    "\n",
    "**Триангуляцией** называется планарный граф, все грани которого являются треугольниками.\n",
    "\n",
    "Задачей **построения триангуляции** по заданному набору двумерных точек называется задача соединения заданных точек непересекающимися отрезками так, чтобы образовалась *триангуляция*. Заданный набор точек будем называть *точками триангуляции*.\n",
    "\n",
    "Для понимания того, как производятся оценки памяти структур, следует ознакомиться с [формулой Эйлера для планарных графов](https://neerc.ifmo.ru/wiki/index.php?title=%D0%A4%D0%BE%D1%80%D0%BC%D1%83%D0%BB%D0%B0_%D0%AD%D0%B9%D0%BB%D0%B5%D1%80%D0%B0).\n",
    "\n",
    "## Основные виды объектов триангуляции, операции с ними\n",
    "\n",
    "В триангуляции выделяют 3 основных вида объектов: **узлы** (точки, вершины), **рёбра** (отрезки) и **треугольники**.\n",
    "\n",
    "В большинстве алгоритмов построения триангуляции и алгоритмов её анализа требуются следующие операции с объектами триангуляции:\n",
    "\n",
    "1. Треугольник → узлы: получение для данного треугольника координат образующих его узлов.\n",
    "2. Треугольник → рёбра: получение для данного треугольника списка образующих его рёбер.\n",
    "3. Треугольник → треугольники: получение для данного треугольника списка соседних с ним треугольников.\n",
    "4. Ребро → узлы: получение для данного ребра координат образующих его узлов.\n",
    "5. Ребро → треугольники: получение для данного ребра списка соседних с ним треугольников.\n",
    "6. Узел → рёбра: получение для данного узла списка смежных рёбер.\n",
    "7. Узел → треугольники: получение для данного узла списка смежных треугольников.\n",
    "\n",
    "В зависимости от алгоритма некоторые операции могут быть не нужны. Например, в каких-то алгоритмах операции с рёбрами могут возникать не часто, поэтому рёбра могут представляться неявно, как одна из сторон некоторого треугольника. "
   ]
  },
  {
   "cell_type": "markdown",
   "metadata": {},
   "source": [
    "## Наиболее часто используемые структуры\n",
    "\n",
    "### \"Узлы с соседями\"\n",
    "\n",
    "В структуре «Узлы с соседями» для каждого узла триангуляции хранятся его координаты на плоскости и список ссылок на соседние узлы, с которыми есть общие рёбра. По сути, список соседей определяет в неявном виде рёбра триангуляции. Треугольники же при этом не представляются вообще. \n",
    "\n",
    "Вся триангуляция будет представлена в виде одного словаря: *id узла -> узел*.\n",
    "\n",
    "В качестве примера работы со структурой реализуем операцию узел → треугольники: по узлу происходит выдача списка из списков узлов, составляющие соседние треугольники:\n",
    "* рассмотрим всевозможные сочетания соседних узлов для узла self\n",
    "* если в текущей взятой паре (i, j) выполняется условие, что j является соседом для i, то образуем треугольник из узлов [i, j, self]"
   ]
  },
  {
   "cell_type": "code",
   "execution_count": 25,
   "metadata": {
    "collapsed": true
   },
   "outputs": [],
   "source": [
    "class NodeWithNeighbours:\n",
    "    \"\"\"\n",
    "    Структура \"Узел с соседями\"\n",
    "\n",
    "    :param p:           объект класса Point (представляем координаты узла) \n",
    "    :param neigh_nodes: список смежных узлов \n",
    "\n",
    "    \"\"\"\n",
    "\n",
    "    def __init__(self, p: Point, neigh_nodes: List['NodeWithNeighbours']):\n",
    "        self.p = p\n",
    "        self.neigh_nodes = neigh_nodes\n",
    "        \n",
    "    def get_nodes_of_neighbor_triangles(self):\n",
    "        \"\"\"Возвращает список списков узлов, составляющие соседние треугольники\"\"\"\n",
    "        return [\n",
    "            [i, j, self] for i, j in itertools.combinations(self.neigh_nodes, r=2) \n",
    "            if j in i.neigh_nodes]"
   ]
  },
  {
   "cell_type": "markdown",
   "metadata": {},
   "source": [
    "**Оценка памяти**: заметим, что каждое ребро в нашей структуре (в данном случае, ребро представляет собой две соседних вершины) присутствует дважды (например, ребро, состоящее из вершин X и Y, сначала хранится у X, как сосед, а затем у Y, как сосед). Также в каждом узле хранится два int'a для x и y (Point).\n",
    "\n",
    "Получаем точную оценку: **2E + 2V**, где E - количество рёбер, V - количество вершин."
   ]
  },
  {
   "cell_type": "markdown",
   "metadata": {},
   "source": [
    "### \"Узлы и треугольники\"\n",
    "\n",
    "В структуре «Узлы и треугольники» для каждого треугольника хранятся три указателя на образующие его узлы и три указателя на смежные треугольники, а каждый узел хранит указатели на инцидентные ему треугольники.\n",
    "\n",
    "Нумерация узлов производится в порядке обхода против часовой стрелки. Напротив узла, который находится на i месте в списке образующих узлов, находится треугольник, лежащий на i месте в списке соседних треугольников (см. рисунок 1).\n",
    "\n",
    "Вся триангуляция будет представлена в виде двух словарей: *id узла -> узел* и *id треугольника -> треугольник*. \n",
    "\n",
    "В качестве примера работы со структурой реализуем операцию узел → рёбра: по узлу происходит выдача списка из списков узлов, составляющие соседние рёбера:\n",
    "\n",
    "* проитерируемся по инцидентным треугольникам для узла self\n",
    "* для i-того треугольника образуем рёбра вида [self, el], где el — это один из соседов i, исключая self"
   ]
  },
  {
   "cell_type": "code",
   "execution_count": 27,
   "metadata": {
    "collapsed": true
   },
   "outputs": [],
   "source": [
    "class NodesAndTriangles:\n",
    "    \"\"\"\n",
    "    Структура \"Узлы и треугольники\"\n",
    "    Представляет собой классы Node и Triangle\n",
    "\n",
    "    \"\"\"\n",
    "\n",
    "    class Node:\n",
    "        \"\"\"\n",
    "        Класс Узел\n",
    "\n",
    "        :param p:           объект класса Point (представляем координаты узла) \n",
    "        :param triangles:   инцидентные узлу треугольники\n",
    "\n",
    "        \"\"\"\n",
    "\n",
    "        def __init__(self, p: Point, triangles: List['Triangle']):\n",
    "            self.p = p\n",
    "            self.triangles = triangles\n",
    "        \n",
    "        def get_nodes_of_neighbor_edges(self):\n",
    "            \"\"\"Возвращает список из списков узлов, составляющие соседние рёбра\"\"\"\n",
    "            \n",
    "            list_of_edges = []\n",
    "            for i in self.triangles:\n",
    "                list_of_edges.extend([[self, el] for el in set(i.nodes) - {self}])          \n",
    "            return list_of_edges\n",
    "\n",
    "    class Triangle:\n",
    "        \"\"\"\n",
    "        Класс Треугольник\n",
    "        \n",
    "        Если у треугольника напротив i-той вершины нет треугольника, то\n",
    "        вместо него хранится `None`.\n",
    "\n",
    "        :param nodes:     образующие треугольник узлы \n",
    "        :param triangles: соседние треугольники \n",
    "\n",
    "        \"\"\"\n",
    "\n",
    "        def __init__(self, nodes: List['Node'], triangles: List['Triangle']):\n",
    "            self.nodes = nodes\n",
    "            self.triangles = triangles"
   ]
  },
  {
   "cell_type": "markdown",
   "metadata": {},
   "source": [
    "![alt text](https://pp.userapi.com/c834300/v834300401/3a9cf/_pslElJKfbo.jpg \"Узлы и треугольники\")\n",
    "Рисунок 1. Связи узлов и треугольников в структуре «Узлы и треугольники» "
   ]
  },
  {
   "cell_type": "markdown",
   "metadata": {},
   "source": [
    "**Оценка памяти**: произведем подсчет для узлов и треугольников отдельно:\n",
    "\n",
    "Узлы займут **8V**, ибо один узел требует 8 ссылок: два int'a (Point) + 6 треугольников (среднее количество инцидентных узлу треугольников равно 6 (см. конспект про формулу Эйлера)).\n",
    "\n",
    "Треугольники займут **6F**, ибо один треугольник требует 6 ссылок: 3 узла (составляющие треугольник вершины) + 3 треугольника (соседние треугольники).\n",
    "\n",
    "Получаем верхнюю оценку: **8V + 6F**, где V - количество вершин, F - количество треугольников."
   ]
  },
  {
   "cell_type": "markdown",
   "metadata": {},
   "source": [
    "### \"Узлы, рёбра и треугольники\"\n",
    "\n",
    "В структуре «Узлы, рёбра и треугольники» в явном виде задаются все объекты триангуляции: узлы, рёбра и треугольники. Для каждого ребра хранятся указатели на два концевых узла и два соседних треугольника. Для треугольников хранятся указатели на три образующих треугольник ребра. В каждом узле координаты, инцидентные ребра и инцидентные треугольники. \n",
    "\n",
    "Вся триангуляция будет представлена в виде трёх словарей: *id узла -> узел*, *id ребра -> ребра* и *id треугольника -> треугольник*.  \n",
    "\n",
    "В качестве примера работы со структурой реализуем операцию треугольник → треугольники: по треугольнику происходит выдача списка соседних треугольников:\n",
    "\n",
    "* проитерируемся по инцидентным рёбрам для треугольника self\n",
    "* для i-того ребра получаем треугольник из списка соседних треугольников, исключая self"
   ]
  },
  {
   "cell_type": "code",
   "execution_count": 26,
   "metadata": {
    "collapsed": true
   },
   "outputs": [],
   "source": [
    "class NodesAndEdgesAndTriangles:\n",
    "    \"\"\"\n",
    "    Структура \"Узлы, ребра и треугольники\"\n",
    "\n",
    "    Представляет собой классы Node, Edge и Triangle\n",
    "    \"\"\"\n",
    "\n",
    "    class Node:\n",
    "        \"\"\"\n",
    "        Класс Узел\n",
    "\n",
    "        :param p:          объект класса Point (представляем координаты узла)\n",
    "        :param edges:      инцидентные узлу рёбра\n",
    "        :param triangles:  инцидентные узлу треугольники\n",
    "\n",
    "        \"\"\"\n",
    "\n",
    "        def __init__(self, p: Point, edges: List['Edge'], triangles: List['Triangle']):\n",
    "            self.p = p\n",
    "            self.edges = edges\n",
    "            self.triangles = triangles\n",
    "\n",
    "    class Edge:\n",
    "        \"\"\"\n",
    "        Класс Ребро\n",
    "\n",
    "        :param nodes:     список концевых узлов\n",
    "        :param triangles: соседние треугольники\n",
    "\n",
    "        \"\"\"\n",
    "\n",
    "        def __init__(self, nodes: List['Node'], triangles: List['Triangle']):\n",
    "            self.nodes = nodes\n",
    "            self.triangles = triangles\n",
    "\n",
    "    class Triangle:\n",
    "        \"\"\"\n",
    "        Класс Треугольник\n",
    "\n",
    "        :param edges: образующие треугольник ребра\n",
    "\n",
    "        \"\"\"\n",
    "\n",
    "        def __init__(self, edges: List['Edge']):\n",
    "            self.edges = edges\n",
    "        \n",
    "        def get_neighbor_triangles(self):\n",
    "            \"\"\"Возвращает список соседних треугольников\"\"\"\n",
    "            \n",
    "            list_of_triangles = []\n",
    "            for i in self.edges:\n",
    "                tr = list(set(i.triangles) - {self})\n",
    "                if (len(tr) > 0):\n",
    "                    list_of_triangles.append(tr[0])\n",
    "            return list_of_triangles"
   ]
  },
  {
   "cell_type": "markdown",
   "metadata": {},
   "source": [
    "**Оценка памяти**: произведем подсчет для узлов, рёбер и треугольников отдельно:\n",
    "\n",
    "Узлы займут **14V**, ибо один узел требует 14 ссылок: два int'a (Point) + 6 треугольников (среднее количество инцидентных узлу треугольников равно 6) + 6 рёбер (среднее количество соседних узлов равно 6) (см. формулы Эйлера)).\n",
    "\n",
    "Рёбра займут **4E**, ибо одно ребро требует 4 ссылки: два узла (концы ребра) + два треугольника (у одного ребра два инцидентных треугольника).\n",
    "\n",
    "Треугольники займут **3F**, ибо один треугольник требует 3 ссылки: 3 ребра (составляющие треугольник рёбра).\n",
    "\n",
    "Получаем верхнюю оценку: **14V + 4E + 3F**, где V - количество вершин, E - количество рёбер и F - количество треугольников."
   ]
  },
  {
   "cell_type": "markdown",
   "metadata": {},
   "source": [
    "### \"Двойные рёбра\"\n",
    "\n",
    "В структуре «Двойные рёбра» основой триангуляции являются вершины, полурёбра и треугольники. Рассмотрим каждый элемент по отдельности:\n",
    "\n",
    "* *Вершина* хранит в себе координаты узла и ссылку на любое инцидентное полуребро, выходящее из этого узла.\n",
    "\n",
    "* *Полуребро* можно рассматривать, как ориентированное ребро. Хранит в себе ссылку на выходящий узел, ссылки на обратное, следующее и предыдущее ребра в порядке обхода треугольника, а также ссылку на инцидентный треугольник. \n",
    "\n",
    "* *Треугольник* хранит в себе любое полуребро, составляющее его границу.\n",
    "\n",
    "В качестве примера работы со структурой реализуем операцию узел → треугольники: по узлу происходит выдача соседних треугольников:\n",
    "\n",
    "* зафиксируем инцидентное полуребро (current_he), выходящее из self, и инцидентный треугольник для этого полуребра (current_triangle, start_triangle)\n",
    "* будем двигаться по соседним треугольнкам против часовой стрелки: добавим current_triangle в итоговый список, затем возьмем current_he.prev, если у него существует близнец, то он теперь и current_he, а треугольник от него станет current_triangle. Повторяем, пока current_trinagle != start_triangle. Если же в какой-то момент близнеца не окажется, то прервать проход против часовой и сделать аналогичный цикл по часовой стрелке для полуребра изначально данной вершины"
   ]
  },
  {
   "cell_type": "code",
   "execution_count": 5,
   "metadata": {
    "collapsed": true
   },
   "outputs": [],
   "source": [
    "class DoubleEdges:\n",
    "    \"\"\"\n",
    "    Структура \"Двойные ребра\"\n",
    "\n",
    "    Представляет собой классы Node, HalfEdge и Triangle\n",
    "    \"\"\"\n",
    "\n",
    "    class Node:\n",
    "        \"\"\"\n",
    "        Класс Узел\n",
    "\n",
    "        :param p:    объект класса Point (представляем координаты узла)\n",
    "        :param he:   инцидентное полуребро, выходящее из p\n",
    "\n",
    "        \"\"\"\n",
    "\n",
    "        def __init__(self, p: Point, he: 'HalfEdge'):\n",
    "            self.p = p\n",
    "            self.he = he\n",
    "        \n",
    "        def get_neighbor_triangles(self):\n",
    "            \"\"\"Возвращает список соседних треугольников\"\"\"\n",
    "            \n",
    "            start_triangle = current_triangle = self.he.triangle\n",
    "            current_he = self.he\n",
    "            list_of_triangles = []\n",
    "            \n",
    "            while True:\n",
    "                \n",
    "                list_of_triangles.append(current_triangle)\n",
    "                current_he = current_he.prev\n",
    "                \n",
    "                if (current_he.twin != None):\n",
    "                    current_he = current_he.twin \n",
    "                    current_triangle = current_he.triangle\n",
    "                    if (start_triangle == current_triangle):\n",
    "                        #no need cw\n",
    "                        return list_of_triangles\n",
    "                else:\n",
    "                    #need cw\n",
    "                    break\n",
    "            \n",
    "            current_he = self.he.twin\n",
    "            \n",
    "            if (current_he == None):\n",
    "                return list_of_triangles \n",
    "            \n",
    "            current_triangle = current_he.triangle\n",
    "            \n",
    "            while True:\n",
    "                if (start_triangle == current_triangle):\n",
    "                        return list_of_triangles\n",
    "                list_of_triangles.append(current_triangle)\n",
    "                current_he = current_he.nxt\n",
    "                \n",
    "                if (current_he.twin != None):\n",
    "                    current_he = current_he.twin \n",
    "                    current_triangle = current_he.triangle\n",
    "                else:\n",
    "                    return list_of_triangles\n",
    "            \n",
    "\n",
    "    class HalfEdge:\n",
    "        \"\"\"\n",
    "        Класс Полуребро\n",
    "        \n",
    "        Поле `twin` будет равно значению `None`, если обратного\n",
    "        полуребра не существует.\n",
    "\n",
    "        :param node:     выходящий узел\n",
    "        :param prev:     предыдущее полуребро\n",
    "        :param nxt:      следующее полуребро\n",
    "        :param twin:     обратное полуребро\n",
    "        :param triangle: инцидентный треугольник\n",
    "\n",
    "        \"\"\"\n",
    "\n",
    "        def __init__(self, node: 'HalfEdge', prev: 'HalfEdge', nxt: 'HalfEdge', twin: 'HalfEdge', triangle: 'HalfEdge'):\n",
    "            self.node = node\n",
    "            self.prev = prev\n",
    "            self.nxt = nxt\n",
    "            self.twin = twin\n",
    "            self.triangle = triangle\n",
    "\n",
    "    class Triangle:\n",
    "        \"\"\"\n",
    "        Класс Треугольник\n",
    "\n",
    "        :param he:  полуребро, составляющее границу\n",
    "\n",
    "        \"\"\"\n",
    "\n",
    "        def __init__(self, he: 'HalfEdge'):\n",
    "            self.he = he"
   ]
  },
  {
   "cell_type": "markdown",
   "metadata": {},
   "source": [
    "![alt text](https://pp.userapi.com/c834302/v834302573/3dc06/H_C-Ul16tFU.jpg \"Двойные рёбра\")\n",
    "Рисунок 2. Связи рёбер в структуре «Двойные рёбра» (стрелками обозначены полурёбра)"
   ]
  },
  {
   "cell_type": "markdown",
   "metadata": {},
   "source": [
    "**Оценка памяти**: произведем подсчет для узлов, полурёбер и треугольников отдельно:\n",
    "\n",
    "Узлы займут **3V**, ибо один узел требует 3 ссылки: два int'a (Point) + одно полуребро (инцидентное полурёбро).\n",
    "\n",
    "Полурёбра займут **10E**, ибо одно полуребро требует 5 ссылок: один узел (выходящая вершина) + один треугольник (треугольник обхода) + 3 полуребра (prev, next, twin полурёбра), а на каждое ребро есть два полуребра, отсюда х2.\n",
    "\n",
    "Треугольники займут **F**, ибо один треугольник требует 1 ссылку: одно полуребро (любое инцидентное полуребро).\n",
    "\n",
    "Получаем верхнюю оценку: **3V + 10E + F**, где V - количество вершин, E - количество рёбер и F - количество треугольников."
   ]
  },
  {
   "cell_type": "markdown",
   "metadata": {},
   "source": [
    "### \"Лёгкие узлы и треугольники\"\n",
    "\n",
    "В структуре «Лёгкие узлы и треугольники» для каждого треугольника хранятся три указателя на образующие его узлы и три указателя на смежные треугольники, а каждый узел хранит только один указатель на инцидентный ему треугольник, что и является ключевым отличием от структуры \"Узлы и треугольники\".\n",
    "\n",
    "Нумерация узлов производится в порядке обхода против часовой стрелки. Напротив узла, который находится на i месте в списке образующих узлов, находится треугольник, лежащий на i месте в списке соседних треугольников.\n",
    "\n",
    "Вся триангуляция будет представлена в виде двух словарей: *id узла -> узел* и *id треугольника -> треугольник*. \n",
    "\n",
    "Такая структура используется в [CGAL](https://doc.cgal.org/latest/Triangulation_2/index.html).\n",
    "\n",
    "В качестве упражнения со структурой предлагается реализовать операцию узел → треугольники: по узлу происходит выдача всех соседних треугольников:\n",
    "\n",
    "* получим по узлу self инцидентный узлу треугольник (current_triangle, start_triangle), добавим его в итоговый список\n",
    "* найдем индекс по которому находится self в current_triangle.node и берем следующий индекс (index), берём current_triangle.triangles[index], добавляем этот треугольник в итоговый список. Повторяем, пока current_trinagle != start_triangle. Если же в какой-то момент треугольника напротив узла не окажется (None), то прервать проход против часовой и сделать аналогичный цикл, в котором уже брать предыдущий индекс, вместо следующего"
   ]
  },
  {
   "cell_type": "code",
   "execution_count": 6,
   "metadata": {
    "collapsed": true
   },
   "outputs": [],
   "source": [
    "class LightNodesAndTriangles:\n",
    "    \"\"\"\n",
    "    Структура \"Лёгкие узлы и треугольники\"\n",
    "    Представляет собой классы Node и Triangle\n",
    "\n",
    "    \"\"\"\n",
    "\n",
    "    class Node:\n",
    "        \"\"\"\n",
    "        Класс Узел\n",
    "\n",
    "        :param p:           объект класса Point (представляем координаты узла) \n",
    "        :param triangles:   любой инцидентный узлу треугольник\n",
    "\n",
    "        \"\"\"\n",
    "\n",
    "        def __init__(self, p: Point, triangle: 'Triangle'):\n",
    "            self.p = p\n",
    "            self.triangle = triangle\n",
    "            \n",
    "        def get_neighbor_triangles(self):\n",
    "            \"\"\"Возвращает список соседних треугольников\"\"\"\n",
    "            pass\n",
    "\n",
    "    class Triangle:\n",
    "        \"\"\"\n",
    "        Класс Треугольник\n",
    " \n",
    "        :param nodes:     образующие треугольник узлы\n",
    "        :param triangles: соседние треугольники\n",
    "\n",
    "        \"\"\"\n",
    "\n",
    "        def __init__(self, nodes: List['Node'], triangles: List['Triangle']):\n",
    "            self.nodes = nodes\n",
    "            self.triangles = triangles"
   ]
  },
  {
   "cell_type": "markdown",
   "metadata": {},
   "source": [
    "![alt text](https://pp.userapi.com/c831208/v831208972/bda/7LJG8XVez1o.jpg \"Лёгкие узлы и треугольники\")\n",
    "\n",
    "Рисунок 3. Связи узлов и треугольников в структуре «Лёгкие узлы и треугольники» (стрелками обозначены ссылки)"
   ]
  },
  {
   "cell_type": "markdown",
   "metadata": {},
   "source": [
    "**Оценка памяти**: произведем подсчет для узлов и треугольников отдельно:\n",
    "\n",
    "Узлы займут **3V**, ибо один узел требует 3 ссылки: два int'a (Point) + один треугольник (инцидентный треугольник).\n",
    "\n",
    "Треугольники займут **6F**, ибо один треугольник требует 6 ссылок: 3 узла (составляющие треугольник вершины) + 3 треугольника (соседние треугольники).\n",
    "\n",
    "Получаем верхнюю оценку: **3V + 6F**, где V - количество вершин, F - количество треугольников."
   ]
  },
  {
   "cell_type": "markdown",
   "metadata": {},
   "source": [
    "## Резюме и практические рекомендации\n",
    "\n",
    "| Название структуры данных    | Узлы      | Рёбра     | Треугольники     | Оценка памяти     | Оценка памяти в V |\n",
    "|:----------------------------:|:---------:|:---------:|:----------------:|:-----------------:|:-----------------:|\n",
    "| \"Узлы с соседями\"            | **+**     |  **-**    |     **-**        | **2V + 2E**       | **8V**            |\n",
    "| \"Узлы и треугольники\"        | **+**     |  **-**    |     **+**        | **8V + 6F**       | **20V**           | \n",
    "| \"Узлы, рёбра и треугольники\" | **+**     |  **+**    |     **+**        | **14V + 4E + 3F** | **32V**           |\n",
    "| \"Двойные рёбра\"              | **+**     |  **+**    |     **+**        | **3V + 10E + F**  | **35V**           |\n",
    "| \"Лёгкие узлы и треугольники\" | **+**     |  **-**    |     **+**        | **3V + 6F**       | **15V**           |\n",
    "\n",
    "Таблица 1. Основные характеристики структур: «–» – элемент отсутствует, «+» – присутствует.\n",
    "\n",
    "Выводы относительно рассмотренных структур:\n",
    "* \"Узлы с соседями\" наименее удобная и используемая структура, так как не представляет в явном виде рёбра и треугольники.\n",
    "\n",
    "* Удобной с точки зрения программирования является структура \"Лёгкие узлы и треугольники\".\n",
    "\n",
    "* Для практического применения рекомендуются структуры \"Двойные ребра\" и \"Лёгкие узлы и треугольники\"."
   ]
  },
  {
   "cell_type": "markdown",
   "metadata": {},
   "source": [
    "## Работа со структурами на примере задачи \"Walking in triangulation\" \n",
    "\n",
    "Рассмотрим как можно работать с описанными структурами. Решим следующую задачу:\n",
    "\n",
    "Пусть дана трианугляция T, точка A, ребро E, которой точка A принадлежит, а также точка B.\n",
    "Требуется найти все ребра заданной триангуляции T, пересекающиеся лучом AB.\n",
    "\n",
    "Триангуляцию будем генерировать с помощью библиотеки *scipy* классом *Delaunay*. \n",
    "\n",
    "**Примечание**: ёмкое описание, как с этим работать, можно найти в соседнем конспекте \"Краткое руководство по триангуляции Делоне в scipy\" "
   ]
  },
  {
   "cell_type": "code",
   "execution_count": 7,
   "metadata": {
    "collapsed": true
   },
   "outputs": [],
   "source": [
    "points = np.array([[0, 0], [5, 0], [10, 3], [0, 5], [5, 5], [5, 10], [3, 6], [1, -1], [7, -2], [2, 5]])\n",
    "from scipy.spatial import Delaunay\n",
    "tri = Delaunay(points)"
   ]
  },
  {
   "cell_type": "code",
   "execution_count": 8,
   "metadata": {},
   "outputs": [
    {
     "data": {
      "image/png": "[encoded data removed]",
      "text/plain": [
       "<matplotlib.figure.Figure at 0x7f2b556daa90>"
      ]
     },
     "metadata": {},
     "output_type": "display_data"
    }
   ],
   "source": [
    "plt.triplot(points[:,0], points[:,1], tri.simplices.copy())\n",
    "plt.plot(points[:,0], points[:, 1], 'o')\n",
    "plt.show()"
   ]
  },
  {
   "cell_type": "markdown",
   "metadata": {},
   "source": [
    "Введем удобную функцию для получения соседних вершин из tri:"
   ]
  },
  {
   "cell_type": "code",
   "execution_count": 9,
   "metadata": {
    "collapsed": true
   },
   "outputs": [],
   "source": [
    "def get_vertex_neighbor_vertices(tri, vertex):\n",
    "    \"\"\"Возвращает все смежные вершины для данной\"\"\"\n",
    "    \n",
    "    h = tri.vertex_neighbor_vertices[0][vertex]\n",
    "    t = tri.vertex_neighbor_vertices[0][vertex + 1]\n",
    "\n",
    "    return tri.vertex_neighbor_vertices[1][h : t]"
   ]
  },
  {
   "cell_type": "markdown",
   "metadata": {},
   "source": [
    "Реализуем конверторы, преобразующие данную триангуляцию в описанные ранее структуры:"
   ]
  },
  {
   "cell_type": "code",
   "execution_count": 10,
   "metadata": {
    "collapsed": true
   },
   "outputs": [],
   "source": [
    "def scipy_tri_to_node_with_neighbours(tri):\n",
    "    \"\"\"Конвертер в NodeWithNeighbours\"\"\"\n",
    "    node_with_neighbours = dict()\n",
    "\n",
    "    for index, p in enumerate(tri.points):\n",
    "        node_with_neighbours[index] = NodeWithNeighbours(Point(p[0], p[1]), [])\n",
    "\n",
    "    for index, p in enumerate(tri.points):\n",
    "        node_with_neighbours[index].neigh_nodes = [\n",
    "            node_with_neighbours[i] for i in get_vertex_neighbor_vertices(tri, index)\n",
    "        ]\n",
    "\n",
    "    return node_with_neighbours"
   ]
  },
  {
   "cell_type": "code",
   "execution_count": 11,
   "metadata": {
    "collapsed": true
   },
   "outputs": [],
   "source": [
    "def scipy_tri_to_nodes_and_triangles(tri):\n",
    "    \"\"\"Конвертер в NodesAndTriangles\"\"\"\n",
    "    nodes = dict()\n",
    "    triangles = dict()\n",
    "\n",
    "    for index, p in enumerate(tri.points):\n",
    "        nodes[index] = NodesAndTriangles.Node(Point(p[0], p[1]), [])\n",
    "    for index in range(len(tri.simplices)):\n",
    "        triangles[index] = NodesAndTriangles.Triangle([], [])\n",
    "\n",
    "    for index_p, p in enumerate(tri.points):\n",
    "        p_nodes = get_vertex_neighbor_vertices(tri, index_p)\n",
    "        p_triangles = []\n",
    "    \n",
    "        for i, j in itertools.combinations(p_nodes, r=2):\n",
    "            s = {i, j, index_p}\n",
    "\n",
    "            for index_t, t in enumerate(tri.simplices):\n",
    "                if s == set(t):\n",
    "                    p_triangles.append(index_t)\n",
    "                    break\n",
    "\n",
    "        nodes[index_p].triangles = [triangles[i] for i in p_triangles]\n",
    "\n",
    "    for index, t in enumerate(tri.simplices):\n",
    "        triangles[index].nodes = [nodes[i] for i in t]\n",
    "        triangles[index].triangles = [\n",
    "            triangles[i] if i != -1 else None for i in tri.neighbors[index]\n",
    "        ]\n",
    "\n",
    "    return (nodes, triangles)"
   ]
  },
  {
   "cell_type": "code",
   "execution_count": 12,
   "metadata": {
    "collapsed": true
   },
   "outputs": [],
   "source": [
    "def scipy_tri_to_nodes_and_edges_and_triangles(tri):\n",
    "    \"\"\"Конвертер в NodesAndEdgesAndTriangles\"\"\"\n",
    "    nodes = dict()\n",
    "    two_points_to_idr = dict()\n",
    "    idr_to_edges = dict()\n",
    "    triangles = dict()\n",
    "\n",
    "    for index, p in enumerate(tri.points):\n",
    "        nodes[index] = NodesAndEdgesAndTriangles.Node(Point(p[0], p[1]), [], [])\n",
    "    for index in range(len(tri.simplices)):\n",
    "        triangles[index] = NodesAndEdgesAndTriangles.Triangle([])\n",
    "\n",
    "    for index_p, p in enumerate(tri.points):\n",
    "        p_nodes = get_vertex_neighbor_vertices(tri, index_p)\n",
    "        p_triangles = []\n",
    "\n",
    "        for i, j in itertools.combinations(p_nodes, r=2):\n",
    "            s = {i, j, index_p}\n",
    "\n",
    "            for index_t, t in enumerate(tri.simplices):\n",
    "                if s == set(t):\n",
    "                    p_triangles.append(index_t)\n",
    "                    break\n",
    "\n",
    "        nodes[index_p].triangles = [triangles[i] for i in p_triangles]\n",
    "\n",
    "    for index, t in enumerate(tri.simplices):\n",
    "        for i, j in itertools.combinations(t, r=2):\n",
    "            t_ij = (i, j) if j > i else (j, i)\n",
    "\n",
    "            if t_ij in two_points_to_idr:\n",
    "                continue\n",
    "\n",
    "            s = len(two_points_to_idr)\n",
    "\n",
    "            inter_vs = set(get_vertex_neighbor_vertices(tri, i)) & set(get_vertex_neighbor_vertices(tri, j)) \n",
    "            n_triangles = []\n",
    "\n",
    "            for v in inter_vs:\n",
    "                for index_tt, tt in enumerate(tri.simplices):\n",
    "                    if set(tt) == {i, j, v}:\n",
    "                        n_triangles.append(index_tt)\n",
    "                        break\n",
    "\n",
    "            e = NodesAndEdgesAndTriangles.Edge(\n",
    "                [nodes[ii] for ii in list(t_ij)],\n",
    "                [triangles[ii] for ii in n_triangles])\n",
    "\n",
    "            nodes[t_ij[0]].edges.append(e)\n",
    "            nodes[t_ij[1]].edges.append(e)\n",
    "\n",
    "            two_points_to_idr[t_ij] = s \n",
    "            idr_to_edges[s] = e\n",
    "\n",
    "    for index, t in enumerate(tri.simplices):\n",
    "        edges = []\n",
    "\n",
    "        for i, j in itertools.combinations(t, r=2):\n",
    "            edges.append(two_points_to_idr[(i, j) if j > i else (j, i)])\n",
    "    \n",
    "        triangles[index].edges = [idr_to_edges[ii] for ii in edges]\n",
    "\n",
    "    return [nodes, idr_to_edges, triangles]"
   ]
  },
  {
   "cell_type": "code",
   "execution_count": 13,
   "metadata": {
    "collapsed": true
   },
   "outputs": [],
   "source": [
    "def scipy_tri_to_double_edges(tri):\n",
    "    \"\"\"Конвертер в DoubleEdges\"\"\"\n",
    "    nodes = dict()\n",
    "    half_edges = dict()\n",
    "    triangles = dict()\n",
    "    edges_to_idr_and_f = dict()\n",
    "\n",
    "    count = 1\n",
    "\n",
    "    for index, p in enumerate(tri.points):\n",
    "        nodes[index] = DoubleEdges.Node(Point(p[0], p[1]), None)\n",
    "    for index in range(len(tri.simplices)):\n",
    "        triangles[index] = DoubleEdges.Triangle(None)\n",
    "\n",
    "    for t in tri.simplices:\n",
    "        for i, j in itertools.combinations(t, r=2):\n",
    "            t_ij = (i, j) if j > i else (j, i)\n",
    "\n",
    "            if (t_ij in edges_to_idr_and_f):\n",
    "                continue\n",
    "\n",
    "            edges_to_idr_and_f[t_ij] = [count, 0]\n",
    "            edges_to_idr_and_f[(t_ij[1], t_ij[0])] = [-count, 0]\n",
    "            count = count + 1\n",
    "\n",
    "    for index, t in enumerate(tri.simplices):\n",
    "        le = [(t[0], t[1]), (t[1], t[2]), (t[2], t[0])]\n",
    "        first = True\n",
    "\n",
    "        for i, e in enumerate(le):\n",
    "            id_current_he = get_id(edges_to_idr_and_f, *e)\n",
    "            edges_to_idr_and_f[e[0], e[1]][1] = 2\n",
    "\n",
    "            if (edges_to_idr_and_f[e[1], e[0]][1] == 0):\n",
    "                edges_to_idr_and_f[e[1], e[0]][1] = 1\n",
    "\n",
    "            id_prev = get_id(edges_to_idr_and_f, *le[(i - 1) % 3])\n",
    "            id_nxt = get_id(edges_to_idr_and_f, *le[(i + 1) % 3])\n",
    "            id_twin = -id_current_he\n",
    "            \n",
    "            prev = get_half_edge(half_edges, id_prev)\n",
    "            nxt = get_half_edge(half_edges, id_nxt)\n",
    "            twin = get_half_edge(half_edges, id_twin)\n",
    "\n",
    "            he = None\n",
    "    \n",
    "            if id_current_he not in half_edges:\n",
    "                he = DoubleEdges.HalfEdge(nodes[e[0]], prev, nxt, twin, triangles[index])\n",
    "            else:\n",
    "                he = half_edges[id_current_he]\n",
    "                he.node = nodes[e[0]]\n",
    "                he.prev = prev\n",
    "                he.nxt = nxt\n",
    "                he.twin = twin\n",
    "                he.triangle = triangles[index]\n",
    "\n",
    "            half_edges[id_current_he] = he\n",
    "\n",
    "            if first:\n",
    "                first = False\n",
    "                triangles[index].he = he\n",
    "\n",
    "            if e[0] in nodes and nodes[e[0]].he != None:\n",
    "                continue\n",
    "            else:\n",
    "                nodes[e[0]].he = he\n",
    "\n",
    "    for key, value in edges_to_idr_and_f.items():\n",
    "        if value[1] == 1:\n",
    "            half_edges[-value[0]].twin = None\n",
    "\n",
    "    return [nodes, half_edges, triangles]\n",
    "\n",
    "def get_id(edges_to_idr_and_f, v1, v2):\n",
    "    return edges_to_idr_and_f[(v1, v2)][0]\n",
    "\n",
    "def get_half_edge(half_edges, id_edge):\n",
    "    if (not(id_edge in half_edges)):\n",
    "        half_edges[id_edge] = DoubleEdges.HalfEdge(None, None, None, None, None)\n",
    "\n",
    "    return half_edges[id_edge]"
   ]
  },
  {
   "cell_type": "code",
   "execution_count": 14,
   "metadata": {
    "collapsed": true
   },
   "outputs": [],
   "source": [
    "def scipy_tri_to_light_nodes_and_triangles(tri):\n",
    "    \"\"\"Конвертер в LightNodesAndTriangles\"\"\"\n",
    "    nodes = dict()\n",
    "    triangles = dict()\n",
    "\n",
    "    for index, p in enumerate(tri.points):\n",
    "        nodes[index] = LightNodesAndTriangles.Node(Point(p[0], p[1]), None)\n",
    "    for index in range(len(tri.simplices)):\n",
    "        triangles[index] = LightNodesAndTriangles.Triangle([], [])\n",
    "\n",
    "    for index_p, p in enumerate(tri.points):\n",
    "        p_nodes = get_vertex_neighbor_vertices(tri, index_p)\n",
    "        triangle = None\n",
    "\n",
    "        for i, j in itertools.combinations(p_nodes, r=2):\n",
    "            flag = False\n",
    "            s = {i, j, index_p}\n",
    "\n",
    "            for index_t, t in enumerate(tri.simplices):\n",
    "                if s == set(t):\n",
    "                    triangle = index_t\n",
    "                    flag = True\n",
    "                    break\n",
    "\n",
    "            if (flag):\n",
    "                break\n",
    "\n",
    "        nodes[index_p].triangle = triangles[triangle]\n",
    "\n",
    "    for index, t in enumerate(tri.simplices):\n",
    "        triangles[index].nodes = [nodes[i] for i in t]\n",
    "        triangles[index].triangles = [\n",
    "            triangles[i] if i != -1 else None for i in tri.neighbors[index] \n",
    "        ]\n",
    "\n",
    "    return (nodes, triangles)"
   ]
  },
  {
   "cell_type": "markdown",
   "metadata": {},
   "source": [
    "Теперь сконвертируем:"
   ]
  },
  {
   "cell_type": "code",
   "execution_count": 23,
   "metadata": {},
   "outputs": [],
   "source": [
    "tri_node_with_neighbours = scipy_tri_to_node_with_neighbours(tri)\n",
    "tri_nodes_and_triangles = scipy_tri_to_nodes_and_triangles(tri)\n",
    "tri_nodes_and_edges_and_triangles = scipy_tri_to_nodes_and_edges_and_triangles(tri)\n",
    "tri_double_edges = scipy_tri_to_double_edges(tri)\n",
    "tri_light_nodes_and_triangles = scipy_tri_to_light_nodes_and_triangles(tri)"
   ]
  },
  {
   "cell_type": "markdown",
   "metadata": {},
   "source": [
    "Реализованные алгоритмы \"Walking in triangulation\" для каждой из структур можно найти в *line_walk.py*, однако читателю предлагается написать алгоритм для структуры \"Лёгкие узлы и треугольники\" самостоятельно:"
   ]
  },
  {
   "cell_type": "code",
   "execution_count": 16,
   "metadata": {
    "collapsed": true
   },
   "outputs": [],
   "source": [
    "def line_walk_light_nodes_and_triangles(tri_light_nodes_and_triangles, a, v1, v2, b, edges):\n",
    "    \"\"\"Стартовая функция, из которой должно произойти решение о том,\n",
    "    дана нам точка на ребре или же это узел триангуляции. Если первое,\n",
    "    то вызвать line_walk_light_nodes_and_triangles_e и добавить данное\n",
    "    ребро в edges, если второе, то вызвать line_walk_light_nodes_and_triangles_v.\n",
    "    \"\"\"\n",
    "    pass\n",
    "\n",
    "\n",
    "def line_walk_light_nodes_and_triangles_e(v1, v2, ray, b, edges):\n",
    "    \"\"\"Рассмотреть три случая:\n",
    "    1) пересечение луча по одному из ребер:\n",
    "    добавить это ребро в edges и вызвать line_walk_light_nodes_and_triangles_v\n",
    "    2) пересечение луча с одним из смежных ребер:\n",
    "    добавить это ребро в edges и вызвать line_walk_light_nodes_and_triangles_e\n",
    "    3) пересечение луча с двумя смежными ребрами (произошло пересечение по вершине):\n",
    "    вызвать line_walk_light_nodes_and_triangles_v\n",
    "    \"\"\"\n",
    "    pass\n",
    "\n",
    "\n",
    "def line_walk_light_nodes_and_triangles_v(v, ray, b, edges):\n",
    "    \"\"\"Рассмотреть два случая:\n",
    "    1) пересечение луча по одному из инцидентных ребер триангуляции:\n",
    "    добавить это ребро в edges и вызвать line_walk_light_nodes_and_triangles_v\n",
    "    2) пересечение луча с одним из противоположных ребер в инцидентных треугольниках:\n",
    "    добавить это ребро в edges и вызвать line_walk_light_nodes_and_triangles_e\n",
    "    \"\"\"\n",
    "    pass"
   ]
  },
  {
   "cell_type": "markdown",
   "metadata": {},
   "source": [
    "Попробуем их на практике. Для этого сначала напишем функцию test_line_walk(), которая будет генерировать нам точки A, B и ребро E с концами v1 и v2, на котором лежит A."
   ]
  },
  {
   "cell_type": "code",
   "execution_count": 17,
   "metadata": {
    "collapsed": true
   },
   "outputs": [],
   "source": [
    "def test_line_walk(tri):\n",
    "    v1_idr = np.random.randint(0, len(tri.points)) \n",
    "\n",
    "    s = tri.vertex_neighbor_vertices[0][v1_idr]\n",
    "    e = tri.vertex_neighbor_vertices[0][v1_idr + 1]\n",
    "    rv = np.random.randint(s, e)\n",
    "    v2_idr = tri.vertex_neighbor_vertices[1][rv]\n",
    "\n",
    "    is_v = np.random.randint(-1, 1)\n",
    "    v1 = Point(tri.points[v1_idr][0], tri.points[v1_idr][1])\n",
    "    v2 = Point(tri.points[v2_idr][0], tri.points[v2_idr][1])\n",
    "    \n",
    "    a = None\n",
    "\n",
    "    if is_v > 0:\n",
    "        t = v1_idr if is_v > 0.5 else v2_idr\n",
    "        a = Point(tri.points[t][0], tri.points[t][1])\n",
    "    else:\n",
    "        a = Point(\n",
    "            (tri.points[v1_idr][0] + tri.points[v2_idr][0]) / 2,\n",
    "            (tri.points[v1_idr][1] + tri.points[v2_idr][1]) / 2\n",
    "        )\n",
    "\n",
    "    b = None\n",
    "\n",
    "    while True:\n",
    "        b_x = np.random.randint(-10, 10)\n",
    "        b_y = np.random.randint(-10, 10)\n",
    "\n",
    "        b = Point(b_x, b_y)\n",
    "\n",
    "        if (not a.equals(b)):\n",
    "            break\n",
    "\n",
    "    return [a, v1, v2, b]"
   ]
  },
  {
   "cell_type": "markdown",
   "metadata": {},
   "source": [
    "А тепер запустим и убедимся, что вне зависимости от выбранной структуры, мы пришли к одному ответу.\n",
    "\n",
    "**Внимание!** Для тех, кто написал алгоритм для структуры \"Лёгкие узлы и треугольники\" предлагается раскомментировать строки с answers5, чтобы проверить на корректность написанную реализацию."
   ]
  },
  {
   "cell_type": "code",
   "execution_count": 18,
   "metadata": {
    "collapsed": true
   },
   "outputs": [],
   "source": [
    "for i in range(300):\n",
    "    test = test_line_walk(tri)\n",
    "    answers1 = line_walk_node_with_neighbours(tri_node_with_neighbours, *test, [])   \n",
    "    answers2 = line_walk_nodes_and_triangles(tri_nodes_and_triangles, *test, [])\n",
    "    answers3 = line_walk_nodes_and_edges_and_triangles(tri_nodes_and_edges_and_triangles, *test, [])\n",
    "    answers4 = line_walk_double_edges(tri_double_edges, *test, [])\n",
    "    #answers5 = line_walk_light_nodes_and_triangles(tri_light_nodes_and_triangles, *test, [])\n",
    "    if (answers1 == answers2 == answers3 == answers4): #== answers5):\n",
    "        continue\n",
    "    else:\n",
    "        print(\"Mistake!\")\n",
    "        print(\"Test:\")\n",
    "        print(test)\n",
    "        print(\"Right answer:\")\n",
    "        print(answers1)\n",
    "        #print(\"Your answer:\")\n",
    "        #print(answers5)\n",
    "        break"
   ]
  },
  {
   "cell_type": "markdown",
   "metadata": {},
   "source": [
    "Теперь выведем нашу триангуляцию вместе с лучом и найденными ребрами на каком-нибудь тесте.  \n",
    "\n",
    "В данной визуализации, луч выделен черным цветом, ребра, которые пересеклись с лучом, отмечены красным, а все остальные ребра синим:"
   ]
  },
  {
   "cell_type": "code",
   "execution_count": 24,
   "metadata": {},
   "outputs": [
    {
     "name": "stdout",
     "output_type": "stream",
     "text": [
      "[Segment(Point2D(7, -2), Point2D(10, 3)), Segment(Point2D(5, 0), Point2D(10, 3)), Segment(Point2D(5, 0), Point2D(5, 5)), Segment(Point2D(2, 5), Point2D(5, 0)), Segment(Point2D(0, 0), Point2D(2, 5)), Segment(Point2D(0, 5), Point2D(2, 5)), Segment(Point2D(0, 5), Point2D(3, 6)), Segment(Point2D(0, 5), Point2D(5, 10))]\n"
     ]
    },
    {
     "data": {
      "image/png": "[encoded data removed]",
      "text/plain": [
       "<matplotlib.figure.Figure at 0x7f2b45fa7588>"
      ]
     },
     "metadata": {},
     "output_type": "display_data"
    }
   ],
   "source": [
    "#test = test_line_walk(tri)\n",
    "\n",
    "#test = [Point(7, -2), Point(7, -2), Point(10, 3), Point(5, 0)]\n",
    "test = [Point(17/2, 1/2), Point(7, -2), Point(10, 3), Point(-7, 9)]\n",
    "#test = [Point(6, -1), Point(5, 0), Point(7, -2), Point(1, 4)]\n",
    "#test = [Point(0, 5/2), Point(0, 5), Point(0, 0), Point(0, 1)]\n",
    "#test = [Point(1, 5), Point(0, 5), Point(2, 5), Point(-4, 5)]\n",
    "#test = [Point(5/2, 11/2), Point(3, 6), Point(2, 5), Point(-10, -7)]\n",
    "#test = [Point(5/2, 15/2), Point(5, 10), Point(0, 5), Point(7, 3)]\n",
    "#test = [Point(5, 10), Point(5, 10), Point(0, 5), Point(-3, -2)]\n",
    "\n",
    "answers4 = line_walk_double_edges(tri_double_edges, *test, [])\n",
    "   \n",
    "print(answers4)\n",
    "\n",
    "_, ray = inf_ray(test[0], test[3], 9) #генерируем луч для визуализации\n",
    "plt.triplot(points[:,0], points[:,1], tri.simplices.copy())\n",
    "plt.plot(points[:,0], points[:, 1], 'o')\n",
    "for seg in answers4:\n",
    "    pt1, pt2 = seg.points\n",
    "    plt.plot((pt1.x, pt2.x), (pt1.y, pt2.y), 'red')\n",
    "pt1, pt2 = ray.points\n",
    "plt.plot((pt1.x, pt2.x), (pt1.y, pt2.y), 'black')\n",
    "plt.show()"
   ]
  }
 ],
 "metadata": {
  "kernelspec": {
   "display_name": "Python 3",
   "language": "python",
   "name": "python3"
  },
  "language_info": {
   "codemirror_mode": {
    "name": "ipython",
    "version": 3
   },
   "file_extension": ".py",
   "mimetype": "text/x-python",
   "name": "python",
   "nbconvert_exporter": "python",
   "pygments_lexer": "ipython3",
   "version": "3.6.3"
  }
 },
 "nbformat": 4,
 "nbformat_minor": 2
}
