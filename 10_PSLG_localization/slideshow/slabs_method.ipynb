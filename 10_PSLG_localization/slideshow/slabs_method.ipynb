{
 "cells": [
  {
   "cell_type": "markdown",
   "metadata": {
    "slideshow": {
     "slide_type": "slide"
    }
   },
   "source": [
    "# Локализация в PSLG методом полос"
   ]
  },
  {
   "cell_type": "markdown",
   "metadata": {
    "slideshow": {
     "slide_type": "skip"
    }
   },
   "source": [
    "   Перед нами стоит одна из классических задач вычислительной геометрии: необходимо по заданному плоскому графу $G$ и точке запроса $q$ определить какому фейсу $F$ из $G$ она принадлежит."
   ]
  },
  {
   "cell_type": "markdown",
   "metadata": {
    "slideshow": {
     "slide_type": "skip"
    }
   },
   "source": [
    "Для решения воспользуемся следующей идей: сначала локализуемся по координате $X$, а затем по координате $Y$.\n",
    "Для этого через каждую вершину PSLG проведем вертикальную прямую. В итоге мы разбили всю плоскость на полосы."
   ]
  },
  {
   "cell_type": "markdown",
   "metadata": {
    "slideshow": {
     "slide_type": "fragment"
    }
   },
   "source": [
    "<center><img src=\"images/SLABS.png\"/><center>\n",
    "<center><font size=5>Рис. 1. Пример разбиения плоскости на полосы </font></center>"
   ]
  },
  {
   "cell_type": "markdown",
   "metadata": {
    "slideshow": {
     "slide_type": "skip"
    }
   },
   "source": [
    "   Теперь отсортируем полосы по координате $X$. \n",
    "Это позволит нам с помощью двоичного поиска за $O(\\log{n})$ найти полосу, в которую попала точка запроса.\n",
    "Заметим, что по построению ребра могут пересекаться только на границах полос.\n",
    "Следовательно, внутри одной полосы ребра вертикально упорядочены.\n",
    "Значит, мы можем за $O(\\log{n})$ локализоваться уже в самой полосе."
   ]
  },
  {
   "cell_type": "markdown",
   "metadata": {
    "slideshow": {
     "slide_type": "skip"
    }
   },
   "source": [
    "## Построение полос"
   ]
  },
  {
   "cell_type": "markdown",
   "metadata": {
    "slideshow": {
     "slide_type": "skip"
    }
   },
   "source": [
    "Рассмотрим две соседние полосы.\n",
    "Заметим, что полоса справа отличается от полосы слева тем, что в ней появились и исчезли какие-то отрезки.\n",
    "Значит, следующую полосу можно получить, если добавить в неё новые отрезки и удалить исчезнувшие.\n",
    "Следовательно, для каждого отрезка у нас есть события двух типов."
   ]
  },
  {
   "cell_type": "markdown",
   "metadata": {
    "slideshow": {
     "slide_type": "skip"
    }
   },
   "source": [
    "Событию вставки будет соответствовать начало отрезка, а конец удалению.\n",
    "Алгоритм становится следующим: отсортируем все события, затем будем по очереди доставать события и выполнять их."
   ]
  },
  {
   "cell_type": "markdown",
   "metadata": {
    "slideshow": {
     "slide_type": "skip"
    }
   },
   "source": [
    "Заметим, что вместо того, чтобы сортировать события можно завести приоритетную очередь и положить их все туда, а потом их оттуда доставать."
   ]
  },
  {
   "cell_type": "markdown",
   "metadata": {
    "slideshow": {
     "slide_type": "slide"
    }
   },
   "source": [
    "Несложно придумать случай, когда алгоритм будет иметь вычислительную сложность, равную $O(n^2)$, и использовать столько же памяти. \n",
    "\n",
    "Например, рассмотрим отрезки вида $S_i = a_i b_i$, где $a_i = (0, i)$ и $b_i = (i, i)$ для $i = 1 \\dots n$. (см. рисунок $2$)\n",
    "\n",
    "<center><img src=\"images/worst_case.png\"/></center>\n",
    "<center><font size=5>Рис. 2. Худший случай </font></center>"
   ]
  },
  {
   "cell_type": "markdown",
   "metadata": {
    "slideshow": {
     "slide_type": "slide"
    }
   },
   "source": [
    "## Персистентные деревья\n",
    "\n",
    "<center><img width=\"350px\" height=\"350px\" src=\"images/persist01.png\"/></center>\n",
    "<center><font size=5>Рис. 3. Исходное дерево </font></center>\n",
    "\n",
    "<center><img width=\"350px\" height=\"350px\" src=\"images/persist02.png\"/></center>\n",
    "<center><font size=5>Рис. 4. Дерево после вставки вершины с номером $4$ </font></center>"
   ]
  },
  {
   "cell_type": "markdown",
   "metadata": {
    "slideshow": {
     "slide_type": "skip"
    }
   },
   "source": [
    "## Частично персистентные деревья\n",
    "\n",
    "   Оказывается, что использование памяти можно свести к $O(n)$.\n",
    "Используем тот факт, что нам достаточно только частичной персистентности. Она заключается в том, что возможность менять и получать новые версии только из последней, но делать запросы можно по всем."
   ]
  },
  {
   "cell_type": "markdown",
   "metadata": {
    "slideshow": {
     "slide_type": "skip"
    }
   },
   "source": [
    "   Давайте в узле списка хранить не один указатель на следующий элемент, а два – `next` и `next2`. Дополнительно мы будем хранить номер первой версии списка, начиная с которой используется указатель `next2`. Также мы будем поддерживать таблицу (хэш-таблицу или массив), с помощью которого по версии будем получать указатель на начало списка."
   ]
  },
  {
   "cell_type": "markdown",
   "metadata": {
    "slideshow": {
     "slide_type": "slide"
    }
   },
   "source": [
    "### Пример частично персистентного списка\n",
    "   \n",
    "![](images/persistent_list00.png)\n",
    "<center><font size=5>Рис. 5. Исходный список </font></center>\n",
    "\n",
    "![](images/persistent_list01.png)\n",
    "<center><font size=5>Рис. 6. В список вставлен новый узел после узла с номером $3$ </font></center>\n",
    "\n",
    "![](images/persistent_list02.png)\n",
    "<center><font size=5>Рис. 7. Опять вставили после узла с номером $3$ новый узел. При выполнении этой операции была создана копия вершины с номером $3$, обозначим её как $3'$ </font></center>"
   ]
  },
  {
   "cell_type": "markdown",
   "metadata": {
    "slideshow": {
     "slide_type": "skip"
    }
   },
   "source": [
    "   Такую же тактику применим в деревьях.\n",
    "Добавим в каждый узел дерева по дополнительному указателю `next`, номер версии и флажок, который будет показывать влево или вправо смотрит `next`.\n",
    "Балансировочную информацию (размер поддерева или цвет вершины) в вершине мы будем перезаписывать, потому что эта информация может быть актуальна только для последней версии, так как все предыдущие версии дерева сбалансированы."
   ]
  },
  {
   "cell_type": "markdown",
   "metadata": {
    "slideshow": {
     "slide_type": "slide"
    }
   },
   "source": [
    "### Пример частично персистентного дерева поиска\n",
    "<center><img width=\"180px\" height=\"180px\" src=\"images/persist03.png\"/></center>\n",
    "<center><font size=5>Рис. 8. Исходное дерево </font></center>\n",
    "\n",
    "<center><img width=\"180px\" height=\"180px\" src=\"images/persist04.png\"/></center>\n",
    "<center><font size=5>Рис. 9. Дерево после удаления вершины с номером $4$ </font></center>"
   ]
  },
  {
   "cell_type": "markdown",
   "metadata": {
    "slideshow": {
     "slide_type": "slide"
    }
   },
   "source": [
    "### Утверждение\n",
    "> Вышеописанное частично персистентное дерево использует $O(n)$ памяти<br>"
   ]
  }
 ],
 "metadata": {
  "celltoolbar": "Slideshow",
  "kernelspec": {
   "display_name": "Python 3",
   "language": "python",
   "name": "python3"
  },
  "language_info": {
   "codemirror_mode": {
    "name": "ipython",
    "version": 3
   },
   "file_extension": ".py",
   "mimetype": "text/x-python",
   "name": "python",
   "nbconvert_exporter": "python",
   "pygments_lexer": "ipython3",
   "version": "3.5.0"
  }
 },
 "nbformat": 4,
 "nbformat_minor": 1
}
