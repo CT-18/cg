{
 "cells": [
  {
   "cell_type": "markdown",
   "metadata": {
    "slideshow": {
     "slide_type": "slide"
    }
   },
   "source": [
    "# Триангуляция Делоне\n",
    "<img src=\"img/first.png\" style=\"float: center;margin: 10px\">"
   ]
  },
  {
   "cell_type": "markdown",
   "metadata": {
    "slideshow": {
     "slide_type": "slide"
    }
   },
   "source": [
    "## Основные понятия"
   ]
  },
  {
   "cell_type": "markdown",
   "metadata": {
    "collapsed": true,
    "slideshow": {
     "slide_type": "slide"
    }
   },
   "source": [
    "**Триангуляция** заданного набора точек $-$ планарное разбиение плоскости\n",
    "на фигуры, из которых одна является внешней неограниченной, а остальные –\n",
    "треугольниками.\n",
    "\n",
    "**Глобальный критерий Делоне**: для любого треугольника нет точек из триангуляции, которые бы лежали внутри описанной около него окружности.\n",
    "\n",
    "**Триангуляция Делоне** $-$ триангуляция, удовлетворяющая глобальному критерию Делоне.\n",
    "\n",
    "**Локальный критерий Делоне для ребра**: для пары треугольников, которым принадлежит это ребро, выполняется критерий Делоне (то есть вершина, противолежащая ребру в одном треугольнике, не лежит в окружности, описанной вокруг другого, и наоборот)."
   ]
  },
  {
   "cell_type": "markdown",
   "metadata": {
    "slideshow": {
     "slide_type": "slide"
    }
   },
   "source": [
    "## Пример триангуляции Делоне\n",
    "\n",
    "<img src=\"img/TD.jpg\">"
   ]
  },
  {
   "cell_type": "markdown",
   "metadata": {
    "slideshow": {
     "slide_type": "slide"
    }
   },
   "source": [
    "## Эквивалентность критерия Делоне для треугольников критерию для ребер"
   ]
  },
  {
   "cell_type": "markdown",
   "metadata": {
    "slideshow": {
     "slide_type": "slide"
    }
   },
   "source": [
    "<img src=\"img/Bad_triangle.png\" style=\"float: right; margin: 10px\">\n",
    "\n",
    "Пусть выполнен ***только*** локальный критерий Делоне, т.е. точка $E$ лежит в описанной окружности и не имеет ребер с вершинами треугольника.\n",
    "\n",
    "Рассмотрим тот треугольник, у которого $\\angle BEC$ максимален, если $BC$ $-$ ближайшая к точке $E$ сторона.\n",
    "\n",
    "Пусть с $\\Delta ABC$ соседствует $\\Delta BCD$."
   ]
  },
  {
   "cell_type": "markdown",
   "metadata": {
    "slideshow": {
     "slide_type": "slide"
    }
   },
   "source": [
    "<img src=\"img/Bad_triangle.png\" style=\"float: right; margin: 10px\">\n",
    "\n",
    "Точка $E$ не может лежать внутри $\\Delta BCD$.\n",
    "\n",
    "Будем считать, что $BD$ $-$ ближайшая к $E$ сторона $\\Delta BCD$.\n",
    "\n",
    "Тогда $\\angle BAC + \\angle BEC > 180°, \\angle BAC + \\angle BDC < 180°$.\n",
    "\n"
   ]
  },
  {
   "cell_type": "markdown",
   "metadata": {
    "slideshow": {
     "slide_type": "slide"
    }
   },
   "source": [
    "<img src=\"img/Bad_triangle.png\" style=\"float: right; margin: 10px\">\n",
    "\n",
    "Если точка $E$ лежит вне окружности, описанной около $\\Delta BCD$, тогда $\\angle BEC < \\angle BDC$, что противоречит неравенствам $\\angle BAC + \\angle BEC > 180°, \\angle BAC + \\angle BDC < 180°$.\n",
    "\n",
    "Значит для $\\Delta BCD$ также нарушается глобальный критерий.\n",
    "\n"
   ]
  },
  {
   "cell_type": "markdown",
   "metadata": {
    "slideshow": {
     "slide_type": "slide"
    }
   },
   "source": [
    "<img src=\"img/Bad_triangle.png\" style=\"float: right; margin: 10px\">\n",
    "\n",
    "Из всего сказанного следует, что $\\angle BED > \\angle BEC$, где $BD$ $-$ ближайшая к $E$ сторона.\n",
    "\n",
    "$\\angle BED$ больше, чем $\\angle BEC$, при этом точка $E$ лежит в окружности, описанной вокруг $\\Delta BDC$.\n",
    "\n",
    "Значит при выборе треугольника нужно было взять не $\\Delta ABC$, а $\\Delta BDC$. Получили противоречие."
   ]
  },
  {
   "cell_type": "markdown",
   "metadata": {
    "slideshow": {
     "slide_type": "slide"
    }
   },
   "source": [
    "## Существование триангуляции Делоне и её построение"
   ]
  },
  {
   "cell_type": "markdown",
   "metadata": {
    "slideshow": {
     "slide_type": "slide"
    }
   },
   "source": [
    "<div align='center'>$(x, y) \\to (x, y, x^2+y^2)$</div>\n",
    "\n",
    "<center><img src=\"img/TDD.png\"></center>"
   ]
  },
  {
   "cell_type": "markdown",
   "metadata": {
    "slideshow": {
     "slide_type": "slide"
    }
   },
   "source": [
    "### Лемма \n",
    "\n",
    "> Все точки окружности, спроецированной на параболоид, находятся в одной плоскости. Точки, лежащие внутри окружности, будут лежать под этой плоскостью. Точки, лежащие вне окружности, будут лежать над плоскостью."
   ]
  },
  {
   "cell_type": "markdown",
   "metadata": {
    "slideshow": {
     "slide_type": "slide"
    }
   },
   "source": [
    "$(x-a)^2+(y-b)^2=r^2$ (уравнение окружности в $R^2$)\n",
    "\n",
    "$x^2-2ax+a^2+y^2-2by+b^2-r^2=0$ (раскрываем скобки)\n",
    "\n",
    "$(-2a)x+(-2b)y+z+(a^2+b^2-r^2)=0$ (подставляем в уравнение параболоида $x^2 + y^2 = z$)\n",
    "\n",
    "$Ax+By+Cz+D=0$ (получаем уравнение плоскости)\n",
    "\n",
    "Значит все точки, лежащие на одной окружности, будут лежать в одной плоскости при проецировании на параболоид."
   ]
  },
  {
   "cell_type": "markdown",
   "metadata": {
    "slideshow": {
     "slide_type": "slide"
    }
   },
   "source": [
    "$(x-a)^2+(y-b)^2 < r^2 $ (точки внутри окружности)\n",
    "\n",
    "$Ax+By+Cz+D<0$ (подставили в уравнение параболоида)\n",
    "\n",
    "Значит точки, лежащие внутри окружности, будут находиться ниже плоскости спроецированной окружности."
   ]
  },
  {
   "cell_type": "markdown",
   "metadata": {
    "slideshow": {
     "slide_type": "slide"
    }
   },
   "source": [
    "### Предикат для проверки того, что точка $(x, y)$ лежит в окружности $ABC$\n",
    "\n",
    "$\\begin{vmatrix} A_x & A_y & A_x^2 + A_y^2 & 1 \\\\ B_x & B_y & B_x^2 + B_y^2 & 1 \\\\ C_x & C_y & C_x^2 + C_y^2 & 1 \\\\ x & y & x^2 + y^2 & 1 \\end{vmatrix} \\ge 0$"
   ]
  },
  {
   "cell_type": "markdown",
   "metadata": {
    "slideshow": {
     "slide_type": "slide"
    }
   },
   "source": [
    "### Теорема о существовании триангуляции Делоне"
   ]
  },
  {
   "cell_type": "markdown",
   "metadata": {
    "slideshow": {
     "slide_type": "slide"
    }
   },
   "source": [
    "#### Примерный алгоритм построение триангуляции Делоне\n",
    "\n",
    "1. Перенести все точки на параболоид \n",
    "2. Построить выпуклую оболочку\n",
    "3. Убрать все грани, смежные с бесконечно удаленной точкой\n",
    "4. Перенести все точки и построенные ребра на плоскость"
   ]
  },
  {
   "cell_type": "markdown",
   "metadata": {
    "slideshow": {
     "slide_type": "slide"
    }
   },
   "source": [
    "Докажем утверждение \n",
    "\n",
    "> Триангуляция Делоне существует для любого множества точек."
   ]
  },
  {
   "cell_type": "markdown",
   "metadata": {
    "slideshow": {
     "slide_type": "slide"
    }
   },
   "source": [
    "<img src=\"img/parabol.png\" width=\"300px\" height=\"400px\" style=\"float: right; margin: 10px\">\n",
    "\n",
    "Все грани выпуклой оболочки окажутся внутри параболоида из-за его выпуклости, при этом точки лежат на параболоиде.\n",
    "\n",
    "Не найдётся точек, которые будут лежать за гранями выпуклой оболочки.\n",
    "\n",
    "Внутри окружностей, описанных вокруг проекций треугольников выпуклой оболочки, не будет лежать никаких точек по раннее доказанной лемме.\n",
    "\n",
    "Для проекций треугольников выполнен критерий Делоне.\n",
    "\n",
    "Получившаяся триангуляция есть триангуляция Делоне."
   ]
  },
  {
   "cell_type": "code",
   "execution_count": 1,
   "metadata": {
    "slideshow": {
     "slide_type": "slide"
    }
   },
   "outputs": [
    {
     "data": {
      "text/html": [
       "<iframe width=\"600\" height=\"310\" src=\"https://www.youtube.com/embed/xYzULMoyaQk\" frameborder=\"0\" gesture=\"media\" allowfullscreen></iframe>"
      ],
      "text/plain": [
       "<IPython.core.display.HTML object>"
      ]
     },
     "metadata": {},
     "output_type": "display_data"
    }
   ],
   "source": [
    "%%HTML\n",
    "<iframe width=\"600\" height=\"310\" src=\"https://www.youtube.com/embed/xYzULMoyaQk\" frameborder=\"0\" gesture=\"media\" allowfullscreen></iframe>"
   ]
  },
  {
   "cell_type": "markdown",
   "metadata": {
    "slideshow": {
     "slide_type": "slide"
    }
   },
   "source": [
    "## Сведение любой триангуляции к триангуляции Делоне"
   ]
  },
  {
   "cell_type": "markdown",
   "metadata": {
    "slideshow": {
     "slide_type": "slide"
    }
   },
   "source": [
    "**Флип (flip)** $-$ это замена одной диагонали на другую в четырёхугольнике, образованном смежными треугольниками.\n",
    "\n",
    "<center><img src=\"img/flipm.png\"></center> "
   ]
  },
  {
   "cell_type": "markdown",
   "metadata": {
    "slideshow": {
     "slide_type": "slide"
    }
   },
   "source": [
    "### Лемма\n",
    "\n",
    "> В любом четырёхугольнике, образованном смежными треугольниками, два ребра не могут быть одновременно плохими."
   ]
  },
  {
   "cell_type": "markdown",
   "metadata": {
    "slideshow": {
     "slide_type": "slide"
    }
   },
   "source": [
    "<img src=\"img/flip.png\" style=\"float: right; margin: 10px\">\n",
    "\n",
    "Пусть $AC$ и $BD$ это плохие рёбра.\n",
    "\n",
    "В окружности, описанной около $\\Delta ABC$ содержится точка $D$, так как $AC$ не удовлетворяет локальному критерию Делоне.\n",
    "\n",
    "Значит $\\angle ABC + \\angle ADC > 180°$.\n",
    "\n",
    "Аналогично $\\angle BAD + \\angle BCD > 180°$.\n",
    "\n",
    "В итоге сумма углов четырёхугольника $ABCD$ больше $360°$, что невозможно."
   ]
  },
  {
   "cell_type": "markdown",
   "metadata": {
    "slideshow": {
     "slide_type": "slide"
    }
   },
   "source": [
    "### Предикат для флипа\n",
    "\n",
    "$\\begin{vmatrix} A_x & A_y & A_x^2 + A_y^2 & 1 \\\\ B_x & B_y & B_x^2 + B_y^2 & 1 \\\\ C_x & C_y & C_x^2 + C_y^2 & 1 \\\\ x & y & x^2 + y^2 & 1 \\end{vmatrix} \\ge 0$"
   ]
  },
  {
   "cell_type": "markdown",
   "metadata": {
    "slideshow": {
     "slide_type": "slide"
    }
   },
   "source": [
    "### Предикат для флипа в бесконечных гранях\n",
    "\n",
    "$\\begin{vmatrix} A_x & A_y & A_x^2 + A_y^2 & 1 \\\\ B_x & B_y & B_x^2 + B_y^2 & 1 \\\\ C_x & C_y & C_x^2 + C_y^2 & 1 \\\\ 0 & 0 & 1 & 0 \\end{vmatrix} = \\begin{vmatrix} A_x & A_y & 1 \\\\ B_x & B_y & 1 \\\\ C_x & C_y & 1 \\end{vmatrix}$\n"
   ]
  },
  {
   "cell_type": "markdown",
   "metadata": {
    "slideshow": {
     "slide_type": "slide"
    }
   },
   "source": [
    "### Предикат для флипа в бесконечных гранях создает выпуклую оболочку\n",
    "\n",
    "<img src=\"img/inf.png\" style=\"float: right;height: 200px; margin: 10px\">\n",
    "\n",
    "Из рисунка видно, что точка $B$ не лежит на выпуклой оболочке, и это можно проверить с помощью предиката. "
   ]
  },
  {
   "cell_type": "markdown",
   "metadata": {
    "slideshow": {
     "slide_type": "slide"
    }
   },
   "source": [
    "### Лемма о флипе плохого ребра\n",
    "\n",
    "> Флип плохого ребра увеличивает объем многогранника."
   ]
  },
  {
   "cell_type": "markdown",
   "metadata": {
    "slideshow": {
     "slide_type": "slide"
    }
   },
   "source": [
    "<img src=\"img/bad_edge.png\" style=\"float: center; margin: 10px\">"
   ]
  },
  {
   "cell_type": "markdown",
   "metadata": {
    "slideshow": {
     "slide_type": "slide"
    }
   },
   "source": [
    "### Лемма о сведении флипами\n",
    "\n",
    "> Любая триангуляция сводится к триангуляции Делоне за конечное число флипов."
   ]
  }
 ],
 "metadata": {
  "celltoolbar": "Slideshow",
  "kernelspec": {
   "display_name": "Python 3",
   "language": "python",
   "name": "python3"
  },
  "language_info": {
   "codemirror_mode": {
    "name": "ipython",
    "version": 3
   },
   "file_extension": ".py",
   "mimetype": "text/x-python",
   "name": "python",
   "nbconvert_exporter": "python",
   "pygments_lexer": "ipython3",
   "version": "3.6.1"
  }
 },
 "nbformat": 4,
 "nbformat_minor": 2
}
