{
 "cells": [
  {
   "cell_type": "markdown",
   "metadata": {
    "slideshow": {
     "slide_type": "slide"
    }
   },
   "source": [
    "# Среднее количество вершин в выпуклой оболочке\n",
    "\n",
    "Алгоритм Джарвиса имеет сложность $O(X N)$, где $X$ — число вершин выпуклой оболочки, а $N$ — общее число точек. Чтобы оценить сложность этого алгоритма в среднем случае, необходимо вычислить $E(X)$ — математическое ожидание величины $X$. Для его анализа мы должны определить ограниченную область, из которой выбираются точки, так как они могут быть равномерно распределены лишь в множестве с конечной мерой Лебега [[Kendall, Moran (1963)](https://doi.org/10.1002/bimj.19650070322)]. "
   ]
  },
  {
   "cell_type": "markdown",
   "metadata": {
    "slideshow": {
     "slide_type": "notes"
    }
   },
   "source": [
    "Далее приведён ряд теорем, представляющих оценку среднего количества вершин в выпуклой оболочке при различных распределениях точек."
   ]
  },
  {
   "cell_type": "markdown",
   "metadata": {
    "slideshow": {
     "slide_type": "subslide"
    }
   },
   "source": [
    "**Теорема 1** [[Rényi, Sulanke (1963)](https://doi.org/10.1007/BF00535300)]. *Если $N$ точек выбираются равномерно и независимо из выпуклого $r$-угольника на плоскости, то при $N\\to\\infty$ математическое ожидание числа вершин выпуклой оболочки этих точек $E(X)=\\frac23 r \\, (\\log N + \\gamma) + O(1)$, где $\\gamma$ - константа Эйлера.*"
   ]
  },
  {
   "cell_type": "markdown",
   "metadata": {
    "slideshow": {
     "slide_type": "fragment"
    }
   },
   "source": [
    "**Теорема 2** [[Raynaud (1970)](https://doi.org/10.1017/S0021900200026917)]. *Если $N$ точек выбираются равномерно и независимо из внутренности $k$-мерной гиперсферы, то при $N\\to\\infty$ математическое ожидание числа гиперграней выпуклой оболочки этих точек асимптотически стремится к $E(X) = O(N^{(k-1)/(k+1)})$*"
   ]
  },
  {
   "cell_type": "markdown",
   "metadata": {
    "slideshow": {
     "slide_type": "subslide"
    }
   },
   "source": [
    "**Теорема 3** [[Raynaud (1970)](https://doi.org/10.1017/S0021900200026917)]. *Если $N$ точек выбираются независимо в соответствии с $k$-мерным нормальным распределением, то при $N\\to\\infty$ математическое ожидание числа вершин выпуклой оболочки этих точек асимптотически стремится к $E(X) = O((\\log N)^{(k-1)/2})$*"
   ]
  },
  {
   "cell_type": "markdown",
   "metadata": {
    "slideshow": {
     "slide_type": "fragment"
    }
   },
   "source": [
    "**Теорема 4** [[Bentley, Kung, Schkolnick, Thompson (1978)](https://doi.org/10.1145/322092.322095)]. *Если координаты $N$ точек в $k$-мерном пространстве выбраны независимо в соответствии с произвольным непрерывным распределением (возможно, для каждой координаты используется своё распределение), то математическое ожидание числа вершин выпуклой оболочки этих точек асимптотически стремится к $E(X) = O((\\log N)^{k-1})$*. "
   ]
  },
  {
   "cell_type": "markdown",
   "metadata": {
    "slideshow": {
     "slide_type": "notes"
    }
   },
   "source": [
    "Условиям этой теоремы удовлетворяют многие распределения, включая равномерное распределение в гиперкубе."
   ]
  },
  {
   "cell_type": "markdown",
   "metadata": {
    "slideshow": {
     "slide_type": "skip"
    }
   },
   "source": [
    "Таким образом,"
   ]
  },
  {
   "cell_type": "markdown",
   "metadata": {
    "slideshow": {
     "slide_type": "slide"
    }
   },
   "source": [
    "- $E(X) = O(\\log N)$ для $N$ точек, равномерно выбранных из выпуклого многоугольника\n",
    "- $E(X) = O(N^{1/3})$ для $N$ точек, равномерно выбранных из круга\n",
    "- $E(X) = O(N^{1/2})$ для $N$ точек, равномерно выбранных из сферы\n",
    "- $E(X) = O((\\log N)^2)$ для $N$ точек, равномерно выбранных из куба\n",
    "- $E(X) = O(\\sqrt{\\log N})$ для $N$ точек, нормально распределённых на плоскости"
   ]
  },
  {
   "cell_type": "markdown",
   "metadata": {
    "slideshow": {
     "slide_type": "skip"
    }
   },
   "source": [
    "Здесь представлен перевод работы A. Rényi и R. Sulanke, где приводится доказательство оценки математического ожидания числа вершин выпуклой оболочки в двумерном случае."
   ]
  },
  {
   "cell_type": "markdown",
   "metadata": {
    "slideshow": {
     "slide_type": "slide"
    }
   },
   "source": [
    "# О выпуклой оболочке N случайно выбранных точек\n",
    "[[Rényi, Sulanke (1963)](https://doi.org/10.1007/BF00535300)]\n",
    "\n",
    "Пусть $P_i\\:(i=1,\\:2,\\:\\ldots,\\:n)$ — точки на плоскости, выбранные случайно и независимо в соответствии с некоторым распределением, а $H_n$ - выпуклая оболочка этих точек, которая, как известно, является выпуклым многоугольником. Число $X_n$ вершин выпуклой оболочки — случайная величина, и в данной работе будет исследовано её математическое ожидание $E_n = E(X_n)$ при $n\\to\\infty$ в различных предположениях о распределении точек $P_i$."
   ]
  },
  {
   "cell_type": "markdown",
   "metadata": {
    "slideshow": {
     "slide_type": "slide"
    }
   },
   "source": [
    "* В $\\S1$ рассмотрим случай, когда точки $P_i$ равномерно распределены внутри выпуклого r-угольника $K$. Как будет показано, $E_n = (2r\\,/\\,3)(\\log n + \\gamma) + T + O(1)$, где $\\gamma$ - постоянная Эйлера:\n",
    "  \n",
    "  $$\\gamma = \\lim_{n\\to\\infty} \\left( \\sum_{k=1}^{n} \\frac1k - \\log n \\right)=\\lim_{n\\to\\infty} \\left( 1+\\frac12+\\frac13+\\ldots+\\frac1n - \\log n \\right) \\notag$$\n",
    "  \n",
    "  При этом величина $T = T(K)$ зависит от многоугольника $K$.\n",
    "\n",
    "* В $\\S2$ докажем элементарную геометрическую теорему о том, что $T(K)$ принимает максимальные значения для многоугольников, которые аффинными преобразованиями можно привести к правильному $r$-угольнику, и только для них.\n",
    "\n",
    "* В $\\S3$ исследуем асимптотическое поведение $E_n$, когда точки $P_i$ равномерно распределены в выпуклой области с гладкой границей. Оказывается, что в таком случае $E_n$ имеет порядок $\\sqrt[3]n$.\n",
    "\n",
    "* Наконец, в $\\S4$ мы докажем, что $E_n$ ведёт себя как $\\sqrt{\\log n}$, если точки $P_i$ имеют нормальное распределение."
   ]
  },
  {
   "cell_type": "markdown",
   "metadata": {
    "slideshow": {
     "slide_type": "slide"
    }
   },
   "source": [
    "## 1. Случайно выбранные точки в выпуклом многоугольнике\n",
    "\n",
    "**Утверждение 1.** Если точки $P_i$ равномерно распределены внутри выпуклого r-угольника $K$, математическое ожидание числа вершин выпуклой оболочки $E_n = (2r\\,/\\,3)(\\log n + \\gamma) + T + O(1)$, где $\\gamma$ - постоянная Эйлера."
   ]
  },
  {
   "cell_type": "markdown",
   "metadata": {
    "slideshow": {
     "slide_type": "subslide"
    }
   },
   "source": [
    "**Доказательство:**\n",
    "\n",
    "$\\triangleright$\n",
    "\n",
    "Пусть $K$ - выпуклый многоугольник с вершинами $A_1,\\:A_2,\\:\\ldots,\\:A_r$ и соответствующими углами $\\vartheta_1,\\:\\vartheta_2,\\:\\ldots,\\:\\vartheta_r$. Обозначим за $a_k$ длину стороны $A_k A_{k+1}$, где $A_{r+1} = A_1$ $(k = 1,\\:2,\\:\\ldots,\\:r)$."
   ]
  },
  {
   "cell_type": "markdown",
   "metadata": {
    "slideshow": {
     "slide_type": "subslide"
    }
   },
   "source": [
    "![1.png](1.png)"
   ]
  },
  {
   "cell_type": "markdown",
   "metadata": {
    "slideshow": {
     "slide_type": "subslide"
    }
   },
   "source": [
    "Пусть $\\varepsilon_{ij} = 1$, если отрезок $P_i P_j$ при $i \\neq j$ принадлежит границе выпуклой оболочки $H_n$, иначе $\\varepsilon_{ij} = 0$. Тогда очевидно, что\n",
    "\n",
    "$$X_n = \\sum_{1 \\le i \\lt j \\le n}\\varepsilon_{ij} \\label{eq:1} \\tag{1}$$\n",
    "\n",
    "В силу случайного распределения вероятность $W_n = P(\\varepsilon_{ij} = 1)$ одинакова для всех пар $(i, j)$, таких, что $1 \\le i \\lt j \\leq n$, и тогда\n",
    "\n",
    "$$E_n = E(X_n) = \\sum_{1 \\le i \\lt j \\le n} E(\\varepsilon_{ij}) = \\sum_{1 \\le i \\lt j \\le n} \\left( 0 \\cdot (1 - W_n) + 1 \\cdot W_n \\right) = C_n^2 \\cdot W_n \\label{eq:2} \\tag{2}$$"
   ]
  },
  {
   "cell_type": "markdown",
   "metadata": {
    "slideshow": {
     "slide_type": "subslide"
    }
   },
   "source": [
    "Чтобы определить асимптотическое поведение $E_n$, достаточно вычислить вероятность $W_n$. Можем рассмотреть $W_n$ как вероятность того, что все точки $P_h \\: (h = 3,\\:4,\\:\\ldots,\\:n)$ лежат по одну сторону от прямой $P_1 P_2$. \n",
    "\n",
    "![2.png](2.png)"
   ]
  },
  {
   "cell_type": "markdown",
   "metadata": {
    "slideshow": {
     "slide_type": "subslide"
    }
   },
   "source": [
    "Пусть $F$ обозначает площадь $K$. Если через $F_1 \\le \\frac12 F$ и $F_2 = F - F_1$ обозначить части, на которые прямая $P_1 P_2$ делит область $K$, то получим\n",
    "\n",
    "$$W_n = \\frac1{F^2} \\int\\limits_K \\int\\limits_K \\left[ \\left(1 - \\frac{F_1}{F}\\right)^{n-2} + \\left(\\frac{F_1}{F}\\right)^{n-2}\\right] dP_1 dP_2 \\label{eq:3} \\tag{3}$$\n",
    "\n",
    "как вероятность того, что все точки $P_i\\:(i=3,\\:4,\\:\\ldots,\\:n)$ принадлежат только одной из частей $F$."
   ]
  },
  {
   "cell_type": "markdown",
   "metadata": {
    "slideshow": {
     "slide_type": "subslide"
    }
   },
   "source": [
    "Так как $F_1/F \\le \\frac12$, интеграл второго слагаемого ограничен константой:\n",
    "\n",
    "$$\\frac1{F^2} \\int\\limits_K \\int\\limits_K \\left(\\frac{F_1}{F}\\right)^{n-2} dP_1 dP_2 \\le \\frac1{2^{n - 2}} \\label{eq:4} \\tag{4}$$\n",
    "\n",
    "А следовательно,\n",
    "\n",
    "$$E_n \\sim C_n^2 \\cdot \\frac1{F^2} \\int\\limits_K \\int\\limits_K \\left(1 - \\frac{F_1}{F}\\right)^{n-2} dP_1 dP_2 \\label{eq:5} \\tag{5}$$\n",
    "\n",
    "$$\\text{где} \\: A \\sim B \\Leftrightarrow \\lim_{n\\to+\\infty} \\frac{A_n}{B_n} = 1 \\notag$$"
   ]
  },
  {
   "cell_type": "markdown",
   "metadata": {
    "slideshow": {
     "slide_type": "subslide"
    }
   },
   "source": [
    "Обозначим через $f_i$ площадь треугольника $A_{i-1}A_iA_{i+1}$ $(A_{r+j} = A_j)$, и пусть $f = \\min\\limits_{1 \\le i \\le r} f_i$\n",
    "\n",
    "![3.png](3.png)"
   ]
  },
  {
   "cell_type": "markdown",
   "metadata": {
    "slideshow": {
     "slide_type": "subslide"
    }
   },
   "source": [
    "Очевидно, что при изучении асимптотического поведения $E_n$ можно ограничиться парами точек $(P_1,\\:P_2)$, для которых прямая $P_1 P_2$ пересекается либо с двумя соседними сторонами $K$, либо с двумя сторонами $K$, разделёнными третьей стороной. Для всех остальных прямых выполняется ограничение\n",
    "\n",
    "$$1 - \\frac{F_1}{F} \\leqq 1 - \\frac{f}{F} \\notag$$"
   ]
  },
  {
   "cell_type": "markdown",
   "metadata": {
    "slideshow": {
     "slide_type": "subslide"
    }
   },
   "source": [
    "Поэтому мы можем пренебречь соответствующей частью интеграла и записать \n",
    "\n",
    "$$E_n \\sim C_n^2 \\cdot \\frac1{F^2} \\left( \\sum\\limits_{i=1}^r (I_i + J_i) \\right) \\label{eq:6} \\tag{6}$$ \n",
    "\n",
    "$$I_i = \\int\\limits_{C_i} \\left(1 - \\frac{F_1}{F}\\right)^{n-2} dP_1 dP_2 \\label{eq:7} \\tag{7}$$ \n",
    "\n",
    "$$J_i = \\int\\limits_{D_i} \\left(1 - \\frac{F_1}{F}\\right)^{n-2} dP_1 dP_2 \\label{eq:8} \\tag{8}$$\n",
    "\n",
    "Здесь $C_i$ означает множество пар точек $(P_1,\\:P_2)$, для которых прямая $P_1P_2$ пересекает смежные стороны $A_{i-1}A_i$ и $A_iA_{i+1}$ многоугольника $K$, a $D_i$ - множество пар $(P_1,\\:P_2)$, для которых прямая $P_1P_2$ пересекает стороны $A_{i-1}A_i$ и $A_{i+1}A_{i+2}$ многоугольника $K$, разделённые другой стороной."
   ]
  },
  {
   "cell_type": "markdown",
   "metadata": {
    "slideshow": {
     "slide_type": "subslide"
    }
   },
   "source": [
    "Сначала рассмотрим интеграл $I_i$. Обозначим через $G_{ab}$ множество пар $(P_1,\\:P_2)$, для которых выполнены неравенства $\\left|A_iQ_1\\right| < a$ и $\\left|A_iQ_2\\right| < b$, где $Q_1$ - точка пересечения прямой $P_1P_2$ со стороной $A_{i-1}A_i$, а $Q_2$ - точка пересечения $P_1P_2$ со стороной $A_iA_{i+1}$. Здесь и далее $\\left|AB\\right|$ — длина отрезка $AB$.\n",
    "\n",
    "По элементарным расчётам получается \n",
    "\n",
    "$$\\int\\limits_{G_{ab}} dP_1dP_2 = \\frac{a^2b^2\\sin^2\\vartheta_i}{12} \\label{eq:9} \\tag{9}$$\n",
    "\n",
    "Площадь треугольника $Q_1A_iQ_2$, отсекаемого прямой $P_1P_2$, равна $\\frac{1}{2} a b \\sin \\vartheta_i$. Таким образом, взяв $a_{i-1} = \\left|A_{i-1}A_i\\right|$, $a_i = \\left|A_iA_{i+1}\\right|$, получаем \n",
    "\n",
    "$$I_i = \\int\\limits_0^{a_{i-1}} \\int\\limits_0^{a_i} \\left(1 - \\frac{ab \\sin \\vartheta_i}{2F}\\right)^{n-2} \\sin^2 \\vartheta_i \\frac{ab}{3} \\,da\\,db \\label{eq:10} \\tag{10}$$ "
   ]
  },
  {
   "cell_type": "markdown",
   "metadata": {
    "slideshow": {
     "slide_type": "subslide"
    }
   },
   "source": [
    "Выполним замену \n",
    "\n",
    "$$X = a \\sqrt\\frac{\\sin \\vartheta_i}{2F}, \\; Y = b \\sqrt\\frac{\\sin \\vartheta_i}{2F} \\label{eq:11} \\tag{11}$$ \n",
    "\n",
    "и получим\n",
    "\n",
    "$$I_i = \\frac{4F^2}{3} \\int\\limits_0^{X_i} \\int\\limits_0^{Y_i} (1-XY)^{n-2} XY \\: dX dY \\label{eq:12} \\tag{12}$$\n",
    "\n",
    "где\n",
    "\n",
    "$$X_i = a_{i-1} \\sqrt\\frac{\\sin \\vartheta_i}{2F}, \\; Y_i = a_i \\sqrt\\frac{\\sin \\vartheta_i}{2F} \\notag$$\n",
    "\n",
    "и также заметим, что\n",
    "\n",
    "$$\\varrho_i = X_iY_i = \\frac{a_{i-1}a_i\\sin \\vartheta_i}{2F} = \\frac{f_i}{F} < 1 \\label{eq:13} \\tag{13}$$"
   ]
  },
  {
   "cell_type": "markdown",
   "metadata": {
    "slideshow": {
     "slide_type": "subslide"
    }
   },
   "source": [
    "Теперь преобразуем интеграл:\n",
    "\n",
    "$$\\int\\limits_0^{X_i} \\int\\limits_0^{Y_i} (1-XY)^{n-2} XY \\: dX dY = \\int\\limits_0^{X_i} \\int\\limits_0^{Y_i} (1-XY)^{n-2} \\: dX dY - \\int\\limits_0^{X_i} \\int\\limits_0^{Y_i} (1-XY)^{n-1} \\: dX dY \\notag$$\n",
    "\n",
    "Далее применим \n",
    "\n",
    "$$\\int\\limits_0^{X_i} \\int\\limits_0^{Y_i} (1-XY)^{n-1} \\: dX dY = \\int\\limits_0^{X_i} \\frac{1 - (1 - XY_i)^n}{nX} \\: dX = \\\\ = \\frac1n \\left( 1 + \\frac12 + \\ldots + \\frac1n - \\sum\\limits_{k=1}^n \\frac{(1-\\varrho_i)^k}{k} \\right) \\notag$$"
   ]
  },
  {
   "cell_type": "markdown",
   "metadata": {
    "slideshow": {
     "slide_type": "subslide"
    }
   },
   "source": [
    "Таким образом, мы получаем значение интеграла $I_i$:\n",
    "\n",
    "$$I_i = \\frac{4F^2}{3} \\left[ \\frac{\\cfrac12 + \\cfrac13 + \\ldots + \\cfrac1n}{n(n-1)} - \\frac{\\sum\\limits_{k=1}^{n-1} \\cfrac{(1 - \\varrho_i)^k}{k}}{n(n-1)} + \\frac{(1-\\varrho_i)^n}{n^2} \\right] \\label{eq:14} \\tag{14}$$"
   ]
  },
  {
   "cell_type": "markdown",
   "metadata": {
    "slideshow": {
     "slide_type": "subslide"
    }
   },
   "source": [
    "Если положим \n",
    "\n",
    "$$S_i = \\sum\\limits_{k=1}^\\infty \\frac{(1 - \\varrho_i)^k}{k} = \\log \\frac1{\\varrho_i} \\label{eq:15} \\tag{15}$$\n",
    "\n",
    "то получим в конечном итоге\n",
    "\n",
    "$$E_n = \\frac23 (\\gamma - 1 + \\log n) r - \\frac23 \\sum\\limits_{i=1}^r S_i + o(1) + \\frac{C_n^2}{F^2} \\sum\\limits_{i=1}^r J_i \\label{eq:16} \\tag{16}$$ \n",
    "\n",
    "где $\\gamma$ - постоянная Эйлера."
   ]
  },
  {
   "cell_type": "markdown",
   "metadata": {
    "slideshow": {
     "slide_type": "subslide"
    }
   },
   "source": [
    "Теперь вычислим интеграл $J_i$. Продлим стороны $A_{i-1}A_i$ и $A_{i+1}A_{i+2}$ до точки их пересечения $A_i^*$; случай, когда эти стороны параллельны, можно рассматривать аналогично.\n",
    "\n",
    "Пусть снова $Q_1$ - точка пересечения прямой $P_1P_2$ со стороной $A_{i-1}A_i$, а $Q_2$ - точка пересечения $P_1P_2$ со стороной $A_{i+1}A_{i+2}$, и пусть\n",
    "\n",
    "$$a' = \\left|A_iA_i^*\\right|, \\;\\; b' = \\left|A_{i+1}A_i^*\\right|, \\;\\; a = \\left|A_iQ_1\\right|, \\;\\; b = \\left|A_{i+1}Q_2\\right| \\notag$$\n",
    "\n",
    "$G_{ab}$ было определено выше. "
   ]
  },
  {
   "cell_type": "markdown",
   "metadata": {
    "slideshow": {
     "slide_type": "subslide"
    }
   },
   "source": [
    "Получим из $(\\ref{eq:9})$:\n",
    "\n",
    "$$\\int\\limits_{G_{ab}} dP_1 dP_2 = \\frac{\\sin^2\\beta_i}{12} (a^2 + 2aa')(b^2 + 2bb') \\label{eq:17} \\tag{17}$$ \n",
    "\n",
    "где $\\beta_i$ - угол при $A_i^*$. Таким образом,\n",
    "\n",
    "$$J_i = \\int\\limits_{D_i} \\left(1 - \\frac{(ab+a'b+ab')\\sin \\beta_i}{2F} \\right)^{n-2} \\frac{\\sin^2 \\beta_i}{3} (a+a')(b+b')\\,da\\,db \\label{eq:18} \\tag{18}$$\n",
    "\n",
    "и этот интеграл асимптотически эквивалентен\n",
    "\n",
    "$$J_i \\sim \\int\\limits_{D_i} \\left(1 - \\frac{(a'b+ab')\\sin \\beta_i}{2F} \\right)^{n-2} \\frac{\\sin^2 \\beta_i}{3} a'b'\\,da\\,db \\label{eq:19} \\tag{19}$$"
   ]
  },
  {
   "cell_type": "markdown",
   "metadata": {
    "slideshow": {
     "slide_type": "subslide"
    }
   },
   "source": [
    "Далее сделаем замену\n",
    "\n",
    "$$a = \\frac{F}{b' \\sin \\beta_i} X, \\;\\; b = \\frac{F}{a' \\sin \\beta_i} Y \\notag$$\n",
    "\n",
    "и найдём значение интеграла\n",
    "\n",
    "$$J_i \\sim \\frac{F^2}{3} \\int\\limits_0^{a_{i-1}'} \\int\\limits_0^{a_{i+1}'} \\left( 1 - \\frac{X+Y}{2} \\right)^{n-2} dX\\,dY = \\\\ = \\frac{4F^2}{3n(n-1)} \\left[ 1 - \\left( 1 - \\frac{a_{i-1}'}{2} \\right)^n - \\left( 1 - \\frac{a_{i+1}'}{2} \\right)^n + \\left( 1 - \\frac{a_{i-1}' + a_{i+1}'}{2} \\right)^n \\right] \\notag$$\n",
    "\n",
    "где \n",
    "\n",
    "$$a_{i-1}' = \\frac{a_ib'\\sin\\beta_i}{F}, \\;\\; a_{i+1}' = \\frac{a_{i+2}a'\\sin\\beta_i}{F} \\notag$$"
   ]
  },
  {
   "cell_type": "markdown",
   "metadata": {
    "slideshow": {
     "slide_type": "subslide"
    }
   },
   "source": [
    "Таким образом, получаем итоговый результат:\n",
    "\n",
    "$$E_n = \\frac{2r}{3} (\\log n + \\gamma) - \\frac23 \\sum\\limits_{i=1}^{r} S_i + o(1) \\notag$$\n",
    "\n",
    "\n",
    "$\\triangleleft$"
   ]
  },
  {
   "cell_type": "markdown",
   "metadata": {
    "slideshow": {
     "slide_type": "subslide"
    }
   },
   "source": [
    "Пусть $K$ - выпуклый многоугольник с $r$ сторонами. Математическое ожидание $E_n$ числа вершин выпуклой оболочки $H_n$, построенной на $n$ случайных точках из $K$, равно\n",
    "\n",
    "$$E_n = \\frac{2r}{3} (\\log n + \\gamma) + \\frac23 \\log \\frac{\\prod\\limits_1^r f_i}{F^r} + o(1) \\label{eq:20} \\tag{20}$$\n",
    "\n",
    "Здесь $F$ обозначает площадь многоугольника $K$, а $f_i$ - площадь треугольника $A_{i-1}A_iA_{i+1}$."
   ]
  },
  {
   "cell_type": "markdown",
   "metadata": {
    "slideshow": {
     "slide_type": "subslide"
    }
   },
   "source": [
    "Пусть, например, $K$ - треугольник, тогда $f_1 = f_2 = f_3 = F$ и \n",
    "\n",
    "$$E_n = 2(\\log n + \\gamma) + o(1) \\label{eq:21} \\tag{21}$$\n",
    "\n",
    "Заметим, что в таком случае формула для $E_n$ не зависит от формы треугольника, так как $E_n$, очевидно, должно быть инвариантно к аффинным преобразованиям. В $\\S2$ мы покажем, что константа \n",
    "\n",
    "$$Z(K) = \\frac{\\prod\\limits_{i=1}^r f_i}{F^r} \\label{eq:22} \\tag{22}$$\n",
    "\n",
    "которая зависит от формы многоугольника $K$ и появляется в выражении $(\\ref{eq:20})$, становится максимальной для правильного $r$-угольника и аффинных к нему многоугольников."
   ]
  },
  {
   "cell_type": "markdown",
   "metadata": {
    "slideshow": {
     "slide_type": "slide"
    }
   },
   "source": [
    "## 2. Экстремальная задача для выпуклых многоугольников\n",
    "\n",
    "Прежде чем перейти к дальнейшим асимптотическим оценкам для $E_n$ при других предположениях о распределении точек $P_i$, докажем следующее утверждение:\n",
    "\n",
    "**Утверждение 2.** Пусть $K$ - выпуклый многоугольник с $r$ сторонами. Функция \n",
    "\n",
    "$$Z(K) = \\frac1{F^r} \\prod\\limits_{i=1}^r f_i \\label{eq:23} \\tag{23}$$\n",
    "\n",
    "из предыдущего параграфа максимальна тогда и только тогда, когда $K$ можно преобразовать в правильный $r$-угольник аффинными преобразованиями."
   ]
  },
  {
   "cell_type": "markdown",
   "metadata": {
    "slideshow": {
     "slide_type": "subslide"
    }
   },
   "source": [
    "**Доказательство:**\n",
    "\n",
    "$\\triangleright$\n",
    "\n",
    "Пусть $\\alpha_i = \\overrightarrow{A_{i-1}A_i}$, где $A_{r+i} = A_i$. Тогда\n",
    "\n",
    "$$f_i = \\frac12 [\\alpha_i, \\: \\alpha_{i+1}] \\\\ F = \\frac12 \\sum\\limits_{i=1}^{r-2} [\\alpha_1 + \\alpha_2 + \\ldots + \\alpha_i, \\: \\alpha_{i+1}] \\label{eq:24} \\tag{24}$$\n",
    "\n",
    "где $[\\alpha, \\: \\beta]$ - модуль векторного произведения $\\alpha$ и $\\beta$. Функция $Z(K)$ теперь является функцией от $r$ векторов $\\alpha_i \\: (i=1, \\: \\ldots, \\: r)$, удовлетворяющих условию замкнутости:\n",
    "\n",
    "$$\\sum\\limits_{i=1}^r \\alpha_i = 0 \\label{eq:25} \\tag{25}$$"
   ]
  },
  {
   "cell_type": "markdown",
   "metadata": {
    "slideshow": {
     "slide_type": "subslide"
    }
   },
   "source": [
    "Теперь допустим, что вершины $A_i$ многоугольника $K$ подвергаются достаточно малым смещениям, которые описываются непрерывно дифференцируемой функцией от параметра $t$. Так как многоугольник $K$, который должен соответствовать значению параметра $t = 0$, является выпуклым r-угольником, то многоугольники, являющиеся результатом достаточно малого изменения $t$, также будут выпуклыми r-угольниками. Функция $Z$, рассматриваемая как функция от $t$, должна достигать максимума при $t = 0$, если $K$ - максимальный многоугольник. "
   ]
  },
  {
   "cell_type": "markdown",
   "metadata": {
    "slideshow": {
     "slide_type": "subslide"
    }
   },
   "source": [
    "Необходимое условие того, что многоугольник $K$ является максимальным, мы получаем из несложного расчёта: \n",
    "\n",
    "$$\\sum\\limits_{i=1}^r \\frac{F}{f_i} ([\\dot \\alpha_i, \\: \\alpha_{i+1}] + [\\alpha_i, \\: \\dot \\alpha_{i+1}]) - \\\\ - r \\sum\\limits_{i=1}^{r-2}([\\dot \\alpha_1 + \\ldots + \\dot \\alpha_i, \\: \\alpha_{i+1}] + [\\alpha_1 + \\ldots + \\alpha_i, \\: \\dot \\alpha_{i+1}]) = 0 \\label{eq:26} \\tag{26}$$ \n",
    "\n",
    "Где $\\dot \\alpha_i = \\left.\\frac{d}{dt} \\alpha_i \\right|_{t=0}$ - произвольные векторы, которые тоже должны удовлетворять условию замкнутости, следующему из $(25)$:\n",
    "\n",
    "$$\\sum\\limits_{i=1}^r \\dot\\alpha_i = 0 \\label{eq:27} \\tag{27}$$"
   ]
  },
  {
   "cell_type": "markdown",
   "metadata": {
    "slideshow": {
     "slide_type": "subslide"
    }
   },
   "source": [
    "Если мы положим последовательно\n",
    "\n",
    "$$\\dot \\alpha_j = \\beta, \\;\\; \\dot \\alpha_{j+1} = -\\beta, \\;\\; \\dot \\alpha_i = 0 \\: \\text{для} \\: i \\neq j, \\;\\; i \\neq j+1 \\label{eq:28} \\tag{28}$$\n",
    "\n",
    "где $\\beta$ - изначально произвольный вектор, то условие замкнутости $(\\ref{eq:27})$, очевидно, выполняется, и мы получим для $j = 1, \\: \\ldots, \\: r$:\n",
    "\n",
    "$$\\frac{F}{r} \\left\\{ \\frac{[\\alpha_{j-1}, \\: \\beta]}{f_{j-1}} - \\frac{[\\beta, \\: \\alpha_{j+2}]}{f_{j+1}} + \\frac1{f_j} [\\beta, \\: \\alpha_j + \\alpha_{j+1}] \\right\\} = [\\beta, \\: \\alpha_j + \\alpha_{j+1}] \\label{eq:29} \\tag{29}$$"
   ]
  },
  {
   "cell_type": "markdown",
   "metadata": {
    "slideshow": {
     "slide_type": "subslide"
    }
   },
   "source": [
    "Если мы теперь намеренно выберем $\\beta = \\alpha_j$, формула примет вид\n",
    "\n",
    "$$\\frac{F}{r} \\left\\{ 4 - \\frac{[\\alpha_j, \\: \\alpha_{j+2}]}{f_{j+1}} \\right\\} = 2 f_j \\label{eq:30} \\tag{30}$$\n",
    "\n",
    "а для $\\beta = -\\alpha_{j+1}$\n",
    "\n",
    "$$\\frac{F}{r} \\left\\{ 4 - \\frac{[\\alpha_{j-1}, \\: \\alpha_{j+1}]}{f_{j-1}} \\right\\} = 2 f_j \\label{eq:31} \\tag{31}$$\n",
    "\n",
    "Сравним эти две формулы и получим\n",
    "\n",
    "$$[\\alpha_j, \\: \\alpha_{j+2}] = \\frac{f_{j+1}}{f_{j-1}} [\\alpha_{j-1}, \\: \\alpha_{j-1}] \\label{eq:32} \\tag{32}$$"
   ]
  },
  {
   "cell_type": "markdown",
   "metadata": {
    "slideshow": {
     "slide_type": "subslide"
    }
   },
   "source": [
    "Теперь мы запишем уравнение $(\\ref{eq:31})$ в форме\n",
    "\n",
    "$$2 \\left( 2 - \\frac{r f_j}{F} \\right) = \\frac{[\\alpha_{j-1}, \\: \\alpha_{j+1}]}{f_{j-1}} \\notag$$\n",
    "\n",
    "и получим путём повторного применения $(\\ref{eq:32})$:\n",
    "\n",
    "$$2 \\left( 2 - \\frac{r f_j}{F} \\right) = \\frac{f_j}{f_1 \\cdot f_2} [\\alpha_1, \\: \\alpha_3] \\notag$$\n",
    "\n",
    "или\n",
    "\n",
    "$$f_j = \\frac2{\\cfrac{r}{F} + \\cfrac{[\\alpha_1, \\: \\alpha_3]}{2 f_1 \\cdot f_2}} \\label{eq:33} \\tag{33}$$"
   ]
  },
  {
   "cell_type": "markdown",
   "metadata": {
    "slideshow": {
     "slide_type": "subslide"
    }
   },
   "source": [
    "Для $r = 3$ наша экстремальная задача тривиальна. В случае $r \\ge 4$ получается, что $f_3 = f_4 = \\ldots = f_r$. При циклической перестановке номеров вершин многоугольника $K$ получим\n",
    "\n",
    "$$f_1 = f_2 = \\ldots = f_r \\label{eq:34} \\tag{34}$$\n",
    "\n",
    "а после $(\\ref{eq:32})$ также получим\n",
    "\n",
    "$$[\\alpha_i, \\: \\alpha_{i+2}] = [\\alpha_1, \\: \\alpha_3] = \\beta \\;\\; (i = 1, \\: 2, \\: \\ldots, \\: r) \\label{eq:35} \\tag{35}$$\n",
    "\n",
    "где $\\beta$ - некоторая константа."
   ]
  },
  {
   "cell_type": "markdown",
   "metadata": {
    "slideshow": {
     "slide_type": "subslide"
    }
   },
   "source": [
    "**Примечание.** В случае $\\beta = [\\alpha_i, \\: \\alpha_{i+2}] = 0$ получается, что $f_j = 2F/r$. Таким образом, вектор $\\alpha_{i+2}$ всегда параллелен $\\alpha_i$. Это возможно только в том случае, если $r = 4$, а $K$ - параллелограмм."
   ]
  },
  {
   "cell_type": "markdown",
   "metadata": {
    "slideshow": {
     "slide_type": "subslide"
    }
   },
   "source": [
    "Теперь вернёмся к общему случаю. С помощью аффинных преобразований мы всегда можем добиться того, что $f_j = 1/2$, то есть\n",
    "\n",
    "$$[\\alpha_i, \\: \\alpha_{i+1}] = 1 \\label{eq:36} \\tag{36}$$\n",
    "\n",
    "Из $(\\ref{eq:33})$ сразу следует\n",
    "\n",
    "$$F = \\frac{r}{2(2-\\beta)} \\label{eq:37} \\tag{37}$$\n",
    "\n",
    "и, следовательно, $\\beta \\lt 2$."
   ]
  },
  {
   "cell_type": "markdown",
   "metadata": {
    "slideshow": {
     "slide_type": "subslide"
    }
   },
   "source": [
    "Так как векторы $\\alpha_{i-2}$ и $\\alpha_{i-1}$ линейно независимы, из $\\alpha_i = x \\alpha_{i-2} + y \\alpha_{i-1}$, учитывая $(\\ref{eq:35})$ и $(\\ref{eq:36})$, следует:\n",
    "\n",
    "$$\\alpha_i = -\\alpha_{i-2} + b \\alpha_{i-1} \\label{eq:38} \\tag{38}$$"
   ]
  },
  {
   "cell_type": "markdown",
   "metadata": {
    "slideshow": {
     "slide_type": "subslide"
    }
   },
   "source": [
    "Таким образом, мы показали, что векторы $\\alpha_i$ сторон максимального выпуклого $r$-угольника должны удовлетворять рекурсивной формуле $(\\ref{eq:38})$. Завершим доказательство, показав, что в этом случае можно определить евклидову метрику в аффинной плоскости, относительно которой многоугольник $K$ является правильным $r$-угольником. \n",
    "\n",
    "Во-первых, заметим, что всегда должно быть\n",
    "\n",
    "$$-1 \\leq b \\lt 2 \\label{eq:39} \\tag{39}$$\n",
    "\n",
    "Действительно, если $b \\lt -1$, то сторона $\\alpha_3$ будет пересекать сторону $\\alpha_1$, что противоречит выпуклости $K$. Верхняя оценка $b \\lt 2$ уже доказана в $(\\ref{eq:37})$."
   ]
  },
  {
   "cell_type": "markdown",
   "metadata": {
    "slideshow": {
     "slide_type": "subslide"
    }
   },
   "source": [
    "Евклидова метрика однозначно устанавливается, если мы определим скалярное произведение векторов $\\alpha_1$ и $\\alpha_2$, которые мы рассматриваем как базис:\n",
    "\n",
    "$$\\alpha_1^2 = \\alpha_2^2 = \\frac{2}{\\sqrt{4-b^2}}, \\;\\; \\alpha_1\\alpha_2 = \\frac{b}{\\sqrt{4-b^2}} \\label{eq:40} \\tag{40}$$\n",
    "\n",
    "Заметим, что\n",
    "\n",
    "$$[\\alpha_1, \\alpha_2]^2 = \\begin{vmatrix} \\alpha_1^2 & \\alpha_1\\alpha_2 \\\\ \\alpha_1\\alpha_2 & \\alpha_2^2 \\end{vmatrix} = 1 \\notag$$\n",
    "\n",
    "Следовательно, эта метрика положительно определена, т.е. является евклидовой метрикой. "
   ]
  },
  {
   "cell_type": "markdown",
   "metadata": {
    "slideshow": {
     "slide_type": "subslide"
    }
   },
   "source": [
    "Теперь, используя рекурсивную формулу из $(\\ref{eq:38})$, легко доказать по индукции, что для всех $j$ должно выполняться\n",
    "\n",
    "$$\\alpha_j^2 = \\frac{2}{\\sqrt{4-b^2}}, \\;\\; \\alpha_j\\alpha_{j+1} = \\frac{b}{\\sqrt{4-b^2}}, \\;\\; [\\alpha_j, \\:\\alpha_{j+1}] = 1 \\notag$$\n",
    "\n",
    "Отсюда следует, что все стороны нашего $r$-угольника $K$ имеют одинаковую длину и что любые две смежные стороны пересекаются под одним углом. Таким образом, $r$-угольник должен быть правильным относительно этой метрики.\n",
    "\n",
    "Это доказывает единственность максимального многоугольника. Его существование следует из ограниченности $Z(K)$ и непрерывности $F$ и $Z$. Таким образом, утверждение 2 полностью доказано.\n",
    "\n",
    "$\\triangleleft$"
   ]
  },
  {
   "cell_type": "markdown",
   "metadata": {
    "slideshow": {
     "slide_type": "slide"
    }
   },
   "source": [
    "## 3. Случайно выбранные точки в выпуклой области с гладкой границей\n",
    "\n",
    "**Утверждение 3.** Если точки $P_i$ равномерно распределены в выпуклой области с гладкой границей на плоскости, математическое ожидание числа вершин выпуклой оболочки $E_n = O(\\sqrt[3]n)$."
   ]
  },
  {
   "cell_type": "markdown",
   "metadata": {
    "slideshow": {
     "slide_type": "subslide"
    }
   },
   "source": [
    "**Доказательство:**  \n",
    "\n",
    "$\\triangleright$\n",
    "\n",
    "Пусть теперь $K$ - выпуклая область, граница которой имеет непрерывную кривизну как функцию от длины дуги. В обозначениях предыдущих параграфов мы снова получаем\n",
    "\n",
    "$$E_n = C_n^2 \\cdot W_n \\notag$$"
   ]
  },
  {
   "cell_type": "markdown",
   "metadata": {
    "slideshow": {
     "slide_type": "subslide"
    }
   },
   "source": [
    "Согласно утверждению о мере множества пар точек, известному из интегральной геометрии (см. Blascke [2], S 17, (86)):\n",
    "\n",
    "$$dP_1 dP_2 = \\left|t_1 - t_2\\right| \\, dt_1 \\, dt_2 \\, d\\varphi \\, dp \\label{eq:41} \\tag{41}$$\n",
    "\n",
    "где $p$ — длина перпендикуляра к прямой $P_1 P_2$ из начала координат, $\\varphi$ — угол наклона этого перпендикуляра, $t_1, \\: t_2$ — расстояния по этой прямой от $P_1$ и $P_2$ до точки пересечения $P_1 P_2$ с перпендикуляром. Обозначим через $f$ площадь участка, отсекаемого от многоугольника $K$ прямой $P_1 P_2$. Тогда получим\n",
    "\n",
    "$$E_n = \\cfrac{C_n^2}{F^2} \\int\\limits_0^{2\\pi} \\left\\{ \\int\\limits_0^{p(\\varphi)} \\left(1-\\frac{f}{F} \\right)^{n-2} ( \\iint  \\left|t_1 - t_2\\right| \\, dt_1 \\, dt_2) \\, dp \\right\\} d\\varphi \\label{eq:42} \\tag{42}$$"
   ]
  },
  {
   "cell_type": "markdown",
   "metadata": {
    "slideshow": {
     "slide_type": "subslide"
    }
   },
   "source": [
    "Через $l(p, \\phi)$ обозначим длину хорды области $K$, лежащей на прямой с координатами $p, \\varphi$. Тогда\n",
    "\n",
    "$$\\iint \\left|t_1 - t_2\\right| \\, dt_1 \\, dt_2 = \\frac{l^3(p, \\varphi)}{3} \\label{eq:43} \\tag{43}$$\n",
    "\n",
    "Таким образом,\n",
    "\n",
    "$$E_n = \\cfrac{C_n^2}{3F^2} \\int\\limits_0^{2\\pi} \\left\\{ \\int\\limits_0^{p(\\varphi)} \\left(1-\\frac{f}{F} \\right)^{n-2} l^3(p, \\varphi) \\, dp \\right\\} \\, d\\varphi \\label{eq:44} \\tag{44}$$"
   ]
  },
  {
   "cell_type": "markdown",
   "metadata": {
    "slideshow": {
     "slide_type": "subslide"
    }
   },
   "source": [
    "При расчете асимптотического значения $E_n$ мы можем, очевидно, ограничиться парами значений $(p, \\: \\varphi)$, для которых выполняется $f/F < \\varepsilon$; другие пары значений дают только остаточный член порядка $n^2(1-\\varepsilon)^n = o(1)$. Рассмотрим теперь фиксированное значение $\\varphi$. Пусть $P(\\varphi)$ - точка, в которой касательная к $K$ имеет угол наклона $\\varphi$. Как становится ясно из нижеследующих оценок, можно заменить $f$ и $l$ на соответствующие величины $\\bar f$ и $\\bar l$ окружности кривизны в точке $P(\\varphi)$. "
   ]
  },
  {
   "cell_type": "markdown",
   "metadata": {
    "slideshow": {
     "slide_type": "subslide"
    }
   },
   "source": [
    "Пусть $\\alpha$ - центральный угол, соответствующий хорде $l$, и $r(\\varphi)$ - радиус окружности кривизны в точке $P(\\varphi)$. Тогда\n",
    "\n",
    "$$\\bar l = 2 \\, r(\\varphi) \\, \\sin(\\alpha/2) \\quad \\text{и} \\quad \\bar f = \\frac12 (\\alpha - \\sin\\alpha) \\, r^2(\\varphi) \\label{eq:45} \\tag{45}$$\n",
    "\n",
    "Кроме того,\n",
    "\n",
    "$$\\left| \\, dp \\, \\right| = \\frac12 r(\\varphi) \\sin(\\alpha/2) \\left| \\, d\\alpha \\, \\right| \\label{eq:46} \\tag{46}$$\n",
    "\n",
    "Наконец,\n",
    "\n",
    "$$l - \\bar l = o(\\alpha^2) \\quad \\text{и} \\quad f - \\bar f = o(\\alpha^4) \\label{eq:47} \\tag{47}$$"
   ]
  },
  {
   "cell_type": "markdown",
   "metadata": {
    "slideshow": {
     "slide_type": "subslide"
    }
   },
   "source": [
    "Таким образом, получаем результат для $E_n$:\n",
    "\n",
    "$$E_n = \\cfrac{C_n^2}{12F^2} \\int\\limits_0^{2\\pi} r^4 \\int\\limits_0^{\\alpha(\\varphi)} \\left( 1 - \\frac{\\alpha^3r^2}{12F^2} + o(\\alpha^3) \\right)^{n-2} (\\alpha^4 + o(\\alpha^5)) \\, d\\alpha \\, d\\varphi \\label{eq:48} \\tag{48}$$"
   ]
  },
  {
   "cell_type": "markdown",
   "metadata": {
    "slideshow": {
     "slide_type": "subslide"
    }
   },
   "source": [
    "Подставив\n",
    "\n",
    "$$\\frac{\\alpha^3r^2}{12F} = \\frac{X}{n} \\label{eq:49} \\tag{49}$$\n",
    "\n",
    "получим\n",
    "\n",
    "$$S(\\varphi) = \\int\\limits_0^{\\alpha(\\varphi)} \\left(1 - \\frac{\\alpha^3r^2}{12F} + o(\\alpha^3)\\right)^{n-2} (\\alpha^4 + o(\\alpha^5)) \\, d\\alpha \\label{eq:50} \\tag{50}$$\n",
    "$$S(\\varphi) = \\frac13 \\left(\\frac{12F}{r^2 n}\\right)^{5/3} \\left(\\int\\limits_0^\\infty \\left(1 - \\frac{X}{n}\\right)^{n-2} x^{2/3} \\, dx + o(1)\\right) = \\\\ = \\frac13 \\, \\Gamma \\left( \\frac{5}{3} \\right) \\left(\\frac{12F}{r^2 n}\\right)^{5/3} (1 + o(1)) \\notag$$"
   ]
  },
  {
   "cell_type": "markdown",
   "metadata": {
    "slideshow": {
     "slide_type": "subslide"
    }
   },
   "source": [
    "Таким образом\n",
    "\n",
    "$$E_n \\sim \\Gamma \\left(\\frac{5}{3}\\right) \\, \\sqrt[3]{\\frac{2n}{3F}} \\, \\int\\limits_0^{2\\pi} r^{2/3} \\, d\\varphi \\label{eq:51} \\tag{51}$$\n",
    "\n",
    "Обозначим за $s$ длину дуги границы $K$ и, считая $d\\varphi/ds = 1/r$, получим следующее утверждение:"
   ]
  },
  {
   "cell_type": "markdown",
   "metadata": {
    "slideshow": {
     "slide_type": "subslide"
    }
   },
   "source": [
    "Если $K$ - выпуклая область, граничная кривая которой имеет непрерывную кривизну $x = x(s)$, то\n",
    "\n",
    "$$E_n \\sim \\Gamma \\left(\\frac{5}{3}\\right) \\, \\sqrt[3]{\\frac23} \\, (F^{-1/3} \\int\\limits_L x^{1/3} \\, ds) \\sqrt[3]{n} \\label{eq:52} \\tag{52}$$\n",
    "\n",
    "Интеграл $\\int\\limits_L x^{1/3} \\, ds$, входящий в $(\\ref{eq:52})$, является аффинной длиной кривой $L$. Легко видеть, что множитель $\\sqrt[3]{n}$ является аффинно-инвариантным. Из аффинного изопериметрического свойства эллипсов (см. [3]) непосредственно следует, что этот множитель максимален для эллипсов и только для эллипсов.\n",
    "\n",
    "$\\triangleleft$"
   ]
  },
  {
   "cell_type": "markdown",
   "metadata": {
    "slideshow": {
     "slide_type": "slide"
    }
   },
   "source": [
    "## 4. Нормальное распределение случайных точек\n",
    "\n",
    "**Утверждение 4.** Пусть точки $P_i \\:(i = 1, \\:2, \\:\\ldots, \\:n)$ выбираются на плоскости независимо друг от друга в соответствии с нормальным распределением. Тогда\n",
    "\n",
    "$$E_n \\sim 2 \\sqrt{2 \\pi \\log n} \\label{eq:53} \\tag{53}$$"
   ]
  },
  {
   "cell_type": "markdown",
   "metadata": {
    "slideshow": {
     "slide_type": "subslide"
    }
   },
   "source": [
    "**Доказательство:**  \n",
    "\n",
    "$\\triangleright$\n",
    "\n",
    "Так как $E_n$ инвариантно относительно аффинных преобразований плоскости, можно считать, что функция плотности нашего нормального распределения имеет вид $\\frac{1}{2\\pi} \\, exp \\left(-\\frac{x^2 + y^2}{2}\\right) \\notag$. Как и в предыдущих параграфах, \n",
    "\n",
    "$$E_n = C_n^2 \\cdot W_n \\notag$$\n",
    "\n",
    "где $W_n$ - вероятность того, что все точки $P_3, \\:\\ldots, \\:P_n$ лежат по одну сторону от прямой $P_1 P_2$."
   ]
  },
  {
   "cell_type": "markdown",
   "metadata": {
    "slideshow": {
     "slide_type": "subslide"
    }
   },
   "source": [
    "Из формулы интегральной геометрии \n",
    "\n",
    "$$dP_1dP_2 = |t_1 - t_2| \\, dt_1 \\, dt_2 \\, dp \\, d\\varphi  \\notag$$ \n",
    "\n",
    "и из-за круговой симметрии нормального распределения получаем\n",
    "\n",
    "$$W_n = \\frac{1}{2\\pi} \\iiint (g(p)^{n-2} + (1 - g(p))^{n-2}) \\, |t_1 - t_2| \\, exp \\left(-p^2 - \\frac{t_1^2 + t_2^2}{2}\\right) \\, dt_1 \\, dt_2 \\, dp \\label{eq:54} \\tag{54}$$\n",
    "\n",
    "$$\\text{где} \\: g(p) = \\int\\limits_{-\\infty}^{+\\infty} \\int\\limits_{P}^{+\\infty} \\frac{1}{2\\pi} \\, exp\\left(-\\frac{x^2+y^2}{2}\\right) \\, dx \\, dy = 1 - \\varPhi(p) \\label{eq:55} \\tag{55}$$\n",
    "\n",
    "$$\\varPhi(p) = \\frac{1}{\\sqrt{2\\pi}} \\int\\limits_{-\\infty}^p exp\\left(-\\frac{u^2}{2}\\right) \\, du \\label{eq:56} \\tag{56}$$"
   ]
  },
  {
   "cell_type": "markdown",
   "metadata": {
    "slideshow": {
     "slide_type": "subslide"
    }
   },
   "source": [
    "Через замену\n",
    "\n",
    "$$u = \\frac{t_1 - t_2}{\\sqrt 2}, \\: v = \\frac{t_1 + t_2}{\\sqrt 2}, \\: \\frac{\\partial(t_1, t_2)}{\\partial(u, v)} = 1 \\label{eq:57} \\tag{57}$$\n",
    "\n",
    "получим\n",
    "\n",
    "$$\\frac{1}{2\\pi} \\int\\int |t_1 - t_2| \\, exp\\left(-\\frac{t_1^2 + t_2^2}{2}\\right) \\, dt_1 \\, dt_2 = \\frac{2}{\\sqrt \\pi} \\label{eq:58} \\tag{58}$$"
   ]
  },
  {
   "cell_type": "markdown",
   "metadata": {
    "slideshow": {
     "slide_type": "subslide"
    }
   },
   "source": [
    "Следовательно,\n",
    "\n",
    "$$W_n = \\frac{2}{\\sqrt \\pi} \\int\\limits_0^\\infty [\\varPhi^{n-2}(p) + (1 - \\varPhi(p))^{n-2}] e^{-p^2} dp \\label{eq:59} \\tag{59}$$\n",
    "\n",
    "и, очевидно, $1 - \\varPhi(p) \\leqq 1/2$ для $p \\geqq 0$. А значит,\n",
    "\n",
    "$$W_n \\sim \\frac{2}{\\sqrt \\pi} \\int\\limits_0^\\infty \\varPhi^{n-2}(p) e^{-p^2} dp \\label{eq:60} \\tag{60}$$"
   ]
  },
  {
   "cell_type": "markdown",
   "metadata": {
    "slideshow": {
     "slide_type": "subslide"
    }
   },
   "source": [
    "Теперь для $p > 1$ \n",
    "\n",
    "$$\\varPhi(p) = 1 - \\frac{exp \\left(-\\frac{p^2}{2}\\right)}{\\sqrt{2\\pi}p\\left(1 + \\frac{\\theta p}{p^2}\\right)} \\label{eq:61} \\tag{61}$$\n",
    "\n",
    "где $0 < \\theta_p < 1$ (см. [4], стр. 136, задача 18)."
   ]
  },
  {
   "cell_type": "markdown",
   "metadata": {
    "slideshow": {
     "slide_type": "subslide"
    }
   },
   "source": [
    "Выполним подстановку \n",
    "\n",
    "$$p = \\sqrt{2\\log n - \\log(2\\log n)} + \\frac{u - \\log \\sqrt{2\\pi}}{\\sqrt{2 \\log n}} \\label{eq:62} \\tag{62}$$\n",
    "\n",
    "и получим \n",
    "\n",
    "$$W_n \\sim \\frac{4\\sqrt{2\\pi\\log n}}{n^2}$$\n",
    "\n",
    "Таким образом, $E_n \\sim 2\\sqrt{2\\pi \\log n}$, что и требовалось доказать.\n",
    "\n",
    "$\\triangleleft$"
   ]
  },
  {
   "cell_type": "markdown",
   "metadata": {
    "slideshow": {
     "slide_type": "slide"
    }
   },
   "source": [
    "## Литература\n",
    "\n",
    "1) A. Rényi, R. Sulanke: Über die konvexe Hülle von n zufällig gewählten Punkten. Z. Wahrscheinlichkeitstheorie 2 (1963), 75—84  \n",
    "2) W. Blaschke: Integralgeometrie. 3. Aufl. Berlin: VEB Deutscher Verlag der Wissenschaften 1955, 1—130.  \n",
    "3) W. Blaschke, K. Reidemeister: Differentialgeometrie II, Berlin: Springer 1923, 60.  \n",
    "4) A. Rényi: Wahrscheinlichkeitsrechnung, mit einem Anhang über Informationstheorie. Berlin: VEB Deutscher Verlag der Wissenschaften 1962, 1—547."
   ]
  }
 ],
 "metadata": {
  "kernelspec": {
   "display_name": "Python 3",
   "language": "python",
   "name": "python3"
  },
  "language_info": {
   "codemirror_mode": {
    "name": "ipython",
    "version": 3
   },
   "file_extension": ".py",
   "mimetype": "text/x-python",
   "name": "python",
   "nbconvert_exporter": "python",
   "pygments_lexer": "ipython3",
   "version": "3.6.3"
  }
 },
 "nbformat": 4,
 "nbformat_minor": 2
}
